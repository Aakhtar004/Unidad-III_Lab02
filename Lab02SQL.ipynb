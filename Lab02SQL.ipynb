{
    "metadata": {
        "kernelspec": {
            "name": "SQL",
            "display_name": "SQL",
            "language": "sql"
        },
        "language_info": {
            "name": "sql",
            "version": ""
        }
    },
    "nbformat_minor": 2,
    "nbformat": 4,
    "cells": [
        {
            "cell_type": "markdown",
            "source": [
                "<h1><center><b>Laboratorio N° 02 - Utilizando Operadores de Conjuntos de Datos</b></center></h1>"
            ],
            "metadata": {
                "azdata_cell_guid": "12f79de3-415b-4635-8f86-bd1a1dcacfbb"
            }
        },
        {
            "cell_type": "markdown",
            "source": [
                "<h2><b>Objetivo:</b></h2>\r\n",
                "* Aplicar los conocimientos asimilados sobre operadores de conjuntos en SQL Server"
            ],
            "metadata": {
                "azdata_cell_guid": "8ebb83ca-bda1-4aee-92fa-f20177f07482"
            }
        },
        {
            "cell_type": "markdown",
            "source": [
                "<h2><b>Ejercicio 1: Operador UNION</b></h2>"
            ],
            "metadata": {
                "azdata_cell_guid": "c2f89b14-4805-4760-b228-3e58355f7f62"
            }
        },
        {
            "cell_type": "markdown",
            "source": [
                "1.1. Conectar con la BD TSQL"
            ],
            "metadata": {
                "azdata_cell_guid": "b3d3e08d-6c53-44aa-a02c-e3ee5be45d69"
            }
        },
        {
            "cell_type": "code",
            "source": [
                "USE TSQL;\r\n",
                "GO"
            ],
            "metadata": {
                "azdata_cell_guid": "0b8bc61b-ea52-4e25-b09d-d3513da1faff",
                "language": "sql"
            },
            "outputs": [
                {
                    "output_type": "display_data",
                    "data": {
                        "text/html": "Commands completed successfully."
                    },
                    "metadata": {}
                },
                {
                    "output_type": "display_data",
                    "data": {
                        "text/html": "Total execution time: 00:00:00.003"
                    },
                    "metadata": {}
                }
            ],
            "execution_count": 1
        },
        {
            "cell_type": "markdown",
            "source": [
                "1.2. Escribir una sentencia SELECT que retorne las columnas productid y productname desde la tabla Production.Products. Filtrar los resultados  para incluir solo los productos que tienen la columna categoryid valor 4."
            ],
            "metadata": {
                "azdata_cell_guid": "7331bd1f-8892-40cb-b4b3-05f1f4ee927f"
            }
        },
        {
            "cell_type": "code",
            "source": [
                "SELECT productid, productname \r\n",
                "FROM Production.Products \r\n",
                "WHERE categoryid = 4;"
            ],
            "metadata": {
                "azdata_cell_guid": "6c2126b0-e54c-4da0-8fb3-0f7eb1299ec5",
                "language": "sql"
            },
            "outputs": [
                {
                    "output_type": "display_data",
                    "data": {
                        "text/html": "(10 rows affected)"
                    },
                    "metadata": {}
                },
                {
                    "output_type": "display_data",
                    "data": {
                        "text/html": "Total execution time: 00:00:00.012"
                    },
                    "metadata": {}
                },
                {
                    "output_type": "execute_result",
                    "metadata": {},
                    "execution_count": 3,
                    "data": {
                        "application/vnd.dataresource+json": {
                            "schema": {
                                "fields": [
                                    {
                                        "name": "productid"
                                    },
                                    {
                                        "name": "productname"
                                    }
                                ]
                            },
                            "data": [
                                {
                                    "productid": "11",
                                    "productname": "Product QMVUN"
                                },
                                {
                                    "productid": "12",
                                    "productname": "Product OSFNS"
                                },
                                {
                                    "productid": "31",
                                    "productname": "Product XWOXC"
                                },
                                {
                                    "productid": "32",
                                    "productname": "Product NUNAW"
                                },
                                {
                                    "productid": "33",
                                    "productname": "Product ASTMN"
                                },
                                {
                                    "productid": "59",
                                    "productname": "Product UKXRI"
                                },
                                {
                                    "productid": "60",
                                    "productname": "Product WHBYK"
                                },
                                {
                                    "productid": "69",
                                    "productname": "Product COAXA"
                                },
                                {
                                    "productid": "71",
                                    "productname": "Product MYMOI"
                                },
                                {
                                    "productid": "72",
                                    "productname": "Product GEEOO"
                                }
                            ]
                        },
                        "text/html": [
                            "<table>",
                            "<tr><th>productid</th><th>productname</th></tr>",
                            "<tr><td>11</td><td>Product QMVUN</td></tr>",
                            "<tr><td>12</td><td>Product OSFNS</td></tr>",
                            "<tr><td>31</td><td>Product XWOXC</td></tr>",
                            "<tr><td>32</td><td>Product NUNAW</td></tr>",
                            "<tr><td>33</td><td>Product ASTMN</td></tr>",
                            "<tr><td>59</td><td>Product UKXRI</td></tr>",
                            "<tr><td>60</td><td>Product WHBYK</td></tr>",
                            "<tr><td>69</td><td>Product COAXA</td></tr>",
                            "<tr><td>71</td><td>Product MYMOI</td></tr>",
                            "<tr><td>72</td><td>Product GEEOO</td></tr>",
                            "</table>"
                        ]
                    }
                }
            ],
            "execution_count": 3
        },
        {
            "cell_type": "markdown",
            "source": [
                "1.3. Escribir la sentencia SELECT para retornar las columnas productid y productname desde la tabla Production.Products. Filtrar los resultados para incluir solo los productos que tienen un monoto total de ventas mayor a $50,000. Para el monto total de ventas, se necesitara la consultar la tabla Sales.OrderDetails y agregar todos los valores (qty * unitprice) de detalle o linea de orden por cada producto."
            ],
            "metadata": {
                "azdata_cell_guid": "56bc9fe5-72df-4efc-896e-d47d12e95889"
            }
        },
        {
            "cell_type": "code",
            "source": [
                "SELECT p.productid, p.productname\r\n",
                "FROM Production.Products AS p\r\n",
                "INNER JOIN Sales.OrderDetails AS od ON p.productid = od.productid\r\n",
                "GROUP BY p.productid, p.productname\r\n",
                "HAVING SUM(od.qty * od.unitprice) > 50000;"
            ],
            "metadata": {
                "azdata_cell_guid": "b0374156-c157-41ff-9658-c877ec15040a",
                "language": "sql"
            },
            "outputs": [
                {
                    "output_type": "display_data",
                    "data": {
                        "text/html": "(4 rows affected)"
                    },
                    "metadata": {}
                },
                {
                    "output_type": "display_data",
                    "data": {
                        "text/html": "Total execution time: 00:00:00.026"
                    },
                    "metadata": {}
                },
                {
                    "output_type": "execute_result",
                    "metadata": {},
                    "execution_count": 4,
                    "data": {
                        "application/vnd.dataresource+json": {
                            "schema": {
                                "fields": [
                                    {
                                        "name": "productid"
                                    },
                                    {
                                        "name": "productname"
                                    }
                                ]
                            },
                            "data": [
                                {
                                    "productid": "29",
                                    "productname": "Product VJXYN"
                                },
                                {
                                    "productid": "38",
                                    "productname": "Product QDOMO"
                                },
                                {
                                    "productid": "59",
                                    "productname": "Product UKXRI"
                                },
                                {
                                    "productid": "60",
                                    "productname": "Product WHBYK"
                                }
                            ]
                        },
                        "text/html": [
                            "<table>",
                            "<tr><th>productid</th><th>productname</th></tr>",
                            "<tr><td>29</td><td>Product VJXYN</td></tr>",
                            "<tr><td>38</td><td>Product QDOMO</td></tr>",
                            "<tr><td>59</td><td>Product UKXRI</td></tr>",
                            "<tr><td>60</td><td>Product WHBYK</td></tr>",
                            "</table>"
                        ]
                    }
                }
            ],
            "execution_count": 4
        },
        {
            "cell_type": "markdown",
            "source": [
                "1.4. Escribir una consulta SELECT para traer las columnas custid y contactname de la tabla Sales.Customers. Monstrar el top 10 de clientes por monto de ventas para el periodo January 2008 y mostrar el top 10 de clientes por monto de ventas para el periodo February 2008. (Ojo: escribir dos sentencias SELECT, enlazar Sales.Customers y Sales.OrderValues, y utilizar el apropiado operador de conjunto)."
            ],
            "metadata": {
                "azdata_cell_guid": "40645fe5-79cc-457d-9a2e-c3608f1fe0df"
            }
        },
        {
            "cell_type": "code",
            "source": [
                "SELECT TOP(10) c.custid, c.contactname\r\n",
                "FROM Sales.Customers AS c\r\n",
                "INNER JOIN Sales.OrderValues AS ov ON c.custid = ov.custid\r\n",
                "WHERE ov.orderdate >= '2008-01-01' AND ov.orderdate < '2008-02-01'\r\n",
                "GROUP BY c.custid, c.contactname\r\n",
                "ORDER BY SUM(ov.val) DESC\r\n",
                "\r\n",
                "\r\n",
                "\r\n",
                "SELECT TOP(10) c.custid, c.contactname\r\n",
                "FROM Sales.Customers AS c\r\n",
                "INNER JOIN Sales.OrderValues AS ov ON c.custid = ov.custid\r\n",
                "WHERE ov.orderdate >= '2008-02-01' AND ov.orderdate < '2008-03-01'\r\n",
                "GROUP BY c.custid, c.contactname\r\n",
                "ORDER BY SUM(ov.val) DESC;"
            ],
            "metadata": {
                "azdata_cell_guid": "25fb2019-e2ba-4891-a524-b26f47f0c7fd",
                "language": "sql"
            },
            "outputs": [
                {
                    "output_type": "display_data",
                    "data": {
                        "text/html": "(10 rows affected)"
                    },
                    "metadata": {}
                },
                {
                    "output_type": "display_data",
                    "data": {
                        "text/html": "(10 rows affected)"
                    },
                    "metadata": {}
                },
                {
                    "output_type": "display_data",
                    "data": {
                        "text/html": "Total execution time: 00:00:00.037"
                    },
                    "metadata": {}
                },
                {
                    "output_type": "execute_result",
                    "metadata": {},
                    "execution_count": 6,
                    "data": {
                        "application/vnd.dataresource+json": {
                            "schema": {
                                "fields": [
                                    {
                                        "name": "custid"
                                    },
                                    {
                                        "name": "contactname"
                                    }
                                ]
                            },
                            "data": [
                                {
                                    "custid": "39",
                                    "contactname": "Song, Lolan"
                                },
                                {
                                    "custid": "32",
                                    "contactname": "Krishnan, Venky"
                                },
                                {
                                    "custid": "20",
                                    "contactname": "Kane, John"
                                },
                                {
                                    "custid": "76",
                                    "contactname": "Gulbis, Katrin"
                                },
                                {
                                    "custid": "71",
                                    "contactname": "Navarro, Tomás"
                                },
                                {
                                    "custid": "81",
                                    "contactname": "Nagel, Jean-Philippe"
                                },
                                {
                                    "custid": "65",
                                    "contactname": "Moore, Michael"
                                },
                                {
                                    "custid": "63",
                                    "contactname": "Veronesi, Giorgio"
                                },
                                {
                                    "custid": "55",
                                    "contactname": "Egelund-Muller, Anja"
                                },
                                {
                                    "custid": "89",
                                    "contactname": "Smith Jr., Ronaldo"
                                }
                            ]
                        },
                        "text/html": [
                            "<table>",
                            "<tr><th>custid</th><th>contactname</th></tr>",
                            "<tr><td>39</td><td>Song, Lolan</td></tr>",
                            "<tr><td>32</td><td>Krishnan, Venky</td></tr>",
                            "<tr><td>20</td><td>Kane, John</td></tr>",
                            "<tr><td>76</td><td>Gulbis, Katrin</td></tr>",
                            "<tr><td>71</td><td>Navarro, Tomás</td></tr>",
                            "<tr><td>81</td><td>Nagel, Jean-Philippe</td></tr>",
                            "<tr><td>65</td><td>Moore, Michael</td></tr>",
                            "<tr><td>63</td><td>Veronesi, Giorgio</td></tr>",
                            "<tr><td>55</td><td>Egelund-Muller, Anja</td></tr>",
                            "<tr><td>89</td><td>Smith Jr., Ronaldo</td></tr>",
                            "</table>"
                        ]
                    }
                },
                {
                    "output_type": "execute_result",
                    "metadata": {},
                    "execution_count": 6,
                    "data": {
                        "application/vnd.dataresource+json": {
                            "schema": {
                                "fields": [
                                    {
                                        "name": "custid"
                                    },
                                    {
                                        "name": "contactname"
                                    }
                                ]
                            },
                            "data": [
                                {
                                    "custid": "63",
                                    "contactname": "Veronesi, Giorgio"
                                },
                                {
                                    "custid": "37",
                                    "contactname": "Crăciun, Ovidiu V."
                                },
                                {
                                    "custid": "65",
                                    "contactname": "Moore, Michael"
                                },
                                {
                                    "custid": "20",
                                    "contactname": "Kane, John"
                                },
                                {
                                    "custid": "39",
                                    "contactname": "Song, Lolan"
                                },
                                {
                                    "custid": "34",
                                    "contactname": "Cohen, Shy"
                                },
                                {
                                    "custid": "30",
                                    "contactname": "Shabalin, Rostislav"
                                },
                                {
                                    "custid": "71",
                                    "contactname": "Navarro, Tomás"
                                },
                                {
                                    "custid": "62",
                                    "contactname": "Misiec, Anna"
                                },
                                {
                                    "custid": "9",
                                    "contactname": "Raghav, Amritansh"
                                }
                            ]
                        },
                        "text/html": [
                            "<table>",
                            "<tr><th>custid</th><th>contactname</th></tr>",
                            "<tr><td>63</td><td>Veronesi, Giorgio</td></tr>",
                            "<tr><td>37</td><td>Crăciun, Ovidiu V.</td></tr>",
                            "<tr><td>65</td><td>Moore, Michael</td></tr>",
                            "<tr><td>20</td><td>Kane, John</td></tr>",
                            "<tr><td>39</td><td>Song, Lolan</td></tr>",
                            "<tr><td>34</td><td>Cohen, Shy</td></tr>",
                            "<tr><td>30</td><td>Shabalin, Rostislav</td></tr>",
                            "<tr><td>71</td><td>Navarro, Tomás</td></tr>",
                            "<tr><td>62</td><td>Misiec, Anna</td></tr>",
                            "<tr><td>9</td><td>Raghav, Amritansh</td></tr>",
                            "</table>"
                        ]
                    }
                }
            ],
            "execution_count": 6
        },
        {
            "cell_type": "markdown",
            "source": [
                "<h2><b>Ejercicio 2: Operador EXCEPT y INTERSECT</b></h2>"
            ],
            "metadata": {
                "azdata_cell_guid": "2769b212-c6db-4807-8468-4683379b4959"
            }
        },
        {
            "cell_type": "markdown",
            "source": [
                "2.1. Escribir una sentencia SELECT para traer la columna custid de la tabla Sales.Orders table. Filtrar los resultados para incluir solo los clientes quierenes compraron mas de 20 diferentes productos (basada en la columna productid de la tabla Sales.OrderDetails)."
            ],
            "metadata": {
                "azdata_cell_guid": "d5d98c1c-aca8-4ef1-9c8f-154988fbbb9a"
            }
        },
        {
            "cell_type": "code",
            "source": [
                "SELECT o.custid\r\n",
                "FROM Sales.Orders AS o\r\n",
                "INNER JOIN Sales.OrderDetails AS od ON o.orderid = od.orderid\r\n",
                "GROUP BY o.custid\r\n",
                "HAVING COUNT(DISTINCT od.productid) > 20;"
            ],
            "metadata": {
                "azdata_cell_guid": "0f783164-79ea-492b-977c-623309f2dc9e",
                "language": "sql"
            },
            "outputs": [
                {
                    "output_type": "display_data",
                    "data": {
                        "text/html": "(33 rows affected)"
                    },
                    "metadata": {}
                },
                {
                    "output_type": "display_data",
                    "data": {
                        "text/html": "Total execution time: 00:00:00.019"
                    },
                    "metadata": {}
                },
                {
                    "output_type": "execute_result",
                    "metadata": {},
                    "execution_count": 7,
                    "data": {
                        "application/vnd.dataresource+json": {
                            "schema": {
                                "fields": [
                                    {
                                        "name": "custid"
                                    }
                                ]
                            },
                            "data": [
                                {
                                    "custid": "4"
                                },
                                {
                                    "custid": "5"
                                },
                                {
                                    "custid": "7"
                                },
                                {
                                    "custid": "9"
                                },
                                {
                                    "custid": "10"
                                },
                                {
                                    "custid": "20"
                                },
                                {
                                    "custid": "24"
                                },
                                {
                                    "custid": "25"
                                },
                                {
                                    "custid": "30"
                                },
                                {
                                    "custid": "34"
                                },
                                {
                                    "custid": "35"
                                },
                                {
                                    "custid": "37"
                                },
                                {
                                    "custid": "39"
                                },
                                {
                                    "custid": "41"
                                },
                                {
                                    "custid": "44"
                                },
                                {
                                    "custid": "46"
                                },
                                {
                                    "custid": "47"
                                },
                                {
                                    "custid": "51"
                                },
                                {
                                    "custid": "56"
                                },
                                {
                                    "custid": "62"
                                },
                                {
                                    "custid": "63"
                                },
                                {
                                    "custid": "65"
                                },
                                {
                                    "custid": "67"
                                },
                                {
                                    "custid": "68"
                                },
                                {
                                    "custid": "71"
                                },
                                {
                                    "custid": "72"
                                },
                                {
                                    "custid": "76"
                                },
                                {
                                    "custid": "80"
                                },
                                {
                                    "custid": "83"
                                },
                                {
                                    "custid": "84"
                                },
                                {
                                    "custid": "86"
                                },
                                {
                                    "custid": "87"
                                },
                                {
                                    "custid": "89"
                                }
                            ]
                        },
                        "text/html": [
                            "<table>",
                            "<tr><th>custid</th></tr>",
                            "<tr><td>4</td></tr>",
                            "<tr><td>5</td></tr>",
                            "<tr><td>7</td></tr>",
                            "<tr><td>9</td></tr>",
                            "<tr><td>10</td></tr>",
                            "<tr><td>20</td></tr>",
                            "<tr><td>24</td></tr>",
                            "<tr><td>25</td></tr>",
                            "<tr><td>30</td></tr>",
                            "<tr><td>34</td></tr>",
                            "<tr><td>35</td></tr>",
                            "<tr><td>37</td></tr>",
                            "<tr><td>39</td></tr>",
                            "<tr><td>41</td></tr>",
                            "<tr><td>44</td></tr>",
                            "<tr><td>46</td></tr>",
                            "<tr><td>47</td></tr>",
                            "<tr><td>51</td></tr>",
                            "<tr><td>56</td></tr>",
                            "<tr><td>62</td></tr>",
                            "<tr><td>63</td></tr>",
                            "<tr><td>65</td></tr>",
                            "<tr><td>67</td></tr>",
                            "<tr><td>68</td></tr>",
                            "<tr><td>71</td></tr>",
                            "<tr><td>72</td></tr>",
                            "<tr><td>76</td></tr>",
                            "<tr><td>80</td></tr>",
                            "<tr><td>83</td></tr>",
                            "<tr><td>84</td></tr>",
                            "<tr><td>86</td></tr>",
                            "<tr><td>87</td></tr>",
                            "<tr><td>89</td></tr>",
                            "</table>"
                        ]
                    }
                }
            ],
            "execution_count": 7
        },
        {
            "cell_type": "markdown",
            "source": [
                "2.2. Escrbir una sentencia SELECT para traer la columna custid desd la tabla the Sales.Orders. Filtrar los resultados para incluir solo los clientes del pais USA y excluir todos los clientes del resultado previo (tarea 1). (Ojo: usar el operador EXCEPT la consulta anterior)."
            ],
            "metadata": {
                "azdata_cell_guid": "cb222708-ae6c-483a-990d-b29eae00aead"
            }
        },
        {
            "cell_type": "code",
            "source": [
                "SELECT DISTINCT o.custid\r\n",
                "FROM Sales.Orders AS o\r\n",
                "INNER JOIN Sales.Customers AS c ON o.custid = c.custid\r\n",
                "WHERE c.country = 'USA'\r\n",
                "\r\n",
                "EXCEPT\r\n",
                "\r\n",
                "SELECT o.custid\r\n",
                "FROM Sales.Orders AS o\r\n",
                "INNER JOIN Sales.OrderDetails AS od ON o.orderid = od.orderid\r\n",
                "GROUP BY o.custid\r\n",
                "HAVING COUNT(DISTINCT od.productid) > 20;"
            ],
            "metadata": {
                "azdata_cell_guid": "d742b968-d4ea-4886-890e-bf4b29ec0f42",
                "language": "sql"
            },
            "outputs": [
                {
                    "output_type": "display_data",
                    "data": {
                        "text/html": "(10 rows affected)"
                    },
                    "metadata": {}
                },
                {
                    "output_type": "display_data",
                    "data": {
                        "text/html": "Total execution time: 00:00:00.022"
                    },
                    "metadata": {}
                },
                {
                    "output_type": "execute_result",
                    "metadata": {},
                    "execution_count": 8,
                    "data": {
                        "application/vnd.dataresource+json": {
                            "schema": {
                                "fields": [
                                    {
                                        "name": "custid"
                                    }
                                ]
                            },
                            "data": [
                                {
                                    "custid": "32"
                                },
                                {
                                    "custid": "36"
                                },
                                {
                                    "custid": "43"
                                },
                                {
                                    "custid": "45"
                                },
                                {
                                    "custid": "48"
                                },
                                {
                                    "custid": "55"
                                },
                                {
                                    "custid": "75"
                                },
                                {
                                    "custid": "77"
                                },
                                {
                                    "custid": "78"
                                },
                                {
                                    "custid": "82"
                                }
                            ]
                        },
                        "text/html": [
                            "<table>",
                            "<tr><th>custid</th></tr>",
                            "<tr><td>32</td></tr>",
                            "<tr><td>36</td></tr>",
                            "<tr><td>43</td></tr>",
                            "<tr><td>45</td></tr>",
                            "<tr><td>48</td></tr>",
                            "<tr><td>55</td></tr>",
                            "<tr><td>75</td></tr>",
                            "<tr><td>77</td></tr>",
                            "<tr><td>78</td></tr>",
                            "<tr><td>82</td></tr>",
                            "</table>"
                        ]
                    }
                }
            ],
            "execution_count": 8
        },
        {
            "cell_type": "markdown",
            "source": [
                "2.3. Escribir una sentencia SELECT para traer la columna custid de la tabla Sales.Orders. Filtrar solo los clientes quienes tienen un valor de total de ventas mayor a $10,000. Calcular el valor de ventas utilizando las columnas qty y unitprice de la tabla Sales.OrderDetails."
            ],
            "metadata": {
                "azdata_cell_guid": "d0889a7b-99a1-4bad-a744-46b5f8b45c7a"
            }
        },
        {
            "cell_type": "code",
            "source": [
                "SELECT o.custid\r\n",
                "FROM Sales.Orders AS o\r\n",
                "INNER JOIN Sales.OrderDetails AS od ON o.orderid = od.orderid\r\n",
                "GROUP BY o.custid\r\n",
                "HAVING SUM(od.qty * od.unitprice) > 10000;"
            ],
            "metadata": {
                "azdata_cell_guid": "4cf4e795-03bd-434a-99ce-ce267302ee29",
                "language": "sql"
            },
            "outputs": [
                {
                    "output_type": "display_data",
                    "data": {
                        "text/html": "(41 rows affected)"
                    },
                    "metadata": {}
                },
                {
                    "output_type": "display_data",
                    "data": {
                        "text/html": "Total execution time: 00:00:00.017"
                    },
                    "metadata": {}
                },
                {
                    "output_type": "execute_result",
                    "metadata": {},
                    "execution_count": 9,
                    "data": {
                        "application/vnd.dataresource+json": {
                            "schema": {
                                "fields": [
                                    {
                                        "name": "custid"
                                    }
                                ]
                            },
                            "data": [
                                {
                                    "custid": "23"
                                },
                                {
                                    "custid": "46"
                                },
                                {
                                    "custid": "75"
                                },
                                {
                                    "custid": "9"
                                },
                                {
                                    "custid": "89"
                                },
                                {
                                    "custid": "72"
                                },
                                {
                                    "custid": "32"
                                },
                                {
                                    "custid": "35"
                                },
                                {
                                    "custid": "86"
                                },
                                {
                                    "custid": "63"
                                },
                                {
                                    "custid": "55"
                                },
                                {
                                    "custid": "67"
                                },
                                {
                                    "custid": "87"
                                },
                                {
                                    "custid": "7"
                                },
                                {
                                    "custid": "44"
                                },
                                {
                                    "custid": "50"
                                },
                                {
                                    "custid": "24"
                                },
                                {
                                    "custid": "47"
                                },
                                {
                                    "custid": "30"
                                },
                                {
                                    "custid": "10"
                                },
                                {
                                    "custid": "41"
                                },
                                {
                                    "custid": "4"
                                },
                                {
                                    "custid": "65"
                                },
                                {
                                    "custid": "19"
                                },
                                {
                                    "custid": "73"
                                },
                                {
                                    "custid": "25"
                                },
                                {
                                    "custid": "62"
                                },
                                {
                                    "custid": "5"
                                },
                                {
                                    "custid": "56"
                                },
                                {
                                    "custid": "76"
                                },
                                {
                                    "custid": "59"
                                },
                                {
                                    "custid": "39"
                                },
                                {
                                    "custid": "71"
                                },
                                {
                                    "custid": "83"
                                },
                                {
                                    "custid": "34"
                                },
                                {
                                    "custid": "20"
                                },
                                {
                                    "custid": "68"
                                },
                                {
                                    "custid": "80"
                                },
                                {
                                    "custid": "14"
                                },
                                {
                                    "custid": "37"
                                },
                                {
                                    "custid": "51"
                                }
                            ]
                        },
                        "text/html": [
                            "<table>",
                            "<tr><th>custid</th></tr>",
                            "<tr><td>23</td></tr>",
                            "<tr><td>46</td></tr>",
                            "<tr><td>75</td></tr>",
                            "<tr><td>9</td></tr>",
                            "<tr><td>89</td></tr>",
                            "<tr><td>72</td></tr>",
                            "<tr><td>32</td></tr>",
                            "<tr><td>35</td></tr>",
                            "<tr><td>86</td></tr>",
                            "<tr><td>63</td></tr>",
                            "<tr><td>55</td></tr>",
                            "<tr><td>67</td></tr>",
                            "<tr><td>87</td></tr>",
                            "<tr><td>7</td></tr>",
                            "<tr><td>44</td></tr>",
                            "<tr><td>50</td></tr>",
                            "<tr><td>24</td></tr>",
                            "<tr><td>47</td></tr>",
                            "<tr><td>30</td></tr>",
                            "<tr><td>10</td></tr>",
                            "<tr><td>41</td></tr>",
                            "<tr><td>4</td></tr>",
                            "<tr><td>65</td></tr>",
                            "<tr><td>19</td></tr>",
                            "<tr><td>73</td></tr>",
                            "<tr><td>25</td></tr>",
                            "<tr><td>62</td></tr>",
                            "<tr><td>5</td></tr>",
                            "<tr><td>56</td></tr>",
                            "<tr><td>76</td></tr>",
                            "<tr><td>59</td></tr>",
                            "<tr><td>39</td></tr>",
                            "<tr><td>71</td></tr>",
                            "<tr><td>83</td></tr>",
                            "<tr><td>34</td></tr>",
                            "<tr><td>20</td></tr>",
                            "<tr><td>68</td></tr>",
                            "<tr><td>80</td></tr>",
                            "<tr><td>14</td></tr>",
                            "<tr><td>37</td></tr>",
                            "<tr><td>51</td></tr>",
                            "</table>"
                        ]
                    }
                }
            ],
            "execution_count": 9
        },
        {
            "cell_type": "markdown",
            "source": [
                "<h2><b>Ejercicio 3: Utilizando el Operador APPLY</b></h2>"
            ],
            "metadata": {
                "azdata_cell_guid": "5d806dca-11be-4dde-8df8-aae7176311ad"
            }
        },
        {
            "cell_type": "markdown",
            "source": [
                "3.1. Escribir una sentencia SELECT para traer las columnas productid y productname de la tabla Production.Products. En adición, para cada producto, traer las ultimas dos filas de la tabla Sales.OrderDetails basado en el número orderid."
            ],
            "metadata": {
                "azdata_cell_guid": "7f59edc1-b172-4b0c-8f64-ec37117f3d31"
            }
        },
        {
            "cell_type": "code",
            "source": [
                "SELECT p.productid, p.productname, LastOrders.orderid\r\n",
                "FROM Production.Products AS p\r\n",
                "CROSS APPLY\r\n",
                "(SELECT TOP(2) od.orderid\r\n",
                " FROM Sales.OrderDetails AS od\r\n",
                " WHERE od.productid = p.productid\r\n",
                " ORDER BY od.orderid DESC) AS LastOrders\r\n",
                "ORDER BY p.productid;"
            ],
            "metadata": {
                "azdata_cell_guid": "83b0fe9a-30a3-4a69-99e0-74801f3c983f",
                "language": "sql"
            },
            "outputs": [
                {
                    "output_type": "display_data",
                    "data": {
                        "text/html": "(154 rows affected)"
                    },
                    "metadata": {}
                },
                {
                    "output_type": "display_data",
                    "data": {
                        "text/html": "Total execution time: 00:00:00.011"
                    },
                    "metadata": {}
                },
                {
                    "output_type": "execute_result",
                    "metadata": {},
                    "execution_count": 10,
                    "data": {
                        "application/vnd.dataresource+json": {
                            "schema": {
                                "fields": [
                                    {
                                        "name": "productid"
                                    },
                                    {
                                        "name": "productname"
                                    },
                                    {
                                        "name": "orderid"
                                    }
                                ]
                            },
                            "data": [
                                {
                                    "productid": "1",
                                    "productname": "Product HHYDP",
                                    "orderid": "11070"
                                },
                                {
                                    "productid": "1",
                                    "productname": "Product HHYDP",
                                    "orderid": "11047"
                                },
                                {
                                    "productid": "2",
                                    "productname": "Product RECZE",
                                    "orderid": "11077"
                                },
                                {
                                    "productid": "2",
                                    "productname": "Product RECZE",
                                    "orderid": "11075"
                                },
                                {
                                    "productid": "3",
                                    "productname": "Product IMEHJ",
                                    "orderid": "11077"
                                },
                                {
                                    "productid": "3",
                                    "productname": "Product IMEHJ",
                                    "orderid": "11017"
                                },
                                {
                                    "productid": "4",
                                    "productname": "Product KSBRM",
                                    "orderid": "11077"
                                },
                                {
                                    "productid": "4",
                                    "productname": "Product KSBRM",
                                    "orderid": "11000"
                                },
                                {
                                    "productid": "5",
                                    "productname": "Product EPEIM",
                                    "orderid": "11047"
                                },
                                {
                                    "productid": "5",
                                    "productname": "Product EPEIM",
                                    "orderid": "11030"
                                },
                                {
                                    "productid": "6",
                                    "productname": "Product VAIIV",
                                    "orderid": "11077"
                                },
                                {
                                    "productid": "6",
                                    "productname": "Product VAIIV",
                                    "orderid": "11076"
                                },
                                {
                                    "productid": "7",
                                    "productname": "Product HMLNI",
                                    "orderid": "11077"
                                },
                                {
                                    "productid": "7",
                                    "productname": "Product HMLNI",
                                    "orderid": "11071"
                                },
                                {
                                    "productid": "8",
                                    "productname": "Product WVJFP",
                                    "orderid": "11077"
                                },
                                {
                                    "productid": "8",
                                    "productname": "Product WVJFP",
                                    "orderid": "11007"
                                },
                                {
                                    "productid": "9",
                                    "productname": "Product AOZBW",
                                    "orderid": "10848"
                                },
                                {
                                    "productid": "9",
                                    "productname": "Product AOZBW",
                                    "orderid": "10693"
                                },
                                {
                                    "productid": "10",
                                    "productname": "Product YHXGE",
                                    "orderid": "11077"
                                },
                                {
                                    "productid": "10",
                                    "productname": "Product YHXGE",
                                    "orderid": "11020"
                                },
                                {
                                    "productid": "11",
                                    "productname": "Product QMVUN",
                                    "orderid": "11073"
                                },
                                {
                                    "productid": "11",
                                    "productname": "Product QMVUN",
                                    "orderid": "11043"
                                },
                                {
                                    "productid": "12",
                                    "productname": "Product OSFNS",
                                    "orderid": "11077"
                                },
                                {
                                    "productid": "12",
                                    "productname": "Product OSFNS",
                                    "orderid": "11049"
                                },
                                {
                                    "productid": "13",
                                    "productname": "Product POXFU",
                                    "orderid": "11077"
                                },
                                {
                                    "productid": "13",
                                    "productname": "Product POXFU",
                                    "orderid": "11071"
                                },
                                {
                                    "productid": "14",
                                    "productname": "Product PWCJB",
                                    "orderid": "11077"
                                },
                                {
                                    "productid": "14",
                                    "productname": "Product PWCJB",
                                    "orderid": "11076"
                                },
                                {
                                    "productid": "15",
                                    "productname": "Product KSZOI",
                                    "orderid": "10657"
                                },
                                {
                                    "productid": "15",
                                    "productname": "Product KSZOI",
                                    "orderid": "10592"
                                },
                                {
                                    "productid": "16",
                                    "productname": "Product PAFRH",
                                    "orderid": "11077"
                                },
                                {
                                    "productid": "16",
                                    "productname": "Product PAFRH",
                                    "orderid": "11074"
                                },
                                {
                                    "productid": "17",
                                    "productname": "Product BLCAX",
                                    "orderid": "11064"
                                },
                                {
                                    "productid": "17",
                                    "productname": "Product BLCAX",
                                    "orderid": "11059"
                                },
                                {
                                    "productid": "18",
                                    "productname": "Product CKEDC",
                                    "orderid": "11053"
                                },
                                {
                                    "productid": "18",
                                    "productname": "Product CKEDC",
                                    "orderid": "11026"
                                },
                                {
                                    "productid": "19",
                                    "productname": "Product XKXDO",
                                    "orderid": "11076"
                                },
                                {
                                    "productid": "19",
                                    "productname": "Product XKXDO",
                                    "orderid": "11066"
                                },
                                {
                                    "productid": "20",
                                    "productname": "Product QHFFP",
                                    "orderid": "11077"
                                },
                                {
                                    "productid": "20",
                                    "productname": "Product QHFFP",
                                    "orderid": "11021"
                                },
                                {
                                    "productid": "21",
                                    "productname": "Product VJZZH",
                                    "orderid": "11058"
                                },
                                {
                                    "productid": "21",
                                    "productname": "Product VJZZH",
                                    "orderid": "11040"
                                },
                                {
                                    "productid": "22",
                                    "productname": "Product CPHFY",
                                    "orderid": "11001"
                                },
                                {
                                    "productid": "22",
                                    "productname": "Product CPHFY",
                                    "orderid": "10943"
                                },
                                {
                                    "productid": "23",
                                    "productname": "Product JLUDZ",
                                    "orderid": "11077"
                                },
                                {
                                    "productid": "23",
                                    "productname": "Product JLUDZ",
                                    "orderid": "11013"
                                },
                                {
                                    "productid": "24",
                                    "productname": "Product QOGNU",
                                    "orderid": "11073"
                                },
                                {
                                    "productid": "24",
                                    "productname": "Product QOGNU",
                                    "orderid": "11055"
                                },
                                {
                                    "productid": "25",
                                    "productname": "Product LYLNI",
                                    "orderid": "11055"
                                },
                                {
                                    "productid": "25",
                                    "productname": "Product LYLNI",
                                    "orderid": "10919"
                                },
                                {
                                    "productid": "26",
                                    "productname": "Product HLGZA",
                                    "orderid": "11024"
                                },
                                {
                                    "productid": "26",
                                    "productname": "Product HLGZA",
                                    "orderid": "11021"
                                },
                                {
                                    "productid": "27",
                                    "productname": "Product SMIOH",
                                    "orderid": "10979"
                                },
                                {
                                    "productid": "27",
                                    "productname": "Product SMIOH",
                                    "orderid": "10930"
                                },
                                {
                                    "productid": "28",
                                    "productname": "Product OFBNT",
                                    "orderid": "11068"
                                },
                                {
                                    "productid": "28",
                                    "productname": "Product OFBNT",
                                    "orderid": "11039"
                                },
                                {
                                    "productid": "29",
                                    "productname": "Product VJXYN",
                                    "orderid": "11030"
                                },
                                {
                                    "productid": "29",
                                    "productname": "Product VJXYN",
                                    "orderid": "11007"
                                },
                                {
                                    "productid": "30",
                                    "productname": "Product LYERX",
                                    "orderid": "11065"
                                },
                                {
                                    "productid": "30",
                                    "productname": "Product LYERX",
                                    "orderid": "11015"
                                },
                                {
                                    "productid": "31",
                                    "productname": "Product XWOXC",
                                    "orderid": "11070"
                                },
                                {
                                    "productid": "31",
                                    "productname": "Product XWOXC",
                                    "orderid": "11016"
                                },
                                {
                                    "productid": "32",
                                    "productname": "Product NUNAW",
                                    "orderid": "11077"
                                },
                                {
                                    "productid": "32",
                                    "productname": "Product NUNAW",
                                    "orderid": "11053"
                                },
                                {
                                    "productid": "33",
                                    "productname": "Product ASTMN",
                                    "orderid": "11054"
                                },
                                {
                                    "productid": "33",
                                    "productname": "Product ASTMN",
                                    "orderid": "11045"
                                },
                                {
                                    "productid": "34",
                                    "productname": "Product SWNJY",
                                    "orderid": "11066"
                                },
                                {
                                    "productid": "34",
                                    "productname": "Product SWNJY",
                                    "orderid": "11063"
                                },
                                {
                                    "productid": "35",
                                    "productname": "Product NEVTJ",
                                    "orderid": "11046"
                                },
                                {
                                    "productid": "35",
                                    "productname": "Product NEVTJ",
                                    "orderid": "11039"
                                },
                                {
                                    "productid": "36",
                                    "productname": "Product GMKIJ",
                                    "orderid": "11032"
                                },
                                {
                                    "productid": "36",
                                    "productname": "Product GMKIJ",
                                    "orderid": "11016"
                                },
                                {
                                    "productid": "37",
                                    "productname": "Product EVFFA",
                                    "orderid": "10966"
                                },
                                {
                                    "productid": "37",
                                    "productname": "Product EVFFA",
                                    "orderid": "10847"
                                },
                                {
                                    "productid": "38",
                                    "productname": "Product QDOMO",
                                    "orderid": "11032"
                                },
                                {
                                    "productid": "38",
                                    "productname": "Product QDOMO",
                                    "orderid": "10981"
                                },
                                {
                                    "productid": "39",
                                    "productname": "Product LSOFL",
                                    "orderid": "11077"
                                },
                                {
                                    "productid": "39",
                                    "productname": "Product LSOFL",
                                    "orderid": "11069"
                                },
                                {
                                    "productid": "40",
                                    "productname": "Product YZIXQ",
                                    "orderid": "11063"
                                },
                                {
                                    "productid": "40",
                                    "productname": "Product YZIXQ",
                                    "orderid": "11038"
                                },
                                {
                                    "productid": "41",
                                    "productname": "Product TTEEX",
                                    "orderid": "11077"
                                },
                                {
                                    "productid": "41",
                                    "productname": "Product TTEEX",
                                    "orderid": "11072"
                                },
                                {
                                    "productid": "42",
                                    "productname": "Product RJVNM",
                                    "orderid": "11035"
                                },
                                {
                                    "productid": "42",
                                    "productname": "Product RJVNM",
                                    "orderid": "11013"
                                },
                                {
                                    "productid": "43",
                                    "productname": "Product ZZZHR",
                                    "orderid": "11068"
                                },
                                {
                                    "productid": "43",
                                    "productname": "Product ZZZHR",
                                    "orderid": "11052"
                                },
                                {
                                    "productid": "44",
                                    "productname": "Product VJIEO",
                                    "orderid": "11042"
                                },
                                {
                                    "productid": "44",
                                    "productname": "Product VJIEO",
                                    "orderid": "11034"
                                },
                                {
                                    "productid": "45",
                                    "productname": "Product AQOKR",
                                    "orderid": "11013"
                                },
                                {
                                    "productid": "45",
                                    "productname": "Product AQOKR",
                                    "orderid": "10954"
                                },
                                {
                                    "productid": "46",
                                    "productname": "Product CBRRL",
                                    "orderid": "11077"
                                },
                                {
                                    "productid": "46",
                                    "productname": "Product CBRRL",
                                    "orderid": "11075"
                                },
                                {
                                    "productid": "47",
                                    "productname": "Product EZZPR",
                                    "orderid": "10977"
                                },
                                {
                                    "productid": "47",
                                    "productname": "Product EZZPR",
                                    "orderid": "10956"
                                },
                                {
                                    "productid": "48",
                                    "productname": "Product MYNXN",
                                    "orderid": "10814"
                                },
                                {
                                    "productid": "48",
                                    "productname": "Product MYNXN",
                                    "orderid": "10704"
                                },
                                {
                                    "productid": "49",
                                    "productname": "Product FPYPN",
                                    "orderid": "11039"
                                },
                                {
                                    "productid": "49",
                                    "productname": "Product FPYPN",
                                    "orderid": "11019"
                                },
                                {
                                    "productid": "50",
                                    "productname": "Product BIUDV",
                                    "orderid": "11072"
                                },
                                {
                                    "productid": "50",
                                    "productname": "Product BIUDV",
                                    "orderid": "10948"
                                },
                                {
                                    "productid": "51",
                                    "productname": "Product APITJ",
                                    "orderid": "11055"
                                },
                                {
                                    "productid": "51",
                                    "productname": "Product APITJ",
                                    "orderid": "11045"
                                },
                                {
                                    "productid": "52",
                                    "productname": "Product QSRXF",
                                    "orderid": "11077"
                                },
                                {
                                    "productid": "52",
                                    "productname": "Product QSRXF",
                                    "orderid": "11038"
                                },
                                {
                                    "productid": "53",
                                    "productname": "Product BKGEA",
                                    "orderid": "11064"
                                },
                                {
                                    "productid": "53",
                                    "productname": "Product BKGEA",
                                    "orderid": "11062"
                                },
                                {
                                    "productid": "54",
                                    "productname": "Product QAQRL",
                                    "orderid": "11065"
                                },
                                {
                                    "productid": "54",
                                    "productname": "Product QAQRL",
                                    "orderid": "11035"
                                },
                                {
                                    "productid": "55",
                                    "productname": "Product YYWRT",
                                    "orderid": "11077"
                                },
                                {
                                    "productid": "55",
                                    "productname": "Product YYWRT",
                                    "orderid": "11064"
                                },
                                {
                                    "productid": "56",
                                    "productname": "Product VKCMF",
                                    "orderid": "11029"
                                },
                                {
                                    "productid": "56",
                                    "productname": "Product VKCMF",
                                    "orderid": "11018"
                                },
                                {
                                    "productid": "57",
                                    "productname": "Product OVLQI",
                                    "orderid": "11055"
                                },
                                {
                                    "productid": "57",
                                    "productname": "Product OVLQI",
                                    "orderid": "11039"
                                },
                                {
                                    "productid": "58",
                                    "productname": "Product ACRVI",
                                    "orderid": "11011"
                                },
                                {
                                    "productid": "58",
                                    "productname": "Product ACRVI",
                                    "orderid": "10930"
                                },
                                {
                                    "productid": "59",
                                    "productname": "Product UKXRI",
                                    "orderid": "11036"
                                },
                                {
                                    "productid": "59",
                                    "productname": "Product UKXRI",
                                    "orderid": "11032"
                                },
                                {
                                    "productid": "60",
                                    "productname": "Product WHBYK",
                                    "orderid": "11077"
                                },
                                {
                                    "productid": "60",
                                    "productname": "Product WHBYK",
                                    "orderid": "11061"
                                },
                                {
                                    "productid": "61",
                                    "productname": "Product XYZPE",
                                    "orderid": "11058"
                                },
                                {
                                    "productid": "61",
                                    "productname": "Product XYZPE",
                                    "orderid": "11052"
                                },
                                {
                                    "productid": "62",
                                    "productname": "Product WUXYK",
                                    "orderid": "11044"
                                },
                                {
                                    "productid": "62",
                                    "productname": "Product WUXYK",
                                    "orderid": "11027"
                                },
                                {
                                    "productid": "63",
                                    "productname": "Product ICKNK",
                                    "orderid": "11041"
                                },
                                {
                                    "productid": "63",
                                    "productname": "Product ICKNK",
                                    "orderid": "11029"
                                },
                                {
                                    "productid": "64",
                                    "productname": "Product HCQDE",
                                    "orderid": "11077"
                                },
                                {
                                    "productid": "64",
                                    "productname": "Product HCQDE",
                                    "orderid": "11072"
                                },
                                {
                                    "productid": "65",
                                    "productname": "Product XYWBZ",
                                    "orderid": "11024"
                                },
                                {
                                    "productid": "65",
                                    "productname": "Product XYWBZ",
                                    "orderid": "10903"
                                },
                                {
                                    "productid": "66",
                                    "productname": "Product LQMGN",
                                    "orderid": "11077"
                                },
                                {
                                    "productid": "66",
                                    "productname": "Product LQMGN",
                                    "orderid": "10774"
                                },
                                {
                                    "productid": "67",
                                    "productname": "Product XLXQF",
                                    "orderid": "11054"
                                },
                                {
                                    "productid": "67",
                                    "productname": "Product XLXQF",
                                    "orderid": "10939"
                                },
                                {
                                    "productid": "68",
                                    "productname": "Product TBTBL",
                                    "orderid": "11064"
                                },
                                {
                                    "productid": "68",
                                    "productname": "Product TBTBL",
                                    "orderid": "11048"
                                },
                                {
                                    "productid": "69",
                                    "productname": "Product COAXA",
                                    "orderid": "11033"
                                },
                                {
                                    "productid": "69",
                                    "productname": "Product COAXA",
                                    "orderid": "11022"
                                },
                                {
                                    "productid": "70",
                                    "productname": "Product TOONT",
                                    "orderid": "11062"
                                },
                                {
                                    "productid": "70",
                                    "productname": "Product TOONT",
                                    "orderid": "11057"
                                },
                                {
                                    "productid": "71",
                                    "productname": "Product MYMOI",
                                    "orderid": "11038"
                                },
                                {
                                    "productid": "71",
                                    "productname": "Product MYMOI",
                                    "orderid": "11031"
                                },
                                {
                                    "productid": "72",
                                    "productname": "Product GEEOO",
                                    "orderid": "11021"
                                },
                                {
                                    "productid": "72",
                                    "productname": "Product GEEOO",
                                    "orderid": "10992"
                                },
                                {
                                    "productid": "73",
                                    "productname": "Product WEUJZ",
                                    "orderid": "11077"
                                },
                                {
                                    "productid": "73",
                                    "productname": "Product WEUJZ",
                                    "orderid": "10881"
                                },
                                {
                                    "productid": "74",
                                    "productname": "Product BKAZJ",
                                    "orderid": "10998"
                                },
                                {
                                    "productid": "74",
                                    "productname": "Product BKAZJ",
                                    "orderid": "10846"
                                },
                                {
                                    "productid": "75",
                                    "productname": "Product BWRLG",
                                    "orderid": "11077"
                                },
                                {
                                    "productid": "75",
                                    "productname": "Product BWRLG",
                                    "orderid": "10998"
                                },
                                {
                                    "productid": "76",
                                    "productname": "Product JYGFE",
                                    "orderid": "11075"
                                },
                                {
                                    "productid": "76",
                                    "productname": "Product JYGFE",
                                    "orderid": "11050"
                                },
                                {
                                    "productid": "77",
                                    "productname": "Product LUNZZ",
                                    "orderid": "11077"
                                },
                                {
                                    "productid": "77",
                                    "productname": "Product LUNZZ",
                                    "orderid": "11068"
                                }
                            ]
                        },
                        "text/html": [
                            "<table>",
                            "<tr><th>productid</th><th>productname</th><th>orderid</th></tr>",
                            "<tr><td>1</td><td>Product HHYDP</td><td>11070</td></tr>",
                            "<tr><td>1</td><td>Product HHYDP</td><td>11047</td></tr>",
                            "<tr><td>2</td><td>Product RECZE</td><td>11077</td></tr>",
                            "<tr><td>2</td><td>Product RECZE</td><td>11075</td></tr>",
                            "<tr><td>3</td><td>Product IMEHJ</td><td>11077</td></tr>",
                            "<tr><td>3</td><td>Product IMEHJ</td><td>11017</td></tr>",
                            "<tr><td>4</td><td>Product KSBRM</td><td>11077</td></tr>",
                            "<tr><td>4</td><td>Product KSBRM</td><td>11000</td></tr>",
                            "<tr><td>5</td><td>Product EPEIM</td><td>11047</td></tr>",
                            "<tr><td>5</td><td>Product EPEIM</td><td>11030</td></tr>",
                            "<tr><td>6</td><td>Product VAIIV</td><td>11077</td></tr>",
                            "<tr><td>6</td><td>Product VAIIV</td><td>11076</td></tr>",
                            "<tr><td>7</td><td>Product HMLNI</td><td>11077</td></tr>",
                            "<tr><td>7</td><td>Product HMLNI</td><td>11071</td></tr>",
                            "<tr><td>8</td><td>Product WVJFP</td><td>11077</td></tr>",
                            "<tr><td>8</td><td>Product WVJFP</td><td>11007</td></tr>",
                            "<tr><td>9</td><td>Product AOZBW</td><td>10848</td></tr>",
                            "<tr><td>9</td><td>Product AOZBW</td><td>10693</td></tr>",
                            "<tr><td>10</td><td>Product YHXGE</td><td>11077</td></tr>",
                            "<tr><td>10</td><td>Product YHXGE</td><td>11020</td></tr>",
                            "<tr><td>11</td><td>Product QMVUN</td><td>11073</td></tr>",
                            "<tr><td>11</td><td>Product QMVUN</td><td>11043</td></tr>",
                            "<tr><td>12</td><td>Product OSFNS</td><td>11077</td></tr>",
                            "<tr><td>12</td><td>Product OSFNS</td><td>11049</td></tr>",
                            "<tr><td>13</td><td>Product POXFU</td><td>11077</td></tr>",
                            "<tr><td>13</td><td>Product POXFU</td><td>11071</td></tr>",
                            "<tr><td>14</td><td>Product PWCJB</td><td>11077</td></tr>",
                            "<tr><td>14</td><td>Product PWCJB</td><td>11076</td></tr>",
                            "<tr><td>15</td><td>Product KSZOI</td><td>10657</td></tr>",
                            "<tr><td>15</td><td>Product KSZOI</td><td>10592</td></tr>",
                            "<tr><td>16</td><td>Product PAFRH</td><td>11077</td></tr>",
                            "<tr><td>16</td><td>Product PAFRH</td><td>11074</td></tr>",
                            "<tr><td>17</td><td>Product BLCAX</td><td>11064</td></tr>",
                            "<tr><td>17</td><td>Product BLCAX</td><td>11059</td></tr>",
                            "<tr><td>18</td><td>Product CKEDC</td><td>11053</td></tr>",
                            "<tr><td>18</td><td>Product CKEDC</td><td>11026</td></tr>",
                            "<tr><td>19</td><td>Product XKXDO</td><td>11076</td></tr>",
                            "<tr><td>19</td><td>Product XKXDO</td><td>11066</td></tr>",
                            "<tr><td>20</td><td>Product QHFFP</td><td>11077</td></tr>",
                            "<tr><td>20</td><td>Product QHFFP</td><td>11021</td></tr>",
                            "<tr><td>21</td><td>Product VJZZH</td><td>11058</td></tr>",
                            "<tr><td>21</td><td>Product VJZZH</td><td>11040</td></tr>",
                            "<tr><td>22</td><td>Product CPHFY</td><td>11001</td></tr>",
                            "<tr><td>22</td><td>Product CPHFY</td><td>10943</td></tr>",
                            "<tr><td>23</td><td>Product JLUDZ</td><td>11077</td></tr>",
                            "<tr><td>23</td><td>Product JLUDZ</td><td>11013</td></tr>",
                            "<tr><td>24</td><td>Product QOGNU</td><td>11073</td></tr>",
                            "<tr><td>24</td><td>Product QOGNU</td><td>11055</td></tr>",
                            "<tr><td>25</td><td>Product LYLNI</td><td>11055</td></tr>",
                            "<tr><td>25</td><td>Product LYLNI</td><td>10919</td></tr>",
                            "<tr><td>26</td><td>Product HLGZA</td><td>11024</td></tr>",
                            "<tr><td>26</td><td>Product HLGZA</td><td>11021</td></tr>",
                            "<tr><td>27</td><td>Product SMIOH</td><td>10979</td></tr>",
                            "<tr><td>27</td><td>Product SMIOH</td><td>10930</td></tr>",
                            "<tr><td>28</td><td>Product OFBNT</td><td>11068</td></tr>",
                            "<tr><td>28</td><td>Product OFBNT</td><td>11039</td></tr>",
                            "<tr><td>29</td><td>Product VJXYN</td><td>11030</td></tr>",
                            "<tr><td>29</td><td>Product VJXYN</td><td>11007</td></tr>",
                            "<tr><td>30</td><td>Product LYERX</td><td>11065</td></tr>",
                            "<tr><td>30</td><td>Product LYERX</td><td>11015</td></tr>",
                            "<tr><td>31</td><td>Product XWOXC</td><td>11070</td></tr>",
                            "<tr><td>31</td><td>Product XWOXC</td><td>11016</td></tr>",
                            "<tr><td>32</td><td>Product NUNAW</td><td>11077</td></tr>",
                            "<tr><td>32</td><td>Product NUNAW</td><td>11053</td></tr>",
                            "<tr><td>33</td><td>Product ASTMN</td><td>11054</td></tr>",
                            "<tr><td>33</td><td>Product ASTMN</td><td>11045</td></tr>",
                            "<tr><td>34</td><td>Product SWNJY</td><td>11066</td></tr>",
                            "<tr><td>34</td><td>Product SWNJY</td><td>11063</td></tr>",
                            "<tr><td>35</td><td>Product NEVTJ</td><td>11046</td></tr>",
                            "<tr><td>35</td><td>Product NEVTJ</td><td>11039</td></tr>",
                            "<tr><td>36</td><td>Product GMKIJ</td><td>11032</td></tr>",
                            "<tr><td>36</td><td>Product GMKIJ</td><td>11016</td></tr>",
                            "<tr><td>37</td><td>Product EVFFA</td><td>10966</td></tr>",
                            "<tr><td>37</td><td>Product EVFFA</td><td>10847</td></tr>",
                            "<tr><td>38</td><td>Product QDOMO</td><td>11032</td></tr>",
                            "<tr><td>38</td><td>Product QDOMO</td><td>10981</td></tr>",
                            "<tr><td>39</td><td>Product LSOFL</td><td>11077</td></tr>",
                            "<tr><td>39</td><td>Product LSOFL</td><td>11069</td></tr>",
                            "<tr><td>40</td><td>Product YZIXQ</td><td>11063</td></tr>",
                            "<tr><td>40</td><td>Product YZIXQ</td><td>11038</td></tr>",
                            "<tr><td>41</td><td>Product TTEEX</td><td>11077</td></tr>",
                            "<tr><td>41</td><td>Product TTEEX</td><td>11072</td></tr>",
                            "<tr><td>42</td><td>Product RJVNM</td><td>11035</td></tr>",
                            "<tr><td>42</td><td>Product RJVNM</td><td>11013</td></tr>",
                            "<tr><td>43</td><td>Product ZZZHR</td><td>11068</td></tr>",
                            "<tr><td>43</td><td>Product ZZZHR</td><td>11052</td></tr>",
                            "<tr><td>44</td><td>Product VJIEO</td><td>11042</td></tr>",
                            "<tr><td>44</td><td>Product VJIEO</td><td>11034</td></tr>",
                            "<tr><td>45</td><td>Product AQOKR</td><td>11013</td></tr>",
                            "<tr><td>45</td><td>Product AQOKR</td><td>10954</td></tr>",
                            "<tr><td>46</td><td>Product CBRRL</td><td>11077</td></tr>",
                            "<tr><td>46</td><td>Product CBRRL</td><td>11075</td></tr>",
                            "<tr><td>47</td><td>Product EZZPR</td><td>10977</td></tr>",
                            "<tr><td>47</td><td>Product EZZPR</td><td>10956</td></tr>",
                            "<tr><td>48</td><td>Product MYNXN</td><td>10814</td></tr>",
                            "<tr><td>48</td><td>Product MYNXN</td><td>10704</td></tr>",
                            "<tr><td>49</td><td>Product FPYPN</td><td>11039</td></tr>",
                            "<tr><td>49</td><td>Product FPYPN</td><td>11019</td></tr>",
                            "<tr><td>50</td><td>Product BIUDV</td><td>11072</td></tr>",
                            "<tr><td>50</td><td>Product BIUDV</td><td>10948</td></tr>",
                            "<tr><td>51</td><td>Product APITJ</td><td>11055</td></tr>",
                            "<tr><td>51</td><td>Product APITJ</td><td>11045</td></tr>",
                            "<tr><td>52</td><td>Product QSRXF</td><td>11077</td></tr>",
                            "<tr><td>52</td><td>Product QSRXF</td><td>11038</td></tr>",
                            "<tr><td>53</td><td>Product BKGEA</td><td>11064</td></tr>",
                            "<tr><td>53</td><td>Product BKGEA</td><td>11062</td></tr>",
                            "<tr><td>54</td><td>Product QAQRL</td><td>11065</td></tr>",
                            "<tr><td>54</td><td>Product QAQRL</td><td>11035</td></tr>",
                            "<tr><td>55</td><td>Product YYWRT</td><td>11077</td></tr>",
                            "<tr><td>55</td><td>Product YYWRT</td><td>11064</td></tr>",
                            "<tr><td>56</td><td>Product VKCMF</td><td>11029</td></tr>",
                            "<tr><td>56</td><td>Product VKCMF</td><td>11018</td></tr>",
                            "<tr><td>57</td><td>Product OVLQI</td><td>11055</td></tr>",
                            "<tr><td>57</td><td>Product OVLQI</td><td>11039</td></tr>",
                            "<tr><td>58</td><td>Product ACRVI</td><td>11011</td></tr>",
                            "<tr><td>58</td><td>Product ACRVI</td><td>10930</td></tr>",
                            "<tr><td>59</td><td>Product UKXRI</td><td>11036</td></tr>",
                            "<tr><td>59</td><td>Product UKXRI</td><td>11032</td></tr>",
                            "<tr><td>60</td><td>Product WHBYK</td><td>11077</td></tr>",
                            "<tr><td>60</td><td>Product WHBYK</td><td>11061</td></tr>",
                            "<tr><td>61</td><td>Product XYZPE</td><td>11058</td></tr>",
                            "<tr><td>61</td><td>Product XYZPE</td><td>11052</td></tr>",
                            "<tr><td>62</td><td>Product WUXYK</td><td>11044</td></tr>",
                            "<tr><td>62</td><td>Product WUXYK</td><td>11027</td></tr>",
                            "<tr><td>63</td><td>Product ICKNK</td><td>11041</td></tr>",
                            "<tr><td>63</td><td>Product ICKNK</td><td>11029</td></tr>",
                            "<tr><td>64</td><td>Product HCQDE</td><td>11077</td></tr>",
                            "<tr><td>64</td><td>Product HCQDE</td><td>11072</td></tr>",
                            "<tr><td>65</td><td>Product XYWBZ</td><td>11024</td></tr>",
                            "<tr><td>65</td><td>Product XYWBZ</td><td>10903</td></tr>",
                            "<tr><td>66</td><td>Product LQMGN</td><td>11077</td></tr>",
                            "<tr><td>66</td><td>Product LQMGN</td><td>10774</td></tr>",
                            "<tr><td>67</td><td>Product XLXQF</td><td>11054</td></tr>",
                            "<tr><td>67</td><td>Product XLXQF</td><td>10939</td></tr>",
                            "<tr><td>68</td><td>Product TBTBL</td><td>11064</td></tr>",
                            "<tr><td>68</td><td>Product TBTBL</td><td>11048</td></tr>",
                            "<tr><td>69</td><td>Product COAXA</td><td>11033</td></tr>",
                            "<tr><td>69</td><td>Product COAXA</td><td>11022</td></tr>",
                            "<tr><td>70</td><td>Product TOONT</td><td>11062</td></tr>",
                            "<tr><td>70</td><td>Product TOONT</td><td>11057</td></tr>",
                            "<tr><td>71</td><td>Product MYMOI</td><td>11038</td></tr>",
                            "<tr><td>71</td><td>Product MYMOI</td><td>11031</td></tr>",
                            "<tr><td>72</td><td>Product GEEOO</td><td>11021</td></tr>",
                            "<tr><td>72</td><td>Product GEEOO</td><td>10992</td></tr>",
                            "<tr><td>73</td><td>Product WEUJZ</td><td>11077</td></tr>",
                            "<tr><td>73</td><td>Product WEUJZ</td><td>10881</td></tr>",
                            "<tr><td>74</td><td>Product BKAZJ</td><td>10998</td></tr>",
                            "<tr><td>74</td><td>Product BKAZJ</td><td>10846</td></tr>",
                            "<tr><td>75</td><td>Product BWRLG</td><td>11077</td></tr>",
                            "<tr><td>75</td><td>Product BWRLG</td><td>10998</td></tr>",
                            "<tr><td>76</td><td>Product JYGFE</td><td>11075</td></tr>",
                            "<tr><td>76</td><td>Product JYGFE</td><td>11050</td></tr>",
                            "<tr><td>77</td><td>Product LUNZZ</td><td>11077</td></tr>",
                            "<tr><td>77</td><td>Product LUNZZ</td><td>11068</td></tr>",
                            "</table>"
                        ]
                    }
                }
            ],
            "execution_count": 10
        },
        {
            "cell_type": "markdown",
            "source": [
                "3.2. Utilizar el operador CROSS APPLY y una subconsulta correlacionada. Ordenar el resultado por la columna productid."
            ],
            "metadata": {
                "azdata_cell_guid": "ac333855-7abb-49b3-94f4-5553a5a0c6b1"
            }
        },
        {
            "cell_type": "code",
            "source": [
                "SELECT p.productid, p.productname, LastOrders.orderid\r\n",
                "FROM Production.Products AS p\r\n",
                "CROSS APPLY\r\n",
                "(SELECT TOP(2) orderid\r\n",
                " FROM Sales.OrderDetails AS od\r\n",
                " WHERE od.productid = p.productid\r\n",
                " ORDER BY orderid DESC) AS LastOrders\r\n",
                "ORDER BY p.productid;"
            ],
            "metadata": {
                "azdata_cell_guid": "014bdfbc-94d7-482a-9d53-2b3a076864e8",
                "language": "sql"
            },
            "outputs": [
                {
                    "output_type": "display_data",
                    "data": {
                        "text/html": "(154 rows affected)"
                    },
                    "metadata": {}
                },
                {
                    "output_type": "display_data",
                    "data": {
                        "text/html": "Total execution time: 00:00:00.007"
                    },
                    "metadata": {}
                },
                {
                    "output_type": "execute_result",
                    "metadata": {},
                    "execution_count": 11,
                    "data": {
                        "application/vnd.dataresource+json": {
                            "schema": {
                                "fields": [
                                    {
                                        "name": "productid"
                                    },
                                    {
                                        "name": "productname"
                                    },
                                    {
                                        "name": "orderid"
                                    }
                                ]
                            },
                            "data": [
                                {
                                    "productid": "1",
                                    "productname": "Product HHYDP",
                                    "orderid": "11070"
                                },
                                {
                                    "productid": "1",
                                    "productname": "Product HHYDP",
                                    "orderid": "11047"
                                },
                                {
                                    "productid": "2",
                                    "productname": "Product RECZE",
                                    "orderid": "11077"
                                },
                                {
                                    "productid": "2",
                                    "productname": "Product RECZE",
                                    "orderid": "11075"
                                },
                                {
                                    "productid": "3",
                                    "productname": "Product IMEHJ",
                                    "orderid": "11077"
                                },
                                {
                                    "productid": "3",
                                    "productname": "Product IMEHJ",
                                    "orderid": "11017"
                                },
                                {
                                    "productid": "4",
                                    "productname": "Product KSBRM",
                                    "orderid": "11077"
                                },
                                {
                                    "productid": "4",
                                    "productname": "Product KSBRM",
                                    "orderid": "11000"
                                },
                                {
                                    "productid": "5",
                                    "productname": "Product EPEIM",
                                    "orderid": "11047"
                                },
                                {
                                    "productid": "5",
                                    "productname": "Product EPEIM",
                                    "orderid": "11030"
                                },
                                {
                                    "productid": "6",
                                    "productname": "Product VAIIV",
                                    "orderid": "11077"
                                },
                                {
                                    "productid": "6",
                                    "productname": "Product VAIIV",
                                    "orderid": "11076"
                                },
                                {
                                    "productid": "7",
                                    "productname": "Product HMLNI",
                                    "orderid": "11077"
                                },
                                {
                                    "productid": "7",
                                    "productname": "Product HMLNI",
                                    "orderid": "11071"
                                },
                                {
                                    "productid": "8",
                                    "productname": "Product WVJFP",
                                    "orderid": "11077"
                                },
                                {
                                    "productid": "8",
                                    "productname": "Product WVJFP",
                                    "orderid": "11007"
                                },
                                {
                                    "productid": "9",
                                    "productname": "Product AOZBW",
                                    "orderid": "10848"
                                },
                                {
                                    "productid": "9",
                                    "productname": "Product AOZBW",
                                    "orderid": "10693"
                                },
                                {
                                    "productid": "10",
                                    "productname": "Product YHXGE",
                                    "orderid": "11077"
                                },
                                {
                                    "productid": "10",
                                    "productname": "Product YHXGE",
                                    "orderid": "11020"
                                },
                                {
                                    "productid": "11",
                                    "productname": "Product QMVUN",
                                    "orderid": "11073"
                                },
                                {
                                    "productid": "11",
                                    "productname": "Product QMVUN",
                                    "orderid": "11043"
                                },
                                {
                                    "productid": "12",
                                    "productname": "Product OSFNS",
                                    "orderid": "11077"
                                },
                                {
                                    "productid": "12",
                                    "productname": "Product OSFNS",
                                    "orderid": "11049"
                                },
                                {
                                    "productid": "13",
                                    "productname": "Product POXFU",
                                    "orderid": "11077"
                                },
                                {
                                    "productid": "13",
                                    "productname": "Product POXFU",
                                    "orderid": "11071"
                                },
                                {
                                    "productid": "14",
                                    "productname": "Product PWCJB",
                                    "orderid": "11077"
                                },
                                {
                                    "productid": "14",
                                    "productname": "Product PWCJB",
                                    "orderid": "11076"
                                },
                                {
                                    "productid": "15",
                                    "productname": "Product KSZOI",
                                    "orderid": "10657"
                                },
                                {
                                    "productid": "15",
                                    "productname": "Product KSZOI",
                                    "orderid": "10592"
                                },
                                {
                                    "productid": "16",
                                    "productname": "Product PAFRH",
                                    "orderid": "11077"
                                },
                                {
                                    "productid": "16",
                                    "productname": "Product PAFRH",
                                    "orderid": "11074"
                                },
                                {
                                    "productid": "17",
                                    "productname": "Product BLCAX",
                                    "orderid": "11064"
                                },
                                {
                                    "productid": "17",
                                    "productname": "Product BLCAX",
                                    "orderid": "11059"
                                },
                                {
                                    "productid": "18",
                                    "productname": "Product CKEDC",
                                    "orderid": "11053"
                                },
                                {
                                    "productid": "18",
                                    "productname": "Product CKEDC",
                                    "orderid": "11026"
                                },
                                {
                                    "productid": "19",
                                    "productname": "Product XKXDO",
                                    "orderid": "11076"
                                },
                                {
                                    "productid": "19",
                                    "productname": "Product XKXDO",
                                    "orderid": "11066"
                                },
                                {
                                    "productid": "20",
                                    "productname": "Product QHFFP",
                                    "orderid": "11077"
                                },
                                {
                                    "productid": "20",
                                    "productname": "Product QHFFP",
                                    "orderid": "11021"
                                },
                                {
                                    "productid": "21",
                                    "productname": "Product VJZZH",
                                    "orderid": "11058"
                                },
                                {
                                    "productid": "21",
                                    "productname": "Product VJZZH",
                                    "orderid": "11040"
                                },
                                {
                                    "productid": "22",
                                    "productname": "Product CPHFY",
                                    "orderid": "11001"
                                },
                                {
                                    "productid": "22",
                                    "productname": "Product CPHFY",
                                    "orderid": "10943"
                                },
                                {
                                    "productid": "23",
                                    "productname": "Product JLUDZ",
                                    "orderid": "11077"
                                },
                                {
                                    "productid": "23",
                                    "productname": "Product JLUDZ",
                                    "orderid": "11013"
                                },
                                {
                                    "productid": "24",
                                    "productname": "Product QOGNU",
                                    "orderid": "11073"
                                },
                                {
                                    "productid": "24",
                                    "productname": "Product QOGNU",
                                    "orderid": "11055"
                                },
                                {
                                    "productid": "25",
                                    "productname": "Product LYLNI",
                                    "orderid": "11055"
                                },
                                {
                                    "productid": "25",
                                    "productname": "Product LYLNI",
                                    "orderid": "10919"
                                },
                                {
                                    "productid": "26",
                                    "productname": "Product HLGZA",
                                    "orderid": "11024"
                                },
                                {
                                    "productid": "26",
                                    "productname": "Product HLGZA",
                                    "orderid": "11021"
                                },
                                {
                                    "productid": "27",
                                    "productname": "Product SMIOH",
                                    "orderid": "10979"
                                },
                                {
                                    "productid": "27",
                                    "productname": "Product SMIOH",
                                    "orderid": "10930"
                                },
                                {
                                    "productid": "28",
                                    "productname": "Product OFBNT",
                                    "orderid": "11068"
                                },
                                {
                                    "productid": "28",
                                    "productname": "Product OFBNT",
                                    "orderid": "11039"
                                },
                                {
                                    "productid": "29",
                                    "productname": "Product VJXYN",
                                    "orderid": "11030"
                                },
                                {
                                    "productid": "29",
                                    "productname": "Product VJXYN",
                                    "orderid": "11007"
                                },
                                {
                                    "productid": "30",
                                    "productname": "Product LYERX",
                                    "orderid": "11065"
                                },
                                {
                                    "productid": "30",
                                    "productname": "Product LYERX",
                                    "orderid": "11015"
                                },
                                {
                                    "productid": "31",
                                    "productname": "Product XWOXC",
                                    "orderid": "11070"
                                },
                                {
                                    "productid": "31",
                                    "productname": "Product XWOXC",
                                    "orderid": "11016"
                                },
                                {
                                    "productid": "32",
                                    "productname": "Product NUNAW",
                                    "orderid": "11077"
                                },
                                {
                                    "productid": "32",
                                    "productname": "Product NUNAW",
                                    "orderid": "11053"
                                },
                                {
                                    "productid": "33",
                                    "productname": "Product ASTMN",
                                    "orderid": "11054"
                                },
                                {
                                    "productid": "33",
                                    "productname": "Product ASTMN",
                                    "orderid": "11045"
                                },
                                {
                                    "productid": "34",
                                    "productname": "Product SWNJY",
                                    "orderid": "11066"
                                },
                                {
                                    "productid": "34",
                                    "productname": "Product SWNJY",
                                    "orderid": "11063"
                                },
                                {
                                    "productid": "35",
                                    "productname": "Product NEVTJ",
                                    "orderid": "11046"
                                },
                                {
                                    "productid": "35",
                                    "productname": "Product NEVTJ",
                                    "orderid": "11039"
                                },
                                {
                                    "productid": "36",
                                    "productname": "Product GMKIJ",
                                    "orderid": "11032"
                                },
                                {
                                    "productid": "36",
                                    "productname": "Product GMKIJ",
                                    "orderid": "11016"
                                },
                                {
                                    "productid": "37",
                                    "productname": "Product EVFFA",
                                    "orderid": "10966"
                                },
                                {
                                    "productid": "37",
                                    "productname": "Product EVFFA",
                                    "orderid": "10847"
                                },
                                {
                                    "productid": "38",
                                    "productname": "Product QDOMO",
                                    "orderid": "11032"
                                },
                                {
                                    "productid": "38",
                                    "productname": "Product QDOMO",
                                    "orderid": "10981"
                                },
                                {
                                    "productid": "39",
                                    "productname": "Product LSOFL",
                                    "orderid": "11077"
                                },
                                {
                                    "productid": "39",
                                    "productname": "Product LSOFL",
                                    "orderid": "11069"
                                },
                                {
                                    "productid": "40",
                                    "productname": "Product YZIXQ",
                                    "orderid": "11063"
                                },
                                {
                                    "productid": "40",
                                    "productname": "Product YZIXQ",
                                    "orderid": "11038"
                                },
                                {
                                    "productid": "41",
                                    "productname": "Product TTEEX",
                                    "orderid": "11077"
                                },
                                {
                                    "productid": "41",
                                    "productname": "Product TTEEX",
                                    "orderid": "11072"
                                },
                                {
                                    "productid": "42",
                                    "productname": "Product RJVNM",
                                    "orderid": "11035"
                                },
                                {
                                    "productid": "42",
                                    "productname": "Product RJVNM",
                                    "orderid": "11013"
                                },
                                {
                                    "productid": "43",
                                    "productname": "Product ZZZHR",
                                    "orderid": "11068"
                                },
                                {
                                    "productid": "43",
                                    "productname": "Product ZZZHR",
                                    "orderid": "11052"
                                },
                                {
                                    "productid": "44",
                                    "productname": "Product VJIEO",
                                    "orderid": "11042"
                                },
                                {
                                    "productid": "44",
                                    "productname": "Product VJIEO",
                                    "orderid": "11034"
                                },
                                {
                                    "productid": "45",
                                    "productname": "Product AQOKR",
                                    "orderid": "11013"
                                },
                                {
                                    "productid": "45",
                                    "productname": "Product AQOKR",
                                    "orderid": "10954"
                                },
                                {
                                    "productid": "46",
                                    "productname": "Product CBRRL",
                                    "orderid": "11077"
                                },
                                {
                                    "productid": "46",
                                    "productname": "Product CBRRL",
                                    "orderid": "11075"
                                },
                                {
                                    "productid": "47",
                                    "productname": "Product EZZPR",
                                    "orderid": "10977"
                                },
                                {
                                    "productid": "47",
                                    "productname": "Product EZZPR",
                                    "orderid": "10956"
                                },
                                {
                                    "productid": "48",
                                    "productname": "Product MYNXN",
                                    "orderid": "10814"
                                },
                                {
                                    "productid": "48",
                                    "productname": "Product MYNXN",
                                    "orderid": "10704"
                                },
                                {
                                    "productid": "49",
                                    "productname": "Product FPYPN",
                                    "orderid": "11039"
                                },
                                {
                                    "productid": "49",
                                    "productname": "Product FPYPN",
                                    "orderid": "11019"
                                },
                                {
                                    "productid": "50",
                                    "productname": "Product BIUDV",
                                    "orderid": "11072"
                                },
                                {
                                    "productid": "50",
                                    "productname": "Product BIUDV",
                                    "orderid": "10948"
                                },
                                {
                                    "productid": "51",
                                    "productname": "Product APITJ",
                                    "orderid": "11055"
                                },
                                {
                                    "productid": "51",
                                    "productname": "Product APITJ",
                                    "orderid": "11045"
                                },
                                {
                                    "productid": "52",
                                    "productname": "Product QSRXF",
                                    "orderid": "11077"
                                },
                                {
                                    "productid": "52",
                                    "productname": "Product QSRXF",
                                    "orderid": "11038"
                                },
                                {
                                    "productid": "53",
                                    "productname": "Product BKGEA",
                                    "orderid": "11064"
                                },
                                {
                                    "productid": "53",
                                    "productname": "Product BKGEA",
                                    "orderid": "11062"
                                },
                                {
                                    "productid": "54",
                                    "productname": "Product QAQRL",
                                    "orderid": "11065"
                                },
                                {
                                    "productid": "54",
                                    "productname": "Product QAQRL",
                                    "orderid": "11035"
                                },
                                {
                                    "productid": "55",
                                    "productname": "Product YYWRT",
                                    "orderid": "11077"
                                },
                                {
                                    "productid": "55",
                                    "productname": "Product YYWRT",
                                    "orderid": "11064"
                                },
                                {
                                    "productid": "56",
                                    "productname": "Product VKCMF",
                                    "orderid": "11029"
                                },
                                {
                                    "productid": "56",
                                    "productname": "Product VKCMF",
                                    "orderid": "11018"
                                },
                                {
                                    "productid": "57",
                                    "productname": "Product OVLQI",
                                    "orderid": "11055"
                                },
                                {
                                    "productid": "57",
                                    "productname": "Product OVLQI",
                                    "orderid": "11039"
                                },
                                {
                                    "productid": "58",
                                    "productname": "Product ACRVI",
                                    "orderid": "11011"
                                },
                                {
                                    "productid": "58",
                                    "productname": "Product ACRVI",
                                    "orderid": "10930"
                                },
                                {
                                    "productid": "59",
                                    "productname": "Product UKXRI",
                                    "orderid": "11036"
                                },
                                {
                                    "productid": "59",
                                    "productname": "Product UKXRI",
                                    "orderid": "11032"
                                },
                                {
                                    "productid": "60",
                                    "productname": "Product WHBYK",
                                    "orderid": "11077"
                                },
                                {
                                    "productid": "60",
                                    "productname": "Product WHBYK",
                                    "orderid": "11061"
                                },
                                {
                                    "productid": "61",
                                    "productname": "Product XYZPE",
                                    "orderid": "11058"
                                },
                                {
                                    "productid": "61",
                                    "productname": "Product XYZPE",
                                    "orderid": "11052"
                                },
                                {
                                    "productid": "62",
                                    "productname": "Product WUXYK",
                                    "orderid": "11044"
                                },
                                {
                                    "productid": "62",
                                    "productname": "Product WUXYK",
                                    "orderid": "11027"
                                },
                                {
                                    "productid": "63",
                                    "productname": "Product ICKNK",
                                    "orderid": "11041"
                                },
                                {
                                    "productid": "63",
                                    "productname": "Product ICKNK",
                                    "orderid": "11029"
                                },
                                {
                                    "productid": "64",
                                    "productname": "Product HCQDE",
                                    "orderid": "11077"
                                },
                                {
                                    "productid": "64",
                                    "productname": "Product HCQDE",
                                    "orderid": "11072"
                                },
                                {
                                    "productid": "65",
                                    "productname": "Product XYWBZ",
                                    "orderid": "11024"
                                },
                                {
                                    "productid": "65",
                                    "productname": "Product XYWBZ",
                                    "orderid": "10903"
                                },
                                {
                                    "productid": "66",
                                    "productname": "Product LQMGN",
                                    "orderid": "11077"
                                },
                                {
                                    "productid": "66",
                                    "productname": "Product LQMGN",
                                    "orderid": "10774"
                                },
                                {
                                    "productid": "67",
                                    "productname": "Product XLXQF",
                                    "orderid": "11054"
                                },
                                {
                                    "productid": "67",
                                    "productname": "Product XLXQF",
                                    "orderid": "10939"
                                },
                                {
                                    "productid": "68",
                                    "productname": "Product TBTBL",
                                    "orderid": "11064"
                                },
                                {
                                    "productid": "68",
                                    "productname": "Product TBTBL",
                                    "orderid": "11048"
                                },
                                {
                                    "productid": "69",
                                    "productname": "Product COAXA",
                                    "orderid": "11033"
                                },
                                {
                                    "productid": "69",
                                    "productname": "Product COAXA",
                                    "orderid": "11022"
                                },
                                {
                                    "productid": "70",
                                    "productname": "Product TOONT",
                                    "orderid": "11062"
                                },
                                {
                                    "productid": "70",
                                    "productname": "Product TOONT",
                                    "orderid": "11057"
                                },
                                {
                                    "productid": "71",
                                    "productname": "Product MYMOI",
                                    "orderid": "11038"
                                },
                                {
                                    "productid": "71",
                                    "productname": "Product MYMOI",
                                    "orderid": "11031"
                                },
                                {
                                    "productid": "72",
                                    "productname": "Product GEEOO",
                                    "orderid": "11021"
                                },
                                {
                                    "productid": "72",
                                    "productname": "Product GEEOO",
                                    "orderid": "10992"
                                },
                                {
                                    "productid": "73",
                                    "productname": "Product WEUJZ",
                                    "orderid": "11077"
                                },
                                {
                                    "productid": "73",
                                    "productname": "Product WEUJZ",
                                    "orderid": "10881"
                                },
                                {
                                    "productid": "74",
                                    "productname": "Product BKAZJ",
                                    "orderid": "10998"
                                },
                                {
                                    "productid": "74",
                                    "productname": "Product BKAZJ",
                                    "orderid": "10846"
                                },
                                {
                                    "productid": "75",
                                    "productname": "Product BWRLG",
                                    "orderid": "11077"
                                },
                                {
                                    "productid": "75",
                                    "productname": "Product BWRLG",
                                    "orderid": "10998"
                                },
                                {
                                    "productid": "76",
                                    "productname": "Product JYGFE",
                                    "orderid": "11075"
                                },
                                {
                                    "productid": "76",
                                    "productname": "Product JYGFE",
                                    "orderid": "11050"
                                },
                                {
                                    "productid": "77",
                                    "productname": "Product LUNZZ",
                                    "orderid": "11077"
                                },
                                {
                                    "productid": "77",
                                    "productname": "Product LUNZZ",
                                    "orderid": "11068"
                                }
                            ]
                        },
                        "text/html": [
                            "<table>",
                            "<tr><th>productid</th><th>productname</th><th>orderid</th></tr>",
                            "<tr><td>1</td><td>Product HHYDP</td><td>11070</td></tr>",
                            "<tr><td>1</td><td>Product HHYDP</td><td>11047</td></tr>",
                            "<tr><td>2</td><td>Product RECZE</td><td>11077</td></tr>",
                            "<tr><td>2</td><td>Product RECZE</td><td>11075</td></tr>",
                            "<tr><td>3</td><td>Product IMEHJ</td><td>11077</td></tr>",
                            "<tr><td>3</td><td>Product IMEHJ</td><td>11017</td></tr>",
                            "<tr><td>4</td><td>Product KSBRM</td><td>11077</td></tr>",
                            "<tr><td>4</td><td>Product KSBRM</td><td>11000</td></tr>",
                            "<tr><td>5</td><td>Product EPEIM</td><td>11047</td></tr>",
                            "<tr><td>5</td><td>Product EPEIM</td><td>11030</td></tr>",
                            "<tr><td>6</td><td>Product VAIIV</td><td>11077</td></tr>",
                            "<tr><td>6</td><td>Product VAIIV</td><td>11076</td></tr>",
                            "<tr><td>7</td><td>Product HMLNI</td><td>11077</td></tr>",
                            "<tr><td>7</td><td>Product HMLNI</td><td>11071</td></tr>",
                            "<tr><td>8</td><td>Product WVJFP</td><td>11077</td></tr>",
                            "<tr><td>8</td><td>Product WVJFP</td><td>11007</td></tr>",
                            "<tr><td>9</td><td>Product AOZBW</td><td>10848</td></tr>",
                            "<tr><td>9</td><td>Product AOZBW</td><td>10693</td></tr>",
                            "<tr><td>10</td><td>Product YHXGE</td><td>11077</td></tr>",
                            "<tr><td>10</td><td>Product YHXGE</td><td>11020</td></tr>",
                            "<tr><td>11</td><td>Product QMVUN</td><td>11073</td></tr>",
                            "<tr><td>11</td><td>Product QMVUN</td><td>11043</td></tr>",
                            "<tr><td>12</td><td>Product OSFNS</td><td>11077</td></tr>",
                            "<tr><td>12</td><td>Product OSFNS</td><td>11049</td></tr>",
                            "<tr><td>13</td><td>Product POXFU</td><td>11077</td></tr>",
                            "<tr><td>13</td><td>Product POXFU</td><td>11071</td></tr>",
                            "<tr><td>14</td><td>Product PWCJB</td><td>11077</td></tr>",
                            "<tr><td>14</td><td>Product PWCJB</td><td>11076</td></tr>",
                            "<tr><td>15</td><td>Product KSZOI</td><td>10657</td></tr>",
                            "<tr><td>15</td><td>Product KSZOI</td><td>10592</td></tr>",
                            "<tr><td>16</td><td>Product PAFRH</td><td>11077</td></tr>",
                            "<tr><td>16</td><td>Product PAFRH</td><td>11074</td></tr>",
                            "<tr><td>17</td><td>Product BLCAX</td><td>11064</td></tr>",
                            "<tr><td>17</td><td>Product BLCAX</td><td>11059</td></tr>",
                            "<tr><td>18</td><td>Product CKEDC</td><td>11053</td></tr>",
                            "<tr><td>18</td><td>Product CKEDC</td><td>11026</td></tr>",
                            "<tr><td>19</td><td>Product XKXDO</td><td>11076</td></tr>",
                            "<tr><td>19</td><td>Product XKXDO</td><td>11066</td></tr>",
                            "<tr><td>20</td><td>Product QHFFP</td><td>11077</td></tr>",
                            "<tr><td>20</td><td>Product QHFFP</td><td>11021</td></tr>",
                            "<tr><td>21</td><td>Product VJZZH</td><td>11058</td></tr>",
                            "<tr><td>21</td><td>Product VJZZH</td><td>11040</td></tr>",
                            "<tr><td>22</td><td>Product CPHFY</td><td>11001</td></tr>",
                            "<tr><td>22</td><td>Product CPHFY</td><td>10943</td></tr>",
                            "<tr><td>23</td><td>Product JLUDZ</td><td>11077</td></tr>",
                            "<tr><td>23</td><td>Product JLUDZ</td><td>11013</td></tr>",
                            "<tr><td>24</td><td>Product QOGNU</td><td>11073</td></tr>",
                            "<tr><td>24</td><td>Product QOGNU</td><td>11055</td></tr>",
                            "<tr><td>25</td><td>Product LYLNI</td><td>11055</td></tr>",
                            "<tr><td>25</td><td>Product LYLNI</td><td>10919</td></tr>",
                            "<tr><td>26</td><td>Product HLGZA</td><td>11024</td></tr>",
                            "<tr><td>26</td><td>Product HLGZA</td><td>11021</td></tr>",
                            "<tr><td>27</td><td>Product SMIOH</td><td>10979</td></tr>",
                            "<tr><td>27</td><td>Product SMIOH</td><td>10930</td></tr>",
                            "<tr><td>28</td><td>Product OFBNT</td><td>11068</td></tr>",
                            "<tr><td>28</td><td>Product OFBNT</td><td>11039</td></tr>",
                            "<tr><td>29</td><td>Product VJXYN</td><td>11030</td></tr>",
                            "<tr><td>29</td><td>Product VJXYN</td><td>11007</td></tr>",
                            "<tr><td>30</td><td>Product LYERX</td><td>11065</td></tr>",
                            "<tr><td>30</td><td>Product LYERX</td><td>11015</td></tr>",
                            "<tr><td>31</td><td>Product XWOXC</td><td>11070</td></tr>",
                            "<tr><td>31</td><td>Product XWOXC</td><td>11016</td></tr>",
                            "<tr><td>32</td><td>Product NUNAW</td><td>11077</td></tr>",
                            "<tr><td>32</td><td>Product NUNAW</td><td>11053</td></tr>",
                            "<tr><td>33</td><td>Product ASTMN</td><td>11054</td></tr>",
                            "<tr><td>33</td><td>Product ASTMN</td><td>11045</td></tr>",
                            "<tr><td>34</td><td>Product SWNJY</td><td>11066</td></tr>",
                            "<tr><td>34</td><td>Product SWNJY</td><td>11063</td></tr>",
                            "<tr><td>35</td><td>Product NEVTJ</td><td>11046</td></tr>",
                            "<tr><td>35</td><td>Product NEVTJ</td><td>11039</td></tr>",
                            "<tr><td>36</td><td>Product GMKIJ</td><td>11032</td></tr>",
                            "<tr><td>36</td><td>Product GMKIJ</td><td>11016</td></tr>",
                            "<tr><td>37</td><td>Product EVFFA</td><td>10966</td></tr>",
                            "<tr><td>37</td><td>Product EVFFA</td><td>10847</td></tr>",
                            "<tr><td>38</td><td>Product QDOMO</td><td>11032</td></tr>",
                            "<tr><td>38</td><td>Product QDOMO</td><td>10981</td></tr>",
                            "<tr><td>39</td><td>Product LSOFL</td><td>11077</td></tr>",
                            "<tr><td>39</td><td>Product LSOFL</td><td>11069</td></tr>",
                            "<tr><td>40</td><td>Product YZIXQ</td><td>11063</td></tr>",
                            "<tr><td>40</td><td>Product YZIXQ</td><td>11038</td></tr>",
                            "<tr><td>41</td><td>Product TTEEX</td><td>11077</td></tr>",
                            "<tr><td>41</td><td>Product TTEEX</td><td>11072</td></tr>",
                            "<tr><td>42</td><td>Product RJVNM</td><td>11035</td></tr>",
                            "<tr><td>42</td><td>Product RJVNM</td><td>11013</td></tr>",
                            "<tr><td>43</td><td>Product ZZZHR</td><td>11068</td></tr>",
                            "<tr><td>43</td><td>Product ZZZHR</td><td>11052</td></tr>",
                            "<tr><td>44</td><td>Product VJIEO</td><td>11042</td></tr>",
                            "<tr><td>44</td><td>Product VJIEO</td><td>11034</td></tr>",
                            "<tr><td>45</td><td>Product AQOKR</td><td>11013</td></tr>",
                            "<tr><td>45</td><td>Product AQOKR</td><td>10954</td></tr>",
                            "<tr><td>46</td><td>Product CBRRL</td><td>11077</td></tr>",
                            "<tr><td>46</td><td>Product CBRRL</td><td>11075</td></tr>",
                            "<tr><td>47</td><td>Product EZZPR</td><td>10977</td></tr>",
                            "<tr><td>47</td><td>Product EZZPR</td><td>10956</td></tr>",
                            "<tr><td>48</td><td>Product MYNXN</td><td>10814</td></tr>",
                            "<tr><td>48</td><td>Product MYNXN</td><td>10704</td></tr>",
                            "<tr><td>49</td><td>Product FPYPN</td><td>11039</td></tr>",
                            "<tr><td>49</td><td>Product FPYPN</td><td>11019</td></tr>",
                            "<tr><td>50</td><td>Product BIUDV</td><td>11072</td></tr>",
                            "<tr><td>50</td><td>Product BIUDV</td><td>10948</td></tr>",
                            "<tr><td>51</td><td>Product APITJ</td><td>11055</td></tr>",
                            "<tr><td>51</td><td>Product APITJ</td><td>11045</td></tr>",
                            "<tr><td>52</td><td>Product QSRXF</td><td>11077</td></tr>",
                            "<tr><td>52</td><td>Product QSRXF</td><td>11038</td></tr>",
                            "<tr><td>53</td><td>Product BKGEA</td><td>11064</td></tr>",
                            "<tr><td>53</td><td>Product BKGEA</td><td>11062</td></tr>",
                            "<tr><td>54</td><td>Product QAQRL</td><td>11065</td></tr>",
                            "<tr><td>54</td><td>Product QAQRL</td><td>11035</td></tr>",
                            "<tr><td>55</td><td>Product YYWRT</td><td>11077</td></tr>",
                            "<tr><td>55</td><td>Product YYWRT</td><td>11064</td></tr>",
                            "<tr><td>56</td><td>Product VKCMF</td><td>11029</td></tr>",
                            "<tr><td>56</td><td>Product VKCMF</td><td>11018</td></tr>",
                            "<tr><td>57</td><td>Product OVLQI</td><td>11055</td></tr>",
                            "<tr><td>57</td><td>Product OVLQI</td><td>11039</td></tr>",
                            "<tr><td>58</td><td>Product ACRVI</td><td>11011</td></tr>",
                            "<tr><td>58</td><td>Product ACRVI</td><td>10930</td></tr>",
                            "<tr><td>59</td><td>Product UKXRI</td><td>11036</td></tr>",
                            "<tr><td>59</td><td>Product UKXRI</td><td>11032</td></tr>",
                            "<tr><td>60</td><td>Product WHBYK</td><td>11077</td></tr>",
                            "<tr><td>60</td><td>Product WHBYK</td><td>11061</td></tr>",
                            "<tr><td>61</td><td>Product XYZPE</td><td>11058</td></tr>",
                            "<tr><td>61</td><td>Product XYZPE</td><td>11052</td></tr>",
                            "<tr><td>62</td><td>Product WUXYK</td><td>11044</td></tr>",
                            "<tr><td>62</td><td>Product WUXYK</td><td>11027</td></tr>",
                            "<tr><td>63</td><td>Product ICKNK</td><td>11041</td></tr>",
                            "<tr><td>63</td><td>Product ICKNK</td><td>11029</td></tr>",
                            "<tr><td>64</td><td>Product HCQDE</td><td>11077</td></tr>",
                            "<tr><td>64</td><td>Product HCQDE</td><td>11072</td></tr>",
                            "<tr><td>65</td><td>Product XYWBZ</td><td>11024</td></tr>",
                            "<tr><td>65</td><td>Product XYWBZ</td><td>10903</td></tr>",
                            "<tr><td>66</td><td>Product LQMGN</td><td>11077</td></tr>",
                            "<tr><td>66</td><td>Product LQMGN</td><td>10774</td></tr>",
                            "<tr><td>67</td><td>Product XLXQF</td><td>11054</td></tr>",
                            "<tr><td>67</td><td>Product XLXQF</td><td>10939</td></tr>",
                            "<tr><td>68</td><td>Product TBTBL</td><td>11064</td></tr>",
                            "<tr><td>68</td><td>Product TBTBL</td><td>11048</td></tr>",
                            "<tr><td>69</td><td>Product COAXA</td><td>11033</td></tr>",
                            "<tr><td>69</td><td>Product COAXA</td><td>11022</td></tr>",
                            "<tr><td>70</td><td>Product TOONT</td><td>11062</td></tr>",
                            "<tr><td>70</td><td>Product TOONT</td><td>11057</td></tr>",
                            "<tr><td>71</td><td>Product MYMOI</td><td>11038</td></tr>",
                            "<tr><td>71</td><td>Product MYMOI</td><td>11031</td></tr>",
                            "<tr><td>72</td><td>Product GEEOO</td><td>11021</td></tr>",
                            "<tr><td>72</td><td>Product GEEOO</td><td>10992</td></tr>",
                            "<tr><td>73</td><td>Product WEUJZ</td><td>11077</td></tr>",
                            "<tr><td>73</td><td>Product WEUJZ</td><td>10881</td></tr>",
                            "<tr><td>74</td><td>Product BKAZJ</td><td>10998</td></tr>",
                            "<tr><td>74</td><td>Product BKAZJ</td><td>10846</td></tr>",
                            "<tr><td>75</td><td>Product BWRLG</td><td>11077</td></tr>",
                            "<tr><td>75</td><td>Product BWRLG</td><td>10998</td></tr>",
                            "<tr><td>76</td><td>Product JYGFE</td><td>11075</td></tr>",
                            "<tr><td>76</td><td>Product JYGFE</td><td>11050</td></tr>",
                            "<tr><td>77</td><td>Product LUNZZ</td><td>11077</td></tr>",
                            "<tr><td>77</td><td>Product LUNZZ</td><td>11068</td></tr>",
                            "</table>"
                        ]
                    }
                }
            ],
            "execution_count": 11
        },
        {
            "cell_type": "markdown",
            "source": [
                "3.3. Ejecutar la sentencia siguiente para crear la función fnGetTop3ProductsForCustomer."
            ],
            "metadata": {
                "azdata_cell_guid": "d42af140-533b-440a-ab49-bb36b2ef5e23"
            }
        },
        {
            "cell_type": "code",
            "source": [
                "DROP FUNCTION IF EXISTS dbo.fnGetTop3ProductsForCustomer; \r\n",
                "GO \r\n",
                "CREATE FUNCTION dbo.fnGetTop3ProductsForCustomer (@custid AS INT) \r\n",
                "RETURNS TABLE AS \r\n",
                "RETURN \r\n",
                "SELECT TOP(3) d.productid, p.productname, SUM(d.qty * d.unitprice) AS totalsalesamount \r\n",
                "FROM Sales.Orders AS o \r\n",
                "INNER JOIN Sales.OrderDetails AS d ON d.orderid = o.orderid \r\n",
                "INNER JOIN Production.Products AS p ON p.productid = d.productid \r\n",
                "WHERE custid = @custid \r\n",
                "GROUP BY d.productid, p.productname \r\n",
                "ORDER BY totalsalesamount DESC;"
            ],
            "metadata": {
                "azdata_cell_guid": "a34f2902-78f7-462d-a74f-8f90df529641",
                "language": "sql"
            },
            "outputs": [
                {
                    "output_type": "display_data",
                    "data": {
                        "text/html": "Commands completed successfully."
                    },
                    "metadata": {}
                },
                {
                    "output_type": "display_data",
                    "data": {
                        "text/html": "Commands completed successfully."
                    },
                    "metadata": {}
                },
                {
                    "output_type": "display_data",
                    "data": {
                        "text/html": "Total execution time: 00:00:00.004"
                    },
                    "metadata": {}
                }
            ],
            "execution_count": 12
        },
        {
            "cell_type": "markdown",
            "source": [
                "3.4. Escribir una sentencia SELECT statement para traer las columnas custid y contactname de la tabla Sales.Customers. Utilizar el operador CROSS APPLY con la función dbo.fnGetTop3ProductsForCustomer para traer las columnas productid, productname y totalsalesamount por cada cliente."
            ],
            "metadata": {
                "azdata_cell_guid": "a8ea6f3f-bb43-4ecb-92c1-0c36d9a5d1fb"
            }
        },
        {
            "cell_type": "code",
            "source": [
                "SELECT c.custid, c.contactname, TopProducts.productid, TopProducts.productname, TopProducts.totalsalesamount\r\n",
                "FROM Sales.Customers AS c\r\n",
                "CROSS APPLY dbo.fnGetTop3ProductsForCustomer(c.custid) AS TopProducts\r\n",
                "ORDER BY c.custid, TopProducts.totalsalesamount DESC;"
            ],
            "metadata": {
                "azdata_cell_guid": "ff759fc5-fa9c-4e29-a69e-d6ef1eefdde1",
                "language": "sql"
            },
            "outputs": [
                {
                    "output_type": "display_data",
                    "data": {
                        "text/html": "(265 rows affected)"
                    },
                    "metadata": {}
                },
                {
                    "output_type": "display_data",
                    "data": {
                        "text/html": "Total execution time: 00:00:00.026"
                    },
                    "metadata": {}
                },
                {
                    "output_type": "execute_result",
                    "metadata": {},
                    "execution_count": 13,
                    "data": {
                        "application/vnd.dataresource+json": {
                            "schema": {
                                "fields": [
                                    {
                                        "name": "custid"
                                    },
                                    {
                                        "name": "contactname"
                                    },
                                    {
                                        "name": "productid"
                                    },
                                    {
                                        "name": "productname"
                                    },
                                    {
                                        "name": "totalsalesamount"
                                    }
                                ]
                            },
                            "data": [
                                {
                                    "custid": "1",
                                    "contactname": "Allen, Michael",
                                    "productid": "63",
                                    "productname": "Product ICKNK",
                                    "totalsalesamount": "878.00"
                                },
                                {
                                    "custid": "1",
                                    "contactname": "Allen, Michael",
                                    "productid": "59",
                                    "productname": "Product UKXRI",
                                    "totalsalesamount": "825.00"
                                },
                                {
                                    "custid": "1",
                                    "contactname": "Allen, Michael",
                                    "productid": "28",
                                    "productname": "Product OFBNT",
                                    "totalsalesamount": "775.20"
                                },
                                {
                                    "custid": "2",
                                    "contactname": "Hassall, Mark",
                                    "productid": "72",
                                    "productname": "Product GEEOO",
                                    "totalsalesamount": "348.00"
                                },
                                {
                                    "custid": "2",
                                    "contactname": "Hassall, Mark",
                                    "productid": "60",
                                    "productname": "Product WHBYK",
                                    "totalsalesamount": "340.00"
                                },
                                {
                                    "custid": "2",
                                    "contactname": "Hassall, Mark",
                                    "productid": "32",
                                    "productname": "Product NUNAW",
                                    "totalsalesamount": "320.00"
                                },
                                {
                                    "custid": "3",
                                    "contactname": "Peoples, John",
                                    "productid": "11",
                                    "productname": "Product QMVUN",
                                    "totalsalesamount": "1453.20"
                                },
                                {
                                    "custid": "3",
                                    "contactname": "Peoples, John",
                                    "productid": "26",
                                    "productname": "Product HLGZA",
                                    "totalsalesamount": "936.90"
                                },
                                {
                                    "custid": "3",
                                    "contactname": "Peoples, John",
                                    "productid": "59",
                                    "productname": "Product UKXRI",
                                    "totalsalesamount": "825.00"
                                },
                                {
                                    "custid": "4",
                                    "contactname": "Arndt, Torsten",
                                    "productid": "20",
                                    "productname": "Product QHFFP",
                                    "totalsalesamount": "4050.00"
                                },
                                {
                                    "custid": "4",
                                    "contactname": "Arndt, Torsten",
                                    "productid": "31",
                                    "productname": "Product XWOXC",
                                    "totalsalesamount": "1437.50"
                                },
                                {
                                    "custid": "4",
                                    "contactname": "Arndt, Torsten",
                                    "productid": "57",
                                    "productname": "Product OVLQI",
                                    "totalsalesamount": "1170.00"
                                },
                                {
                                    "custid": "5",
                                    "contactname": "Higginbotham, Tom",
                                    "productid": "38",
                                    "productname": "Product QDOMO",
                                    "totalsalesamount": "3952.50"
                                },
                                {
                                    "custid": "5",
                                    "contactname": "Higginbotham, Tom",
                                    "productid": "43",
                                    "productname": "Product ZZZHR",
                                    "totalsalesamount": "2760.00"
                                },
                                {
                                    "custid": "5",
                                    "contactname": "Higginbotham, Tom",
                                    "productid": "28",
                                    "productname": "Product OFBNT",
                                    "totalsalesamount": "2280.00"
                                },
                                {
                                    "custid": "6",
                                    "contactname": "Poland, Carole",
                                    "productid": "60",
                                    "productname": "Product WHBYK",
                                    "totalsalesamount": "714.00"
                                },
                                {
                                    "custid": "6",
                                    "contactname": "Poland, Carole",
                                    "productid": "18",
                                    "productname": "Product CKEDC",
                                    "totalsalesamount": "625.00"
                                },
                                {
                                    "custid": "6",
                                    "contactname": "Poland, Carole",
                                    "productid": "51",
                                    "productname": "Product APITJ",
                                    "totalsalesamount": "424.00"
                                },
                                {
                                    "custid": "7",
                                    "contactname": "Bansal, Dushyant",
                                    "productid": "29",
                                    "productname": "Product VJXYN",
                                    "totalsalesamount": "3465.00"
                                },
                                {
                                    "custid": "7",
                                    "contactname": "Bansal, Dushyant",
                                    "productid": "38",
                                    "productname": "Product QDOMO",
                                    "totalsalesamount": "2108.00"
                                },
                                {
                                    "custid": "7",
                                    "contactname": "Bansal, Dushyant",
                                    "productid": "62",
                                    "productname": "Product WUXYK",
                                    "totalsalesamount": "1379.00"
                                },
                                {
                                    "custid": "8",
                                    "contactname": "Ilyina, Julia",
                                    "productid": "29",
                                    "productname": "Product VJXYN",
                                    "totalsalesamount": "2475.80"
                                },
                                {
                                    "custid": "8",
                                    "contactname": "Ilyina, Julia",
                                    "productid": "17",
                                    "productname": "Product BLCAX",
                                    "totalsalesamount": "1560.00"
                                },
                                {
                                    "custid": "8",
                                    "contactname": "Ilyina, Julia",
                                    "productid": "4",
                                    "productname": "Product KSBRM",
                                    "totalsalesamount": "422.40"
                                },
                                {
                                    "custid": "9",
                                    "contactname": "Raghav, Amritansh",
                                    "productid": "18",
                                    "productname": "Product CKEDC",
                                    "totalsalesamount": "2500.00"
                                },
                                {
                                    "custid": "9",
                                    "contactname": "Raghav, Amritansh",
                                    "productid": "51",
                                    "productname": "Product APITJ",
                                    "totalsalesamount": "1908.00"
                                },
                                {
                                    "custid": "9",
                                    "contactname": "Raghav, Amritansh",
                                    "productid": "6",
                                    "productname": "Product VAIIV",
                                    "totalsalesamount": "1750.00"
                                },
                                {
                                    "custid": "10",
                                    "contactname": "Bassols, Pilar Colome",
                                    "productid": "62",
                                    "productname": "Product WUXYK",
                                    "totalsalesamount": "4781.30"
                                },
                                {
                                    "custid": "10",
                                    "contactname": "Bassols, Pilar Colome",
                                    "productid": "60",
                                    "productname": "Product WHBYK",
                                    "totalsalesamount": "2550.00"
                                },
                                {
                                    "custid": "10",
                                    "contactname": "Bassols, Pilar Colome",
                                    "productid": "17",
                                    "productname": "Product BLCAX",
                                    "totalsalesamount": "1794.00"
                                },
                                {
                                    "custid": "11",
                                    "contactname": "Jaffe, David",
                                    "productid": "43",
                                    "productname": "Product ZZZHR",
                                    "totalsalesamount": "1380.00"
                                },
                                {
                                    "custid": "11",
                                    "contactname": "Jaffe, David",
                                    "productid": "7",
                                    "productname": "Product HMLNI",
                                    "totalsalesamount": "840.00"
                                },
                                {
                                    "custid": "11",
                                    "contactname": "Jaffe, David",
                                    "productid": "56",
                                    "productname": "Product VKCMF",
                                    "totalsalesamount": "608.00"
                                },
                                {
                                    "custid": "12",
                                    "contactname": "Ray, Mike",
                                    "productid": "28",
                                    "productname": "Product OFBNT",
                                    "totalsalesamount": "364.80"
                                },
                                {
                                    "custid": "12",
                                    "contactname": "Ray, Mike",
                                    "productid": "43",
                                    "productname": "Product ZZZHR",
                                    "totalsalesamount": "322.00"
                                },
                                {
                                    "custid": "12",
                                    "contactname": "Ray, Mike",
                                    "productid": "67",
                                    "productname": "Product XLXQF",
                                    "totalsalesamount": "280.00"
                                },
                                {
                                    "custid": "13",
                                    "contactname": "Benito, Almudena",
                                    "productid": "21",
                                    "productname": "Product VJZZH",
                                    "totalsalesamount": "80.00"
                                },
                                {
                                    "custid": "13",
                                    "contactname": "Benito, Almudena",
                                    "productid": "37",
                                    "productname": "Product EVFFA",
                                    "totalsalesamount": "20.80"
                                },
                                {
                                    "custid": "14",
                                    "contactname": "Jelitto, Jacek",
                                    "productid": "56",
                                    "productname": "Product VKCMF",
                                    "totalsalesamount": "2736.00"
                                },
                                {
                                    "custid": "14",
                                    "contactname": "Jelitto, Jacek",
                                    "productid": "63",
                                    "productname": "Product ICKNK",
                                    "totalsalesamount": "1843.80"
                                },
                                {
                                    "custid": "14",
                                    "contactname": "Jelitto, Jacek",
                                    "productid": "51",
                                    "productname": "Product APITJ",
                                    "totalsalesamount": "1590.00"
                                },
                                {
                                    "custid": "15",
                                    "contactname": "Richardson, Shawn",
                                    "productid": "29",
                                    "productname": "Product VJXYN",
                                    "totalsalesamount": "1485.00"
                                },
                                {
                                    "custid": "15",
                                    "contactname": "Richardson, Shawn",
                                    "productid": "56",
                                    "productname": "Product VKCMF",
                                    "totalsalesamount": "912.00"
                                },
                                {
                                    "custid": "15",
                                    "contactname": "Richardson, Shawn",
                                    "productid": "5",
                                    "productname": "Product EPEIM",
                                    "totalsalesamount": "340.00"
                                },
                                {
                                    "custid": "16",
                                    "contactname": "Birkby, Dana",
                                    "productid": "5",
                                    "productname": "Product EPEIM",
                                    "totalsalesamount": "640.50"
                                },
                                {
                                    "custid": "16",
                                    "contactname": "Birkby, Dana",
                                    "productid": "9",
                                    "productname": "Product AOZBW",
                                    "totalsalesamount": "291.00"
                                },
                                {
                                    "custid": "16",
                                    "contactname": "Birkby, Dana",
                                    "productid": "72",
                                    "productname": "Product GEEOO",
                                    "totalsalesamount": "278.00"
                                },
                                {
                                    "custid": "17",
                                    "contactname": "Jones, TiAnna",
                                    "productid": "59",
                                    "productname": "Product UKXRI",
                                    "totalsalesamount": "1650.00"
                                },
                                {
                                    "custid": "17",
                                    "contactname": "Jones, TiAnna",
                                    "productid": "53",
                                    "productname": "Product BKGEA",
                                    "totalsalesamount": "656.00"
                                },
                                {
                                    "custid": "17",
                                    "contactname": "Jones, TiAnna",
                                    "productid": "11",
                                    "productname": "Product QMVUN",
                                    "totalsalesamount": "420.00"
                                },
                                {
                                    "custid": "18",
                                    "contactname": "Rizaldy, Arif",
                                    "productid": "17",
                                    "productname": "Product BLCAX",
                                    "totalsalesamount": "585.00"
                                },
                                {
                                    "custid": "18",
                                    "contactname": "Rizaldy, Arif",
                                    "productid": "10",
                                    "productname": "Product YHXGE",
                                    "totalsalesamount": "310.00"
                                },
                                {
                                    "custid": "18",
                                    "contactname": "Rizaldy, Arif",
                                    "productid": "69",
                                    "productname": "Product COAXA",
                                    "totalsalesamount": "201.60"
                                },
                                {
                                    "custid": "19",
                                    "contactname": "Boseman, Randall",
                                    "productid": "7",
                                    "productname": "Product HMLNI",
                                    "totalsalesamount": "3000.00"
                                },
                                {
                                    "custid": "19",
                                    "contactname": "Boseman, Randall",
                                    "productid": "29",
                                    "productname": "Product VJXYN",
                                    "totalsalesamount": "2079.00"
                                },
                                {
                                    "custid": "19",
                                    "contactname": "Boseman, Randall",
                                    "productid": "60",
                                    "productname": "Product WHBYK",
                                    "totalsalesamount": "1700.00"
                                },
                                {
                                    "custid": "20",
                                    "contactname": "Kane, John",
                                    "productid": "59",
                                    "productname": "Product UKXRI",
                                    "totalsalesamount": "9130.00"
                                },
                                {
                                    "custid": "20",
                                    "contactname": "Kane, John",
                                    "productid": "64",
                                    "productname": "Product HCQDE",
                                    "totalsalesamount": "6384.00"
                                },
                                {
                                    "custid": "20",
                                    "contactname": "Kane, John",
                                    "productid": "51",
                                    "productname": "Product APITJ",
                                    "totalsalesamount": "6360.00"
                                },
                                {
                                    "custid": "21",
                                    "contactname": "Russo, Giuseppe",
                                    "productid": "53",
                                    "productname": "Product BKGEA",
                                    "totalsalesamount": "820.00"
                                },
                                {
                                    "custid": "21",
                                    "contactname": "Russo, Giuseppe",
                                    "productid": "30",
                                    "productname": "Product LYERX",
                                    "totalsalesamount": "776.70"
                                },
                                {
                                    "custid": "21",
                                    "contactname": "Russo, Giuseppe",
                                    "productid": "39",
                                    "productname": "Product LSOFL",
                                    "totalsalesamount": "720.00"
                                },
                                {
                                    "custid": "23",
                                    "contactname": "Khanna, Karan",
                                    "productid": "18",
                                    "productname": "Product CKEDC",
                                    "totalsalesamount": "5000.00"
                                },
                                {
                                    "custid": "23",
                                    "contactname": "Khanna, Karan",
                                    "productid": "62",
                                    "productname": "Product WUXYK",
                                    "totalsalesamount": "1379.00"
                                },
                                {
                                    "custid": "23",
                                    "contactname": "Khanna, Karan",
                                    "productid": "63",
                                    "productname": "Product ICKNK",
                                    "totalsalesamount": "1317.00"
                                },
                                {
                                    "custid": "24",
                                    "contactname": "San Juan, Patricia",
                                    "productid": "29",
                                    "productname": "Product VJXYN",
                                    "totalsalesamount": "6189.50"
                                },
                                {
                                    "custid": "24",
                                    "contactname": "San Juan, Patricia",
                                    "productid": "51",
                                    "productname": "Product APITJ",
                                    "totalsalesamount": "4664.00"
                                },
                                {
                                    "custid": "24",
                                    "contactname": "San Juan, Patricia",
                                    "productid": "56",
                                    "productname": "Product VKCMF",
                                    "totalsalesamount": "2280.00"
                                },
                                {
                                    "custid": "25",
                                    "contactname": "Carlson, Jason",
                                    "productid": "59",
                                    "productname": "Product UKXRI",
                                    "totalsalesamount": "4400.00"
                                },
                                {
                                    "custid": "25",
                                    "contactname": "Carlson, Jason",
                                    "productid": "71",
                                    "productname": "Product MYMOI",
                                    "totalsalesamount": "2322.00"
                                },
                                {
                                    "custid": "25",
                                    "contactname": "Carlson, Jason",
                                    "productid": "60",
                                    "productname": "Product WHBYK",
                                    "totalsalesamount": "1904.00"
                                },
                                {
                                    "custid": "26",
                                    "contactname": "Koch, Paul",
                                    "productid": "29",
                                    "productname": "Product VJXYN",
                                    "totalsalesamount": "1733.06"
                                },
                                {
                                    "custid": "26",
                                    "contactname": "Koch, Paul",
                                    "productid": "62",
                                    "productname": "Product WUXYK",
                                    "totalsalesamount": "493.00"
                                },
                                {
                                    "custid": "26",
                                    "contactname": "Koch, Paul",
                                    "productid": "76",
                                    "productname": "Product JYGFE",
                                    "totalsalesamount": "360.00"
                                },
                                {
                                    "custid": "27",
                                    "contactname": "Schmöllerl, Martin",
                                    "productid": "51",
                                    "productname": "Product APITJ",
                                    "totalsalesamount": "530.00"
                                },
                                {
                                    "custid": "27",
                                    "contactname": "Schmöllerl, Martin",
                                    "productid": "18",
                                    "productname": "Product CKEDC",
                                    "totalsalesamount": "500.00"
                                },
                                {
                                    "custid": "27",
                                    "contactname": "Schmöllerl, Martin",
                                    "productid": "60",
                                    "productname": "Product WHBYK",
                                    "totalsalesamount": "136.00"
                                },
                                {
                                    "custid": "28",
                                    "contactname": "Cavaglieri, Giorgio",
                                    "productid": "56",
                                    "productname": "Product VKCMF",
                                    "totalsalesamount": "1368.00"
                                },
                                {
                                    "custid": "28",
                                    "contactname": "Cavaglieri, Giorgio",
                                    "productid": "44",
                                    "productname": "Product VJIEO",
                                    "totalsalesamount": "1010.50"
                                },
                                {
                                    "custid": "28",
                                    "contactname": "Cavaglieri, Giorgio",
                                    "productid": "65",
                                    "productname": "Product XYWBZ",
                                    "totalsalesamount": "987.75"
                                },
                                {
                                    "custid": "29",
                                    "contactname": "Kolesnikova, Katerina",
                                    "productid": "64",
                                    "productname": "Product HCQDE",
                                    "totalsalesamount": "186.20"
                                },
                                {
                                    "custid": "29",
                                    "contactname": "Kolesnikova, Katerina",
                                    "productid": "10",
                                    "productname": "Product YHXGE",
                                    "totalsalesamount": "155.00"
                                },
                                {
                                    "custid": "29",
                                    "contactname": "Kolesnikova, Katerina",
                                    "productid": "56",
                                    "productname": "Product VKCMF",
                                    "totalsalesamount": "152.00"
                                },
                                {
                                    "custid": "30",
                                    "contactname": "Shabalin, Rostislav",
                                    "productid": "29",
                                    "productname": "Product VJXYN",
                                    "totalsalesamount": "2475.80"
                                },
                                {
                                    "custid": "30",
                                    "contactname": "Shabalin, Rostislav",
                                    "productid": "51",
                                    "productname": "Product APITJ",
                                    "totalsalesamount": "2120.00"
                                },
                                {
                                    "custid": "30",
                                    "contactname": "Shabalin, Rostislav",
                                    "productid": "62",
                                    "productname": "Product WUXYK",
                                    "totalsalesamount": "986.00"
                                },
                                {
                                    "custid": "31",
                                    "contactname": "Cheng, Yao-Qiang",
                                    "productid": "8",
                                    "productname": "Product WVJFP",
                                    "totalsalesamount": "1600.00"
                                },
                                {
                                    "custid": "31",
                                    "contactname": "Cheng, Yao-Qiang",
                                    "productid": "51",
                                    "productname": "Product APITJ",
                                    "totalsalesamount": "1484.00"
                                },
                                {
                                    "custid": "31",
                                    "contactname": "Cheng, Yao-Qiang",
                                    "productid": "59",
                                    "productname": "Product UKXRI",
                                    "totalsalesamount": "880.00"
                                },
                                {
                                    "custid": "32",
                                    "contactname": "Krishnan, Venky",
                                    "productid": "38",
                                    "productname": "Product QDOMO",
                                    "totalsalesamount": "11857.50"
                                },
                                {
                                    "custid": "32",
                                    "contactname": "Krishnan, Venky",
                                    "productid": "59",
                                    "productname": "Product UKXRI",
                                    "totalsalesamount": "1650.00"
                                },
                                {
                                    "custid": "32",
                                    "contactname": "Krishnan, Venky",
                                    "productid": "62",
                                    "productname": "Product WUXYK",
                                    "totalsalesamount": "986.00"
                                },
                                {
                                    "custid": "33",
                                    "contactname": "Sigurdarson, Hallur ",
                                    "productid": "29",
                                    "productname": "Product VJXYN",
                                    "totalsalesamount": "990.00"
                                },
                                {
                                    "custid": "33",
                                    "contactname": "Sigurdarson, Hallur ",
                                    "productid": "10",
                                    "productname": "Product YHXGE",
                                    "totalsalesamount": "310.00"
                                },
                                {
                                    "custid": "33",
                                    "contactname": "Sigurdarson, Hallur ",
                                    "productid": "72",
                                    "productname": "Product GEEOO",
                                    "totalsalesamount": "111.20"
                                },
                                {
                                    "custid": "34",
                                    "contactname": "Cohen, Shy",
                                    "productid": "38",
                                    "productname": "Product QDOMO",
                                    "totalsalesamount": "18181.50"
                                },
                                {
                                    "custid": "34",
                                    "contactname": "Cohen, Shy",
                                    "productid": "10",
                                    "productname": "Product YHXGE",
                                    "totalsalesamount": "2170.00"
                                },
                                {
                                    "custid": "34",
                                    "contactname": "Cohen, Shy",
                                    "productid": "51",
                                    "productname": "Product APITJ",
                                    "totalsalesamount": "1484.00"
                                },
                                {
                                    "custid": "35",
                                    "contactname": "Langohr, Kris",
                                    "productid": "59",
                                    "productname": "Product UKXRI",
                                    "totalsalesamount": "4565.00"
                                },
                                {
                                    "custid": "35",
                                    "contactname": "Langohr, Kris",
                                    "productid": "51",
                                    "productname": "Product APITJ",
                                    "totalsalesamount": "2120.00"
                                },
                                {
                                    "custid": "35",
                                    "contactname": "Langohr, Kris",
                                    "productid": "53",
                                    "productname": "Product BKGEA",
                                    "totalsalesamount": "1834.00"
                                },
                                {
                                    "custid": "36",
                                    "contactname": "Smith, Denise",
                                    "productid": "20",
                                    "productname": "Product QHFFP",
                                    "totalsalesamount": "1701.00"
                                },
                                {
                                    "custid": "36",
                                    "contactname": "Smith, Denise",
                                    "productid": "73",
                                    "productname": "Product WEUJZ",
                                    "totalsalesamount": "450.00"
                                },
                                {
                                    "custid": "36",
                                    "contactname": "Smith, Denise",
                                    "productid": "62",
                                    "productname": "Product WUXYK",
                                    "totalsalesamount": "394.00"
                                },
                                {
                                    "custid": "37",
                                    "contactname": "Crăciun, Ovidiu V.",
                                    "productid": "29",
                                    "productname": "Product VJXYN",
                                    "totalsalesamount": "18568.50"
                                },
                                {
                                    "custid": "37",
                                    "contactname": "Crăciun, Ovidiu V.",
                                    "productid": "59",
                                    "productname": "Product UKXRI",
                                    "totalsalesamount": "5830.00"
                                },
                                {
                                    "custid": "37",
                                    "contactname": "Crăciun, Ovidiu V.",
                                    "productid": "9",
                                    "productname": "Product AOZBW",
                                    "totalsalesamount": "4850.00"
                                },
                                {
                                    "custid": "38",
                                    "contactname": "Lee, Frank",
                                    "productid": "61",
                                    "productname": "Product XYZPE",
                                    "totalsalesamount": "855.00"
                                },
                                {
                                    "custid": "38",
                                    "contactname": "Lee, Frank",
                                    "productid": "8",
                                    "productname": "Product WVJFP",
                                    "totalsalesamount": "800.00"
                                },
                                {
                                    "custid": "38",
                                    "contactname": "Lee, Frank",
                                    "productid": "60",
                                    "productname": "Product WHBYK",
                                    "totalsalesamount": "714.00"
                                },
                                {
                                    "custid": "39",
                                    "contactname": "Song, Lolan",
                                    "productid": "38",
                                    "productname": "Product QDOMO",
                                    "totalsalesamount": "7905.00"
                                },
                                {
                                    "custid": "39",
                                    "contactname": "Song, Lolan",
                                    "productid": "59",
                                    "productname": "Product UKXRI",
                                    "totalsalesamount": "4279.00"
                                },
                                {
                                    "custid": "39",
                                    "contactname": "Song, Lolan",
                                    "productid": "29",
                                    "productname": "Product VJXYN",
                                    "totalsalesamount": "2970.96"
                                },
                                {
                                    "custid": "40",
                                    "contactname": "De Oliveira, Jose",
                                    "productid": "27",
                                    "productname": "Product SMIOH",
                                    "totalsalesamount": "439.00"
                                },
                                {
                                    "custid": "40",
                                    "contactname": "De Oliveira, Jose",
                                    "productid": "20",
                                    "productname": "Product QHFFP",
                                    "totalsalesamount": "405.00"
                                },
                                {
                                    "custid": "40",
                                    "contactname": "De Oliveira, Jose",
                                    "productid": "76",
                                    "productname": "Product JYGFE",
                                    "totalsalesamount": "360.00"
                                },
                                {
                                    "custid": "41",
                                    "contactname": "Litton, Tim",
                                    "productid": "29",
                                    "productname": "Product VJXYN",
                                    "totalsalesamount": "2475.80"
                                },
                                {
                                    "custid": "41",
                                    "contactname": "Litton, Tim",
                                    "productid": "62",
                                    "productname": "Product WUXYK",
                                    "totalsalesamount": "1576.00"
                                },
                                {
                                    "custid": "41",
                                    "contactname": "Litton, Tim",
                                    "productid": "69",
                                    "productname": "Product COAXA",
                                    "totalsalesamount": "806.40"
                                },
                                {
                                    "custid": "42",
                                    "contactname": "Steiner, Dominik",
                                    "productid": "41",
                                    "productname": "Product TTEEX",
                                    "totalsalesamount": "154.00"
                                },
                                {
                                    "custid": "42",
                                    "contactname": "Steiner, Dominik",
                                    "productid": "70",
                                    "productname": "Product TOONT",
                                    "totalsalesamount": "75.00"
                                },
                                {
                                    "custid": "42",
                                    "contactname": "Steiner, Dominik",
                                    "productid": "23",
                                    "productname": "Product JLUDZ",
                                    "totalsalesamount": "72.00"
                                },
                                {
                                    "custid": "43",
                                    "contactname": "Deshpande, Anu",
                                    "productid": "11",
                                    "productname": "Product QMVUN",
                                    "totalsalesamount": "210.00"
                                },
                                {
                                    "custid": "43",
                                    "contactname": "Deshpande, Anu",
                                    "productid": "40",
                                    "productname": "Product YZIXQ",
                                    "totalsalesamount": "147.00"
                                },
                                {
                                    "custid": "44",
                                    "contactname": "Louverdis, George",
                                    "productid": "64",
                                    "productname": "Product HCQDE",
                                    "totalsalesamount": "2327.50"
                                },
                                {
                                    "custid": "44",
                                    "contactname": "Louverdis, George",
                                    "productid": "29",
                                    "productname": "Product VJXYN",
                                    "totalsalesamount": "2228.22"
                                },
                                {
                                    "custid": "44",
                                    "contactname": "Louverdis, George",
                                    "productid": "60",
                                    "productname": "Product WHBYK",
                                    "totalsalesamount": "1734.00"
                                },
                                {
                                    "custid": "45",
                                    "contactname": "Sunkammurali,  Krishna",
                                    "productid": "56",
                                    "productname": "Product VKCMF",
                                    "totalsalesamount": "798.00"
                                },
                                {
                                    "custid": "45",
                                    "contactname": "Sunkammurali,  Krishna",
                                    "productid": "18",
                                    "productname": "Product CKEDC",
                                    "totalsalesamount": "750.00"
                                },
                                {
                                    "custid": "45",
                                    "contactname": "Sunkammurali,  Krishna",
                                    "productid": "61",
                                    "productname": "Product XYZPE",
                                    "totalsalesamount": "570.00"
                                },
                                {
                                    "custid": "46",
                                    "contactname": "Dressler, Marlies",
                                    "productid": "59",
                                    "productname": "Product UKXRI",
                                    "totalsalesamount": "2200.00"
                                },
                                {
                                    "custid": "46",
                                    "contactname": "Dressler, Marlies",
                                    "productid": "26",
                                    "productname": "Product HLGZA",
                                    "totalsalesamount": "1643.40"
                                },
                                {
                                    "custid": "46",
                                    "contactname": "Dressler, Marlies",
                                    "productid": "32",
                                    "productname": "Product NUNAW",
                                    "totalsalesamount": "1600.00"
                                },
                                {
                                    "custid": "47",
                                    "contactname": "Lupu, Cornel",
                                    "productid": "72",
                                    "productname": "Product GEEOO",
                                    "totalsalesamount": "2088.00"
                                },
                                {
                                    "custid": "47",
                                    "contactname": "Lupu, Cornel",
                                    "productid": "18",
                                    "productname": "Product CKEDC",
                                    "totalsalesamount": "1562.50"
                                },
                                {
                                    "custid": "47",
                                    "contactname": "Lupu, Cornel",
                                    "productid": "49",
                                    "productname": "Product FPYPN",
                                    "totalsalesamount": "1200.00"
                                },
                                {
                                    "custid": "48",
                                    "contactname": "Szymczak, Radosław",
                                    "productid": "51",
                                    "productname": "Product APITJ",
                                    "totalsalesamount": "1060.00"
                                },
                                {
                                    "custid": "48",
                                    "contactname": "Szymczak, Radosław",
                                    "productid": "12",
                                    "productname": "Product OSFNS",
                                    "totalsalesamount": "760.00"
                                },
                                {
                                    "custid": "48",
                                    "contactname": "Szymczak, Radosław",
                                    "productid": "18",
                                    "productname": "Product CKEDC",
                                    "totalsalesamount": "625.00"
                                },
                                {
                                    "custid": "49",
                                    "contactname": "Duerr, Bernard",
                                    "productid": "72",
                                    "productname": "Product GEEOO",
                                    "totalsalesamount": "1044.00"
                                },
                                {
                                    "custid": "49",
                                    "contactname": "Duerr, Bernard",
                                    "productid": "22",
                                    "productname": "Product CPHFY",
                                    "totalsalesamount": "840.00"
                                },
                                {
                                    "custid": "49",
                                    "contactname": "Duerr, Bernard",
                                    "productid": "26",
                                    "productname": "Product HLGZA",
                                    "totalsalesamount": "747.00"
                                },
                                {
                                    "custid": "50",
                                    "contactname": "Mace, Donald",
                                    "productid": "59",
                                    "productname": "Product UKXRI",
                                    "totalsalesamount": "2200.00"
                                },
                                {
                                    "custid": "50",
                                    "contactname": "Mace, Donald",
                                    "productid": "27",
                                    "productname": "Product SMIOH",
                                    "totalsalesamount": "1756.00"
                                },
                                {
                                    "custid": "50",
                                    "contactname": "Mace, Donald",
                                    "productid": "43",
                                    "productname": "Product ZZZHR",
                                    "totalsalesamount": "1380.00"
                                },
                                {
                                    "custid": "51",
                                    "contactname": "Taylor, Maurice",
                                    "productid": "38",
                                    "productname": "Product QDOMO",
                                    "totalsalesamount": "10329.20"
                                },
                                {
                                    "custid": "51",
                                    "contactname": "Taylor, Maurice",
                                    "productid": "56",
                                    "productname": "Product VKCMF",
                                    "totalsalesamount": "3040.00"
                                },
                                {
                                    "custid": "51",
                                    "contactname": "Taylor, Maurice",
                                    "productid": "60",
                                    "productname": "Product WHBYK",
                                    "totalsalesamount": "2380.00"
                                },
                                {
                                    "custid": "52",
                                    "contactname": "Dupont-Roc, Patrice",
                                    "productid": "62",
                                    "productname": "Product WUXYK",
                                    "totalsalesamount": "1458.80"
                                },
                                {
                                    "custid": "52",
                                    "contactname": "Dupont-Roc, Patrice",
                                    "productid": "72",
                                    "productname": "Product GEEOO",
                                    "totalsalesamount": "1044.00"
                                },
                                {
                                    "custid": "52",
                                    "contactname": "Dupont-Roc, Patrice",
                                    "productid": "28",
                                    "productname": "Product OFBNT",
                                    "totalsalesamount": "728.00"
                                },
                                {
                                    "custid": "53",
                                    "contactname": "Mallit, Ken",
                                    "productid": "59",
                                    "productname": "Product UKXRI",
                                    "totalsalesamount": "220.00"
                                },
                                {
                                    "custid": "53",
                                    "contactname": "Mallit, Ken",
                                    "productid": "1",
                                    "productname": "Product HHYDP",
                                    "totalsalesamount": "144.00"
                                },
                                {
                                    "custid": "53",
                                    "contactname": "Mallit, Ken",
                                    "productid": "70",
                                    "productname": "Product TOONT",
                                    "totalsalesamount": "135.00"
                                },
                                {
                                    "custid": "54",
                                    "contactname": "Tiano, Mike",
                                    "productid": "20",
                                    "productname": "Product QHFFP",
                                    "totalsalesamount": "1215.00"
                                },
                                {
                                    "custid": "54",
                                    "contactname": "Tiano, Mike",
                                    "productid": "11",
                                    "productname": "Product QMVUN",
                                    "totalsalesamount": "630.00"
                                },
                                {
                                    "custid": "54",
                                    "contactname": "Tiano, Mike",
                                    "productid": "5",
                                    "productname": "Product EPEIM",
                                    "totalsalesamount": "427.00"
                                },
                                {
                                    "custid": "55",
                                    "contactname": "Egelund-Muller, Anja",
                                    "productid": "29",
                                    "productname": "Product VJXYN",
                                    "totalsalesamount": "2475.00"
                                },
                                {
                                    "custid": "55",
                                    "contactname": "Egelund-Muller, Anja",
                                    "productid": "16",
                                    "productname": "Product PAFRH",
                                    "totalsalesamount": "2094.00"
                                },
                                {
                                    "custid": "55",
                                    "contactname": "Egelund-Muller, Anja",
                                    "productid": "27",
                                    "productname": "Product SMIOH",
                                    "totalsalesamount": "1755.00"
                                },
                                {
                                    "custid": "56",
                                    "contactname": "Marinova, Nadejda",
                                    "productid": "7",
                                    "productname": "Product HMLNI",
                                    "totalsalesamount": "1650.00"
                                },
                                {
                                    "custid": "56",
                                    "contactname": "Marinova, Nadejda",
                                    "productid": "62",
                                    "productname": "Product WUXYK",
                                    "totalsalesamount": "1577.00"
                                },
                                {
                                    "custid": "56",
                                    "contactname": "Marinova, Nadejda",
                                    "productid": "60",
                                    "productname": "Product WHBYK",
                                    "totalsalesamount": "1020.00"
                                },
                                {
                                    "custid": "58",
                                    "contactname": "Fakhouri, Fadi",
                                    "productid": "51",
                                    "productname": "Product APITJ",
                                    "totalsalesamount": "1060.00"
                                },
                                {
                                    "custid": "58",
                                    "contactname": "Fakhouri, Fadi",
                                    "productid": "28",
                                    "productname": "Product OFBNT",
                                    "totalsalesamount": "655.20"
                                },
                                {
                                    "custid": "58",
                                    "contactname": "Fakhouri, Fadi",
                                    "productid": "67",
                                    "productname": "Product XLXQF",
                                    "totalsalesamount": "420.00"
                                },
                                {
                                    "custid": "59",
                                    "contactname": "Meston, Tosh",
                                    "productid": "38",
                                    "productname": "Product QDOMO",
                                    "totalsalesamount": "10540.00"
                                },
                                {
                                    "custid": "59",
                                    "contactname": "Meston, Tosh",
                                    "productid": "17",
                                    "productname": "Product BLCAX",
                                    "totalsalesamount": "2730.00"
                                },
                                {
                                    "custid": "59",
                                    "contactname": "Meston, Tosh",
                                    "productid": "69",
                                    "productname": "Product COAXA",
                                    "totalsalesamount": "2520.00"
                                },
                                {
                                    "custid": "60",
                                    "contactname": "Uppal, Sunil",
                                    "productid": "29",
                                    "productname": "Product VJXYN",
                                    "totalsalesamount": "1237.90"
                                },
                                {
                                    "custid": "60",
                                    "contactname": "Uppal, Sunil",
                                    "productid": "8",
                                    "productname": "Product WVJFP",
                                    "totalsalesamount": "1200.00"
                                },
                                {
                                    "custid": "60",
                                    "contactname": "Uppal, Sunil",
                                    "productid": "56",
                                    "productname": "Product VKCMF",
                                    "totalsalesamount": "851.20"
                                },
                                {
                                    "custid": "61",
                                    "contactname": "Florczyk, Krzysztof",
                                    "productid": "35",
                                    "productname": "Product NEVTJ",
                                    "totalsalesamount": "1026.00"
                                },
                                {
                                    "custid": "61",
                                    "contactname": "Florczyk, Krzysztof",
                                    "productid": "6",
                                    "productname": "Product VAIIV",
                                    "totalsalesamount": "1000.00"
                                },
                                {
                                    "custid": "61",
                                    "contactname": "Florczyk, Krzysztof",
                                    "productid": "26",
                                    "productname": "Product HLGZA",
                                    "totalsalesamount": "934.38"
                                },
                                {
                                    "custid": "62",
                                    "contactname": "Misiec, Anna",
                                    "productid": "38",
                                    "productname": "Product QDOMO",
                                    "totalsalesamount": "8432.00"
                                },
                                {
                                    "custid": "62",
                                    "contactname": "Misiec, Anna",
                                    "productid": "60",
                                    "productname": "Product WHBYK",
                                    "totalsalesamount": "2414.00"
                                },
                                {
                                    "custid": "62",
                                    "contactname": "Misiec, Anna",
                                    "productid": "56",
                                    "productname": "Product VKCMF",
                                    "totalsalesamount": "2280.00"
                                },
                                {
                                    "custid": "63",
                                    "contactname": "Veronesi, Giorgio",
                                    "productid": "38",
                                    "productname": "Product QDOMO",
                                    "totalsalesamount": "23715.00"
                                },
                                {
                                    "custid": "63",
                                    "contactname": "Veronesi, Giorgio",
                                    "productid": "60",
                                    "productname": "Product WHBYK",
                                    "totalsalesamount": "7888.00"
                                },
                                {
                                    "custid": "63",
                                    "contactname": "Veronesi, Giorgio",
                                    "productid": "27",
                                    "productname": "Product SMIOH",
                                    "totalsalesamount": "5268.00"
                                },
                                {
                                    "custid": "64",
                                    "contactname": "Gaffney, Lawrie",
                                    "productid": "38",
                                    "productname": "Product QDOMO",
                                    "totalsalesamount": "527.00"
                                },
                                {
                                    "custid": "64",
                                    "contactname": "Gaffney, Lawrie",
                                    "productid": "20",
                                    "productname": "Product QHFFP",
                                    "totalsalesamount": "405.00"
                                },
                                {
                                    "custid": "64",
                                    "contactname": "Gaffney, Lawrie",
                                    "productid": "57",
                                    "productname": "Product OVLQI",
                                    "totalsalesamount": "390.00"
                                },
                                {
                                    "custid": "65",
                                    "contactname": "Moore, Michael",
                                    "productid": "38",
                                    "productname": "Product QDOMO",
                                    "totalsalesamount": "16864.00"
                                },
                                {
                                    "custid": "65",
                                    "contactname": "Moore, Michael",
                                    "productid": "62",
                                    "productname": "Product WUXYK",
                                    "totalsalesamount": "8180.00"
                                },
                                {
                                    "custid": "65",
                                    "contactname": "Moore, Michael",
                                    "productid": "56",
                                    "productname": "Product VKCMF",
                                    "totalsalesamount": "3936.80"
                                },
                                {
                                    "custid": "66",
                                    "contactname": "Voss, Florian",
                                    "productid": "72",
                                    "productname": "Product GEEOO",
                                    "totalsalesamount": "1392.00"
                                },
                                {
                                    "custid": "66",
                                    "contactname": "Voss, Florian",
                                    "productid": "7",
                                    "productname": "Product HMLNI",
                                    "totalsalesamount": "1200.00"
                                },
                                {
                                    "custid": "66",
                                    "contactname": "Voss, Florian",
                                    "productid": "17",
                                    "productname": "Product BLCAX",
                                    "totalsalesamount": "780.00"
                                },
                                {
                                    "custid": "67",
                                    "contactname": "Garden, Euan",
                                    "productid": "59",
                                    "productname": "Product UKXRI",
                                    "totalsalesamount": "2310.00"
                                },
                                {
                                    "custid": "67",
                                    "contactname": "Garden, Euan",
                                    "productid": "60",
                                    "productname": "Product WHBYK",
                                    "totalsalesamount": "2278.00"
                                },
                                {
                                    "custid": "67",
                                    "contactname": "Garden, Euan",
                                    "productid": "18",
                                    "productname": "Product CKEDC",
                                    "totalsalesamount": "1562.50"
                                },
                                {
                                    "custid": "68",
                                    "contactname": "Myrcha, Jacek",
                                    "productid": "29",
                                    "productname": "Product VJXYN",
                                    "totalsalesamount": "4456.44"
                                },
                                {
                                    "custid": "68",
                                    "contactname": "Myrcha, Jacek",
                                    "productid": "53",
                                    "productname": "Product BKGEA",
                                    "totalsalesamount": "2296.00"
                                },
                                {
                                    "custid": "68",
                                    "contactname": "Myrcha, Jacek",
                                    "productid": "69",
                                    "productname": "Product COAXA",
                                    "totalsalesamount": "1872.00"
                                },
                                {
                                    "custid": "69",
                                    "contactname": "Watters, Jason M.",
                                    "productid": "30",
                                    "productname": "Product LYERX",
                                    "totalsalesamount": "357.09"
                                },
                                {
                                    "custid": "69",
                                    "contactname": "Watters, Jason M.",
                                    "productid": "60",
                                    "productname": "Product WHBYK",
                                    "totalsalesamount": "340.00"
                                },
                                {
                                    "custid": "69",
                                    "contactname": "Watters, Jason M.",
                                    "productid": "53",
                                    "productname": "Product BKGEA",
                                    "totalsalesamount": "262.00"
                                },
                                {
                                    "custid": "70",
                                    "contactname": "Ginters, Kaspars",
                                    "productid": "38",
                                    "productname": "Product QDOMO",
                                    "totalsalesamount": "2108.00"
                                },
                                {
                                    "custid": "70",
                                    "contactname": "Ginters, Kaspars",
                                    "productid": "59",
                                    "productname": "Product UKXRI",
                                    "totalsalesamount": "528.00"
                                },
                                {
                                    "custid": "70",
                                    "contactname": "Ginters, Kaspars",
                                    "productid": "18",
                                    "productname": "Product CKEDC",
                                    "totalsalesamount": "500.00"
                                },
                                {
                                    "custid": "71",
                                    "contactname": "Navarro, Tomás",
                                    "productid": "29",
                                    "productname": "Product VJXYN",
                                    "totalsalesamount": "14259.84"
                                },
                                {
                                    "custid": "71",
                                    "contactname": "Navarro, Tomás",
                                    "productid": "17",
                                    "productname": "Product BLCAX",
                                    "totalsalesamount": "7956.00"
                                },
                                {
                                    "custid": "71",
                                    "contactname": "Navarro, Tomás",
                                    "productid": "59",
                                    "productname": "Product UKXRI",
                                    "totalsalesamount": "7645.00"
                                },
                                {
                                    "custid": "72",
                                    "contactname": "Welcker, Brian",
                                    "productid": "60",
                                    "productname": "Product WHBYK",
                                    "totalsalesamount": "2176.00"
                                },
                                {
                                    "custid": "72",
                                    "contactname": "Welcker, Brian",
                                    "productid": "28",
                                    "productname": "Product OFBNT",
                                    "totalsalesamount": "1822.40"
                                },
                                {
                                    "custid": "72",
                                    "contactname": "Welcker, Brian",
                                    "productid": "51",
                                    "productname": "Product APITJ",
                                    "totalsalesamount": "1293.20"
                                },
                                {
                                    "custid": "73",
                                    "contactname": "Gonzalez, Nuria",
                                    "productid": "38",
                                    "productname": "Product QDOMO",
                                    "totalsalesamount": "10540.00"
                                },
                                {
                                    "custid": "73",
                                    "contactname": "Gonzalez, Nuria",
                                    "productid": "51",
                                    "productname": "Product APITJ",
                                    "totalsalesamount": "1590.00"
                                },
                                {
                                    "custid": "73",
                                    "contactname": "Gonzalez, Nuria",
                                    "productid": "55",
                                    "productname": "Product YYWRT",
                                    "totalsalesamount": "1440.00"
                                },
                                {
                                    "custid": "74",
                                    "contactname": "O’Brien, Dave",
                                    "productid": "38",
                                    "productname": "Product QDOMO",
                                    "totalsalesamount": "1317.50"
                                },
                                {
                                    "custid": "74",
                                    "contactname": "O’Brien, Dave",
                                    "productid": "18",
                                    "productname": "Product CKEDC",
                                    "totalsalesamount": "375.00"
                                },
                                {
                                    "custid": "74",
                                    "contactname": "O’Brien, Dave",
                                    "productid": "69",
                                    "productname": "Product COAXA",
                                    "totalsalesamount": "360.00"
                                },
                                {
                                    "custid": "75",
                                    "contactname": "Wojciechowska, Agnieszka",
                                    "productid": "38",
                                    "productname": "Product QDOMO",
                                    "totalsalesamount": "4216.00"
                                },
                                {
                                    "custid": "75",
                                    "contactname": "Wojciechowska, Agnieszka",
                                    "productid": "29",
                                    "productname": "Product VJXYN",
                                    "totalsalesamount": "1980.00"
                                },
                                {
                                    "custid": "75",
                                    "contactname": "Wojciechowska, Agnieszka",
                                    "productid": "18",
                                    "productname": "Product CKEDC",
                                    "totalsalesamount": "1312.50"
                                },
                                {
                                    "custid": "76",
                                    "contactname": "Gulbis, Katrin",
                                    "productid": "59",
                                    "productname": "Product UKXRI",
                                    "totalsalesamount": "2750.00"
                                },
                                {
                                    "custid": "76",
                                    "contactname": "Gulbis, Katrin",
                                    "productid": "20",
                                    "productname": "Product QHFFP",
                                    "totalsalesamount": "2592.00"
                                },
                                {
                                    "custid": "76",
                                    "contactname": "Gulbis, Katrin",
                                    "productid": "28",
                                    "productname": "Product OFBNT",
                                    "totalsalesamount": "2111.20"
                                },
                                {
                                    "custid": "77",
                                    "contactname": "Osorio, Cristian",
                                    "productid": "38",
                                    "productname": "Product QDOMO",
                                    "totalsalesamount": "2635.00"
                                },
                                {
                                    "custid": "77",
                                    "contactname": "Osorio, Cristian",
                                    "productid": "62",
                                    "productname": "Product WUXYK",
                                    "totalsalesamount": "197.00"
                                },
                                {
                                    "custid": "77",
                                    "contactname": "Osorio, Cristian",
                                    "productid": "34",
                                    "productname": "Product SWNJY",
                                    "totalsalesamount": "140.00"
                                },
                                {
                                    "custid": "78",
                                    "contactname": "Young, Robin",
                                    "productid": "29",
                                    "productname": "Product VJXYN",
                                    "totalsalesamount": "742.74"
                                },
                                {
                                    "custid": "78",
                                    "contactname": "Young, Robin",
                                    "productid": "28",
                                    "productname": "Product OFBNT",
                                    "totalsalesamount": "456.00"
                                },
                                {
                                    "custid": "78",
                                    "contactname": "Young, Robin",
                                    "productid": "44",
                                    "productname": "Product VJIEO",
                                    "totalsalesamount": "194.50"
                                },
                                {
                                    "custid": "79",
                                    "contactname": "Wickham, Jim",
                                    "productid": "51",
                                    "productname": "Product APITJ",
                                    "totalsalesamount": "1696.00"
                                },
                                {
                                    "custid": "79",
                                    "contactname": "Wickham, Jim",
                                    "productid": "56",
                                    "productname": "Product VKCMF",
                                    "totalsalesamount": "1064.00"
                                },
                                {
                                    "custid": "79",
                                    "contactname": "Wickham, Jim",
                                    "productid": "49",
                                    "productname": "Product FPYPN",
                                    "totalsalesamount": "800.00"
                                },
                                {
                                    "custid": "80",
                                    "contactname": "Geschwandtner, Jens",
                                    "productid": "38",
                                    "productname": "Product QDOMO",
                                    "totalsalesamount": "3952.50"
                                },
                                {
                                    "custid": "80",
                                    "contactname": "Geschwandtner, Jens",
                                    "productid": "44",
                                    "productname": "Product VJIEO",
                                    "totalsalesamount": "991.95"
                                },
                                {
                                    "custid": "80",
                                    "contactname": "Geschwandtner, Jens",
                                    "productid": "17",
                                    "productname": "Product BLCAX",
                                    "totalsalesamount": "639.60"
                                },
                                {
                                    "custid": "81",
                                    "contactname": "Nagel, Jean-Philippe",
                                    "productid": "20",
                                    "productname": "Product QHFFP",
                                    "totalsalesamount": "1296.00"
                                },
                                {
                                    "custid": "81",
                                    "contactname": "Nagel, Jean-Philippe",
                                    "productid": "60",
                                    "productname": "Product WHBYK",
                                    "totalsalesamount": "1020.00"
                                },
                                {
                                    "custid": "81",
                                    "contactname": "Nagel, Jean-Philippe",
                                    "productid": "29",
                                    "productname": "Product VJXYN",
                                    "totalsalesamount": "990.32"
                                },
                                {
                                    "custid": "82",
                                    "contactname": "Veninga, Tjeerd",
                                    "productid": "62",
                                    "productname": "Product WUXYK",
                                    "totalsalesamount": "640.90"
                                },
                                {
                                    "custid": "82",
                                    "contactname": "Veninga, Tjeerd",
                                    "productid": "77",
                                    "productname": "Product LUNZZ",
                                    "totalsalesamount": "234.00"
                                },
                                {
                                    "custid": "82",
                                    "contactname": "Veninga, Tjeerd",
                                    "productid": "64",
                                    "productname": "Product HCQDE",
                                    "totalsalesamount": "199.50"
                                },
                                {
                                    "custid": "83",
                                    "contactname": "Fonteneau, Karl",
                                    "productid": "28",
                                    "productname": "Product OFBNT",
                                    "totalsalesamount": "2736.00"
                                },
                                {
                                    "custid": "83",
                                    "contactname": "Fonteneau, Karl",
                                    "productid": "29",
                                    "productname": "Product VJXYN",
                                    "totalsalesamount": "1782.00"
                                },
                                {
                                    "custid": "83",
                                    "contactname": "Fonteneau, Karl",
                                    "productid": "63",
                                    "productname": "Product ICKNK",
                                    "totalsalesamount": "1756.00"
                                },
                                {
                                    "custid": "84",
                                    "contactname": "Tuntisangaroon, Sittichai",
                                    "productid": "62",
                                    "productname": "Product WUXYK",
                                    "totalsalesamount": "1972.00"
                                },
                                {
                                    "custid": "84",
                                    "contactname": "Tuntisangaroon, Sittichai",
                                    "productid": "72",
                                    "productname": "Product GEEOO",
                                    "totalsalesamount": "1112.00"
                                },
                                {
                                    "custid": "84",
                                    "contactname": "Tuntisangaroon, Sittichai",
                                    "productid": "10",
                                    "productname": "Product YHXGE",
                                    "totalsalesamount": "992.00"
                                },
                                {
                                    "custid": "85",
                                    "contactname": "McLin, Nkenge",
                                    "productid": "72",
                                    "productname": "Product GEEOO",
                                    "totalsalesamount": "368.60"
                                },
                                {
                                    "custid": "85",
                                    "contactname": "McLin, Nkenge",
                                    "productid": "71",
                                    "productname": "Product MYMOI",
                                    "totalsalesamount": "344.00"
                                },
                                {
                                    "custid": "85",
                                    "contactname": "McLin, Nkenge",
                                    "productid": "11",
                                    "productname": "Product QMVUN",
                                    "totalsalesamount": "168.00"
                                },
                                {
                                    "custid": "86",
                                    "contactname": "Syamala, Manoj",
                                    "productid": "32",
                                    "productname": "Product NUNAW",
                                    "totalsalesamount": "2080.00"
                                },
                                {
                                    "custid": "86",
                                    "contactname": "Syamala, Manoj",
                                    "productid": "69",
                                    "productname": "Product COAXA",
                                    "totalsalesamount": "1296.00"
                                },
                                {
                                    "custid": "86",
                                    "contactname": "Syamala, Manoj",
                                    "productid": "43",
                                    "productname": "Product ZZZHR",
                                    "totalsalesamount": "883.20"
                                },
                                {
                                    "custid": "87",
                                    "contactname": "Ludwig, Michael",
                                    "productid": "53",
                                    "productname": "Product BKGEA",
                                    "totalsalesamount": "1965.00"
                                },
                                {
                                    "custid": "87",
                                    "contactname": "Ludwig, Michael",
                                    "productid": "56",
                                    "productname": "Product VKCMF",
                                    "totalsalesamount": "1900.00"
                                },
                                {
                                    "custid": "87",
                                    "contactname": "Ludwig, Michael",
                                    "productid": "71",
                                    "productname": "Product MYMOI",
                                    "totalsalesamount": "1720.00"
                                },
                                {
                                    "custid": "88",
                                    "contactname": "Li, Yan",
                                    "productid": "9",
                                    "productname": "Product AOZBW",
                                    "totalsalesamount": "1552.00"
                                },
                                {
                                    "custid": "88",
                                    "contactname": "Li, Yan",
                                    "productid": "43",
                                    "productname": "Product ZZZHR",
                                    "totalsalesamount": "920.00"
                                },
                                {
                                    "custid": "88",
                                    "contactname": "Li, Yan",
                                    "productid": "59",
                                    "productname": "Product UKXRI",
                                    "totalsalesamount": "825.00"
                                },
                                {
                                    "custid": "89",
                                    "contactname": "Smith Jr., Ronaldo",
                                    "productid": "38",
                                    "productname": "Product QDOMO",
                                    "totalsalesamount": "6587.50"
                                },
                                {
                                    "custid": "89",
                                    "contactname": "Smith Jr., Ronaldo",
                                    "productid": "17",
                                    "productname": "Product BLCAX",
                                    "totalsalesamount": "2418.00"
                                },
                                {
                                    "custid": "89",
                                    "contactname": "Smith Jr., Ronaldo",
                                    "productid": "8",
                                    "productname": "Product WVJFP",
                                    "totalsalesamount": "2240.00"
                                },
                                {
                                    "custid": "90",
                                    "contactname": "Larsson, Katarina",
                                    "productid": "59",
                                    "productname": "Product UKXRI",
                                    "totalsalesamount": "550.00"
                                },
                                {
                                    "custid": "90",
                                    "contactname": "Larsson, Katarina",
                                    "productid": "8",
                                    "productname": "Product WVJFP",
                                    "totalsalesamount": "400.00"
                                },
                                {
                                    "custid": "90",
                                    "contactname": "Larsson, Katarina",
                                    "productid": "43",
                                    "productname": "Product ZZZHR",
                                    "totalsalesamount": "276.00"
                                },
                                {
                                    "custid": "91",
                                    "contactname": "Conn, Steve",
                                    "productid": "61",
                                    "productname": "Product XYZPE",
                                    "totalsalesamount": "627.00"
                                },
                                {
                                    "custid": "91",
                                    "contactname": "Conn, Steve",
                                    "productid": "62",
                                    "productname": "Product WUXYK",
                                    "totalsalesamount": "591.60"
                                },
                                {
                                    "custid": "91",
                                    "contactname": "Conn, Steve",
                                    "productid": "60",
                                    "productname": "Product WHBYK",
                                    "totalsalesamount": "510.00"
                                }
                            ]
                        },
                        "text/html": [
                            "<table>",
                            "<tr><th>custid</th><th>contactname</th><th>productid</th><th>productname</th><th>totalsalesamount</th></tr>",
                            "<tr><td>1</td><td>Allen, Michael</td><td>63</td><td>Product ICKNK</td><td>878.00</td></tr>",
                            "<tr><td>1</td><td>Allen, Michael</td><td>59</td><td>Product UKXRI</td><td>825.00</td></tr>",
                            "<tr><td>1</td><td>Allen, Michael</td><td>28</td><td>Product OFBNT</td><td>775.20</td></tr>",
                            "<tr><td>2</td><td>Hassall, Mark</td><td>72</td><td>Product GEEOO</td><td>348.00</td></tr>",
                            "<tr><td>2</td><td>Hassall, Mark</td><td>60</td><td>Product WHBYK</td><td>340.00</td></tr>",
                            "<tr><td>2</td><td>Hassall, Mark</td><td>32</td><td>Product NUNAW</td><td>320.00</td></tr>",
                            "<tr><td>3</td><td>Peoples, John</td><td>11</td><td>Product QMVUN</td><td>1453.20</td></tr>",
                            "<tr><td>3</td><td>Peoples, John</td><td>26</td><td>Product HLGZA</td><td>936.90</td></tr>",
                            "<tr><td>3</td><td>Peoples, John</td><td>59</td><td>Product UKXRI</td><td>825.00</td></tr>",
                            "<tr><td>4</td><td>Arndt, Torsten</td><td>20</td><td>Product QHFFP</td><td>4050.00</td></tr>",
                            "<tr><td>4</td><td>Arndt, Torsten</td><td>31</td><td>Product XWOXC</td><td>1437.50</td></tr>",
                            "<tr><td>4</td><td>Arndt, Torsten</td><td>57</td><td>Product OVLQI</td><td>1170.00</td></tr>",
                            "<tr><td>5</td><td>Higginbotham, Tom</td><td>38</td><td>Product QDOMO</td><td>3952.50</td></tr>",
                            "<tr><td>5</td><td>Higginbotham, Tom</td><td>43</td><td>Product ZZZHR</td><td>2760.00</td></tr>",
                            "<tr><td>5</td><td>Higginbotham, Tom</td><td>28</td><td>Product OFBNT</td><td>2280.00</td></tr>",
                            "<tr><td>6</td><td>Poland, Carole</td><td>60</td><td>Product WHBYK</td><td>714.00</td></tr>",
                            "<tr><td>6</td><td>Poland, Carole</td><td>18</td><td>Product CKEDC</td><td>625.00</td></tr>",
                            "<tr><td>6</td><td>Poland, Carole</td><td>51</td><td>Product APITJ</td><td>424.00</td></tr>",
                            "<tr><td>7</td><td>Bansal, Dushyant</td><td>29</td><td>Product VJXYN</td><td>3465.00</td></tr>",
                            "<tr><td>7</td><td>Bansal, Dushyant</td><td>38</td><td>Product QDOMO</td><td>2108.00</td></tr>",
                            "<tr><td>7</td><td>Bansal, Dushyant</td><td>62</td><td>Product WUXYK</td><td>1379.00</td></tr>",
                            "<tr><td>8</td><td>Ilyina, Julia</td><td>29</td><td>Product VJXYN</td><td>2475.80</td></tr>",
                            "<tr><td>8</td><td>Ilyina, Julia</td><td>17</td><td>Product BLCAX</td><td>1560.00</td></tr>",
                            "<tr><td>8</td><td>Ilyina, Julia</td><td>4</td><td>Product KSBRM</td><td>422.40</td></tr>",
                            "<tr><td>9</td><td>Raghav, Amritansh</td><td>18</td><td>Product CKEDC</td><td>2500.00</td></tr>",
                            "<tr><td>9</td><td>Raghav, Amritansh</td><td>51</td><td>Product APITJ</td><td>1908.00</td></tr>",
                            "<tr><td>9</td><td>Raghav, Amritansh</td><td>6</td><td>Product VAIIV</td><td>1750.00</td></tr>",
                            "<tr><td>10</td><td>Bassols, Pilar Colome</td><td>62</td><td>Product WUXYK</td><td>4781.30</td></tr>",
                            "<tr><td>10</td><td>Bassols, Pilar Colome</td><td>60</td><td>Product WHBYK</td><td>2550.00</td></tr>",
                            "<tr><td>10</td><td>Bassols, Pilar Colome</td><td>17</td><td>Product BLCAX</td><td>1794.00</td></tr>",
                            "<tr><td>11</td><td>Jaffe, David</td><td>43</td><td>Product ZZZHR</td><td>1380.00</td></tr>",
                            "<tr><td>11</td><td>Jaffe, David</td><td>7</td><td>Product HMLNI</td><td>840.00</td></tr>",
                            "<tr><td>11</td><td>Jaffe, David</td><td>56</td><td>Product VKCMF</td><td>608.00</td></tr>",
                            "<tr><td>12</td><td>Ray, Mike</td><td>28</td><td>Product OFBNT</td><td>364.80</td></tr>",
                            "<tr><td>12</td><td>Ray, Mike</td><td>43</td><td>Product ZZZHR</td><td>322.00</td></tr>",
                            "<tr><td>12</td><td>Ray, Mike</td><td>67</td><td>Product XLXQF</td><td>280.00</td></tr>",
                            "<tr><td>13</td><td>Benito, Almudena</td><td>21</td><td>Product VJZZH</td><td>80.00</td></tr>",
                            "<tr><td>13</td><td>Benito, Almudena</td><td>37</td><td>Product EVFFA</td><td>20.80</td></tr>",
                            "<tr><td>14</td><td>Jelitto, Jacek</td><td>56</td><td>Product VKCMF</td><td>2736.00</td></tr>",
                            "<tr><td>14</td><td>Jelitto, Jacek</td><td>63</td><td>Product ICKNK</td><td>1843.80</td></tr>",
                            "<tr><td>14</td><td>Jelitto, Jacek</td><td>51</td><td>Product APITJ</td><td>1590.00</td></tr>",
                            "<tr><td>15</td><td>Richardson, Shawn</td><td>29</td><td>Product VJXYN</td><td>1485.00</td></tr>",
                            "<tr><td>15</td><td>Richardson, Shawn</td><td>56</td><td>Product VKCMF</td><td>912.00</td></tr>",
                            "<tr><td>15</td><td>Richardson, Shawn</td><td>5</td><td>Product EPEIM</td><td>340.00</td></tr>",
                            "<tr><td>16</td><td>Birkby, Dana</td><td>5</td><td>Product EPEIM</td><td>640.50</td></tr>",
                            "<tr><td>16</td><td>Birkby, Dana</td><td>9</td><td>Product AOZBW</td><td>291.00</td></tr>",
                            "<tr><td>16</td><td>Birkby, Dana</td><td>72</td><td>Product GEEOO</td><td>278.00</td></tr>",
                            "<tr><td>17</td><td>Jones, TiAnna</td><td>59</td><td>Product UKXRI</td><td>1650.00</td></tr>",
                            "<tr><td>17</td><td>Jones, TiAnna</td><td>53</td><td>Product BKGEA</td><td>656.00</td></tr>",
                            "<tr><td>17</td><td>Jones, TiAnna</td><td>11</td><td>Product QMVUN</td><td>420.00</td></tr>",
                            "<tr><td>18</td><td>Rizaldy, Arif</td><td>17</td><td>Product BLCAX</td><td>585.00</td></tr>",
                            "<tr><td>18</td><td>Rizaldy, Arif</td><td>10</td><td>Product YHXGE</td><td>310.00</td></tr>",
                            "<tr><td>18</td><td>Rizaldy, Arif</td><td>69</td><td>Product COAXA</td><td>201.60</td></tr>",
                            "<tr><td>19</td><td>Boseman, Randall</td><td>7</td><td>Product HMLNI</td><td>3000.00</td></tr>",
                            "<tr><td>19</td><td>Boseman, Randall</td><td>29</td><td>Product VJXYN</td><td>2079.00</td></tr>",
                            "<tr><td>19</td><td>Boseman, Randall</td><td>60</td><td>Product WHBYK</td><td>1700.00</td></tr>",
                            "<tr><td>20</td><td>Kane, John</td><td>59</td><td>Product UKXRI</td><td>9130.00</td></tr>",
                            "<tr><td>20</td><td>Kane, John</td><td>64</td><td>Product HCQDE</td><td>6384.00</td></tr>",
                            "<tr><td>20</td><td>Kane, John</td><td>51</td><td>Product APITJ</td><td>6360.00</td></tr>",
                            "<tr><td>21</td><td>Russo, Giuseppe</td><td>53</td><td>Product BKGEA</td><td>820.00</td></tr>",
                            "<tr><td>21</td><td>Russo, Giuseppe</td><td>30</td><td>Product LYERX</td><td>776.70</td></tr>",
                            "<tr><td>21</td><td>Russo, Giuseppe</td><td>39</td><td>Product LSOFL</td><td>720.00</td></tr>",
                            "<tr><td>23</td><td>Khanna, Karan</td><td>18</td><td>Product CKEDC</td><td>5000.00</td></tr>",
                            "<tr><td>23</td><td>Khanna, Karan</td><td>62</td><td>Product WUXYK</td><td>1379.00</td></tr>",
                            "<tr><td>23</td><td>Khanna, Karan</td><td>63</td><td>Product ICKNK</td><td>1317.00</td></tr>",
                            "<tr><td>24</td><td>San Juan, Patricia</td><td>29</td><td>Product VJXYN</td><td>6189.50</td></tr>",
                            "<tr><td>24</td><td>San Juan, Patricia</td><td>51</td><td>Product APITJ</td><td>4664.00</td></tr>",
                            "<tr><td>24</td><td>San Juan, Patricia</td><td>56</td><td>Product VKCMF</td><td>2280.00</td></tr>",
                            "<tr><td>25</td><td>Carlson, Jason</td><td>59</td><td>Product UKXRI</td><td>4400.00</td></tr>",
                            "<tr><td>25</td><td>Carlson, Jason</td><td>71</td><td>Product MYMOI</td><td>2322.00</td></tr>",
                            "<tr><td>25</td><td>Carlson, Jason</td><td>60</td><td>Product WHBYK</td><td>1904.00</td></tr>",
                            "<tr><td>26</td><td>Koch, Paul</td><td>29</td><td>Product VJXYN</td><td>1733.06</td></tr>",
                            "<tr><td>26</td><td>Koch, Paul</td><td>62</td><td>Product WUXYK</td><td>493.00</td></tr>",
                            "<tr><td>26</td><td>Koch, Paul</td><td>76</td><td>Product JYGFE</td><td>360.00</td></tr>",
                            "<tr><td>27</td><td>Schmöllerl, Martin</td><td>51</td><td>Product APITJ</td><td>530.00</td></tr>",
                            "<tr><td>27</td><td>Schmöllerl, Martin</td><td>18</td><td>Product CKEDC</td><td>500.00</td></tr>",
                            "<tr><td>27</td><td>Schmöllerl, Martin</td><td>60</td><td>Product WHBYK</td><td>136.00</td></tr>",
                            "<tr><td>28</td><td>Cavaglieri, Giorgio</td><td>56</td><td>Product VKCMF</td><td>1368.00</td></tr>",
                            "<tr><td>28</td><td>Cavaglieri, Giorgio</td><td>44</td><td>Product VJIEO</td><td>1010.50</td></tr>",
                            "<tr><td>28</td><td>Cavaglieri, Giorgio</td><td>65</td><td>Product XYWBZ</td><td>987.75</td></tr>",
                            "<tr><td>29</td><td>Kolesnikova, Katerina</td><td>64</td><td>Product HCQDE</td><td>186.20</td></tr>",
                            "<tr><td>29</td><td>Kolesnikova, Katerina</td><td>10</td><td>Product YHXGE</td><td>155.00</td></tr>",
                            "<tr><td>29</td><td>Kolesnikova, Katerina</td><td>56</td><td>Product VKCMF</td><td>152.00</td></tr>",
                            "<tr><td>30</td><td>Shabalin, Rostislav</td><td>29</td><td>Product VJXYN</td><td>2475.80</td></tr>",
                            "<tr><td>30</td><td>Shabalin, Rostislav</td><td>51</td><td>Product APITJ</td><td>2120.00</td></tr>",
                            "<tr><td>30</td><td>Shabalin, Rostislav</td><td>62</td><td>Product WUXYK</td><td>986.00</td></tr>",
                            "<tr><td>31</td><td>Cheng, Yao-Qiang</td><td>8</td><td>Product WVJFP</td><td>1600.00</td></tr>",
                            "<tr><td>31</td><td>Cheng, Yao-Qiang</td><td>51</td><td>Product APITJ</td><td>1484.00</td></tr>",
                            "<tr><td>31</td><td>Cheng, Yao-Qiang</td><td>59</td><td>Product UKXRI</td><td>880.00</td></tr>",
                            "<tr><td>32</td><td>Krishnan, Venky</td><td>38</td><td>Product QDOMO</td><td>11857.50</td></tr>",
                            "<tr><td>32</td><td>Krishnan, Venky</td><td>59</td><td>Product UKXRI</td><td>1650.00</td></tr>",
                            "<tr><td>32</td><td>Krishnan, Venky</td><td>62</td><td>Product WUXYK</td><td>986.00</td></tr>",
                            "<tr><td>33</td><td>Sigurdarson, Hallur </td><td>29</td><td>Product VJXYN</td><td>990.00</td></tr>",
                            "<tr><td>33</td><td>Sigurdarson, Hallur </td><td>10</td><td>Product YHXGE</td><td>310.00</td></tr>",
                            "<tr><td>33</td><td>Sigurdarson, Hallur </td><td>72</td><td>Product GEEOO</td><td>111.20</td></tr>",
                            "<tr><td>34</td><td>Cohen, Shy</td><td>38</td><td>Product QDOMO</td><td>18181.50</td></tr>",
                            "<tr><td>34</td><td>Cohen, Shy</td><td>10</td><td>Product YHXGE</td><td>2170.00</td></tr>",
                            "<tr><td>34</td><td>Cohen, Shy</td><td>51</td><td>Product APITJ</td><td>1484.00</td></tr>",
                            "<tr><td>35</td><td>Langohr, Kris</td><td>59</td><td>Product UKXRI</td><td>4565.00</td></tr>",
                            "<tr><td>35</td><td>Langohr, Kris</td><td>51</td><td>Product APITJ</td><td>2120.00</td></tr>",
                            "<tr><td>35</td><td>Langohr, Kris</td><td>53</td><td>Product BKGEA</td><td>1834.00</td></tr>",
                            "<tr><td>36</td><td>Smith, Denise</td><td>20</td><td>Product QHFFP</td><td>1701.00</td></tr>",
                            "<tr><td>36</td><td>Smith, Denise</td><td>73</td><td>Product WEUJZ</td><td>450.00</td></tr>",
                            "<tr><td>36</td><td>Smith, Denise</td><td>62</td><td>Product WUXYK</td><td>394.00</td></tr>",
                            "<tr><td>37</td><td>Crăciun, Ovidiu V.</td><td>29</td><td>Product VJXYN</td><td>18568.50</td></tr>",
                            "<tr><td>37</td><td>Crăciun, Ovidiu V.</td><td>59</td><td>Product UKXRI</td><td>5830.00</td></tr>",
                            "<tr><td>37</td><td>Crăciun, Ovidiu V.</td><td>9</td><td>Product AOZBW</td><td>4850.00</td></tr>",
                            "<tr><td>38</td><td>Lee, Frank</td><td>61</td><td>Product XYZPE</td><td>855.00</td></tr>",
                            "<tr><td>38</td><td>Lee, Frank</td><td>8</td><td>Product WVJFP</td><td>800.00</td></tr>",
                            "<tr><td>38</td><td>Lee, Frank</td><td>60</td><td>Product WHBYK</td><td>714.00</td></tr>",
                            "<tr><td>39</td><td>Song, Lolan</td><td>38</td><td>Product QDOMO</td><td>7905.00</td></tr>",
                            "<tr><td>39</td><td>Song, Lolan</td><td>59</td><td>Product UKXRI</td><td>4279.00</td></tr>",
                            "<tr><td>39</td><td>Song, Lolan</td><td>29</td><td>Product VJXYN</td><td>2970.96</td></tr>",
                            "<tr><td>40</td><td>De Oliveira, Jose</td><td>27</td><td>Product SMIOH</td><td>439.00</td></tr>",
                            "<tr><td>40</td><td>De Oliveira, Jose</td><td>20</td><td>Product QHFFP</td><td>405.00</td></tr>",
                            "<tr><td>40</td><td>De Oliveira, Jose</td><td>76</td><td>Product JYGFE</td><td>360.00</td></tr>",
                            "<tr><td>41</td><td>Litton, Tim</td><td>29</td><td>Product VJXYN</td><td>2475.80</td></tr>",
                            "<tr><td>41</td><td>Litton, Tim</td><td>62</td><td>Product WUXYK</td><td>1576.00</td></tr>",
                            "<tr><td>41</td><td>Litton, Tim</td><td>69</td><td>Product COAXA</td><td>806.40</td></tr>",
                            "<tr><td>42</td><td>Steiner, Dominik</td><td>41</td><td>Product TTEEX</td><td>154.00</td></tr>",
                            "<tr><td>42</td><td>Steiner, Dominik</td><td>70</td><td>Product TOONT</td><td>75.00</td></tr>",
                            "<tr><td>42</td><td>Steiner, Dominik</td><td>23</td><td>Product JLUDZ</td><td>72.00</td></tr>",
                            "<tr><td>43</td><td>Deshpande, Anu</td><td>11</td><td>Product QMVUN</td><td>210.00</td></tr>",
                            "<tr><td>43</td><td>Deshpande, Anu</td><td>40</td><td>Product YZIXQ</td><td>147.00</td></tr>",
                            "<tr><td>44</td><td>Louverdis, George</td><td>64</td><td>Product HCQDE</td><td>2327.50</td></tr>",
                            "<tr><td>44</td><td>Louverdis, George</td><td>29</td><td>Product VJXYN</td><td>2228.22</td></tr>",
                            "<tr><td>44</td><td>Louverdis, George</td><td>60</td><td>Product WHBYK</td><td>1734.00</td></tr>",
                            "<tr><td>45</td><td>Sunkammurali,  Krishna</td><td>56</td><td>Product VKCMF</td><td>798.00</td></tr>",
                            "<tr><td>45</td><td>Sunkammurali,  Krishna</td><td>18</td><td>Product CKEDC</td><td>750.00</td></tr>",
                            "<tr><td>45</td><td>Sunkammurali,  Krishna</td><td>61</td><td>Product XYZPE</td><td>570.00</td></tr>",
                            "<tr><td>46</td><td>Dressler, Marlies</td><td>59</td><td>Product UKXRI</td><td>2200.00</td></tr>",
                            "<tr><td>46</td><td>Dressler, Marlies</td><td>26</td><td>Product HLGZA</td><td>1643.40</td></tr>",
                            "<tr><td>46</td><td>Dressler, Marlies</td><td>32</td><td>Product NUNAW</td><td>1600.00</td></tr>",
                            "<tr><td>47</td><td>Lupu, Cornel</td><td>72</td><td>Product GEEOO</td><td>2088.00</td></tr>",
                            "<tr><td>47</td><td>Lupu, Cornel</td><td>18</td><td>Product CKEDC</td><td>1562.50</td></tr>",
                            "<tr><td>47</td><td>Lupu, Cornel</td><td>49</td><td>Product FPYPN</td><td>1200.00</td></tr>",
                            "<tr><td>48</td><td>Szymczak, Radosław</td><td>51</td><td>Product APITJ</td><td>1060.00</td></tr>",
                            "<tr><td>48</td><td>Szymczak, Radosław</td><td>12</td><td>Product OSFNS</td><td>760.00</td></tr>",
                            "<tr><td>48</td><td>Szymczak, Radosław</td><td>18</td><td>Product CKEDC</td><td>625.00</td></tr>",
                            "<tr><td>49</td><td>Duerr, Bernard</td><td>72</td><td>Product GEEOO</td><td>1044.00</td></tr>",
                            "<tr><td>49</td><td>Duerr, Bernard</td><td>22</td><td>Product CPHFY</td><td>840.00</td></tr>",
                            "<tr><td>49</td><td>Duerr, Bernard</td><td>26</td><td>Product HLGZA</td><td>747.00</td></tr>",
                            "<tr><td>50</td><td>Mace, Donald</td><td>59</td><td>Product UKXRI</td><td>2200.00</td></tr>",
                            "<tr><td>50</td><td>Mace, Donald</td><td>27</td><td>Product SMIOH</td><td>1756.00</td></tr>",
                            "<tr><td>50</td><td>Mace, Donald</td><td>43</td><td>Product ZZZHR</td><td>1380.00</td></tr>",
                            "<tr><td>51</td><td>Taylor, Maurice</td><td>38</td><td>Product QDOMO</td><td>10329.20</td></tr>",
                            "<tr><td>51</td><td>Taylor, Maurice</td><td>56</td><td>Product VKCMF</td><td>3040.00</td></tr>",
                            "<tr><td>51</td><td>Taylor, Maurice</td><td>60</td><td>Product WHBYK</td><td>2380.00</td></tr>",
                            "<tr><td>52</td><td>Dupont-Roc, Patrice</td><td>62</td><td>Product WUXYK</td><td>1458.80</td></tr>",
                            "<tr><td>52</td><td>Dupont-Roc, Patrice</td><td>72</td><td>Product GEEOO</td><td>1044.00</td></tr>",
                            "<tr><td>52</td><td>Dupont-Roc, Patrice</td><td>28</td><td>Product OFBNT</td><td>728.00</td></tr>",
                            "<tr><td>53</td><td>Mallit, Ken</td><td>59</td><td>Product UKXRI</td><td>220.00</td></tr>",
                            "<tr><td>53</td><td>Mallit, Ken</td><td>1</td><td>Product HHYDP</td><td>144.00</td></tr>",
                            "<tr><td>53</td><td>Mallit, Ken</td><td>70</td><td>Product TOONT</td><td>135.00</td></tr>",
                            "<tr><td>54</td><td>Tiano, Mike</td><td>20</td><td>Product QHFFP</td><td>1215.00</td></tr>",
                            "<tr><td>54</td><td>Tiano, Mike</td><td>11</td><td>Product QMVUN</td><td>630.00</td></tr>",
                            "<tr><td>54</td><td>Tiano, Mike</td><td>5</td><td>Product EPEIM</td><td>427.00</td></tr>",
                            "<tr><td>55</td><td>Egelund-Muller, Anja</td><td>29</td><td>Product VJXYN</td><td>2475.00</td></tr>",
                            "<tr><td>55</td><td>Egelund-Muller, Anja</td><td>16</td><td>Product PAFRH</td><td>2094.00</td></tr>",
                            "<tr><td>55</td><td>Egelund-Muller, Anja</td><td>27</td><td>Product SMIOH</td><td>1755.00</td></tr>",
                            "<tr><td>56</td><td>Marinova, Nadejda</td><td>7</td><td>Product HMLNI</td><td>1650.00</td></tr>",
                            "<tr><td>56</td><td>Marinova, Nadejda</td><td>62</td><td>Product WUXYK</td><td>1577.00</td></tr>",
                            "<tr><td>56</td><td>Marinova, Nadejda</td><td>60</td><td>Product WHBYK</td><td>1020.00</td></tr>",
                            "<tr><td>58</td><td>Fakhouri, Fadi</td><td>51</td><td>Product APITJ</td><td>1060.00</td></tr>",
                            "<tr><td>58</td><td>Fakhouri, Fadi</td><td>28</td><td>Product OFBNT</td><td>655.20</td></tr>",
                            "<tr><td>58</td><td>Fakhouri, Fadi</td><td>67</td><td>Product XLXQF</td><td>420.00</td></tr>",
                            "<tr><td>59</td><td>Meston, Tosh</td><td>38</td><td>Product QDOMO</td><td>10540.00</td></tr>",
                            "<tr><td>59</td><td>Meston, Tosh</td><td>17</td><td>Product BLCAX</td><td>2730.00</td></tr>",
                            "<tr><td>59</td><td>Meston, Tosh</td><td>69</td><td>Product COAXA</td><td>2520.00</td></tr>",
                            "<tr><td>60</td><td>Uppal, Sunil</td><td>29</td><td>Product VJXYN</td><td>1237.90</td></tr>",
                            "<tr><td>60</td><td>Uppal, Sunil</td><td>8</td><td>Product WVJFP</td><td>1200.00</td></tr>",
                            "<tr><td>60</td><td>Uppal, Sunil</td><td>56</td><td>Product VKCMF</td><td>851.20</td></tr>",
                            "<tr><td>61</td><td>Florczyk, Krzysztof</td><td>35</td><td>Product NEVTJ</td><td>1026.00</td></tr>",
                            "<tr><td>61</td><td>Florczyk, Krzysztof</td><td>6</td><td>Product VAIIV</td><td>1000.00</td></tr>",
                            "<tr><td>61</td><td>Florczyk, Krzysztof</td><td>26</td><td>Product HLGZA</td><td>934.38</td></tr>",
                            "<tr><td>62</td><td>Misiec, Anna</td><td>38</td><td>Product QDOMO</td><td>8432.00</td></tr>",
                            "<tr><td>62</td><td>Misiec, Anna</td><td>60</td><td>Product WHBYK</td><td>2414.00</td></tr>",
                            "<tr><td>62</td><td>Misiec, Anna</td><td>56</td><td>Product VKCMF</td><td>2280.00</td></tr>",
                            "<tr><td>63</td><td>Veronesi, Giorgio</td><td>38</td><td>Product QDOMO</td><td>23715.00</td></tr>",
                            "<tr><td>63</td><td>Veronesi, Giorgio</td><td>60</td><td>Product WHBYK</td><td>7888.00</td></tr>",
                            "<tr><td>63</td><td>Veronesi, Giorgio</td><td>27</td><td>Product SMIOH</td><td>5268.00</td></tr>",
                            "<tr><td>64</td><td>Gaffney, Lawrie</td><td>38</td><td>Product QDOMO</td><td>527.00</td></tr>",
                            "<tr><td>64</td><td>Gaffney, Lawrie</td><td>20</td><td>Product QHFFP</td><td>405.00</td></tr>",
                            "<tr><td>64</td><td>Gaffney, Lawrie</td><td>57</td><td>Product OVLQI</td><td>390.00</td></tr>",
                            "<tr><td>65</td><td>Moore, Michael</td><td>38</td><td>Product QDOMO</td><td>16864.00</td></tr>",
                            "<tr><td>65</td><td>Moore, Michael</td><td>62</td><td>Product WUXYK</td><td>8180.00</td></tr>",
                            "<tr><td>65</td><td>Moore, Michael</td><td>56</td><td>Product VKCMF</td><td>3936.80</td></tr>",
                            "<tr><td>66</td><td>Voss, Florian</td><td>72</td><td>Product GEEOO</td><td>1392.00</td></tr>",
                            "<tr><td>66</td><td>Voss, Florian</td><td>7</td><td>Product HMLNI</td><td>1200.00</td></tr>",
                            "<tr><td>66</td><td>Voss, Florian</td><td>17</td><td>Product BLCAX</td><td>780.00</td></tr>",
                            "<tr><td>67</td><td>Garden, Euan</td><td>59</td><td>Product UKXRI</td><td>2310.00</td></tr>",
                            "<tr><td>67</td><td>Garden, Euan</td><td>60</td><td>Product WHBYK</td><td>2278.00</td></tr>",
                            "<tr><td>67</td><td>Garden, Euan</td><td>18</td><td>Product CKEDC</td><td>1562.50</td></tr>",
                            "<tr><td>68</td><td>Myrcha, Jacek</td><td>29</td><td>Product VJXYN</td><td>4456.44</td></tr>",
                            "<tr><td>68</td><td>Myrcha, Jacek</td><td>53</td><td>Product BKGEA</td><td>2296.00</td></tr>",
                            "<tr><td>68</td><td>Myrcha, Jacek</td><td>69</td><td>Product COAXA</td><td>1872.00</td></tr>",
                            "<tr><td>69</td><td>Watters, Jason M.</td><td>30</td><td>Product LYERX</td><td>357.09</td></tr>",
                            "<tr><td>69</td><td>Watters, Jason M.</td><td>60</td><td>Product WHBYK</td><td>340.00</td></tr>",
                            "<tr><td>69</td><td>Watters, Jason M.</td><td>53</td><td>Product BKGEA</td><td>262.00</td></tr>",
                            "<tr><td>70</td><td>Ginters, Kaspars</td><td>38</td><td>Product QDOMO</td><td>2108.00</td></tr>",
                            "<tr><td>70</td><td>Ginters, Kaspars</td><td>59</td><td>Product UKXRI</td><td>528.00</td></tr>",
                            "<tr><td>70</td><td>Ginters, Kaspars</td><td>18</td><td>Product CKEDC</td><td>500.00</td></tr>",
                            "<tr><td>71</td><td>Navarro, Tomás</td><td>29</td><td>Product VJXYN</td><td>14259.84</td></tr>",
                            "<tr><td>71</td><td>Navarro, Tomás</td><td>17</td><td>Product BLCAX</td><td>7956.00</td></tr>",
                            "<tr><td>71</td><td>Navarro, Tomás</td><td>59</td><td>Product UKXRI</td><td>7645.00</td></tr>",
                            "<tr><td>72</td><td>Welcker, Brian</td><td>60</td><td>Product WHBYK</td><td>2176.00</td></tr>",
                            "<tr><td>72</td><td>Welcker, Brian</td><td>28</td><td>Product OFBNT</td><td>1822.40</td></tr>",
                            "<tr><td>72</td><td>Welcker, Brian</td><td>51</td><td>Product APITJ</td><td>1293.20</td></tr>",
                            "<tr><td>73</td><td>Gonzalez, Nuria</td><td>38</td><td>Product QDOMO</td><td>10540.00</td></tr>",
                            "<tr><td>73</td><td>Gonzalez, Nuria</td><td>51</td><td>Product APITJ</td><td>1590.00</td></tr>",
                            "<tr><td>73</td><td>Gonzalez, Nuria</td><td>55</td><td>Product YYWRT</td><td>1440.00</td></tr>",
                            "<tr><td>74</td><td>O’Brien, Dave</td><td>38</td><td>Product QDOMO</td><td>1317.50</td></tr>",
                            "<tr><td>74</td><td>O’Brien, Dave</td><td>18</td><td>Product CKEDC</td><td>375.00</td></tr>",
                            "<tr><td>74</td><td>O’Brien, Dave</td><td>69</td><td>Product COAXA</td><td>360.00</td></tr>",
                            "<tr><td>75</td><td>Wojciechowska, Agnieszka</td><td>38</td><td>Product QDOMO</td><td>4216.00</td></tr>",
                            "<tr><td>75</td><td>Wojciechowska, Agnieszka</td><td>29</td><td>Product VJXYN</td><td>1980.00</td></tr>",
                            "<tr><td>75</td><td>Wojciechowska, Agnieszka</td><td>18</td><td>Product CKEDC</td><td>1312.50</td></tr>",
                            "<tr><td>76</td><td>Gulbis, Katrin</td><td>59</td><td>Product UKXRI</td><td>2750.00</td></tr>",
                            "<tr><td>76</td><td>Gulbis, Katrin</td><td>20</td><td>Product QHFFP</td><td>2592.00</td></tr>",
                            "<tr><td>76</td><td>Gulbis, Katrin</td><td>28</td><td>Product OFBNT</td><td>2111.20</td></tr>",
                            "<tr><td>77</td><td>Osorio, Cristian</td><td>38</td><td>Product QDOMO</td><td>2635.00</td></tr>",
                            "<tr><td>77</td><td>Osorio, Cristian</td><td>62</td><td>Product WUXYK</td><td>197.00</td></tr>",
                            "<tr><td>77</td><td>Osorio, Cristian</td><td>34</td><td>Product SWNJY</td><td>140.00</td></tr>",
                            "<tr><td>78</td><td>Young, Robin</td><td>29</td><td>Product VJXYN</td><td>742.74</td></tr>",
                            "<tr><td>78</td><td>Young, Robin</td><td>28</td><td>Product OFBNT</td><td>456.00</td></tr>",
                            "<tr><td>78</td><td>Young, Robin</td><td>44</td><td>Product VJIEO</td><td>194.50</td></tr>",
                            "<tr><td>79</td><td>Wickham, Jim</td><td>51</td><td>Product APITJ</td><td>1696.00</td></tr>",
                            "<tr><td>79</td><td>Wickham, Jim</td><td>56</td><td>Product VKCMF</td><td>1064.00</td></tr>",
                            "<tr><td>79</td><td>Wickham, Jim</td><td>49</td><td>Product FPYPN</td><td>800.00</td></tr>",
                            "<tr><td>80</td><td>Geschwandtner, Jens</td><td>38</td><td>Product QDOMO</td><td>3952.50</td></tr>",
                            "<tr><td>80</td><td>Geschwandtner, Jens</td><td>44</td><td>Product VJIEO</td><td>991.95</td></tr>",
                            "<tr><td>80</td><td>Geschwandtner, Jens</td><td>17</td><td>Product BLCAX</td><td>639.60</td></tr>",
                            "<tr><td>81</td><td>Nagel, Jean-Philippe</td><td>20</td><td>Product QHFFP</td><td>1296.00</td></tr>",
                            "<tr><td>81</td><td>Nagel, Jean-Philippe</td><td>60</td><td>Product WHBYK</td><td>1020.00</td></tr>",
                            "<tr><td>81</td><td>Nagel, Jean-Philippe</td><td>29</td><td>Product VJXYN</td><td>990.32</td></tr>",
                            "<tr><td>82</td><td>Veninga, Tjeerd</td><td>62</td><td>Product WUXYK</td><td>640.90</td></tr>",
                            "<tr><td>82</td><td>Veninga, Tjeerd</td><td>77</td><td>Product LUNZZ</td><td>234.00</td></tr>",
                            "<tr><td>82</td><td>Veninga, Tjeerd</td><td>64</td><td>Product HCQDE</td><td>199.50</td></tr>",
                            "<tr><td>83</td><td>Fonteneau, Karl</td><td>28</td><td>Product OFBNT</td><td>2736.00</td></tr>",
                            "<tr><td>83</td><td>Fonteneau, Karl</td><td>29</td><td>Product VJXYN</td><td>1782.00</td></tr>",
                            "<tr><td>83</td><td>Fonteneau, Karl</td><td>63</td><td>Product ICKNK</td><td>1756.00</td></tr>",
                            "<tr><td>84</td><td>Tuntisangaroon, Sittichai</td><td>62</td><td>Product WUXYK</td><td>1972.00</td></tr>",
                            "<tr><td>84</td><td>Tuntisangaroon, Sittichai</td><td>72</td><td>Product GEEOO</td><td>1112.00</td></tr>",
                            "<tr><td>84</td><td>Tuntisangaroon, Sittichai</td><td>10</td><td>Product YHXGE</td><td>992.00</td></tr>",
                            "<tr><td>85</td><td>McLin, Nkenge</td><td>72</td><td>Product GEEOO</td><td>368.60</td></tr>",
                            "<tr><td>85</td><td>McLin, Nkenge</td><td>71</td><td>Product MYMOI</td><td>344.00</td></tr>",
                            "<tr><td>85</td><td>McLin, Nkenge</td><td>11</td><td>Product QMVUN</td><td>168.00</td></tr>",
                            "<tr><td>86</td><td>Syamala, Manoj</td><td>32</td><td>Product NUNAW</td><td>2080.00</td></tr>",
                            "<tr><td>86</td><td>Syamala, Manoj</td><td>69</td><td>Product COAXA</td><td>1296.00</td></tr>",
                            "<tr><td>86</td><td>Syamala, Manoj</td><td>43</td><td>Product ZZZHR</td><td>883.20</td></tr>",
                            "<tr><td>87</td><td>Ludwig, Michael</td><td>53</td><td>Product BKGEA</td><td>1965.00</td></tr>",
                            "<tr><td>87</td><td>Ludwig, Michael</td><td>56</td><td>Product VKCMF</td><td>1900.00</td></tr>",
                            "<tr><td>87</td><td>Ludwig, Michael</td><td>71</td><td>Product MYMOI</td><td>1720.00</td></tr>",
                            "<tr><td>88</td><td>Li, Yan</td><td>9</td><td>Product AOZBW</td><td>1552.00</td></tr>",
                            "<tr><td>88</td><td>Li, Yan</td><td>43</td><td>Product ZZZHR</td><td>920.00</td></tr>",
                            "<tr><td>88</td><td>Li, Yan</td><td>59</td><td>Product UKXRI</td><td>825.00</td></tr>",
                            "<tr><td>89</td><td>Smith Jr., Ronaldo</td><td>38</td><td>Product QDOMO</td><td>6587.50</td></tr>",
                            "<tr><td>89</td><td>Smith Jr., Ronaldo</td><td>17</td><td>Product BLCAX</td><td>2418.00</td></tr>",
                            "<tr><td>89</td><td>Smith Jr., Ronaldo</td><td>8</td><td>Product WVJFP</td><td>2240.00</td></tr>",
                            "<tr><td>90</td><td>Larsson, Katarina</td><td>59</td><td>Product UKXRI</td><td>550.00</td></tr>",
                            "<tr><td>90</td><td>Larsson, Katarina</td><td>8</td><td>Product WVJFP</td><td>400.00</td></tr>",
                            "<tr><td>90</td><td>Larsson, Katarina</td><td>43</td><td>Product ZZZHR</td><td>276.00</td></tr>",
                            "<tr><td>91</td><td>Conn, Steve</td><td>61</td><td>Product XYZPE</td><td>627.00</td></tr>",
                            "<tr><td>91</td><td>Conn, Steve</td><td>62</td><td>Product WUXYK</td><td>591.60</td></tr>",
                            "<tr><td>91</td><td>Conn, Steve</td><td>60</td><td>Product WHBYK</td><td>510.00</td></tr>",
                            "</table>"
                        ]
                    }
                }
            ],
            "execution_count": 13
        }
    ]
}