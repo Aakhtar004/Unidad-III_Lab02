{
    "metadata": {
        "kernelspec": {
            "name": "SQL",
            "display_name": "SQL",
            "language": "sql"
        },
        "language_info": {
            "name": "sql",
            "version": ""
        }
    },
    "nbformat_minor": 2,
    "nbformat": 4,
    "cells": [
        {
            "cell_type": "markdown",
            "source": [
                "<h1>Sesión N° 02 - Utilizando Operadores de Conjuntos de Datos"
            ],
            "metadata": {
                "azdata_cell_guid": "d0c4d935-9c5d-43a3-a9b0-a06e7c6b3e84"
            }
        },
        {
            "cell_type": "markdown",
            "source": [
                "<h2>1. Operador UNION"
            ],
            "metadata": {
                "azdata_cell_guid": "9aa4cfaa-48b4-4de7-9064-449c8af61f2b"
            }
        },
        {
            "cell_type": "markdown",
            "source": [
                "1.1. Conectar con la BD TSQL"
            ],
            "metadata": {
                "azdata_cell_guid": "640fa51c-11a4-469b-ae33-f5e2af0d15a1"
            }
        },
        {
            "cell_type": "code",
            "source": [
                "USE TSQL;\r\n",
                "GO"
            ],
            "metadata": {
                "tags": [],
                "azdata_cell_guid": "cf3a81eb-31f2-4d09-9505-9e570a0b0f05",
                "language": "sql"
            },
            "outputs": [
                {
                    "output_type": "display_data",
                    "data": {
                        "text/html": "Commands completed successfully."
                    },
                    "metadata": {}
                },
                {
                    "output_type": "display_data",
                    "data": {
                        "text/html": "Total execution time: 00:00:00"
                    },
                    "metadata": {}
                }
            ],
            "execution_count": 1
        },
        {
            "cell_type": "markdown",
            "source": [
                "1.2. El operador UNION ALL devuelve todas las filas de ambas tablas incluyendo duplicados"
            ],
            "metadata": {
                "azdata_cell_guid": "d7e9f8ad-d30a-4306-b899-9ae1ffd21033"
            }
        },
        {
            "cell_type": "code",
            "source": [
                "SELECT country, region, city FROM HR.Employees\r\n",
                "UNION ALL -- 100 rows\r\n",
                "SELECT country, region, city FROM Sales.Customers;"
            ],
            "metadata": {
                "azdata_cell_guid": "d168c270-0299-40d4-aa25-a6fa63008921",
                "language": "sql"
            },
            "outputs": [
                {
                    "output_type": "display_data",
                    "data": {
                        "text/html": "(100 rows affected)"
                    },
                    "metadata": {}
                },
                {
                    "output_type": "display_data",
                    "data": {
                        "text/html": "Total execution time: 00:00:00.022"
                    },
                    "metadata": {}
                },
                {
                    "output_type": "execute_result",
                    "metadata": {},
                    "execution_count": 2,
                    "data": {
                        "application/vnd.dataresource+json": {
                            "schema": {
                                "fields": [
                                    {
                                        "name": "country"
                                    },
                                    {
                                        "name": "region"
                                    },
                                    {
                                        "name": "city"
                                    }
                                ]
                            },
                            "data": [
                                {
                                    "country": "USA",
                                    "region": "WA",
                                    "city": "Seattle"
                                },
                                {
                                    "country": "USA",
                                    "region": "WA",
                                    "city": "Tacoma"
                                },
                                {
                                    "country": "USA",
                                    "region": "WA",
                                    "city": "Kirkland"
                                },
                                {
                                    "country": "USA",
                                    "region": "WA",
                                    "city": "Redmond"
                                },
                                {
                                    "country": "UK",
                                    "region": "NULL",
                                    "city": "London"
                                },
                                {
                                    "country": "UK",
                                    "region": "NULL",
                                    "city": "London"
                                },
                                {
                                    "country": "UK",
                                    "region": "NULL",
                                    "city": "London"
                                },
                                {
                                    "country": "USA",
                                    "region": "WA",
                                    "city": "Seattle"
                                },
                                {
                                    "country": "UK",
                                    "region": "NULL",
                                    "city": "London"
                                },
                                {
                                    "country": "Germany",
                                    "region": "NULL",
                                    "city": "Berlin"
                                },
                                {
                                    "country": "Mexico",
                                    "region": "NULL",
                                    "city": "México D.F."
                                },
                                {
                                    "country": "Mexico",
                                    "region": "NULL",
                                    "city": "México D.F."
                                },
                                {
                                    "country": "UK",
                                    "region": "NULL",
                                    "city": "London"
                                },
                                {
                                    "country": "Sweden",
                                    "region": "NULL",
                                    "city": "Luleå"
                                },
                                {
                                    "country": "Germany",
                                    "region": "NULL",
                                    "city": "Mannheim"
                                },
                                {
                                    "country": "France",
                                    "region": "NULL",
                                    "city": "Strasbourg"
                                },
                                {
                                    "country": "Spain",
                                    "region": "NULL",
                                    "city": "Madrid"
                                },
                                {
                                    "country": "France",
                                    "region": "NULL",
                                    "city": "Marseille"
                                },
                                {
                                    "country": "Canada",
                                    "region": "BC",
                                    "city": "Tsawassen"
                                },
                                {
                                    "country": "UK",
                                    "region": "NULL",
                                    "city": "London"
                                },
                                {
                                    "country": "Argentina",
                                    "region": "NULL",
                                    "city": "Buenos Aires"
                                },
                                {
                                    "country": "Mexico",
                                    "region": "NULL",
                                    "city": "México D.F."
                                },
                                {
                                    "country": "Switzerland",
                                    "region": "NULL",
                                    "city": "Bern"
                                },
                                {
                                    "country": "Brazil",
                                    "region": "SP",
                                    "city": "Sao Paulo"
                                },
                                {
                                    "country": "UK",
                                    "region": "NULL",
                                    "city": "London"
                                },
                                {
                                    "country": "Germany",
                                    "region": "NULL",
                                    "city": "Aachen"
                                },
                                {
                                    "country": "France",
                                    "region": "NULL",
                                    "city": "Nantes"
                                },
                                {
                                    "country": "UK",
                                    "region": "NULL",
                                    "city": "London"
                                },
                                {
                                    "country": "Austria",
                                    "region": "NULL",
                                    "city": "Graz"
                                },
                                {
                                    "country": "Brazil",
                                    "region": "SP",
                                    "city": "Sao Paulo"
                                },
                                {
                                    "country": "Spain",
                                    "region": "NULL",
                                    "city": "Madrid"
                                },
                                {
                                    "country": "France",
                                    "region": "NULL",
                                    "city": "Lille"
                                },
                                {
                                    "country": "Sweden",
                                    "region": "NULL",
                                    "city": "Bräcke"
                                },
                                {
                                    "country": "Germany",
                                    "region": "NULL",
                                    "city": "München"
                                },
                                {
                                    "country": "France",
                                    "region": "NULL",
                                    "city": "Nantes"
                                },
                                {
                                    "country": "Italy",
                                    "region": "NULL",
                                    "city": "Torino"
                                },
                                {
                                    "country": "Portugal",
                                    "region": "NULL",
                                    "city": "Lisboa"
                                },
                                {
                                    "country": "Spain",
                                    "region": "NULL",
                                    "city": "Barcelona"
                                },
                                {
                                    "country": "Spain",
                                    "region": "NULL",
                                    "city": "Sevilla"
                                },
                                {
                                    "country": "Brazil",
                                    "region": "SP",
                                    "city": "Campinas"
                                },
                                {
                                    "country": "USA",
                                    "region": "OR",
                                    "city": "Eugene"
                                },
                                {
                                    "country": "Venezuela",
                                    "region": "DF",
                                    "city": "Caracas"
                                },
                                {
                                    "country": "Brazil",
                                    "region": "RJ",
                                    "city": "Rio de Janeiro"
                                },
                                {
                                    "country": "Venezuela",
                                    "region": "Táchira",
                                    "city": "San Cristóbal"
                                },
                                {
                                    "country": "USA",
                                    "region": "OR",
                                    "city": "Elgin"
                                },
                                {
                                    "country": "Ireland",
                                    "region": "Co. Cork",
                                    "city": "Cork"
                                },
                                {
                                    "country": "UK",
                                    "region": "Isle of Wight",
                                    "city": "Cowes"
                                },
                                {
                                    "country": "Germany",
                                    "region": "NULL",
                                    "city": "Brandenburg"
                                },
                                {
                                    "country": "France",
                                    "region": "NULL",
                                    "city": "Versailles"
                                },
                                {
                                    "country": "France",
                                    "region": "NULL",
                                    "city": "Toulouse"
                                },
                                {
                                    "country": "Canada",
                                    "region": "BC",
                                    "city": "Vancouver"
                                },
                                {
                                    "country": "USA",
                                    "region": "WA",
                                    "city": "Walla Walla"
                                },
                                {
                                    "country": "Germany",
                                    "region": "NULL",
                                    "city": "Frankfurt a.M."
                                },
                                {
                                    "country": "USA",
                                    "region": "CA",
                                    "city": "San Francisco"
                                },
                                {
                                    "country": "Venezuela",
                                    "region": "Lara",
                                    "city": "Barquisimeto"
                                },
                                {
                                    "country": "Venezuela",
                                    "region": "Nueva Esparta",
                                    "city": "I. de Margarita"
                                },
                                {
                                    "country": "USA",
                                    "region": "OR",
                                    "city": "Portland"
                                },
                                {
                                    "country": "Italy",
                                    "region": "NULL",
                                    "city": "Bergamo"
                                },
                                {
                                    "country": "Belgium",
                                    "region": "NULL",
                                    "city": "Bruxelles"
                                },
                                {
                                    "country": "Canada",
                                    "region": "Québec",
                                    "city": "Montréal"
                                },
                                {
                                    "country": "Germany",
                                    "region": "NULL",
                                    "city": "Leipzig"
                                },
                                {
                                    "country": "UK",
                                    "region": "NULL",
                                    "city": "London"
                                },
                                {
                                    "country": "Argentina",
                                    "region": "NULL",
                                    "city": "Buenos Aires"
                                },
                                {
                                    "country": "USA",
                                    "region": "AK",
                                    "city": "Anchorage"
                                },
                                {
                                    "country": "Germany",
                                    "region": "NULL",
                                    "city": "Köln"
                                },
                                {
                                    "country": "France",
                                    "region": "NULL",
                                    "city": "Paris"
                                },
                                {
                                    "country": "Mexico",
                                    "region": "NULL",
                                    "city": "México D.F."
                                },
                                {
                                    "country": "Austria",
                                    "region": "NULL",
                                    "city": "Salzburg"
                                },
                                {
                                    "country": "Portugal",
                                    "region": "NULL",
                                    "city": "Lisboa"
                                },
                                {
                                    "country": "Brazil",
                                    "region": "RJ",
                                    "city": "Rio de Janeiro"
                                },
                                {
                                    "country": "Brazil",
                                    "region": "SP",
                                    "city": "Sao Paulo"
                                },
                                {
                                    "country": "Germany",
                                    "region": "NULL",
                                    "city": "Cunewalde"
                                },
                                {
                                    "country": "Argentina",
                                    "region": "NULL",
                                    "city": "Buenos Aires"
                                },
                                {
                                    "country": "USA",
                                    "region": "NM",
                                    "city": "Albuquerque"
                                },
                                {
                                    "country": "Italy",
                                    "region": "NULL",
                                    "city": "Reggio Emilia"
                                },
                                {
                                    "country": "Brazil",
                                    "region": "RJ",
                                    "city": "Rio de Janeiro"
                                },
                                {
                                    "country": "Switzerland",
                                    "region": "NULL",
                                    "city": "Genève"
                                },
                                {
                                    "country": "Spain",
                                    "region": "NULL",
                                    "city": "Madrid"
                                },
                                {
                                    "country": "Norway",
                                    "region": "NULL",
                                    "city": "Stavern"
                                },
                                {
                                    "country": "USA",
                                    "region": "ID",
                                    "city": "Boise"
                                },
                                {
                                    "country": "UK",
                                    "region": "NULL",
                                    "city": "London"
                                },
                                {
                                    "country": "Denmark",
                                    "region": "NULL",
                                    "city": "Kobenhavn"
                                },
                                {
                                    "country": "France",
                                    "region": "NULL",
                                    "city": "Paris"
                                },
                                {
                                    "country": "USA",
                                    "region": "WY",
                                    "city": "Lander"
                                },
                                {
                                    "country": "Belgium",
                                    "region": "NULL",
                                    "city": "Charleroi"
                                },
                                {
                                    "country": "USA",
                                    "region": "OR",
                                    "city": "Portland"
                                },
                                {
                                    "country": "USA",
                                    "region": "MT",
                                    "city": "Butte"
                                },
                                {
                                    "country": "Germany",
                                    "region": "NULL",
                                    "city": "Münster"
                                },
                                {
                                    "country": "Mexico",
                                    "region": "NULL",
                                    "city": "México D.F."
                                },
                                {
                                    "country": "Brazil",
                                    "region": "SP",
                                    "city": "Sao Paulo"
                                },
                                {
                                    "country": "USA",
                                    "region": "WA",
                                    "city": "Kirkland"
                                },
                                {
                                    "country": "Denmark",
                                    "region": "NULL",
                                    "city": "Århus"
                                },
                                {
                                    "country": "France",
                                    "region": "NULL",
                                    "city": "Lyon"
                                },
                                {
                                    "country": "France",
                                    "region": "NULL",
                                    "city": "Reims"
                                },
                                {
                                    "country": "Germany",
                                    "region": "NULL",
                                    "city": "Stuttgart"
                                },
                                {
                                    "country": "Finland",
                                    "region": "NULL",
                                    "city": "Oulu"
                                },
                                {
                                    "country": "Brazil",
                                    "region": "SP",
                                    "city": "Resende"
                                },
                                {
                                    "country": "USA",
                                    "region": "WA",
                                    "city": "Seattle"
                                },
                                {
                                    "country": "Finland",
                                    "region": "NULL",
                                    "city": "Helsinki"
                                },
                                {
                                    "country": "Poland",
                                    "region": "NULL",
                                    "city": "Warszawa"
                                }
                            ]
                        },
                        "text/html": [
                            "<table>",
                            "<tr><th>country</th><th>region</th><th>city</th></tr>",
                            "<tr><td>USA</td><td>WA</td><td>Seattle</td></tr>",
                            "<tr><td>USA</td><td>WA</td><td>Tacoma</td></tr>",
                            "<tr><td>USA</td><td>WA</td><td>Kirkland</td></tr>",
                            "<tr><td>USA</td><td>WA</td><td>Redmond</td></tr>",
                            "<tr><td>UK</td><td>NULL</td><td>London</td></tr>",
                            "<tr><td>UK</td><td>NULL</td><td>London</td></tr>",
                            "<tr><td>UK</td><td>NULL</td><td>London</td></tr>",
                            "<tr><td>USA</td><td>WA</td><td>Seattle</td></tr>",
                            "<tr><td>UK</td><td>NULL</td><td>London</td></tr>",
                            "<tr><td>Germany</td><td>NULL</td><td>Berlin</td></tr>",
                            "<tr><td>Mexico</td><td>NULL</td><td>México D.F.</td></tr>",
                            "<tr><td>Mexico</td><td>NULL</td><td>México D.F.</td></tr>",
                            "<tr><td>UK</td><td>NULL</td><td>London</td></tr>",
                            "<tr><td>Sweden</td><td>NULL</td><td>Luleå</td></tr>",
                            "<tr><td>Germany</td><td>NULL</td><td>Mannheim</td></tr>",
                            "<tr><td>France</td><td>NULL</td><td>Strasbourg</td></tr>",
                            "<tr><td>Spain</td><td>NULL</td><td>Madrid</td></tr>",
                            "<tr><td>France</td><td>NULL</td><td>Marseille</td></tr>",
                            "<tr><td>Canada</td><td>BC</td><td>Tsawassen</td></tr>",
                            "<tr><td>UK</td><td>NULL</td><td>London</td></tr>",
                            "<tr><td>Argentina</td><td>NULL</td><td>Buenos Aires</td></tr>",
                            "<tr><td>Mexico</td><td>NULL</td><td>México D.F.</td></tr>",
                            "<tr><td>Switzerland</td><td>NULL</td><td>Bern</td></tr>",
                            "<tr><td>Brazil</td><td>SP</td><td>Sao Paulo</td></tr>",
                            "<tr><td>UK</td><td>NULL</td><td>London</td></tr>",
                            "<tr><td>Germany</td><td>NULL</td><td>Aachen</td></tr>",
                            "<tr><td>France</td><td>NULL</td><td>Nantes</td></tr>",
                            "<tr><td>UK</td><td>NULL</td><td>London</td></tr>",
                            "<tr><td>Austria</td><td>NULL</td><td>Graz</td></tr>",
                            "<tr><td>Brazil</td><td>SP</td><td>Sao Paulo</td></tr>",
                            "<tr><td>Spain</td><td>NULL</td><td>Madrid</td></tr>",
                            "<tr><td>France</td><td>NULL</td><td>Lille</td></tr>",
                            "<tr><td>Sweden</td><td>NULL</td><td>Bräcke</td></tr>",
                            "<tr><td>Germany</td><td>NULL</td><td>München</td></tr>",
                            "<tr><td>France</td><td>NULL</td><td>Nantes</td></tr>",
                            "<tr><td>Italy</td><td>NULL</td><td>Torino</td></tr>",
                            "<tr><td>Portugal</td><td>NULL</td><td>Lisboa</td></tr>",
                            "<tr><td>Spain</td><td>NULL</td><td>Barcelona</td></tr>",
                            "<tr><td>Spain</td><td>NULL</td><td>Sevilla</td></tr>",
                            "<tr><td>Brazil</td><td>SP</td><td>Campinas</td></tr>",
                            "<tr><td>USA</td><td>OR</td><td>Eugene</td></tr>",
                            "<tr><td>Venezuela</td><td>DF</td><td>Caracas</td></tr>",
                            "<tr><td>Brazil</td><td>RJ</td><td>Rio de Janeiro</td></tr>",
                            "<tr><td>Venezuela</td><td>Táchira</td><td>San Cristóbal</td></tr>",
                            "<tr><td>USA</td><td>OR</td><td>Elgin</td></tr>",
                            "<tr><td>Ireland</td><td>Co. Cork</td><td>Cork</td></tr>",
                            "<tr><td>UK</td><td>Isle of Wight</td><td>Cowes</td></tr>",
                            "<tr><td>Germany</td><td>NULL</td><td>Brandenburg</td></tr>",
                            "<tr><td>France</td><td>NULL</td><td>Versailles</td></tr>",
                            "<tr><td>France</td><td>NULL</td><td>Toulouse</td></tr>",
                            "<tr><td>Canada</td><td>BC</td><td>Vancouver</td></tr>",
                            "<tr><td>USA</td><td>WA</td><td>Walla Walla</td></tr>",
                            "<tr><td>Germany</td><td>NULL</td><td>Frankfurt a.M.</td></tr>",
                            "<tr><td>USA</td><td>CA</td><td>San Francisco</td></tr>",
                            "<tr><td>Venezuela</td><td>Lara</td><td>Barquisimeto</td></tr>",
                            "<tr><td>Venezuela</td><td>Nueva Esparta</td><td>I. de Margarita</td></tr>",
                            "<tr><td>USA</td><td>OR</td><td>Portland</td></tr>",
                            "<tr><td>Italy</td><td>NULL</td><td>Bergamo</td></tr>",
                            "<tr><td>Belgium</td><td>NULL</td><td>Bruxelles</td></tr>",
                            "<tr><td>Canada</td><td>Québec</td><td>Montréal</td></tr>",
                            "<tr><td>Germany</td><td>NULL</td><td>Leipzig</td></tr>",
                            "<tr><td>UK</td><td>NULL</td><td>London</td></tr>",
                            "<tr><td>Argentina</td><td>NULL</td><td>Buenos Aires</td></tr>",
                            "<tr><td>USA</td><td>AK</td><td>Anchorage</td></tr>",
                            "<tr><td>Germany</td><td>NULL</td><td>Köln</td></tr>",
                            "<tr><td>France</td><td>NULL</td><td>Paris</td></tr>",
                            "<tr><td>Mexico</td><td>NULL</td><td>México D.F.</td></tr>",
                            "<tr><td>Austria</td><td>NULL</td><td>Salzburg</td></tr>",
                            "<tr><td>Portugal</td><td>NULL</td><td>Lisboa</td></tr>",
                            "<tr><td>Brazil</td><td>RJ</td><td>Rio de Janeiro</td></tr>",
                            "<tr><td>Brazil</td><td>SP</td><td>Sao Paulo</td></tr>",
                            "<tr><td>Germany</td><td>NULL</td><td>Cunewalde</td></tr>",
                            "<tr><td>Argentina</td><td>NULL</td><td>Buenos Aires</td></tr>",
                            "<tr><td>USA</td><td>NM</td><td>Albuquerque</td></tr>",
                            "<tr><td>Italy</td><td>NULL</td><td>Reggio Emilia</td></tr>",
                            "<tr><td>Brazil</td><td>RJ</td><td>Rio de Janeiro</td></tr>",
                            "<tr><td>Switzerland</td><td>NULL</td><td>Genève</td></tr>",
                            "<tr><td>Spain</td><td>NULL</td><td>Madrid</td></tr>",
                            "<tr><td>Norway</td><td>NULL</td><td>Stavern</td></tr>",
                            "<tr><td>USA</td><td>ID</td><td>Boise</td></tr>",
                            "<tr><td>UK</td><td>NULL</td><td>London</td></tr>",
                            "<tr><td>Denmark</td><td>NULL</td><td>Kobenhavn</td></tr>",
                            "<tr><td>France</td><td>NULL</td><td>Paris</td></tr>",
                            "<tr><td>USA</td><td>WY</td><td>Lander</td></tr>",
                            "<tr><td>Belgium</td><td>NULL</td><td>Charleroi</td></tr>",
                            "<tr><td>USA</td><td>OR</td><td>Portland</td></tr>",
                            "<tr><td>USA</td><td>MT</td><td>Butte</td></tr>",
                            "<tr><td>Germany</td><td>NULL</td><td>Münster</td></tr>",
                            "<tr><td>Mexico</td><td>NULL</td><td>México D.F.</td></tr>",
                            "<tr><td>Brazil</td><td>SP</td><td>Sao Paulo</td></tr>",
                            "<tr><td>USA</td><td>WA</td><td>Kirkland</td></tr>",
                            "<tr><td>Denmark</td><td>NULL</td><td>Århus</td></tr>",
                            "<tr><td>France</td><td>NULL</td><td>Lyon</td></tr>",
                            "<tr><td>France</td><td>NULL</td><td>Reims</td></tr>",
                            "<tr><td>Germany</td><td>NULL</td><td>Stuttgart</td></tr>",
                            "<tr><td>Finland</td><td>NULL</td><td>Oulu</td></tr>",
                            "<tr><td>Brazil</td><td>SP</td><td>Resende</td></tr>",
                            "<tr><td>USA</td><td>WA</td><td>Seattle</td></tr>",
                            "<tr><td>Finland</td><td>NULL</td><td>Helsinki</td></tr>",
                            "<tr><td>Poland</td><td>NULL</td><td>Warszawa</td></tr>",
                            "</table>"
                        ]
                    }
                }
            ],
            "execution_count": 2
        },
        {
            "cell_type": "markdown",
            "source": [
                "1.3. El operador UNION ALL devuelve todas las filas de ambas tablas excluyendo duplicados"
            ],
            "metadata": {
                "azdata_cell_guid": "baf6fd76-49fc-4c50-b636-50676f55d82a"
            }
        },
        {
            "cell_type": "code",
            "source": [
                "SELECT country, region, city FROM HR.Employees \r\n",
                "UNION \r\n",
                "SELECT country, region, city FROM Sales.Customers; "
            ],
            "metadata": {
                "azdata_cell_guid": "2156d210-6a72-4e47-9e63-64286fbb0963",
                "language": "sql"
            },
            "outputs": [
                {
                    "output_type": "display_data",
                    "data": {
                        "text/html": "(71 rows affected)"
                    },
                    "metadata": {}
                },
                {
                    "output_type": "display_data",
                    "data": {
                        "text/html": "Total execution time: 00:00:00.023"
                    },
                    "metadata": {}
                },
                {
                    "output_type": "execute_result",
                    "metadata": {},
                    "execution_count": 3,
                    "data": {
                        "application/vnd.dataresource+json": {
                            "schema": {
                                "fields": [
                                    {
                                        "name": "country"
                                    },
                                    {
                                        "name": "region"
                                    },
                                    {
                                        "name": "city"
                                    }
                                ]
                            },
                            "data": [
                                {
                                    "country": "Argentina",
                                    "region": "NULL",
                                    "city": "Buenos Aires"
                                },
                                {
                                    "country": "Austria",
                                    "region": "NULL",
                                    "city": "Graz"
                                },
                                {
                                    "country": "Austria",
                                    "region": "NULL",
                                    "city": "Salzburg"
                                },
                                {
                                    "country": "Belgium",
                                    "region": "NULL",
                                    "city": "Bruxelles"
                                },
                                {
                                    "country": "Belgium",
                                    "region": "NULL",
                                    "city": "Charleroi"
                                },
                                {
                                    "country": "Brazil",
                                    "region": "RJ",
                                    "city": "Rio de Janeiro"
                                },
                                {
                                    "country": "Brazil",
                                    "region": "SP",
                                    "city": "Campinas"
                                },
                                {
                                    "country": "Brazil",
                                    "region": "SP",
                                    "city": "Resende"
                                },
                                {
                                    "country": "Brazil",
                                    "region": "SP",
                                    "city": "Sao Paulo"
                                },
                                {
                                    "country": "Canada",
                                    "region": "BC",
                                    "city": "Tsawassen"
                                },
                                {
                                    "country": "Canada",
                                    "region": "BC",
                                    "city": "Vancouver"
                                },
                                {
                                    "country": "Canada",
                                    "region": "Québec",
                                    "city": "Montréal"
                                },
                                {
                                    "country": "Denmark",
                                    "region": "NULL",
                                    "city": "Århus"
                                },
                                {
                                    "country": "Denmark",
                                    "region": "NULL",
                                    "city": "Kobenhavn"
                                },
                                {
                                    "country": "Finland",
                                    "region": "NULL",
                                    "city": "Helsinki"
                                },
                                {
                                    "country": "Finland",
                                    "region": "NULL",
                                    "city": "Oulu"
                                },
                                {
                                    "country": "France",
                                    "region": "NULL",
                                    "city": "Lille"
                                },
                                {
                                    "country": "France",
                                    "region": "NULL",
                                    "city": "Lyon"
                                },
                                {
                                    "country": "France",
                                    "region": "NULL",
                                    "city": "Marseille"
                                },
                                {
                                    "country": "France",
                                    "region": "NULL",
                                    "city": "Nantes"
                                },
                                {
                                    "country": "France",
                                    "region": "NULL",
                                    "city": "Paris"
                                },
                                {
                                    "country": "France",
                                    "region": "NULL",
                                    "city": "Reims"
                                },
                                {
                                    "country": "France",
                                    "region": "NULL",
                                    "city": "Strasbourg"
                                },
                                {
                                    "country": "France",
                                    "region": "NULL",
                                    "city": "Toulouse"
                                },
                                {
                                    "country": "France",
                                    "region": "NULL",
                                    "city": "Versailles"
                                },
                                {
                                    "country": "Germany",
                                    "region": "NULL",
                                    "city": "Aachen"
                                },
                                {
                                    "country": "Germany",
                                    "region": "NULL",
                                    "city": "Berlin"
                                },
                                {
                                    "country": "Germany",
                                    "region": "NULL",
                                    "city": "Brandenburg"
                                },
                                {
                                    "country": "Germany",
                                    "region": "NULL",
                                    "city": "Cunewalde"
                                },
                                {
                                    "country": "Germany",
                                    "region": "NULL",
                                    "city": "Frankfurt a.M."
                                },
                                {
                                    "country": "Germany",
                                    "region": "NULL",
                                    "city": "Köln"
                                },
                                {
                                    "country": "Germany",
                                    "region": "NULL",
                                    "city": "Leipzig"
                                },
                                {
                                    "country": "Germany",
                                    "region": "NULL",
                                    "city": "Mannheim"
                                },
                                {
                                    "country": "Germany",
                                    "region": "NULL",
                                    "city": "München"
                                },
                                {
                                    "country": "Germany",
                                    "region": "NULL",
                                    "city": "Münster"
                                },
                                {
                                    "country": "Germany",
                                    "region": "NULL",
                                    "city": "Stuttgart"
                                },
                                {
                                    "country": "Ireland",
                                    "region": "Co. Cork",
                                    "city": "Cork"
                                },
                                {
                                    "country": "Italy",
                                    "region": "NULL",
                                    "city": "Bergamo"
                                },
                                {
                                    "country": "Italy",
                                    "region": "NULL",
                                    "city": "Reggio Emilia"
                                },
                                {
                                    "country": "Italy",
                                    "region": "NULL",
                                    "city": "Torino"
                                },
                                {
                                    "country": "Mexico",
                                    "region": "NULL",
                                    "city": "México D.F."
                                },
                                {
                                    "country": "Norway",
                                    "region": "NULL",
                                    "city": "Stavern"
                                },
                                {
                                    "country": "Poland",
                                    "region": "NULL",
                                    "city": "Warszawa"
                                },
                                {
                                    "country": "Portugal",
                                    "region": "NULL",
                                    "city": "Lisboa"
                                },
                                {
                                    "country": "Spain",
                                    "region": "NULL",
                                    "city": "Barcelona"
                                },
                                {
                                    "country": "Spain",
                                    "region": "NULL",
                                    "city": "Madrid"
                                },
                                {
                                    "country": "Spain",
                                    "region": "NULL",
                                    "city": "Sevilla"
                                },
                                {
                                    "country": "Sweden",
                                    "region": "NULL",
                                    "city": "Bräcke"
                                },
                                {
                                    "country": "Sweden",
                                    "region": "NULL",
                                    "city": "Luleå"
                                },
                                {
                                    "country": "Switzerland",
                                    "region": "NULL",
                                    "city": "Bern"
                                },
                                {
                                    "country": "Switzerland",
                                    "region": "NULL",
                                    "city": "Genève"
                                },
                                {
                                    "country": "UK",
                                    "region": "NULL",
                                    "city": "London"
                                },
                                {
                                    "country": "UK",
                                    "region": "Isle of Wight",
                                    "city": "Cowes"
                                },
                                {
                                    "country": "USA",
                                    "region": "AK",
                                    "city": "Anchorage"
                                },
                                {
                                    "country": "USA",
                                    "region": "CA",
                                    "city": "San Francisco"
                                },
                                {
                                    "country": "USA",
                                    "region": "ID",
                                    "city": "Boise"
                                },
                                {
                                    "country": "USA",
                                    "region": "MT",
                                    "city": "Butte"
                                },
                                {
                                    "country": "USA",
                                    "region": "NM",
                                    "city": "Albuquerque"
                                },
                                {
                                    "country": "USA",
                                    "region": "OR",
                                    "city": "Elgin"
                                },
                                {
                                    "country": "USA",
                                    "region": "OR",
                                    "city": "Eugene"
                                },
                                {
                                    "country": "USA",
                                    "region": "OR",
                                    "city": "Portland"
                                },
                                {
                                    "country": "USA",
                                    "region": "WA",
                                    "city": "Kirkland"
                                },
                                {
                                    "country": "USA",
                                    "region": "WA",
                                    "city": "Redmond"
                                },
                                {
                                    "country": "USA",
                                    "region": "WA",
                                    "city": "Seattle"
                                },
                                {
                                    "country": "USA",
                                    "region": "WA",
                                    "city": "Tacoma"
                                },
                                {
                                    "country": "USA",
                                    "region": "WA",
                                    "city": "Walla Walla"
                                },
                                {
                                    "country": "USA",
                                    "region": "WY",
                                    "city": "Lander"
                                },
                                {
                                    "country": "Venezuela",
                                    "region": "DF",
                                    "city": "Caracas"
                                },
                                {
                                    "country": "Venezuela",
                                    "region": "Lara",
                                    "city": "Barquisimeto"
                                },
                                {
                                    "country": "Venezuela",
                                    "region": "Nueva Esparta",
                                    "city": "I. de Margarita"
                                },
                                {
                                    "country": "Venezuela",
                                    "region": "Táchira",
                                    "city": "San Cristóbal"
                                }
                            ]
                        },
                        "text/html": [
                            "<table>",
                            "<tr><th>country</th><th>region</th><th>city</th></tr>",
                            "<tr><td>Argentina</td><td>NULL</td><td>Buenos Aires</td></tr>",
                            "<tr><td>Austria</td><td>NULL</td><td>Graz</td></tr>",
                            "<tr><td>Austria</td><td>NULL</td><td>Salzburg</td></tr>",
                            "<tr><td>Belgium</td><td>NULL</td><td>Bruxelles</td></tr>",
                            "<tr><td>Belgium</td><td>NULL</td><td>Charleroi</td></tr>",
                            "<tr><td>Brazil</td><td>RJ</td><td>Rio de Janeiro</td></tr>",
                            "<tr><td>Brazil</td><td>SP</td><td>Campinas</td></tr>",
                            "<tr><td>Brazil</td><td>SP</td><td>Resende</td></tr>",
                            "<tr><td>Brazil</td><td>SP</td><td>Sao Paulo</td></tr>",
                            "<tr><td>Canada</td><td>BC</td><td>Tsawassen</td></tr>",
                            "<tr><td>Canada</td><td>BC</td><td>Vancouver</td></tr>",
                            "<tr><td>Canada</td><td>Québec</td><td>Montréal</td></tr>",
                            "<tr><td>Denmark</td><td>NULL</td><td>Århus</td></tr>",
                            "<tr><td>Denmark</td><td>NULL</td><td>Kobenhavn</td></tr>",
                            "<tr><td>Finland</td><td>NULL</td><td>Helsinki</td></tr>",
                            "<tr><td>Finland</td><td>NULL</td><td>Oulu</td></tr>",
                            "<tr><td>France</td><td>NULL</td><td>Lille</td></tr>",
                            "<tr><td>France</td><td>NULL</td><td>Lyon</td></tr>",
                            "<tr><td>France</td><td>NULL</td><td>Marseille</td></tr>",
                            "<tr><td>France</td><td>NULL</td><td>Nantes</td></tr>",
                            "<tr><td>France</td><td>NULL</td><td>Paris</td></tr>",
                            "<tr><td>France</td><td>NULL</td><td>Reims</td></tr>",
                            "<tr><td>France</td><td>NULL</td><td>Strasbourg</td></tr>",
                            "<tr><td>France</td><td>NULL</td><td>Toulouse</td></tr>",
                            "<tr><td>France</td><td>NULL</td><td>Versailles</td></tr>",
                            "<tr><td>Germany</td><td>NULL</td><td>Aachen</td></tr>",
                            "<tr><td>Germany</td><td>NULL</td><td>Berlin</td></tr>",
                            "<tr><td>Germany</td><td>NULL</td><td>Brandenburg</td></tr>",
                            "<tr><td>Germany</td><td>NULL</td><td>Cunewalde</td></tr>",
                            "<tr><td>Germany</td><td>NULL</td><td>Frankfurt a.M.</td></tr>",
                            "<tr><td>Germany</td><td>NULL</td><td>Köln</td></tr>",
                            "<tr><td>Germany</td><td>NULL</td><td>Leipzig</td></tr>",
                            "<tr><td>Germany</td><td>NULL</td><td>Mannheim</td></tr>",
                            "<tr><td>Germany</td><td>NULL</td><td>München</td></tr>",
                            "<tr><td>Germany</td><td>NULL</td><td>Münster</td></tr>",
                            "<tr><td>Germany</td><td>NULL</td><td>Stuttgart</td></tr>",
                            "<tr><td>Ireland</td><td>Co. Cork</td><td>Cork</td></tr>",
                            "<tr><td>Italy</td><td>NULL</td><td>Bergamo</td></tr>",
                            "<tr><td>Italy</td><td>NULL</td><td>Reggio Emilia</td></tr>",
                            "<tr><td>Italy</td><td>NULL</td><td>Torino</td></tr>",
                            "<tr><td>Mexico</td><td>NULL</td><td>México D.F.</td></tr>",
                            "<tr><td>Norway</td><td>NULL</td><td>Stavern</td></tr>",
                            "<tr><td>Poland</td><td>NULL</td><td>Warszawa</td></tr>",
                            "<tr><td>Portugal</td><td>NULL</td><td>Lisboa</td></tr>",
                            "<tr><td>Spain</td><td>NULL</td><td>Barcelona</td></tr>",
                            "<tr><td>Spain</td><td>NULL</td><td>Madrid</td></tr>",
                            "<tr><td>Spain</td><td>NULL</td><td>Sevilla</td></tr>",
                            "<tr><td>Sweden</td><td>NULL</td><td>Bräcke</td></tr>",
                            "<tr><td>Sweden</td><td>NULL</td><td>Luleå</td></tr>",
                            "<tr><td>Switzerland</td><td>NULL</td><td>Bern</td></tr>",
                            "<tr><td>Switzerland</td><td>NULL</td><td>Genève</td></tr>",
                            "<tr><td>UK</td><td>NULL</td><td>London</td></tr>",
                            "<tr><td>UK</td><td>Isle of Wight</td><td>Cowes</td></tr>",
                            "<tr><td>USA</td><td>AK</td><td>Anchorage</td></tr>",
                            "<tr><td>USA</td><td>CA</td><td>San Francisco</td></tr>",
                            "<tr><td>USA</td><td>ID</td><td>Boise</td></tr>",
                            "<tr><td>USA</td><td>MT</td><td>Butte</td></tr>",
                            "<tr><td>USA</td><td>NM</td><td>Albuquerque</td></tr>",
                            "<tr><td>USA</td><td>OR</td><td>Elgin</td></tr>",
                            "<tr><td>USA</td><td>OR</td><td>Eugene</td></tr>",
                            "<tr><td>USA</td><td>OR</td><td>Portland</td></tr>",
                            "<tr><td>USA</td><td>WA</td><td>Kirkland</td></tr>",
                            "<tr><td>USA</td><td>WA</td><td>Redmond</td></tr>",
                            "<tr><td>USA</td><td>WA</td><td>Seattle</td></tr>",
                            "<tr><td>USA</td><td>WA</td><td>Tacoma</td></tr>",
                            "<tr><td>USA</td><td>WA</td><td>Walla Walla</td></tr>",
                            "<tr><td>USA</td><td>WY</td><td>Lander</td></tr>",
                            "<tr><td>Venezuela</td><td>DF</td><td>Caracas</td></tr>",
                            "<tr><td>Venezuela</td><td>Lara</td><td>Barquisimeto</td></tr>",
                            "<tr><td>Venezuela</td><td>Nueva Esparta</td><td>I. de Margarita</td></tr>",
                            "<tr><td>Venezuela</td><td>Táchira</td><td>San Cristóbal</td></tr>",
                            "</table>"
                        ]
                    }
                }
            ],
            "execution_count": 3
        },
        {
            "cell_type": "markdown",
            "source": [
                "<h2>2. Operador EXCEPT y INTERSECT"
            ],
            "metadata": {
                "azdata_cell_guid": "d63c9fa9-a516-440f-8018-aaa6560ea20f"
            }
        },
        {
            "cell_type": "markdown",
            "source": [
                "2.1. El operador INTERSECT retorna solo las filas encontradas en ambas tablas"
            ],
            "metadata": {
                "azdata_cell_guid": "ceb1771e-f591-4b89-8f44-8e67d1228cc7"
            }
        },
        {
            "cell_type": "code",
            "source": [
                "SELECT country, region, city FROM HR.Employees\r\n",
                "INTERSECT -- 3 distinct rows \r\n",
                "SELECT country, region, city FROM Sales.Customers;"
            ],
            "metadata": {
                "azdata_cell_guid": "c9f2afe5-7fe5-444b-83af-f46f47853c57",
                "language": "sql"
            },
            "outputs": [
                {
                    "output_type": "display_data",
                    "data": {
                        "text/html": "(3 rows affected)"
                    },
                    "metadata": {}
                },
                {
                    "output_type": "display_data",
                    "data": {
                        "text/html": "Total execution time: 00:00:00.025"
                    },
                    "metadata": {}
                },
                {
                    "output_type": "execute_result",
                    "metadata": {},
                    "execution_count": 4,
                    "data": {
                        "application/vnd.dataresource+json": {
                            "schema": {
                                "fields": [
                                    {
                                        "name": "country"
                                    },
                                    {
                                        "name": "region"
                                    },
                                    {
                                        "name": "city"
                                    }
                                ]
                            },
                            "data": [
                                {
                                    "country": "UK",
                                    "region": "NULL",
                                    "city": "London"
                                },
                                {
                                    "country": "USA",
                                    "region": "WA",
                                    "city": "Kirkland"
                                },
                                {
                                    "country": "USA",
                                    "region": "WA",
                                    "city": "Seattle"
                                }
                            ]
                        },
                        "text/html": [
                            "<table>",
                            "<tr><th>country</th><th>region</th><th>city</th></tr>",
                            "<tr><td>UK</td><td>NULL</td><td>London</td></tr>",
                            "<tr><td>USA</td><td>WA</td><td>Kirkland</td></tr>",
                            "<tr><td>USA</td><td>WA</td><td>Seattle</td></tr>",
                            "</table>"
                        ]
                    }
                }
            ],
            "execution_count": 4
        },
        {
            "cell_type": "markdown",
            "source": [
                "2.2. El operador EXCEPT retorna solo las filas de la tabla tabla derecha (HR.Employees) que no se intersectan con la tabla izquierda."
            ],
            "metadata": {
                "azdata_cell_guid": "75181983-5cca-42b4-abb9-24229a401dbf"
            }
        },
        {
            "cell_type": "code",
            "source": [
                "SELECT country, region, city FROM HR.Employees\r\n",
                "EXCEPT \r\n",
                "SELECT country, region, city FROM Sales.Customers;"
            ],
            "metadata": {
                "azdata_cell_guid": "0dfab54c-404e-401e-914b-68c1c9986642",
                "language": "sql"
            },
            "outputs": [
                {
                    "output_type": "display_data",
                    "data": {
                        "text/html": "(2 rows affected)"
                    },
                    "metadata": {}
                },
                {
                    "output_type": "display_data",
                    "data": {
                        "text/html": "Total execution time: 00:00:00.201"
                    },
                    "metadata": {}
                },
                {
                    "output_type": "execute_result",
                    "execution_count": 7,
                    "data": {
                        "application/vnd.dataresource+json": {
                            "schema": {
                                "fields": [
                                    {
                                        "name": "country"
                                    },
                                    {
                                        "name": "region"
                                    },
                                    {
                                        "name": "city"
                                    }
                                ]
                            },
                            "data": [
                                {
                                    "0": "USA",
                                    "1": "WA",
                                    "2": "Redmond"
                                },
                                {
                                    "0": "USA",
                                    "1": "WA",
                                    "2": "Tacoma"
                                }
                            ]
                        },
                        "text/html": "<table><tr><th>country</th><th>region</th><th>city</th></tr><tr><td>USA</td><td>WA</td><td>Redmond</td></tr><tr><td>USA</td><td>WA</td><td>Tacoma</td></tr></table>"
                    },
                    "metadata": {}
                }
            ],
            "execution_count": 7
        },
        {
            "cell_type": "markdown",
            "source": [
                "2.3. El operador EXCEPT retorna solo las filas de la tabla tabla derecha (Sales.Custormers) que no se intersectan con la tabla izquierda."
            ],
            "metadata": {
                "azdata_cell_guid": "3a051271-254d-4e6e-aa70-ed401dbb01f2"
            }
        },
        {
            "cell_type": "code",
            "source": [
                "SELECT country, region, city FROM Sales.Customers\r\n",
                "EXCEPT \r\n",
                "SELECT country, region, city FROM HR.Employees;"
            ],
            "metadata": {
                "azdata_cell_guid": "e663ba7a-e52a-41ee-adff-4d867f78d8b6",
                "language": "sql"
            },
            "outputs": [
                {
                    "output_type": "display_data",
                    "data": {
                        "text/html": "(66 rows affected)"
                    },
                    "metadata": {}
                },
                {
                    "output_type": "display_data",
                    "data": {
                        "text/html": "Total execution time: 00:00:00.013"
                    },
                    "metadata": {}
                },
                {
                    "output_type": "execute_result",
                    "metadata": {},
                    "execution_count": 5,
                    "data": {
                        "application/vnd.dataresource+json": {
                            "schema": {
                                "fields": [
                                    {
                                        "name": "country"
                                    },
                                    {
                                        "name": "region"
                                    },
                                    {
                                        "name": "city"
                                    }
                                ]
                            },
                            "data": [
                                {
                                    "country": "Argentina",
                                    "region": "NULL",
                                    "city": "Buenos Aires"
                                },
                                {
                                    "country": "Austria",
                                    "region": "NULL",
                                    "city": "Graz"
                                },
                                {
                                    "country": "Austria",
                                    "region": "NULL",
                                    "city": "Salzburg"
                                },
                                {
                                    "country": "Belgium",
                                    "region": "NULL",
                                    "city": "Bruxelles"
                                },
                                {
                                    "country": "Belgium",
                                    "region": "NULL",
                                    "city": "Charleroi"
                                },
                                {
                                    "country": "Brazil",
                                    "region": "RJ",
                                    "city": "Rio de Janeiro"
                                },
                                {
                                    "country": "Brazil",
                                    "region": "SP",
                                    "city": "Campinas"
                                },
                                {
                                    "country": "Brazil",
                                    "region": "SP",
                                    "city": "Resende"
                                },
                                {
                                    "country": "Brazil",
                                    "region": "SP",
                                    "city": "Sao Paulo"
                                },
                                {
                                    "country": "Canada",
                                    "region": "BC",
                                    "city": "Tsawassen"
                                },
                                {
                                    "country": "Canada",
                                    "region": "BC",
                                    "city": "Vancouver"
                                },
                                {
                                    "country": "Canada",
                                    "region": "Québec",
                                    "city": "Montréal"
                                },
                                {
                                    "country": "Denmark",
                                    "region": "NULL",
                                    "city": "Århus"
                                },
                                {
                                    "country": "Denmark",
                                    "region": "NULL",
                                    "city": "Kobenhavn"
                                },
                                {
                                    "country": "Finland",
                                    "region": "NULL",
                                    "city": "Helsinki"
                                },
                                {
                                    "country": "Finland",
                                    "region": "NULL",
                                    "city": "Oulu"
                                },
                                {
                                    "country": "France",
                                    "region": "NULL",
                                    "city": "Lille"
                                },
                                {
                                    "country": "France",
                                    "region": "NULL",
                                    "city": "Lyon"
                                },
                                {
                                    "country": "France",
                                    "region": "NULL",
                                    "city": "Marseille"
                                },
                                {
                                    "country": "France",
                                    "region": "NULL",
                                    "city": "Nantes"
                                },
                                {
                                    "country": "France",
                                    "region": "NULL",
                                    "city": "Paris"
                                },
                                {
                                    "country": "France",
                                    "region": "NULL",
                                    "city": "Reims"
                                },
                                {
                                    "country": "France",
                                    "region": "NULL",
                                    "city": "Strasbourg"
                                },
                                {
                                    "country": "France",
                                    "region": "NULL",
                                    "city": "Toulouse"
                                },
                                {
                                    "country": "France",
                                    "region": "NULL",
                                    "city": "Versailles"
                                },
                                {
                                    "country": "Germany",
                                    "region": "NULL",
                                    "city": "Aachen"
                                },
                                {
                                    "country": "Germany",
                                    "region": "NULL",
                                    "city": "Berlin"
                                },
                                {
                                    "country": "Germany",
                                    "region": "NULL",
                                    "city": "Brandenburg"
                                },
                                {
                                    "country": "Germany",
                                    "region": "NULL",
                                    "city": "Cunewalde"
                                },
                                {
                                    "country": "Germany",
                                    "region": "NULL",
                                    "city": "Frankfurt a.M."
                                },
                                {
                                    "country": "Germany",
                                    "region": "NULL",
                                    "city": "Köln"
                                },
                                {
                                    "country": "Germany",
                                    "region": "NULL",
                                    "city": "Leipzig"
                                },
                                {
                                    "country": "Germany",
                                    "region": "NULL",
                                    "city": "Mannheim"
                                },
                                {
                                    "country": "Germany",
                                    "region": "NULL",
                                    "city": "München"
                                },
                                {
                                    "country": "Germany",
                                    "region": "NULL",
                                    "city": "Münster"
                                },
                                {
                                    "country": "Germany",
                                    "region": "NULL",
                                    "city": "Stuttgart"
                                },
                                {
                                    "country": "Ireland",
                                    "region": "Co. Cork",
                                    "city": "Cork"
                                },
                                {
                                    "country": "Italy",
                                    "region": "NULL",
                                    "city": "Bergamo"
                                },
                                {
                                    "country": "Italy",
                                    "region": "NULL",
                                    "city": "Reggio Emilia"
                                },
                                {
                                    "country": "Italy",
                                    "region": "NULL",
                                    "city": "Torino"
                                },
                                {
                                    "country": "Mexico",
                                    "region": "NULL",
                                    "city": "México D.F."
                                },
                                {
                                    "country": "Norway",
                                    "region": "NULL",
                                    "city": "Stavern"
                                },
                                {
                                    "country": "Poland",
                                    "region": "NULL",
                                    "city": "Warszawa"
                                },
                                {
                                    "country": "Portugal",
                                    "region": "NULL",
                                    "city": "Lisboa"
                                },
                                {
                                    "country": "Spain",
                                    "region": "NULL",
                                    "city": "Barcelona"
                                },
                                {
                                    "country": "Spain",
                                    "region": "NULL",
                                    "city": "Madrid"
                                },
                                {
                                    "country": "Spain",
                                    "region": "NULL",
                                    "city": "Sevilla"
                                },
                                {
                                    "country": "Sweden",
                                    "region": "NULL",
                                    "city": "Bräcke"
                                },
                                {
                                    "country": "Sweden",
                                    "region": "NULL",
                                    "city": "Luleå"
                                },
                                {
                                    "country": "Switzerland",
                                    "region": "NULL",
                                    "city": "Bern"
                                },
                                {
                                    "country": "Switzerland",
                                    "region": "NULL",
                                    "city": "Genève"
                                },
                                {
                                    "country": "UK",
                                    "region": "Isle of Wight",
                                    "city": "Cowes"
                                },
                                {
                                    "country": "USA",
                                    "region": "AK",
                                    "city": "Anchorage"
                                },
                                {
                                    "country": "USA",
                                    "region": "CA",
                                    "city": "San Francisco"
                                },
                                {
                                    "country": "USA",
                                    "region": "ID",
                                    "city": "Boise"
                                },
                                {
                                    "country": "USA",
                                    "region": "MT",
                                    "city": "Butte"
                                },
                                {
                                    "country": "USA",
                                    "region": "NM",
                                    "city": "Albuquerque"
                                },
                                {
                                    "country": "USA",
                                    "region": "OR",
                                    "city": "Elgin"
                                },
                                {
                                    "country": "USA",
                                    "region": "OR",
                                    "city": "Eugene"
                                },
                                {
                                    "country": "USA",
                                    "region": "OR",
                                    "city": "Portland"
                                },
                                {
                                    "country": "USA",
                                    "region": "WA",
                                    "city": "Walla Walla"
                                },
                                {
                                    "country": "USA",
                                    "region": "WY",
                                    "city": "Lander"
                                },
                                {
                                    "country": "Venezuela",
                                    "region": "DF",
                                    "city": "Caracas"
                                },
                                {
                                    "country": "Venezuela",
                                    "region": "Lara",
                                    "city": "Barquisimeto"
                                },
                                {
                                    "country": "Venezuela",
                                    "region": "Nueva Esparta",
                                    "city": "I. de Margarita"
                                },
                                {
                                    "country": "Venezuela",
                                    "region": "Táchira",
                                    "city": "San Cristóbal"
                                }
                            ]
                        },
                        "text/html": [
                            "<table>",
                            "<tr><th>country</th><th>region</th><th>city</th></tr>",
                            "<tr><td>Argentina</td><td>NULL</td><td>Buenos Aires</td></tr>",
                            "<tr><td>Austria</td><td>NULL</td><td>Graz</td></tr>",
                            "<tr><td>Austria</td><td>NULL</td><td>Salzburg</td></tr>",
                            "<tr><td>Belgium</td><td>NULL</td><td>Bruxelles</td></tr>",
                            "<tr><td>Belgium</td><td>NULL</td><td>Charleroi</td></tr>",
                            "<tr><td>Brazil</td><td>RJ</td><td>Rio de Janeiro</td></tr>",
                            "<tr><td>Brazil</td><td>SP</td><td>Campinas</td></tr>",
                            "<tr><td>Brazil</td><td>SP</td><td>Resende</td></tr>",
                            "<tr><td>Brazil</td><td>SP</td><td>Sao Paulo</td></tr>",
                            "<tr><td>Canada</td><td>BC</td><td>Tsawassen</td></tr>",
                            "<tr><td>Canada</td><td>BC</td><td>Vancouver</td></tr>",
                            "<tr><td>Canada</td><td>Québec</td><td>Montréal</td></tr>",
                            "<tr><td>Denmark</td><td>NULL</td><td>Århus</td></tr>",
                            "<tr><td>Denmark</td><td>NULL</td><td>Kobenhavn</td></tr>",
                            "<tr><td>Finland</td><td>NULL</td><td>Helsinki</td></tr>",
                            "<tr><td>Finland</td><td>NULL</td><td>Oulu</td></tr>",
                            "<tr><td>France</td><td>NULL</td><td>Lille</td></tr>",
                            "<tr><td>France</td><td>NULL</td><td>Lyon</td></tr>",
                            "<tr><td>France</td><td>NULL</td><td>Marseille</td></tr>",
                            "<tr><td>France</td><td>NULL</td><td>Nantes</td></tr>",
                            "<tr><td>France</td><td>NULL</td><td>Paris</td></tr>",
                            "<tr><td>France</td><td>NULL</td><td>Reims</td></tr>",
                            "<tr><td>France</td><td>NULL</td><td>Strasbourg</td></tr>",
                            "<tr><td>France</td><td>NULL</td><td>Toulouse</td></tr>",
                            "<tr><td>France</td><td>NULL</td><td>Versailles</td></tr>",
                            "<tr><td>Germany</td><td>NULL</td><td>Aachen</td></tr>",
                            "<tr><td>Germany</td><td>NULL</td><td>Berlin</td></tr>",
                            "<tr><td>Germany</td><td>NULL</td><td>Brandenburg</td></tr>",
                            "<tr><td>Germany</td><td>NULL</td><td>Cunewalde</td></tr>",
                            "<tr><td>Germany</td><td>NULL</td><td>Frankfurt a.M.</td></tr>",
                            "<tr><td>Germany</td><td>NULL</td><td>Köln</td></tr>",
                            "<tr><td>Germany</td><td>NULL</td><td>Leipzig</td></tr>",
                            "<tr><td>Germany</td><td>NULL</td><td>Mannheim</td></tr>",
                            "<tr><td>Germany</td><td>NULL</td><td>München</td></tr>",
                            "<tr><td>Germany</td><td>NULL</td><td>Münster</td></tr>",
                            "<tr><td>Germany</td><td>NULL</td><td>Stuttgart</td></tr>",
                            "<tr><td>Ireland</td><td>Co. Cork</td><td>Cork</td></tr>",
                            "<tr><td>Italy</td><td>NULL</td><td>Bergamo</td></tr>",
                            "<tr><td>Italy</td><td>NULL</td><td>Reggio Emilia</td></tr>",
                            "<tr><td>Italy</td><td>NULL</td><td>Torino</td></tr>",
                            "<tr><td>Mexico</td><td>NULL</td><td>México D.F.</td></tr>",
                            "<tr><td>Norway</td><td>NULL</td><td>Stavern</td></tr>",
                            "<tr><td>Poland</td><td>NULL</td><td>Warszawa</td></tr>",
                            "<tr><td>Portugal</td><td>NULL</td><td>Lisboa</td></tr>",
                            "<tr><td>Spain</td><td>NULL</td><td>Barcelona</td></tr>",
                            "<tr><td>Spain</td><td>NULL</td><td>Madrid</td></tr>",
                            "<tr><td>Spain</td><td>NULL</td><td>Sevilla</td></tr>",
                            "<tr><td>Sweden</td><td>NULL</td><td>Bräcke</td></tr>",
                            "<tr><td>Sweden</td><td>NULL</td><td>Luleå</td></tr>",
                            "<tr><td>Switzerland</td><td>NULL</td><td>Bern</td></tr>",
                            "<tr><td>Switzerland</td><td>NULL</td><td>Genève</td></tr>",
                            "<tr><td>UK</td><td>Isle of Wight</td><td>Cowes</td></tr>",
                            "<tr><td>USA</td><td>AK</td><td>Anchorage</td></tr>",
                            "<tr><td>USA</td><td>CA</td><td>San Francisco</td></tr>",
                            "<tr><td>USA</td><td>ID</td><td>Boise</td></tr>",
                            "<tr><td>USA</td><td>MT</td><td>Butte</td></tr>",
                            "<tr><td>USA</td><td>NM</td><td>Albuquerque</td></tr>",
                            "<tr><td>USA</td><td>OR</td><td>Elgin</td></tr>",
                            "<tr><td>USA</td><td>OR</td><td>Eugene</td></tr>",
                            "<tr><td>USA</td><td>OR</td><td>Portland</td></tr>",
                            "<tr><td>USA</td><td>WA</td><td>Walla Walla</td></tr>",
                            "<tr><td>USA</td><td>WY</td><td>Lander</td></tr>",
                            "<tr><td>Venezuela</td><td>DF</td><td>Caracas</td></tr>",
                            "<tr><td>Venezuela</td><td>Lara</td><td>Barquisimeto</td></tr>",
                            "<tr><td>Venezuela</td><td>Nueva Esparta</td><td>I. de Margarita</td></tr>",
                            "<tr><td>Venezuela</td><td>Táchira</td><td>San Cristóbal</td></tr>",
                            "</table>"
                        ]
                    }
                }
            ],
            "execution_count": 5
        },
        {
            "cell_type": "markdown",
            "source": [
                "<h2>3. Utilizando el Operador APPLY"
            ],
            "metadata": {
                "azdata_cell_guid": "915d1371-a636-494f-bf85-7ce06b37827b"
            }
        },
        {
            "cell_type": "markdown",
            "source": [
                "3.1. Crear una función de tabla que acepte una variable SupplierID y retorne el top 3 de los productos más costosos de ese proveedor"
            ],
            "metadata": {
                "azdata_cell_guid": "a822cf5f-e2ad-4f38-a3b4-a34946de313d"
            }
        },
        {
            "cell_type": "code",
            "source": [
                "CREATE FUNCTION dbo.fn_TopProductsByShipper\r\n",
                "(@supplierid int)\r\n",
                "RETURNS TABLE\r\n",
                "AS\r\n",
                "RETURN\r\n",
                "\tSELECT TOP (3) productid, productname, unitprice\r\n",
                "\tFROM Production.Products\r\n",
                "\tWHERE supplierid = @supplierid\r\n",
                "\tORDER BY unitprice DESC;\r\n",
                "GO"
            ],
            "metadata": {
                "azdata_cell_guid": "6685ff3a-f25b-4b2b-aefd-381a3589fd3e",
                "language": "sql"
            },
            "outputs": [
                {
                    "output_type": "display_data",
                    "data": {
                        "text/html": "Commands completed successfully."
                    },
                    "metadata": {}
                },
                {
                    "output_type": "display_data",
                    "data": {
                        "text/html": "Total execution time: 00:00:00.009"
                    },
                    "metadata": {}
                }
            ],
            "execution_count": 6
        },
        {
            "cell_type": "markdown",
            "source": [
                "3.2. Probar la función con el proveedor ID=2"
            ],
            "metadata": {
                "azdata_cell_guid": "22513e22-9b32-44bc-b1f9-d743bc8d7497"
            }
        },
        {
            "cell_type": "code",
            "source": [
                "SELECT * FROM dbo.fn_TopProductsByShipper(2);\r\n",
                ""
            ],
            "metadata": {
                "azdata_cell_guid": "b6e4cd97-9612-4ef7-a42e-958aa65e09de",
                "language": "sql"
            },
            "outputs": [
                {
                    "output_type": "display_data",
                    "data": {
                        "text/html": "(3 rows affected)"
                    },
                    "metadata": {}
                },
                {
                    "output_type": "display_data",
                    "data": {
                        "text/html": "Total execution time: 00:00:00.017"
                    },
                    "metadata": {}
                },
                {
                    "output_type": "execute_result",
                    "metadata": {},
                    "execution_count": 7,
                    "data": {
                        "application/vnd.dataresource+json": {
                            "schema": {
                                "fields": [
                                    {
                                        "name": "productid"
                                    },
                                    {
                                        "name": "productname"
                                    },
                                    {
                                        "name": "unitprice"
                                    }
                                ]
                            },
                            "data": [
                                {
                                    "productid": "4",
                                    "productname": "Product KSBRM",
                                    "unitprice": "22.00"
                                },
                                {
                                    "productid": "5",
                                    "productname": "Product EPEIM",
                                    "unitprice": "21.35"
                                },
                                {
                                    "productid": "65",
                                    "productname": "Product XYWBZ",
                                    "unitprice": "21.05"
                                }
                            ]
                        },
                        "text/html": [
                            "<table>",
                            "<tr><th>productid</th><th>productname</th><th>unitprice</th></tr>",
                            "<tr><td>4</td><td>Product KSBRM</td><td>22.00</td></tr>",
                            "<tr><td>5</td><td>Product EPEIM</td><td>21.35</td></tr>",
                            "<tr><td>65</td><td>Product XYWBZ</td><td>21.05</td></tr>",
                            "</table>"
                        ]
                    }
                }
            ],
            "execution_count": 7
        },
        {
            "cell_type": "markdown",
            "source": [
                "3.3. Probar con el operador CROSS APPLY"
            ],
            "metadata": {
                "azdata_cell_guid": "24c11369-5546-4000-a71a-dddf05b9accb"
            }
        },
        {
            "cell_type": "code",
            "source": [
                "SELECT S.supplierid, S.companyname,\r\n",
                "\tP.productid, P.productname, P.unitprice\r\n",
                "FROM Production.Suppliers AS S\r\n",
                "CROSS APPLY dbo.fn_TopProductsByShipper(S.supplierid) AS P\r\n",
                "ORDER BY S.supplierid ASC, P.unitprice DESC;"
            ],
            "metadata": {
                "azdata_cell_guid": "60b49bd1-b804-4088-b66b-bea80ff6a248",
                "language": "sql"
            },
            "outputs": [
                {
                    "output_type": "display_data",
                    "data": {
                        "text/html": "(71 rows affected)"
                    },
                    "metadata": {}
                },
                {
                    "output_type": "display_data",
                    "data": {
                        "text/html": "Total execution time: 00:00:00.022"
                    },
                    "metadata": {}
                },
                {
                    "output_type": "execute_result",
                    "metadata": {},
                    "execution_count": 8,
                    "data": {
                        "application/vnd.dataresource+json": {
                            "schema": {
                                "fields": [
                                    {
                                        "name": "supplierid"
                                    },
                                    {
                                        "name": "companyname"
                                    },
                                    {
                                        "name": "productid"
                                    },
                                    {
                                        "name": "productname"
                                    },
                                    {
                                        "name": "unitprice"
                                    }
                                ]
                            },
                            "data": [
                                {
                                    "supplierid": "1",
                                    "companyname": "Supplier SWRXU",
                                    "productid": "2",
                                    "productname": "Product RECZE",
                                    "unitprice": "19.00"
                                },
                                {
                                    "supplierid": "1",
                                    "companyname": "Supplier SWRXU",
                                    "productid": "1",
                                    "productname": "Product HHYDP",
                                    "unitprice": "18.00"
                                },
                                {
                                    "supplierid": "1",
                                    "companyname": "Supplier SWRXU",
                                    "productid": "3",
                                    "productname": "Product IMEHJ",
                                    "unitprice": "10.00"
                                },
                                {
                                    "supplierid": "2",
                                    "companyname": "Supplier VHQZD",
                                    "productid": "4",
                                    "productname": "Product KSBRM",
                                    "unitprice": "22.00"
                                },
                                {
                                    "supplierid": "2",
                                    "companyname": "Supplier VHQZD",
                                    "productid": "5",
                                    "productname": "Product EPEIM",
                                    "unitprice": "21.35"
                                },
                                {
                                    "supplierid": "2",
                                    "companyname": "Supplier VHQZD",
                                    "productid": "65",
                                    "productname": "Product XYWBZ",
                                    "unitprice": "21.05"
                                },
                                {
                                    "supplierid": "3",
                                    "companyname": "Supplier STUAZ",
                                    "productid": "8",
                                    "productname": "Product WVJFP",
                                    "unitprice": "40.00"
                                },
                                {
                                    "supplierid": "3",
                                    "companyname": "Supplier STUAZ",
                                    "productid": "7",
                                    "productname": "Product HMLNI",
                                    "unitprice": "30.00"
                                },
                                {
                                    "supplierid": "3",
                                    "companyname": "Supplier STUAZ",
                                    "productid": "6",
                                    "productname": "Product VAIIV",
                                    "unitprice": "25.00"
                                },
                                {
                                    "supplierid": "4",
                                    "companyname": "Supplier QOVFD",
                                    "productid": "9",
                                    "productname": "Product AOZBW",
                                    "unitprice": "97.00"
                                },
                                {
                                    "supplierid": "4",
                                    "companyname": "Supplier QOVFD",
                                    "productid": "10",
                                    "productname": "Product YHXGE",
                                    "unitprice": "31.00"
                                },
                                {
                                    "supplierid": "4",
                                    "companyname": "Supplier QOVFD",
                                    "productid": "74",
                                    "productname": "Product BKAZJ",
                                    "unitprice": "10.00"
                                },
                                {
                                    "supplierid": "5",
                                    "companyname": "Supplier EQPNC",
                                    "productid": "12",
                                    "productname": "Product OSFNS",
                                    "unitprice": "38.00"
                                },
                                {
                                    "supplierid": "5",
                                    "companyname": "Supplier EQPNC",
                                    "productid": "11",
                                    "productname": "Product QMVUN",
                                    "unitprice": "21.00"
                                },
                                {
                                    "supplierid": "6",
                                    "companyname": "Supplier QWUSF",
                                    "productid": "14",
                                    "productname": "Product PWCJB",
                                    "unitprice": "23.25"
                                },
                                {
                                    "supplierid": "6",
                                    "companyname": "Supplier QWUSF",
                                    "productid": "15",
                                    "productname": "Product KSZOI",
                                    "unitprice": "15.50"
                                },
                                {
                                    "supplierid": "6",
                                    "companyname": "Supplier QWUSF",
                                    "productid": "13",
                                    "productname": "Product POXFU",
                                    "unitprice": "6.00"
                                },
                                {
                                    "supplierid": "7",
                                    "companyname": "Supplier GQRCV",
                                    "productid": "18",
                                    "productname": "Product CKEDC",
                                    "unitprice": "62.50"
                                },
                                {
                                    "supplierid": "7",
                                    "companyname": "Supplier GQRCV",
                                    "productid": "63",
                                    "productname": "Product ICKNK",
                                    "unitprice": "43.90"
                                },
                                {
                                    "supplierid": "7",
                                    "companyname": "Supplier GQRCV",
                                    "productid": "17",
                                    "productname": "Product BLCAX",
                                    "unitprice": "39.00"
                                },
                                {
                                    "supplierid": "8",
                                    "companyname": "Supplier BWGYE",
                                    "productid": "20",
                                    "productname": "Product QHFFP",
                                    "unitprice": "81.00"
                                },
                                {
                                    "supplierid": "8",
                                    "companyname": "Supplier BWGYE",
                                    "productid": "68",
                                    "productname": "Product TBTBL",
                                    "unitprice": "12.50"
                                },
                                {
                                    "supplierid": "8",
                                    "companyname": "Supplier BWGYE",
                                    "productid": "21",
                                    "productname": "Product VJZZH",
                                    "unitprice": "10.00"
                                },
                                {
                                    "supplierid": "9",
                                    "companyname": "Supplier QQYEU",
                                    "productid": "22",
                                    "productname": "Product CPHFY",
                                    "unitprice": "21.00"
                                },
                                {
                                    "supplierid": "9",
                                    "companyname": "Supplier QQYEU",
                                    "productid": "23",
                                    "productname": "Product JLUDZ",
                                    "unitprice": "9.00"
                                },
                                {
                                    "supplierid": "10",
                                    "companyname": "Supplier UNAHG",
                                    "productid": "24",
                                    "productname": "Product QOGNU",
                                    "unitprice": "4.50"
                                },
                                {
                                    "supplierid": "11",
                                    "companyname": "Supplier ZPYVS",
                                    "productid": "27",
                                    "productname": "Product SMIOH",
                                    "unitprice": "43.90"
                                },
                                {
                                    "supplierid": "11",
                                    "companyname": "Supplier ZPYVS",
                                    "productid": "26",
                                    "productname": "Product HLGZA",
                                    "unitprice": "31.23"
                                },
                                {
                                    "supplierid": "11",
                                    "companyname": "Supplier ZPYVS",
                                    "productid": "25",
                                    "productname": "Product LYLNI",
                                    "unitprice": "14.00"
                                },
                                {
                                    "supplierid": "12",
                                    "companyname": "Supplier SVIYA",
                                    "productid": "29",
                                    "productname": "Product VJXYN",
                                    "unitprice": "123.79"
                                },
                                {
                                    "supplierid": "12",
                                    "companyname": "Supplier SVIYA",
                                    "productid": "28",
                                    "productname": "Product OFBNT",
                                    "unitprice": "45.60"
                                },
                                {
                                    "supplierid": "12",
                                    "companyname": "Supplier SVIYA",
                                    "productid": "64",
                                    "productname": "Product HCQDE",
                                    "unitprice": "33.25"
                                },
                                {
                                    "supplierid": "13",
                                    "companyname": "Supplier TEGSC",
                                    "productid": "30",
                                    "productname": "Product LYERX",
                                    "unitprice": "25.89"
                                },
                                {
                                    "supplierid": "14",
                                    "companyname": "Supplier KEREV",
                                    "productid": "72",
                                    "productname": "Product GEEOO",
                                    "unitprice": "34.80"
                                },
                                {
                                    "supplierid": "14",
                                    "companyname": "Supplier KEREV",
                                    "productid": "32",
                                    "productname": "Product NUNAW",
                                    "unitprice": "32.00"
                                },
                                {
                                    "supplierid": "14",
                                    "companyname": "Supplier KEREV",
                                    "productid": "31",
                                    "productname": "Product XWOXC",
                                    "unitprice": "12.50"
                                },
                                {
                                    "supplierid": "15",
                                    "companyname": "Supplier NZLIF",
                                    "productid": "69",
                                    "productname": "Product COAXA",
                                    "unitprice": "36.00"
                                },
                                {
                                    "supplierid": "15",
                                    "companyname": "Supplier NZLIF",
                                    "productid": "71",
                                    "productname": "Product MYMOI",
                                    "unitprice": "21.50"
                                },
                                {
                                    "supplierid": "15",
                                    "companyname": "Supplier NZLIF",
                                    "productid": "33",
                                    "productname": "Product ASTMN",
                                    "unitprice": "2.50"
                                },
                                {
                                    "supplierid": "16",
                                    "companyname": "Supplier UHZRG",
                                    "productid": "35",
                                    "productname": "Product NEVTJ",
                                    "unitprice": "18.00"
                                },
                                {
                                    "supplierid": "16",
                                    "companyname": "Supplier UHZRG",
                                    "productid": "67",
                                    "productname": "Product XLXQF",
                                    "unitprice": "14.00"
                                },
                                {
                                    "supplierid": "16",
                                    "companyname": "Supplier UHZRG",
                                    "productid": "34",
                                    "productname": "Product SWNJY",
                                    "unitprice": "14.00"
                                },
                                {
                                    "supplierid": "17",
                                    "companyname": "Supplier QZGUF",
                                    "productid": "37",
                                    "productname": "Product EVFFA",
                                    "unitprice": "26.00"
                                },
                                {
                                    "supplierid": "17",
                                    "companyname": "Supplier QZGUF",
                                    "productid": "36",
                                    "productname": "Product GMKIJ",
                                    "unitprice": "19.00"
                                },
                                {
                                    "supplierid": "17",
                                    "companyname": "Supplier QZGUF",
                                    "productid": "73",
                                    "productname": "Product WEUJZ",
                                    "unitprice": "15.00"
                                },
                                {
                                    "supplierid": "18",
                                    "companyname": "Supplier LVJUA",
                                    "productid": "38",
                                    "productname": "Product QDOMO",
                                    "unitprice": "263.50"
                                },
                                {
                                    "supplierid": "18",
                                    "companyname": "Supplier LVJUA",
                                    "productid": "39",
                                    "productname": "Product LSOFL",
                                    "unitprice": "18.00"
                                },
                                {
                                    "supplierid": "19",
                                    "companyname": "Supplier JDNUG",
                                    "productid": "40",
                                    "productname": "Product YZIXQ",
                                    "unitprice": "18.40"
                                },
                                {
                                    "supplierid": "19",
                                    "companyname": "Supplier JDNUG",
                                    "productid": "41",
                                    "productname": "Product TTEEX",
                                    "unitprice": "9.65"
                                },
                                {
                                    "supplierid": "20",
                                    "companyname": "Supplier CIYNM",
                                    "productid": "43",
                                    "productname": "Product ZZZHR",
                                    "unitprice": "46.00"
                                },
                                {
                                    "supplierid": "20",
                                    "companyname": "Supplier CIYNM",
                                    "productid": "44",
                                    "productname": "Product VJIEO",
                                    "unitprice": "19.45"
                                },
                                {
                                    "supplierid": "20",
                                    "companyname": "Supplier CIYNM",
                                    "productid": "42",
                                    "productname": "Product RJVNM",
                                    "unitprice": "14.00"
                                },
                                {
                                    "supplierid": "21",
                                    "companyname": "Supplier XOXZA",
                                    "productid": "46",
                                    "productname": "Product CBRRL",
                                    "unitprice": "12.00"
                                },
                                {
                                    "supplierid": "21",
                                    "companyname": "Supplier XOXZA",
                                    "productid": "45",
                                    "productname": "Product AQOKR",
                                    "unitprice": "9.50"
                                },
                                {
                                    "supplierid": "22",
                                    "companyname": "Supplier FNUXM",
                                    "productid": "48",
                                    "productname": "Product MYNXN",
                                    "unitprice": "12.75"
                                },
                                {
                                    "supplierid": "22",
                                    "companyname": "Supplier FNUXM",
                                    "productid": "47",
                                    "productname": "Product EZZPR",
                                    "unitprice": "9.50"
                                },
                                {
                                    "supplierid": "23",
                                    "companyname": "Supplier ELCRN",
                                    "productid": "49",
                                    "productname": "Product FPYPN",
                                    "unitprice": "20.00"
                                },
                                {
                                    "supplierid": "23",
                                    "companyname": "Supplier ELCRN",
                                    "productid": "76",
                                    "productname": "Product JYGFE",
                                    "unitprice": "18.00"
                                },
                                {
                                    "supplierid": "23",
                                    "companyname": "Supplier ELCRN",
                                    "productid": "50",
                                    "productname": "Product BIUDV",
                                    "unitprice": "16.25"
                                },
                                {
                                    "supplierid": "24",
                                    "companyname": "Supplier JNNES",
                                    "productid": "51",
                                    "productname": "Product APITJ",
                                    "unitprice": "53.00"
                                },
                                {
                                    "supplierid": "24",
                                    "companyname": "Supplier JNNES",
                                    "productid": "53",
                                    "productname": "Product BKGEA",
                                    "unitprice": "32.80"
                                },
                                {
                                    "supplierid": "24",
                                    "companyname": "Supplier JNNES",
                                    "productid": "52",
                                    "productname": "Product QSRXF",
                                    "unitprice": "7.00"
                                },
                                {
                                    "supplierid": "25",
                                    "companyname": "Supplier ERVYZ",
                                    "productid": "55",
                                    "productname": "Product YYWRT",
                                    "unitprice": "24.00"
                                },
                                {
                                    "supplierid": "25",
                                    "companyname": "Supplier ERVYZ",
                                    "productid": "54",
                                    "productname": "Product QAQRL",
                                    "unitprice": "7.45"
                                },
                                {
                                    "supplierid": "26",
                                    "companyname": "Supplier ZWZDM",
                                    "productid": "56",
                                    "productname": "Product VKCMF",
                                    "unitprice": "38.00"
                                },
                                {
                                    "supplierid": "26",
                                    "companyname": "Supplier ZWZDM",
                                    "productid": "57",
                                    "productname": "Product OVLQI",
                                    "unitprice": "19.50"
                                },
                                {
                                    "supplierid": "27",
                                    "companyname": "Supplier ZRYDZ",
                                    "productid": "58",
                                    "productname": "Product ACRVI",
                                    "unitprice": "13.25"
                                },
                                {
                                    "supplierid": "28",
                                    "companyname": "Supplier OAVQT",
                                    "productid": "59",
                                    "productname": "Product UKXRI",
                                    "unitprice": "55.00"
                                },
                                {
                                    "supplierid": "28",
                                    "companyname": "Supplier OAVQT",
                                    "productid": "60",
                                    "productname": "Product WHBYK",
                                    "unitprice": "34.00"
                                },
                                {
                                    "supplierid": "29",
                                    "companyname": "Supplier OGLRK",
                                    "productid": "62",
                                    "productname": "Product WUXYK",
                                    "unitprice": "49.30"
                                },
                                {
                                    "supplierid": "29",
                                    "companyname": "Supplier OGLRK",
                                    "productid": "61",
                                    "productname": "Product XYZPE",
                                    "unitprice": "28.50"
                                }
                            ]
                        },
                        "text/html": [
                            "<table>",
                            "<tr><th>supplierid</th><th>companyname</th><th>productid</th><th>productname</th><th>unitprice</th></tr>",
                            "<tr><td>1</td><td>Supplier SWRXU</td><td>2</td><td>Product RECZE</td><td>19.00</td></tr>",
                            "<tr><td>1</td><td>Supplier SWRXU</td><td>1</td><td>Product HHYDP</td><td>18.00</td></tr>",
                            "<tr><td>1</td><td>Supplier SWRXU</td><td>3</td><td>Product IMEHJ</td><td>10.00</td></tr>",
                            "<tr><td>2</td><td>Supplier VHQZD</td><td>4</td><td>Product KSBRM</td><td>22.00</td></tr>",
                            "<tr><td>2</td><td>Supplier VHQZD</td><td>5</td><td>Product EPEIM</td><td>21.35</td></tr>",
                            "<tr><td>2</td><td>Supplier VHQZD</td><td>65</td><td>Product XYWBZ</td><td>21.05</td></tr>",
                            "<tr><td>3</td><td>Supplier STUAZ</td><td>8</td><td>Product WVJFP</td><td>40.00</td></tr>",
                            "<tr><td>3</td><td>Supplier STUAZ</td><td>7</td><td>Product HMLNI</td><td>30.00</td></tr>",
                            "<tr><td>3</td><td>Supplier STUAZ</td><td>6</td><td>Product VAIIV</td><td>25.00</td></tr>",
                            "<tr><td>4</td><td>Supplier QOVFD</td><td>9</td><td>Product AOZBW</td><td>97.00</td></tr>",
                            "<tr><td>4</td><td>Supplier QOVFD</td><td>10</td><td>Product YHXGE</td><td>31.00</td></tr>",
                            "<tr><td>4</td><td>Supplier QOVFD</td><td>74</td><td>Product BKAZJ</td><td>10.00</td></tr>",
                            "<tr><td>5</td><td>Supplier EQPNC</td><td>12</td><td>Product OSFNS</td><td>38.00</td></tr>",
                            "<tr><td>5</td><td>Supplier EQPNC</td><td>11</td><td>Product QMVUN</td><td>21.00</td></tr>",
                            "<tr><td>6</td><td>Supplier QWUSF</td><td>14</td><td>Product PWCJB</td><td>23.25</td></tr>",
                            "<tr><td>6</td><td>Supplier QWUSF</td><td>15</td><td>Product KSZOI</td><td>15.50</td></tr>",
                            "<tr><td>6</td><td>Supplier QWUSF</td><td>13</td><td>Product POXFU</td><td>6.00</td></tr>",
                            "<tr><td>7</td><td>Supplier GQRCV</td><td>18</td><td>Product CKEDC</td><td>62.50</td></tr>",
                            "<tr><td>7</td><td>Supplier GQRCV</td><td>63</td><td>Product ICKNK</td><td>43.90</td></tr>",
                            "<tr><td>7</td><td>Supplier GQRCV</td><td>17</td><td>Product BLCAX</td><td>39.00</td></tr>",
                            "<tr><td>8</td><td>Supplier BWGYE</td><td>20</td><td>Product QHFFP</td><td>81.00</td></tr>",
                            "<tr><td>8</td><td>Supplier BWGYE</td><td>68</td><td>Product TBTBL</td><td>12.50</td></tr>",
                            "<tr><td>8</td><td>Supplier BWGYE</td><td>21</td><td>Product VJZZH</td><td>10.00</td></tr>",
                            "<tr><td>9</td><td>Supplier QQYEU</td><td>22</td><td>Product CPHFY</td><td>21.00</td></tr>",
                            "<tr><td>9</td><td>Supplier QQYEU</td><td>23</td><td>Product JLUDZ</td><td>9.00</td></tr>",
                            "<tr><td>10</td><td>Supplier UNAHG</td><td>24</td><td>Product QOGNU</td><td>4.50</td></tr>",
                            "<tr><td>11</td><td>Supplier ZPYVS</td><td>27</td><td>Product SMIOH</td><td>43.90</td></tr>",
                            "<tr><td>11</td><td>Supplier ZPYVS</td><td>26</td><td>Product HLGZA</td><td>31.23</td></tr>",
                            "<tr><td>11</td><td>Supplier ZPYVS</td><td>25</td><td>Product LYLNI</td><td>14.00</td></tr>",
                            "<tr><td>12</td><td>Supplier SVIYA</td><td>29</td><td>Product VJXYN</td><td>123.79</td></tr>",
                            "<tr><td>12</td><td>Supplier SVIYA</td><td>28</td><td>Product OFBNT</td><td>45.60</td></tr>",
                            "<tr><td>12</td><td>Supplier SVIYA</td><td>64</td><td>Product HCQDE</td><td>33.25</td></tr>",
                            "<tr><td>13</td><td>Supplier TEGSC</td><td>30</td><td>Product LYERX</td><td>25.89</td></tr>",
                            "<tr><td>14</td><td>Supplier KEREV</td><td>72</td><td>Product GEEOO</td><td>34.80</td></tr>",
                            "<tr><td>14</td><td>Supplier KEREV</td><td>32</td><td>Product NUNAW</td><td>32.00</td></tr>",
                            "<tr><td>14</td><td>Supplier KEREV</td><td>31</td><td>Product XWOXC</td><td>12.50</td></tr>",
                            "<tr><td>15</td><td>Supplier NZLIF</td><td>69</td><td>Product COAXA</td><td>36.00</td></tr>",
                            "<tr><td>15</td><td>Supplier NZLIF</td><td>71</td><td>Product MYMOI</td><td>21.50</td></tr>",
                            "<tr><td>15</td><td>Supplier NZLIF</td><td>33</td><td>Product ASTMN</td><td>2.50</td></tr>",
                            "<tr><td>16</td><td>Supplier UHZRG</td><td>35</td><td>Product NEVTJ</td><td>18.00</td></tr>",
                            "<tr><td>16</td><td>Supplier UHZRG</td><td>67</td><td>Product XLXQF</td><td>14.00</td></tr>",
                            "<tr><td>16</td><td>Supplier UHZRG</td><td>34</td><td>Product SWNJY</td><td>14.00</td></tr>",
                            "<tr><td>17</td><td>Supplier QZGUF</td><td>37</td><td>Product EVFFA</td><td>26.00</td></tr>",
                            "<tr><td>17</td><td>Supplier QZGUF</td><td>36</td><td>Product GMKIJ</td><td>19.00</td></tr>",
                            "<tr><td>17</td><td>Supplier QZGUF</td><td>73</td><td>Product WEUJZ</td><td>15.00</td></tr>",
                            "<tr><td>18</td><td>Supplier LVJUA</td><td>38</td><td>Product QDOMO</td><td>263.50</td></tr>",
                            "<tr><td>18</td><td>Supplier LVJUA</td><td>39</td><td>Product LSOFL</td><td>18.00</td></tr>",
                            "<tr><td>19</td><td>Supplier JDNUG</td><td>40</td><td>Product YZIXQ</td><td>18.40</td></tr>",
                            "<tr><td>19</td><td>Supplier JDNUG</td><td>41</td><td>Product TTEEX</td><td>9.65</td></tr>",
                            "<tr><td>20</td><td>Supplier CIYNM</td><td>43</td><td>Product ZZZHR</td><td>46.00</td></tr>",
                            "<tr><td>20</td><td>Supplier CIYNM</td><td>44</td><td>Product VJIEO</td><td>19.45</td></tr>",
                            "<tr><td>20</td><td>Supplier CIYNM</td><td>42</td><td>Product RJVNM</td><td>14.00</td></tr>",
                            "<tr><td>21</td><td>Supplier XOXZA</td><td>46</td><td>Product CBRRL</td><td>12.00</td></tr>",
                            "<tr><td>21</td><td>Supplier XOXZA</td><td>45</td><td>Product AQOKR</td><td>9.50</td></tr>",
                            "<tr><td>22</td><td>Supplier FNUXM</td><td>48</td><td>Product MYNXN</td><td>12.75</td></tr>",
                            "<tr><td>22</td><td>Supplier FNUXM</td><td>47</td><td>Product EZZPR</td><td>9.50</td></tr>",
                            "<tr><td>23</td><td>Supplier ELCRN</td><td>49</td><td>Product FPYPN</td><td>20.00</td></tr>",
                            "<tr><td>23</td><td>Supplier ELCRN</td><td>76</td><td>Product JYGFE</td><td>18.00</td></tr>",
                            "<tr><td>23</td><td>Supplier ELCRN</td><td>50</td><td>Product BIUDV</td><td>16.25</td></tr>",
                            "<tr><td>24</td><td>Supplier JNNES</td><td>51</td><td>Product APITJ</td><td>53.00</td></tr>",
                            "<tr><td>24</td><td>Supplier JNNES</td><td>53</td><td>Product BKGEA</td><td>32.80</td></tr>",
                            "<tr><td>24</td><td>Supplier JNNES</td><td>52</td><td>Product QSRXF</td><td>7.00</td></tr>",
                            "<tr><td>25</td><td>Supplier ERVYZ</td><td>55</td><td>Product YYWRT</td><td>24.00</td></tr>",
                            "<tr><td>25</td><td>Supplier ERVYZ</td><td>54</td><td>Product QAQRL</td><td>7.45</td></tr>",
                            "<tr><td>26</td><td>Supplier ZWZDM</td><td>56</td><td>Product VKCMF</td><td>38.00</td></tr>",
                            "<tr><td>26</td><td>Supplier ZWZDM</td><td>57</td><td>Product OVLQI</td><td>19.50</td></tr>",
                            "<tr><td>27</td><td>Supplier ZRYDZ</td><td>58</td><td>Product ACRVI</td><td>13.25</td></tr>",
                            "<tr><td>28</td><td>Supplier OAVQT</td><td>59</td><td>Product UKXRI</td><td>55.00</td></tr>",
                            "<tr><td>28</td><td>Supplier OAVQT</td><td>60</td><td>Product WHBYK</td><td>34.00</td></tr>",
                            "<tr><td>29</td><td>Supplier OGLRK</td><td>62</td><td>Product WUXYK</td><td>49.30</td></tr>",
                            "<tr><td>29</td><td>Supplier OGLRK</td><td>61</td><td>Product XYZPE</td><td>28.50</td></tr>",
                            "</table>"
                        ]
                    }
                }
            ],
            "execution_count": 8
        },
        {
            "cell_type": "markdown",
            "source": [
                "3.4. Escribir una consulta para buscar clientes sin ordenes generadas."
            ],
            "metadata": {
                "azdata_cell_guid": "54f042c1-a4d5-4972-9a86-4ace8946d4fb"
            }
        },
        {
            "cell_type": "code",
            "source": [
                "SELECT C.custid, C.companyname\r\n",
                "FROM Sales.Customers AS C --91 customers\r\n",
                "LEFT OUTER JOIN Sales.Orders AS O -- 830 orders\r\n",
                "ON C.custid = O.custid --832 results with NULL cust"
            ],
            "metadata": {
                "azdata_cell_guid": "98a90874-75b1-4c0a-b962-733412c2792f",
                "tags": [],
                "language": "sql"
            },
            "outputs": [
                {
                    "output_type": "display_data",
                    "data": {
                        "text/html": "(832 rows affected)"
                    },
                    "metadata": {}
                },
                {
                    "output_type": "display_data",
                    "data": {
                        "text/html": "Total execution time: 00:00:00.020"
                    },
                    "metadata": {}
                },
                {
                    "output_type": "execute_result",
                    "metadata": {},
                    "execution_count": 9,
                    "data": {
                        "application/vnd.dataresource+json": {
                            "schema": {
                                "fields": [
                                    {
                                        "name": "custid"
                                    },
                                    {
                                        "name": "companyname"
                                    }
                                ]
                            },
                            "data": [
                                {
                                    "custid": "1",
                                    "companyname": "Customer NRZBB"
                                },
                                {
                                    "custid": "1",
                                    "companyname": "Customer NRZBB"
                                },
                                {
                                    "custid": "1",
                                    "companyname": "Customer NRZBB"
                                },
                                {
                                    "custid": "1",
                                    "companyname": "Customer NRZBB"
                                },
                                {
                                    "custid": "1",
                                    "companyname": "Customer NRZBB"
                                },
                                {
                                    "custid": "1",
                                    "companyname": "Customer NRZBB"
                                },
                                {
                                    "custid": "2",
                                    "companyname": "Customer MLTDN"
                                },
                                {
                                    "custid": "2",
                                    "companyname": "Customer MLTDN"
                                },
                                {
                                    "custid": "2",
                                    "companyname": "Customer MLTDN"
                                },
                                {
                                    "custid": "2",
                                    "companyname": "Customer MLTDN"
                                },
                                {
                                    "custid": "3",
                                    "companyname": "Customer KBUDE"
                                },
                                {
                                    "custid": "3",
                                    "companyname": "Customer KBUDE"
                                },
                                {
                                    "custid": "3",
                                    "companyname": "Customer KBUDE"
                                },
                                {
                                    "custid": "3",
                                    "companyname": "Customer KBUDE"
                                },
                                {
                                    "custid": "3",
                                    "companyname": "Customer KBUDE"
                                },
                                {
                                    "custid": "3",
                                    "companyname": "Customer KBUDE"
                                },
                                {
                                    "custid": "3",
                                    "companyname": "Customer KBUDE"
                                },
                                {
                                    "custid": "4",
                                    "companyname": "Customer HFBZG"
                                },
                                {
                                    "custid": "4",
                                    "companyname": "Customer HFBZG"
                                },
                                {
                                    "custid": "4",
                                    "companyname": "Customer HFBZG"
                                },
                                {
                                    "custid": "4",
                                    "companyname": "Customer HFBZG"
                                },
                                {
                                    "custid": "4",
                                    "companyname": "Customer HFBZG"
                                },
                                {
                                    "custid": "4",
                                    "companyname": "Customer HFBZG"
                                },
                                {
                                    "custid": "4",
                                    "companyname": "Customer HFBZG"
                                },
                                {
                                    "custid": "4",
                                    "companyname": "Customer HFBZG"
                                },
                                {
                                    "custid": "4",
                                    "companyname": "Customer HFBZG"
                                },
                                {
                                    "custid": "4",
                                    "companyname": "Customer HFBZG"
                                },
                                {
                                    "custid": "4",
                                    "companyname": "Customer HFBZG"
                                },
                                {
                                    "custid": "4",
                                    "companyname": "Customer HFBZG"
                                },
                                {
                                    "custid": "4",
                                    "companyname": "Customer HFBZG"
                                },
                                {
                                    "custid": "5",
                                    "companyname": "Customer HGVLZ"
                                },
                                {
                                    "custid": "5",
                                    "companyname": "Customer HGVLZ"
                                },
                                {
                                    "custid": "5",
                                    "companyname": "Customer HGVLZ"
                                },
                                {
                                    "custid": "5",
                                    "companyname": "Customer HGVLZ"
                                },
                                {
                                    "custid": "5",
                                    "companyname": "Customer HGVLZ"
                                },
                                {
                                    "custid": "5",
                                    "companyname": "Customer HGVLZ"
                                },
                                {
                                    "custid": "5",
                                    "companyname": "Customer HGVLZ"
                                },
                                {
                                    "custid": "5",
                                    "companyname": "Customer HGVLZ"
                                },
                                {
                                    "custid": "5",
                                    "companyname": "Customer HGVLZ"
                                },
                                {
                                    "custid": "5",
                                    "companyname": "Customer HGVLZ"
                                },
                                {
                                    "custid": "5",
                                    "companyname": "Customer HGVLZ"
                                },
                                {
                                    "custid": "5",
                                    "companyname": "Customer HGVLZ"
                                },
                                {
                                    "custid": "5",
                                    "companyname": "Customer HGVLZ"
                                },
                                {
                                    "custid": "5",
                                    "companyname": "Customer HGVLZ"
                                },
                                {
                                    "custid": "5",
                                    "companyname": "Customer HGVLZ"
                                },
                                {
                                    "custid": "5",
                                    "companyname": "Customer HGVLZ"
                                },
                                {
                                    "custid": "5",
                                    "companyname": "Customer HGVLZ"
                                },
                                {
                                    "custid": "5",
                                    "companyname": "Customer HGVLZ"
                                },
                                {
                                    "custid": "6",
                                    "companyname": "Customer XHXJV"
                                },
                                {
                                    "custid": "6",
                                    "companyname": "Customer XHXJV"
                                },
                                {
                                    "custid": "6",
                                    "companyname": "Customer XHXJV"
                                },
                                {
                                    "custid": "6",
                                    "companyname": "Customer XHXJV"
                                },
                                {
                                    "custid": "6",
                                    "companyname": "Customer XHXJV"
                                },
                                {
                                    "custid": "6",
                                    "companyname": "Customer XHXJV"
                                },
                                {
                                    "custid": "6",
                                    "companyname": "Customer XHXJV"
                                },
                                {
                                    "custid": "7",
                                    "companyname": "Customer QXVLA"
                                },
                                {
                                    "custid": "7",
                                    "companyname": "Customer QXVLA"
                                },
                                {
                                    "custid": "7",
                                    "companyname": "Customer QXVLA"
                                },
                                {
                                    "custid": "7",
                                    "companyname": "Customer QXVLA"
                                },
                                {
                                    "custid": "7",
                                    "companyname": "Customer QXVLA"
                                },
                                {
                                    "custid": "7",
                                    "companyname": "Customer QXVLA"
                                },
                                {
                                    "custid": "7",
                                    "companyname": "Customer QXVLA"
                                },
                                {
                                    "custid": "7",
                                    "companyname": "Customer QXVLA"
                                },
                                {
                                    "custid": "7",
                                    "companyname": "Customer QXVLA"
                                },
                                {
                                    "custid": "7",
                                    "companyname": "Customer QXVLA"
                                },
                                {
                                    "custid": "7",
                                    "companyname": "Customer QXVLA"
                                },
                                {
                                    "custid": "8",
                                    "companyname": "Customer QUHWH"
                                },
                                {
                                    "custid": "8",
                                    "companyname": "Customer QUHWH"
                                },
                                {
                                    "custid": "8",
                                    "companyname": "Customer QUHWH"
                                },
                                {
                                    "custid": "9",
                                    "companyname": "Customer RTXGC"
                                },
                                {
                                    "custid": "9",
                                    "companyname": "Customer RTXGC"
                                },
                                {
                                    "custid": "9",
                                    "companyname": "Customer RTXGC"
                                },
                                {
                                    "custid": "9",
                                    "companyname": "Customer RTXGC"
                                },
                                {
                                    "custid": "9",
                                    "companyname": "Customer RTXGC"
                                },
                                {
                                    "custid": "9",
                                    "companyname": "Customer RTXGC"
                                },
                                {
                                    "custid": "9",
                                    "companyname": "Customer RTXGC"
                                },
                                {
                                    "custid": "9",
                                    "companyname": "Customer RTXGC"
                                },
                                {
                                    "custid": "9",
                                    "companyname": "Customer RTXGC"
                                },
                                {
                                    "custid": "9",
                                    "companyname": "Customer RTXGC"
                                },
                                {
                                    "custid": "9",
                                    "companyname": "Customer RTXGC"
                                },
                                {
                                    "custid": "9",
                                    "companyname": "Customer RTXGC"
                                },
                                {
                                    "custid": "9",
                                    "companyname": "Customer RTXGC"
                                },
                                {
                                    "custid": "9",
                                    "companyname": "Customer RTXGC"
                                },
                                {
                                    "custid": "9",
                                    "companyname": "Customer RTXGC"
                                },
                                {
                                    "custid": "9",
                                    "companyname": "Customer RTXGC"
                                },
                                {
                                    "custid": "9",
                                    "companyname": "Customer RTXGC"
                                },
                                {
                                    "custid": "10",
                                    "companyname": "Customer EEALV"
                                },
                                {
                                    "custid": "10",
                                    "companyname": "Customer EEALV"
                                },
                                {
                                    "custid": "10",
                                    "companyname": "Customer EEALV"
                                },
                                {
                                    "custid": "10",
                                    "companyname": "Customer EEALV"
                                },
                                {
                                    "custid": "10",
                                    "companyname": "Customer EEALV"
                                },
                                {
                                    "custid": "10",
                                    "companyname": "Customer EEALV"
                                },
                                {
                                    "custid": "10",
                                    "companyname": "Customer EEALV"
                                },
                                {
                                    "custid": "10",
                                    "companyname": "Customer EEALV"
                                },
                                {
                                    "custid": "10",
                                    "companyname": "Customer EEALV"
                                },
                                {
                                    "custid": "10",
                                    "companyname": "Customer EEALV"
                                },
                                {
                                    "custid": "10",
                                    "companyname": "Customer EEALV"
                                },
                                {
                                    "custid": "10",
                                    "companyname": "Customer EEALV"
                                },
                                {
                                    "custid": "10",
                                    "companyname": "Customer EEALV"
                                },
                                {
                                    "custid": "10",
                                    "companyname": "Customer EEALV"
                                },
                                {
                                    "custid": "11",
                                    "companyname": "Customer UBHAU"
                                },
                                {
                                    "custid": "11",
                                    "companyname": "Customer UBHAU"
                                },
                                {
                                    "custid": "11",
                                    "companyname": "Customer UBHAU"
                                },
                                {
                                    "custid": "11",
                                    "companyname": "Customer UBHAU"
                                },
                                {
                                    "custid": "11",
                                    "companyname": "Customer UBHAU"
                                },
                                {
                                    "custid": "11",
                                    "companyname": "Customer UBHAU"
                                },
                                {
                                    "custid": "11",
                                    "companyname": "Customer UBHAU"
                                },
                                {
                                    "custid": "11",
                                    "companyname": "Customer UBHAU"
                                },
                                {
                                    "custid": "11",
                                    "companyname": "Customer UBHAU"
                                },
                                {
                                    "custid": "11",
                                    "companyname": "Customer UBHAU"
                                },
                                {
                                    "custid": "12",
                                    "companyname": "Customer PSNMQ"
                                },
                                {
                                    "custid": "12",
                                    "companyname": "Customer PSNMQ"
                                },
                                {
                                    "custid": "12",
                                    "companyname": "Customer PSNMQ"
                                },
                                {
                                    "custid": "12",
                                    "companyname": "Customer PSNMQ"
                                },
                                {
                                    "custid": "12",
                                    "companyname": "Customer PSNMQ"
                                },
                                {
                                    "custid": "12",
                                    "companyname": "Customer PSNMQ"
                                },
                                {
                                    "custid": "13",
                                    "companyname": "Customer VMLOG"
                                },
                                {
                                    "custid": "14",
                                    "companyname": "Customer WNMAF"
                                },
                                {
                                    "custid": "14",
                                    "companyname": "Customer WNMAF"
                                },
                                {
                                    "custid": "14",
                                    "companyname": "Customer WNMAF"
                                },
                                {
                                    "custid": "14",
                                    "companyname": "Customer WNMAF"
                                },
                                {
                                    "custid": "14",
                                    "companyname": "Customer WNMAF"
                                },
                                {
                                    "custid": "14",
                                    "companyname": "Customer WNMAF"
                                },
                                {
                                    "custid": "14",
                                    "companyname": "Customer WNMAF"
                                },
                                {
                                    "custid": "14",
                                    "companyname": "Customer WNMAF"
                                },
                                {
                                    "custid": "15",
                                    "companyname": "Customer JUWXK"
                                },
                                {
                                    "custid": "15",
                                    "companyname": "Customer JUWXK"
                                },
                                {
                                    "custid": "15",
                                    "companyname": "Customer JUWXK"
                                },
                                {
                                    "custid": "15",
                                    "companyname": "Customer JUWXK"
                                },
                                {
                                    "custid": "15",
                                    "companyname": "Customer JUWXK"
                                },
                                {
                                    "custid": "16",
                                    "companyname": "Customer GYBBY"
                                },
                                {
                                    "custid": "16",
                                    "companyname": "Customer GYBBY"
                                },
                                {
                                    "custid": "16",
                                    "companyname": "Customer GYBBY"
                                },
                                {
                                    "custid": "17",
                                    "companyname": "Customer FEVNN"
                                },
                                {
                                    "custid": "17",
                                    "companyname": "Customer FEVNN"
                                },
                                {
                                    "custid": "17",
                                    "companyname": "Customer FEVNN"
                                },
                                {
                                    "custid": "17",
                                    "companyname": "Customer FEVNN"
                                },
                                {
                                    "custid": "17",
                                    "companyname": "Customer FEVNN"
                                },
                                {
                                    "custid": "17",
                                    "companyname": "Customer FEVNN"
                                },
                                {
                                    "custid": "18",
                                    "companyname": "Customer BSVAR"
                                },
                                {
                                    "custid": "18",
                                    "companyname": "Customer BSVAR"
                                },
                                {
                                    "custid": "18",
                                    "companyname": "Customer BSVAR"
                                },
                                {
                                    "custid": "18",
                                    "companyname": "Customer BSVAR"
                                },
                                {
                                    "custid": "19",
                                    "companyname": "Customer RFNQC"
                                },
                                {
                                    "custid": "19",
                                    "companyname": "Customer RFNQC"
                                },
                                {
                                    "custid": "19",
                                    "companyname": "Customer RFNQC"
                                },
                                {
                                    "custid": "19",
                                    "companyname": "Customer RFNQC"
                                },
                                {
                                    "custid": "19",
                                    "companyname": "Customer RFNQC"
                                },
                                {
                                    "custid": "19",
                                    "companyname": "Customer RFNQC"
                                },
                                {
                                    "custid": "19",
                                    "companyname": "Customer RFNQC"
                                },
                                {
                                    "custid": "19",
                                    "companyname": "Customer RFNQC"
                                },
                                {
                                    "custid": "20",
                                    "companyname": "Customer THHDP"
                                },
                                {
                                    "custid": "20",
                                    "companyname": "Customer THHDP"
                                },
                                {
                                    "custid": "20",
                                    "companyname": "Customer THHDP"
                                },
                                {
                                    "custid": "20",
                                    "companyname": "Customer THHDP"
                                },
                                {
                                    "custid": "20",
                                    "companyname": "Customer THHDP"
                                },
                                {
                                    "custid": "20",
                                    "companyname": "Customer THHDP"
                                },
                                {
                                    "custid": "20",
                                    "companyname": "Customer THHDP"
                                },
                                {
                                    "custid": "20",
                                    "companyname": "Customer THHDP"
                                },
                                {
                                    "custid": "20",
                                    "companyname": "Customer THHDP"
                                },
                                {
                                    "custid": "20",
                                    "companyname": "Customer THHDP"
                                },
                                {
                                    "custid": "20",
                                    "companyname": "Customer THHDP"
                                },
                                {
                                    "custid": "20",
                                    "companyname": "Customer THHDP"
                                },
                                {
                                    "custid": "20",
                                    "companyname": "Customer THHDP"
                                },
                                {
                                    "custid": "20",
                                    "companyname": "Customer THHDP"
                                },
                                {
                                    "custid": "20",
                                    "companyname": "Customer THHDP"
                                },
                                {
                                    "custid": "20",
                                    "companyname": "Customer THHDP"
                                },
                                {
                                    "custid": "20",
                                    "companyname": "Customer THHDP"
                                },
                                {
                                    "custid": "20",
                                    "companyname": "Customer THHDP"
                                },
                                {
                                    "custid": "20",
                                    "companyname": "Customer THHDP"
                                },
                                {
                                    "custid": "20",
                                    "companyname": "Customer THHDP"
                                },
                                {
                                    "custid": "20",
                                    "companyname": "Customer THHDP"
                                },
                                {
                                    "custid": "20",
                                    "companyname": "Customer THHDP"
                                },
                                {
                                    "custid": "20",
                                    "companyname": "Customer THHDP"
                                },
                                {
                                    "custid": "20",
                                    "companyname": "Customer THHDP"
                                },
                                {
                                    "custid": "20",
                                    "companyname": "Customer THHDP"
                                },
                                {
                                    "custid": "20",
                                    "companyname": "Customer THHDP"
                                },
                                {
                                    "custid": "20",
                                    "companyname": "Customer THHDP"
                                },
                                {
                                    "custid": "20",
                                    "companyname": "Customer THHDP"
                                },
                                {
                                    "custid": "20",
                                    "companyname": "Customer THHDP"
                                },
                                {
                                    "custid": "20",
                                    "companyname": "Customer THHDP"
                                },
                                {
                                    "custid": "21",
                                    "companyname": "Customer KIDPX"
                                },
                                {
                                    "custid": "21",
                                    "companyname": "Customer KIDPX"
                                },
                                {
                                    "custid": "21",
                                    "companyname": "Customer KIDPX"
                                },
                                {
                                    "custid": "21",
                                    "companyname": "Customer KIDPX"
                                },
                                {
                                    "custid": "21",
                                    "companyname": "Customer KIDPX"
                                },
                                {
                                    "custid": "21",
                                    "companyname": "Customer KIDPX"
                                },
                                {
                                    "custid": "21",
                                    "companyname": "Customer KIDPX"
                                },
                                {
                                    "custid": "22",
                                    "companyname": "Customer DTDMN"
                                },
                                {
                                    "custid": "23",
                                    "companyname": "Customer WVFAF"
                                },
                                {
                                    "custid": "23",
                                    "companyname": "Customer WVFAF"
                                },
                                {
                                    "custid": "23",
                                    "companyname": "Customer WVFAF"
                                },
                                {
                                    "custid": "23",
                                    "companyname": "Customer WVFAF"
                                },
                                {
                                    "custid": "23",
                                    "companyname": "Customer WVFAF"
                                },
                                {
                                    "custid": "24",
                                    "companyname": "Customer CYZTN"
                                },
                                {
                                    "custid": "24",
                                    "companyname": "Customer CYZTN"
                                },
                                {
                                    "custid": "24",
                                    "companyname": "Customer CYZTN"
                                },
                                {
                                    "custid": "24",
                                    "companyname": "Customer CYZTN"
                                },
                                {
                                    "custid": "24",
                                    "companyname": "Customer CYZTN"
                                },
                                {
                                    "custid": "24",
                                    "companyname": "Customer CYZTN"
                                },
                                {
                                    "custid": "24",
                                    "companyname": "Customer CYZTN"
                                },
                                {
                                    "custid": "24",
                                    "companyname": "Customer CYZTN"
                                },
                                {
                                    "custid": "24",
                                    "companyname": "Customer CYZTN"
                                },
                                {
                                    "custid": "24",
                                    "companyname": "Customer CYZTN"
                                },
                                {
                                    "custid": "24",
                                    "companyname": "Customer CYZTN"
                                },
                                {
                                    "custid": "24",
                                    "companyname": "Customer CYZTN"
                                },
                                {
                                    "custid": "24",
                                    "companyname": "Customer CYZTN"
                                },
                                {
                                    "custid": "24",
                                    "companyname": "Customer CYZTN"
                                },
                                {
                                    "custid": "24",
                                    "companyname": "Customer CYZTN"
                                },
                                {
                                    "custid": "24",
                                    "companyname": "Customer CYZTN"
                                },
                                {
                                    "custid": "24",
                                    "companyname": "Customer CYZTN"
                                },
                                {
                                    "custid": "24",
                                    "companyname": "Customer CYZTN"
                                },
                                {
                                    "custid": "24",
                                    "companyname": "Customer CYZTN"
                                },
                                {
                                    "custid": "25",
                                    "companyname": "Customer AZJED"
                                },
                                {
                                    "custid": "25",
                                    "companyname": "Customer AZJED"
                                },
                                {
                                    "custid": "25",
                                    "companyname": "Customer AZJED"
                                },
                                {
                                    "custid": "25",
                                    "companyname": "Customer AZJED"
                                },
                                {
                                    "custid": "25",
                                    "companyname": "Customer AZJED"
                                },
                                {
                                    "custid": "25",
                                    "companyname": "Customer AZJED"
                                },
                                {
                                    "custid": "25",
                                    "companyname": "Customer AZJED"
                                },
                                {
                                    "custid": "25",
                                    "companyname": "Customer AZJED"
                                },
                                {
                                    "custid": "25",
                                    "companyname": "Customer AZJED"
                                },
                                {
                                    "custid": "25",
                                    "companyname": "Customer AZJED"
                                },
                                {
                                    "custid": "25",
                                    "companyname": "Customer AZJED"
                                },
                                {
                                    "custid": "25",
                                    "companyname": "Customer AZJED"
                                },
                                {
                                    "custid": "25",
                                    "companyname": "Customer AZJED"
                                },
                                {
                                    "custid": "25",
                                    "companyname": "Customer AZJED"
                                },
                                {
                                    "custid": "25",
                                    "companyname": "Customer AZJED"
                                },
                                {
                                    "custid": "26",
                                    "companyname": "Customer USDBG"
                                },
                                {
                                    "custid": "26",
                                    "companyname": "Customer USDBG"
                                },
                                {
                                    "custid": "26",
                                    "companyname": "Customer USDBG"
                                },
                                {
                                    "custid": "27",
                                    "companyname": "Customer WMFEA"
                                },
                                {
                                    "custid": "27",
                                    "companyname": "Customer WMFEA"
                                },
                                {
                                    "custid": "27",
                                    "companyname": "Customer WMFEA"
                                },
                                {
                                    "custid": "27",
                                    "companyname": "Customer WMFEA"
                                },
                                {
                                    "custid": "27",
                                    "companyname": "Customer WMFEA"
                                },
                                {
                                    "custid": "27",
                                    "companyname": "Customer WMFEA"
                                },
                                {
                                    "custid": "28",
                                    "companyname": "Customer XYUFB"
                                },
                                {
                                    "custid": "28",
                                    "companyname": "Customer XYUFB"
                                },
                                {
                                    "custid": "28",
                                    "companyname": "Customer XYUFB"
                                },
                                {
                                    "custid": "28",
                                    "companyname": "Customer XYUFB"
                                },
                                {
                                    "custid": "28",
                                    "companyname": "Customer XYUFB"
                                },
                                {
                                    "custid": "28",
                                    "companyname": "Customer XYUFB"
                                },
                                {
                                    "custid": "28",
                                    "companyname": "Customer XYUFB"
                                },
                                {
                                    "custid": "28",
                                    "companyname": "Customer XYUFB"
                                },
                                {
                                    "custid": "29",
                                    "companyname": "Customer MDLWA"
                                },
                                {
                                    "custid": "29",
                                    "companyname": "Customer MDLWA"
                                },
                                {
                                    "custid": "29",
                                    "companyname": "Customer MDLWA"
                                },
                                {
                                    "custid": "29",
                                    "companyname": "Customer MDLWA"
                                },
                                {
                                    "custid": "29",
                                    "companyname": "Customer MDLWA"
                                },
                                {
                                    "custid": "30",
                                    "companyname": "Customer KSLQF"
                                },
                                {
                                    "custid": "30",
                                    "companyname": "Customer KSLQF"
                                },
                                {
                                    "custid": "30",
                                    "companyname": "Customer KSLQF"
                                },
                                {
                                    "custid": "30",
                                    "companyname": "Customer KSLQF"
                                },
                                {
                                    "custid": "30",
                                    "companyname": "Customer KSLQF"
                                },
                                {
                                    "custid": "30",
                                    "companyname": "Customer KSLQF"
                                },
                                {
                                    "custid": "30",
                                    "companyname": "Customer KSLQF"
                                },
                                {
                                    "custid": "30",
                                    "companyname": "Customer KSLQF"
                                },
                                {
                                    "custid": "30",
                                    "companyname": "Customer KSLQF"
                                },
                                {
                                    "custid": "30",
                                    "companyname": "Customer KSLQF"
                                },
                                {
                                    "custid": "31",
                                    "companyname": "Customer YJCBX"
                                },
                                {
                                    "custid": "31",
                                    "companyname": "Customer YJCBX"
                                },
                                {
                                    "custid": "31",
                                    "companyname": "Customer YJCBX"
                                },
                                {
                                    "custid": "31",
                                    "companyname": "Customer YJCBX"
                                },
                                {
                                    "custid": "31",
                                    "companyname": "Customer YJCBX"
                                },
                                {
                                    "custid": "31",
                                    "companyname": "Customer YJCBX"
                                },
                                {
                                    "custid": "31",
                                    "companyname": "Customer YJCBX"
                                },
                                {
                                    "custid": "31",
                                    "companyname": "Customer YJCBX"
                                },
                                {
                                    "custid": "31",
                                    "companyname": "Customer YJCBX"
                                },
                                {
                                    "custid": "32",
                                    "companyname": "Customer YSIQX"
                                },
                                {
                                    "custid": "32",
                                    "companyname": "Customer YSIQX"
                                },
                                {
                                    "custid": "32",
                                    "companyname": "Customer YSIQX"
                                },
                                {
                                    "custid": "32",
                                    "companyname": "Customer YSIQX"
                                },
                                {
                                    "custid": "32",
                                    "companyname": "Customer YSIQX"
                                },
                                {
                                    "custid": "32",
                                    "companyname": "Customer YSIQX"
                                },
                                {
                                    "custid": "32",
                                    "companyname": "Customer YSIQX"
                                },
                                {
                                    "custid": "32",
                                    "companyname": "Customer YSIQX"
                                },
                                {
                                    "custid": "32",
                                    "companyname": "Customer YSIQX"
                                },
                                {
                                    "custid": "32",
                                    "companyname": "Customer YSIQX"
                                },
                                {
                                    "custid": "32",
                                    "companyname": "Customer YSIQX"
                                },
                                {
                                    "custid": "33",
                                    "companyname": "Customer FVXPQ"
                                },
                                {
                                    "custid": "33",
                                    "companyname": "Customer FVXPQ"
                                },
                                {
                                    "custid": "34",
                                    "companyname": "Customer IBVRG"
                                },
                                {
                                    "custid": "34",
                                    "companyname": "Customer IBVRG"
                                },
                                {
                                    "custid": "34",
                                    "companyname": "Customer IBVRG"
                                },
                                {
                                    "custid": "34",
                                    "companyname": "Customer IBVRG"
                                },
                                {
                                    "custid": "34",
                                    "companyname": "Customer IBVRG"
                                },
                                {
                                    "custid": "34",
                                    "companyname": "Customer IBVRG"
                                },
                                {
                                    "custid": "34",
                                    "companyname": "Customer IBVRG"
                                },
                                {
                                    "custid": "34",
                                    "companyname": "Customer IBVRG"
                                },
                                {
                                    "custid": "34",
                                    "companyname": "Customer IBVRG"
                                },
                                {
                                    "custid": "34",
                                    "companyname": "Customer IBVRG"
                                },
                                {
                                    "custid": "34",
                                    "companyname": "Customer IBVRG"
                                },
                                {
                                    "custid": "34",
                                    "companyname": "Customer IBVRG"
                                },
                                {
                                    "custid": "34",
                                    "companyname": "Customer IBVRG"
                                },
                                {
                                    "custid": "34",
                                    "companyname": "Customer IBVRG"
                                },
                                {
                                    "custid": "35",
                                    "companyname": "Customer UMTLM"
                                },
                                {
                                    "custid": "35",
                                    "companyname": "Customer UMTLM"
                                },
                                {
                                    "custid": "35",
                                    "companyname": "Customer UMTLM"
                                },
                                {
                                    "custid": "35",
                                    "companyname": "Customer UMTLM"
                                },
                                {
                                    "custid": "35",
                                    "companyname": "Customer UMTLM"
                                },
                                {
                                    "custid": "35",
                                    "companyname": "Customer UMTLM"
                                },
                                {
                                    "custid": "35",
                                    "companyname": "Customer UMTLM"
                                },
                                {
                                    "custid": "35",
                                    "companyname": "Customer UMTLM"
                                },
                                {
                                    "custid": "35",
                                    "companyname": "Customer UMTLM"
                                },
                                {
                                    "custid": "35",
                                    "companyname": "Customer UMTLM"
                                },
                                {
                                    "custid": "35",
                                    "companyname": "Customer UMTLM"
                                },
                                {
                                    "custid": "35",
                                    "companyname": "Customer UMTLM"
                                },
                                {
                                    "custid": "35",
                                    "companyname": "Customer UMTLM"
                                },
                                {
                                    "custid": "35",
                                    "companyname": "Customer UMTLM"
                                },
                                {
                                    "custid": "35",
                                    "companyname": "Customer UMTLM"
                                },
                                {
                                    "custid": "35",
                                    "companyname": "Customer UMTLM"
                                },
                                {
                                    "custid": "35",
                                    "companyname": "Customer UMTLM"
                                },
                                {
                                    "custid": "35",
                                    "companyname": "Customer UMTLM"
                                },
                                {
                                    "custid": "36",
                                    "companyname": "Customer LVJSO"
                                },
                                {
                                    "custid": "36",
                                    "companyname": "Customer LVJSO"
                                },
                                {
                                    "custid": "36",
                                    "companyname": "Customer LVJSO"
                                },
                                {
                                    "custid": "36",
                                    "companyname": "Customer LVJSO"
                                },
                                {
                                    "custid": "36",
                                    "companyname": "Customer LVJSO"
                                },
                                {
                                    "custid": "37",
                                    "companyname": "Customer FRXZL"
                                },
                                {
                                    "custid": "37",
                                    "companyname": "Customer FRXZL"
                                },
                                {
                                    "custid": "37",
                                    "companyname": "Customer FRXZL"
                                },
                                {
                                    "custid": "37",
                                    "companyname": "Customer FRXZL"
                                },
                                {
                                    "custid": "37",
                                    "companyname": "Customer FRXZL"
                                },
                                {
                                    "custid": "37",
                                    "companyname": "Customer FRXZL"
                                },
                                {
                                    "custid": "37",
                                    "companyname": "Customer FRXZL"
                                },
                                {
                                    "custid": "37",
                                    "companyname": "Customer FRXZL"
                                },
                                {
                                    "custid": "37",
                                    "companyname": "Customer FRXZL"
                                },
                                {
                                    "custid": "37",
                                    "companyname": "Customer FRXZL"
                                },
                                {
                                    "custid": "37",
                                    "companyname": "Customer FRXZL"
                                },
                                {
                                    "custid": "37",
                                    "companyname": "Customer FRXZL"
                                },
                                {
                                    "custid": "37",
                                    "companyname": "Customer FRXZL"
                                },
                                {
                                    "custid": "37",
                                    "companyname": "Customer FRXZL"
                                },
                                {
                                    "custid": "37",
                                    "companyname": "Customer FRXZL"
                                },
                                {
                                    "custid": "37",
                                    "companyname": "Customer FRXZL"
                                },
                                {
                                    "custid": "37",
                                    "companyname": "Customer FRXZL"
                                },
                                {
                                    "custid": "37",
                                    "companyname": "Customer FRXZL"
                                },
                                {
                                    "custid": "37",
                                    "companyname": "Customer FRXZL"
                                },
                                {
                                    "custid": "38",
                                    "companyname": "Customer LJUCA"
                                },
                                {
                                    "custid": "38",
                                    "companyname": "Customer LJUCA"
                                },
                                {
                                    "custid": "38",
                                    "companyname": "Customer LJUCA"
                                },
                                {
                                    "custid": "38",
                                    "companyname": "Customer LJUCA"
                                },
                                {
                                    "custid": "38",
                                    "companyname": "Customer LJUCA"
                                },
                                {
                                    "custid": "38",
                                    "companyname": "Customer LJUCA"
                                },
                                {
                                    "custid": "38",
                                    "companyname": "Customer LJUCA"
                                },
                                {
                                    "custid": "38",
                                    "companyname": "Customer LJUCA"
                                },
                                {
                                    "custid": "38",
                                    "companyname": "Customer LJUCA"
                                },
                                {
                                    "custid": "38",
                                    "companyname": "Customer LJUCA"
                                },
                                {
                                    "custid": "39",
                                    "companyname": "Customer GLLAG"
                                },
                                {
                                    "custid": "39",
                                    "companyname": "Customer GLLAG"
                                },
                                {
                                    "custid": "39",
                                    "companyname": "Customer GLLAG"
                                },
                                {
                                    "custid": "39",
                                    "companyname": "Customer GLLAG"
                                },
                                {
                                    "custid": "39",
                                    "companyname": "Customer GLLAG"
                                },
                                {
                                    "custid": "39",
                                    "companyname": "Customer GLLAG"
                                },
                                {
                                    "custid": "39",
                                    "companyname": "Customer GLLAG"
                                },
                                {
                                    "custid": "39",
                                    "companyname": "Customer GLLAG"
                                },
                                {
                                    "custid": "39",
                                    "companyname": "Customer GLLAG"
                                },
                                {
                                    "custid": "39",
                                    "companyname": "Customer GLLAG"
                                },
                                {
                                    "custid": "39",
                                    "companyname": "Customer GLLAG"
                                },
                                {
                                    "custid": "39",
                                    "companyname": "Customer GLLAG"
                                },
                                {
                                    "custid": "39",
                                    "companyname": "Customer GLLAG"
                                },
                                {
                                    "custid": "39",
                                    "companyname": "Customer GLLAG"
                                },
                                {
                                    "custid": "40",
                                    "companyname": "Customer EFFTC"
                                },
                                {
                                    "custid": "40",
                                    "companyname": "Customer EFFTC"
                                },
                                {
                                    "custid": "40",
                                    "companyname": "Customer EFFTC"
                                },
                                {
                                    "custid": "40",
                                    "companyname": "Customer EFFTC"
                                },
                                {
                                    "custid": "41",
                                    "companyname": "Customer XIIWM"
                                },
                                {
                                    "custid": "41",
                                    "companyname": "Customer XIIWM"
                                },
                                {
                                    "custid": "41",
                                    "companyname": "Customer XIIWM"
                                },
                                {
                                    "custid": "41",
                                    "companyname": "Customer XIIWM"
                                },
                                {
                                    "custid": "41",
                                    "companyname": "Customer XIIWM"
                                },
                                {
                                    "custid": "41",
                                    "companyname": "Customer XIIWM"
                                },
                                {
                                    "custid": "41",
                                    "companyname": "Customer XIIWM"
                                },
                                {
                                    "custid": "41",
                                    "companyname": "Customer XIIWM"
                                },
                                {
                                    "custid": "41",
                                    "companyname": "Customer XIIWM"
                                },
                                {
                                    "custid": "41",
                                    "companyname": "Customer XIIWM"
                                },
                                {
                                    "custid": "41",
                                    "companyname": "Customer XIIWM"
                                },
                                {
                                    "custid": "41",
                                    "companyname": "Customer XIIWM"
                                },
                                {
                                    "custid": "41",
                                    "companyname": "Customer XIIWM"
                                },
                                {
                                    "custid": "41",
                                    "companyname": "Customer XIIWM"
                                },
                                {
                                    "custid": "42",
                                    "companyname": "Customer IAIJK"
                                },
                                {
                                    "custid": "42",
                                    "companyname": "Customer IAIJK"
                                },
                                {
                                    "custid": "42",
                                    "companyname": "Customer IAIJK"
                                },
                                {
                                    "custid": "43",
                                    "companyname": "Customer UISOJ"
                                },
                                {
                                    "custid": "43",
                                    "companyname": "Customer UISOJ"
                                },
                                {
                                    "custid": "44",
                                    "companyname": "Customer OXFRU"
                                },
                                {
                                    "custid": "44",
                                    "companyname": "Customer OXFRU"
                                },
                                {
                                    "custid": "44",
                                    "companyname": "Customer OXFRU"
                                },
                                {
                                    "custid": "44",
                                    "companyname": "Customer OXFRU"
                                },
                                {
                                    "custid": "44",
                                    "companyname": "Customer OXFRU"
                                },
                                {
                                    "custid": "44",
                                    "companyname": "Customer OXFRU"
                                },
                                {
                                    "custid": "44",
                                    "companyname": "Customer OXFRU"
                                },
                                {
                                    "custid": "44",
                                    "companyname": "Customer OXFRU"
                                },
                                {
                                    "custid": "44",
                                    "companyname": "Customer OXFRU"
                                },
                                {
                                    "custid": "44",
                                    "companyname": "Customer OXFRU"
                                },
                                {
                                    "custid": "44",
                                    "companyname": "Customer OXFRU"
                                },
                                {
                                    "custid": "44",
                                    "companyname": "Customer OXFRU"
                                },
                                {
                                    "custid": "44",
                                    "companyname": "Customer OXFRU"
                                },
                                {
                                    "custid": "44",
                                    "companyname": "Customer OXFRU"
                                },
                                {
                                    "custid": "44",
                                    "companyname": "Customer OXFRU"
                                },
                                {
                                    "custid": "45",
                                    "companyname": "Customer QXPPT"
                                },
                                {
                                    "custid": "45",
                                    "companyname": "Customer QXPPT"
                                },
                                {
                                    "custid": "45",
                                    "companyname": "Customer QXPPT"
                                },
                                {
                                    "custid": "45",
                                    "companyname": "Customer QXPPT"
                                },
                                {
                                    "custid": "46",
                                    "companyname": "Customer XPNIK"
                                },
                                {
                                    "custid": "46",
                                    "companyname": "Customer XPNIK"
                                },
                                {
                                    "custid": "46",
                                    "companyname": "Customer XPNIK"
                                },
                                {
                                    "custid": "46",
                                    "companyname": "Customer XPNIK"
                                },
                                {
                                    "custid": "46",
                                    "companyname": "Customer XPNIK"
                                },
                                {
                                    "custid": "46",
                                    "companyname": "Customer XPNIK"
                                },
                                {
                                    "custid": "46",
                                    "companyname": "Customer XPNIK"
                                },
                                {
                                    "custid": "46",
                                    "companyname": "Customer XPNIK"
                                },
                                {
                                    "custid": "46",
                                    "companyname": "Customer XPNIK"
                                },
                                {
                                    "custid": "46",
                                    "companyname": "Customer XPNIK"
                                },
                                {
                                    "custid": "46",
                                    "companyname": "Customer XPNIK"
                                },
                                {
                                    "custid": "46",
                                    "companyname": "Customer XPNIK"
                                },
                                {
                                    "custid": "46",
                                    "companyname": "Customer XPNIK"
                                },
                                {
                                    "custid": "46",
                                    "companyname": "Customer XPNIK"
                                },
                                {
                                    "custid": "47",
                                    "companyname": "Customer PSQUZ"
                                },
                                {
                                    "custid": "47",
                                    "companyname": "Customer PSQUZ"
                                },
                                {
                                    "custid": "47",
                                    "companyname": "Customer PSQUZ"
                                },
                                {
                                    "custid": "47",
                                    "companyname": "Customer PSQUZ"
                                },
                                {
                                    "custid": "47",
                                    "companyname": "Customer PSQUZ"
                                },
                                {
                                    "custid": "47",
                                    "companyname": "Customer PSQUZ"
                                },
                                {
                                    "custid": "47",
                                    "companyname": "Customer PSQUZ"
                                },
                                {
                                    "custid": "47",
                                    "companyname": "Customer PSQUZ"
                                },
                                {
                                    "custid": "47",
                                    "companyname": "Customer PSQUZ"
                                },
                                {
                                    "custid": "47",
                                    "companyname": "Customer PSQUZ"
                                },
                                {
                                    "custid": "47",
                                    "companyname": "Customer PSQUZ"
                                },
                                {
                                    "custid": "47",
                                    "companyname": "Customer PSQUZ"
                                },
                                {
                                    "custid": "48",
                                    "companyname": "Customer DVFMB"
                                },
                                {
                                    "custid": "48",
                                    "companyname": "Customer DVFMB"
                                },
                                {
                                    "custid": "48",
                                    "companyname": "Customer DVFMB"
                                },
                                {
                                    "custid": "48",
                                    "companyname": "Customer DVFMB"
                                },
                                {
                                    "custid": "48",
                                    "companyname": "Customer DVFMB"
                                },
                                {
                                    "custid": "48",
                                    "companyname": "Customer DVFMB"
                                },
                                {
                                    "custid": "48",
                                    "companyname": "Customer DVFMB"
                                },
                                {
                                    "custid": "48",
                                    "companyname": "Customer DVFMB"
                                },
                                {
                                    "custid": "49",
                                    "companyname": "Customer CQRAA"
                                },
                                {
                                    "custid": "49",
                                    "companyname": "Customer CQRAA"
                                },
                                {
                                    "custid": "49",
                                    "companyname": "Customer CQRAA"
                                },
                                {
                                    "custid": "49",
                                    "companyname": "Customer CQRAA"
                                },
                                {
                                    "custid": "49",
                                    "companyname": "Customer CQRAA"
                                },
                                {
                                    "custid": "49",
                                    "companyname": "Customer CQRAA"
                                },
                                {
                                    "custid": "49",
                                    "companyname": "Customer CQRAA"
                                },
                                {
                                    "custid": "49",
                                    "companyname": "Customer CQRAA"
                                },
                                {
                                    "custid": "49",
                                    "companyname": "Customer CQRAA"
                                },
                                {
                                    "custid": "49",
                                    "companyname": "Customer CQRAA"
                                },
                                {
                                    "custid": "50",
                                    "companyname": "Customer JYPSC"
                                },
                                {
                                    "custid": "50",
                                    "companyname": "Customer JYPSC"
                                },
                                {
                                    "custid": "50",
                                    "companyname": "Customer JYPSC"
                                },
                                {
                                    "custid": "50",
                                    "companyname": "Customer JYPSC"
                                },
                                {
                                    "custid": "50",
                                    "companyname": "Customer JYPSC"
                                },
                                {
                                    "custid": "50",
                                    "companyname": "Customer JYPSC"
                                },
                                {
                                    "custid": "50",
                                    "companyname": "Customer JYPSC"
                                },
                                {
                                    "custid": "51",
                                    "companyname": "Customer PVDZC"
                                },
                                {
                                    "custid": "51",
                                    "companyname": "Customer PVDZC"
                                },
                                {
                                    "custid": "51",
                                    "companyname": "Customer PVDZC"
                                },
                                {
                                    "custid": "51",
                                    "companyname": "Customer PVDZC"
                                },
                                {
                                    "custid": "51",
                                    "companyname": "Customer PVDZC"
                                },
                                {
                                    "custid": "51",
                                    "companyname": "Customer PVDZC"
                                },
                                {
                                    "custid": "51",
                                    "companyname": "Customer PVDZC"
                                },
                                {
                                    "custid": "51",
                                    "companyname": "Customer PVDZC"
                                },
                                {
                                    "custid": "51",
                                    "companyname": "Customer PVDZC"
                                },
                                {
                                    "custid": "51",
                                    "companyname": "Customer PVDZC"
                                },
                                {
                                    "custid": "51",
                                    "companyname": "Customer PVDZC"
                                },
                                {
                                    "custid": "51",
                                    "companyname": "Customer PVDZC"
                                },
                                {
                                    "custid": "51",
                                    "companyname": "Customer PVDZC"
                                },
                                {
                                    "custid": "52",
                                    "companyname": "Customer PZNLA"
                                },
                                {
                                    "custid": "52",
                                    "companyname": "Customer PZNLA"
                                },
                                {
                                    "custid": "52",
                                    "companyname": "Customer PZNLA"
                                },
                                {
                                    "custid": "52",
                                    "companyname": "Customer PZNLA"
                                },
                                {
                                    "custid": "52",
                                    "companyname": "Customer PZNLA"
                                },
                                {
                                    "custid": "53",
                                    "companyname": "Customer GCJSG"
                                },
                                {
                                    "custid": "53",
                                    "companyname": "Customer GCJSG"
                                },
                                {
                                    "custid": "53",
                                    "companyname": "Customer GCJSG"
                                },
                                {
                                    "custid": "54",
                                    "companyname": "Customer TDKEG"
                                },
                                {
                                    "custid": "54",
                                    "companyname": "Customer TDKEG"
                                },
                                {
                                    "custid": "54",
                                    "companyname": "Customer TDKEG"
                                },
                                {
                                    "custid": "54",
                                    "companyname": "Customer TDKEG"
                                },
                                {
                                    "custid": "54",
                                    "companyname": "Customer TDKEG"
                                },
                                {
                                    "custid": "55",
                                    "companyname": "Customer KZQZT"
                                },
                                {
                                    "custid": "55",
                                    "companyname": "Customer KZQZT"
                                },
                                {
                                    "custid": "55",
                                    "companyname": "Customer KZQZT"
                                },
                                {
                                    "custid": "55",
                                    "companyname": "Customer KZQZT"
                                },
                                {
                                    "custid": "55",
                                    "companyname": "Customer KZQZT"
                                },
                                {
                                    "custid": "55",
                                    "companyname": "Customer KZQZT"
                                },
                                {
                                    "custid": "55",
                                    "companyname": "Customer KZQZT"
                                },
                                {
                                    "custid": "55",
                                    "companyname": "Customer KZQZT"
                                },
                                {
                                    "custid": "55",
                                    "companyname": "Customer KZQZT"
                                },
                                {
                                    "custid": "55",
                                    "companyname": "Customer KZQZT"
                                },
                                {
                                    "custid": "56",
                                    "companyname": "Customer QNIVZ"
                                },
                                {
                                    "custid": "56",
                                    "companyname": "Customer QNIVZ"
                                },
                                {
                                    "custid": "56",
                                    "companyname": "Customer QNIVZ"
                                },
                                {
                                    "custid": "56",
                                    "companyname": "Customer QNIVZ"
                                },
                                {
                                    "custid": "56",
                                    "companyname": "Customer QNIVZ"
                                },
                                {
                                    "custid": "56",
                                    "companyname": "Customer QNIVZ"
                                },
                                {
                                    "custid": "56",
                                    "companyname": "Customer QNIVZ"
                                },
                                {
                                    "custid": "56",
                                    "companyname": "Customer QNIVZ"
                                },
                                {
                                    "custid": "56",
                                    "companyname": "Customer QNIVZ"
                                },
                                {
                                    "custid": "56",
                                    "companyname": "Customer QNIVZ"
                                },
                                {
                                    "custid": "57",
                                    "companyname": "Customer WVAXS"
                                },
                                {
                                    "custid": "58",
                                    "companyname": "Customer AHXHT"
                                },
                                {
                                    "custid": "58",
                                    "companyname": "Customer AHXHT"
                                },
                                {
                                    "custid": "58",
                                    "companyname": "Customer AHXHT"
                                },
                                {
                                    "custid": "58",
                                    "companyname": "Customer AHXHT"
                                },
                                {
                                    "custid": "58",
                                    "companyname": "Customer AHXHT"
                                },
                                {
                                    "custid": "58",
                                    "companyname": "Customer AHXHT"
                                },
                                {
                                    "custid": "59",
                                    "companyname": "Customer LOLJO"
                                },
                                {
                                    "custid": "59",
                                    "companyname": "Customer LOLJO"
                                },
                                {
                                    "custid": "59",
                                    "companyname": "Customer LOLJO"
                                },
                                {
                                    "custid": "59",
                                    "companyname": "Customer LOLJO"
                                },
                                {
                                    "custid": "59",
                                    "companyname": "Customer LOLJO"
                                },
                                {
                                    "custid": "59",
                                    "companyname": "Customer LOLJO"
                                },
                                {
                                    "custid": "59",
                                    "companyname": "Customer LOLJO"
                                },
                                {
                                    "custid": "59",
                                    "companyname": "Customer LOLJO"
                                },
                                {
                                    "custid": "59",
                                    "companyname": "Customer LOLJO"
                                },
                                {
                                    "custid": "59",
                                    "companyname": "Customer LOLJO"
                                },
                                {
                                    "custid": "60",
                                    "companyname": "Customer QZURI"
                                },
                                {
                                    "custid": "60",
                                    "companyname": "Customer QZURI"
                                },
                                {
                                    "custid": "60",
                                    "companyname": "Customer QZURI"
                                },
                                {
                                    "custid": "60",
                                    "companyname": "Customer QZURI"
                                },
                                {
                                    "custid": "60",
                                    "companyname": "Customer QZURI"
                                },
                                {
                                    "custid": "61",
                                    "companyname": "Customer WULWD"
                                },
                                {
                                    "custid": "61",
                                    "companyname": "Customer WULWD"
                                },
                                {
                                    "custid": "61",
                                    "companyname": "Customer WULWD"
                                },
                                {
                                    "custid": "61",
                                    "companyname": "Customer WULWD"
                                },
                                {
                                    "custid": "61",
                                    "companyname": "Customer WULWD"
                                },
                                {
                                    "custid": "61",
                                    "companyname": "Customer WULWD"
                                },
                                {
                                    "custid": "61",
                                    "companyname": "Customer WULWD"
                                },
                                {
                                    "custid": "61",
                                    "companyname": "Customer WULWD"
                                },
                                {
                                    "custid": "61",
                                    "companyname": "Customer WULWD"
                                },
                                {
                                    "custid": "62",
                                    "companyname": "Customer WFIZJ"
                                },
                                {
                                    "custid": "62",
                                    "companyname": "Customer WFIZJ"
                                },
                                {
                                    "custid": "62",
                                    "companyname": "Customer WFIZJ"
                                },
                                {
                                    "custid": "62",
                                    "companyname": "Customer WFIZJ"
                                },
                                {
                                    "custid": "62",
                                    "companyname": "Customer WFIZJ"
                                },
                                {
                                    "custid": "62",
                                    "companyname": "Customer WFIZJ"
                                },
                                {
                                    "custid": "62",
                                    "companyname": "Customer WFIZJ"
                                },
                                {
                                    "custid": "62",
                                    "companyname": "Customer WFIZJ"
                                },
                                {
                                    "custid": "62",
                                    "companyname": "Customer WFIZJ"
                                },
                                {
                                    "custid": "62",
                                    "companyname": "Customer WFIZJ"
                                },
                                {
                                    "custid": "62",
                                    "companyname": "Customer WFIZJ"
                                },
                                {
                                    "custid": "62",
                                    "companyname": "Customer WFIZJ"
                                },
                                {
                                    "custid": "62",
                                    "companyname": "Customer WFIZJ"
                                },
                                {
                                    "custid": "63",
                                    "companyname": "Customer IRRVL"
                                },
                                {
                                    "custid": "63",
                                    "companyname": "Customer IRRVL"
                                },
                                {
                                    "custid": "63",
                                    "companyname": "Customer IRRVL"
                                },
                                {
                                    "custid": "63",
                                    "companyname": "Customer IRRVL"
                                },
                                {
                                    "custid": "63",
                                    "companyname": "Customer IRRVL"
                                },
                                {
                                    "custid": "63",
                                    "companyname": "Customer IRRVL"
                                },
                                {
                                    "custid": "63",
                                    "companyname": "Customer IRRVL"
                                },
                                {
                                    "custid": "63",
                                    "companyname": "Customer IRRVL"
                                },
                                {
                                    "custid": "63",
                                    "companyname": "Customer IRRVL"
                                },
                                {
                                    "custid": "63",
                                    "companyname": "Customer IRRVL"
                                },
                                {
                                    "custid": "63",
                                    "companyname": "Customer IRRVL"
                                },
                                {
                                    "custid": "63",
                                    "companyname": "Customer IRRVL"
                                },
                                {
                                    "custid": "63",
                                    "companyname": "Customer IRRVL"
                                },
                                {
                                    "custid": "63",
                                    "companyname": "Customer IRRVL"
                                },
                                {
                                    "custid": "63",
                                    "companyname": "Customer IRRVL"
                                },
                                {
                                    "custid": "63",
                                    "companyname": "Customer IRRVL"
                                },
                                {
                                    "custid": "63",
                                    "companyname": "Customer IRRVL"
                                },
                                {
                                    "custid": "63",
                                    "companyname": "Customer IRRVL"
                                },
                                {
                                    "custid": "63",
                                    "companyname": "Customer IRRVL"
                                },
                                {
                                    "custid": "63",
                                    "companyname": "Customer IRRVL"
                                },
                                {
                                    "custid": "63",
                                    "companyname": "Customer IRRVL"
                                },
                                {
                                    "custid": "63",
                                    "companyname": "Customer IRRVL"
                                },
                                {
                                    "custid": "63",
                                    "companyname": "Customer IRRVL"
                                },
                                {
                                    "custid": "63",
                                    "companyname": "Customer IRRVL"
                                },
                                {
                                    "custid": "63",
                                    "companyname": "Customer IRRVL"
                                },
                                {
                                    "custid": "63",
                                    "companyname": "Customer IRRVL"
                                },
                                {
                                    "custid": "63",
                                    "companyname": "Customer IRRVL"
                                },
                                {
                                    "custid": "63",
                                    "companyname": "Customer IRRVL"
                                },
                                {
                                    "custid": "64",
                                    "companyname": "Customer LWGMD"
                                },
                                {
                                    "custid": "64",
                                    "companyname": "Customer LWGMD"
                                },
                                {
                                    "custid": "64",
                                    "companyname": "Customer LWGMD"
                                },
                                {
                                    "custid": "64",
                                    "companyname": "Customer LWGMD"
                                },
                                {
                                    "custid": "64",
                                    "companyname": "Customer LWGMD"
                                },
                                {
                                    "custid": "65",
                                    "companyname": "Customer NYUHS"
                                },
                                {
                                    "custid": "65",
                                    "companyname": "Customer NYUHS"
                                },
                                {
                                    "custid": "65",
                                    "companyname": "Customer NYUHS"
                                },
                                {
                                    "custid": "65",
                                    "companyname": "Customer NYUHS"
                                },
                                {
                                    "custid": "65",
                                    "companyname": "Customer NYUHS"
                                },
                                {
                                    "custid": "65",
                                    "companyname": "Customer NYUHS"
                                },
                                {
                                    "custid": "65",
                                    "companyname": "Customer NYUHS"
                                },
                                {
                                    "custid": "65",
                                    "companyname": "Customer NYUHS"
                                },
                                {
                                    "custid": "65",
                                    "companyname": "Customer NYUHS"
                                },
                                {
                                    "custid": "65",
                                    "companyname": "Customer NYUHS"
                                },
                                {
                                    "custid": "65",
                                    "companyname": "Customer NYUHS"
                                },
                                {
                                    "custid": "65",
                                    "companyname": "Customer NYUHS"
                                },
                                {
                                    "custid": "65",
                                    "companyname": "Customer NYUHS"
                                },
                                {
                                    "custid": "65",
                                    "companyname": "Customer NYUHS"
                                },
                                {
                                    "custid": "65",
                                    "companyname": "Customer NYUHS"
                                },
                                {
                                    "custid": "65",
                                    "companyname": "Customer NYUHS"
                                },
                                {
                                    "custid": "65",
                                    "companyname": "Customer NYUHS"
                                },
                                {
                                    "custid": "65",
                                    "companyname": "Customer NYUHS"
                                },
                                {
                                    "custid": "66",
                                    "companyname": "Customer LHANT"
                                },
                                {
                                    "custid": "66",
                                    "companyname": "Customer LHANT"
                                },
                                {
                                    "custid": "66",
                                    "companyname": "Customer LHANT"
                                },
                                {
                                    "custid": "66",
                                    "companyname": "Customer LHANT"
                                },
                                {
                                    "custid": "66",
                                    "companyname": "Customer LHANT"
                                },
                                {
                                    "custid": "66",
                                    "companyname": "Customer LHANT"
                                },
                                {
                                    "custid": "66",
                                    "companyname": "Customer LHANT"
                                },
                                {
                                    "custid": "66",
                                    "companyname": "Customer LHANT"
                                },
                                {
                                    "custid": "66",
                                    "companyname": "Customer LHANT"
                                },
                                {
                                    "custid": "66",
                                    "companyname": "Customer LHANT"
                                },
                                {
                                    "custid": "66",
                                    "companyname": "Customer LHANT"
                                },
                                {
                                    "custid": "66",
                                    "companyname": "Customer LHANT"
                                },
                                {
                                    "custid": "67",
                                    "companyname": "Customer QVEPD"
                                },
                                {
                                    "custid": "67",
                                    "companyname": "Customer QVEPD"
                                },
                                {
                                    "custid": "67",
                                    "companyname": "Customer QVEPD"
                                },
                                {
                                    "custid": "67",
                                    "companyname": "Customer QVEPD"
                                },
                                {
                                    "custid": "67",
                                    "companyname": "Customer QVEPD"
                                },
                                {
                                    "custid": "67",
                                    "companyname": "Customer QVEPD"
                                },
                                {
                                    "custid": "67",
                                    "companyname": "Customer QVEPD"
                                },
                                {
                                    "custid": "67",
                                    "companyname": "Customer QVEPD"
                                },
                                {
                                    "custid": "67",
                                    "companyname": "Customer QVEPD"
                                },
                                {
                                    "custid": "67",
                                    "companyname": "Customer QVEPD"
                                },
                                {
                                    "custid": "67",
                                    "companyname": "Customer QVEPD"
                                },
                                {
                                    "custid": "68",
                                    "companyname": "Customer CCKOT"
                                },
                                {
                                    "custid": "68",
                                    "companyname": "Customer CCKOT"
                                },
                                {
                                    "custid": "68",
                                    "companyname": "Customer CCKOT"
                                },
                                {
                                    "custid": "68",
                                    "companyname": "Customer CCKOT"
                                },
                                {
                                    "custid": "68",
                                    "companyname": "Customer CCKOT"
                                },
                                {
                                    "custid": "68",
                                    "companyname": "Customer CCKOT"
                                },
                                {
                                    "custid": "68",
                                    "companyname": "Customer CCKOT"
                                },
                                {
                                    "custid": "68",
                                    "companyname": "Customer CCKOT"
                                },
                                {
                                    "custid": "68",
                                    "companyname": "Customer CCKOT"
                                },
                                {
                                    "custid": "68",
                                    "companyname": "Customer CCKOT"
                                },
                                {
                                    "custid": "69",
                                    "companyname": "Customer SIUIH"
                                },
                                {
                                    "custid": "69",
                                    "companyname": "Customer SIUIH"
                                },
                                {
                                    "custid": "69",
                                    "companyname": "Customer SIUIH"
                                },
                                {
                                    "custid": "69",
                                    "companyname": "Customer SIUIH"
                                },
                                {
                                    "custid": "69",
                                    "companyname": "Customer SIUIH"
                                },
                                {
                                    "custid": "70",
                                    "companyname": "Customer TMXGN"
                                },
                                {
                                    "custid": "70",
                                    "companyname": "Customer TMXGN"
                                },
                                {
                                    "custid": "70",
                                    "companyname": "Customer TMXGN"
                                },
                                {
                                    "custid": "70",
                                    "companyname": "Customer TMXGN"
                                },
                                {
                                    "custid": "70",
                                    "companyname": "Customer TMXGN"
                                },
                                {
                                    "custid": "70",
                                    "companyname": "Customer TMXGN"
                                },
                                {
                                    "custid": "71",
                                    "companyname": "Customer LCOUJ"
                                },
                                {
                                    "custid": "71",
                                    "companyname": "Customer LCOUJ"
                                },
                                {
                                    "custid": "71",
                                    "companyname": "Customer LCOUJ"
                                },
                                {
                                    "custid": "71",
                                    "companyname": "Customer LCOUJ"
                                },
                                {
                                    "custid": "71",
                                    "companyname": "Customer LCOUJ"
                                },
                                {
                                    "custid": "71",
                                    "companyname": "Customer LCOUJ"
                                },
                                {
                                    "custid": "71",
                                    "companyname": "Customer LCOUJ"
                                },
                                {
                                    "custid": "71",
                                    "companyname": "Customer LCOUJ"
                                },
                                {
                                    "custid": "71",
                                    "companyname": "Customer LCOUJ"
                                },
                                {
                                    "custid": "71",
                                    "companyname": "Customer LCOUJ"
                                },
                                {
                                    "custid": "71",
                                    "companyname": "Customer LCOUJ"
                                },
                                {
                                    "custid": "71",
                                    "companyname": "Customer LCOUJ"
                                },
                                {
                                    "custid": "71",
                                    "companyname": "Customer LCOUJ"
                                },
                                {
                                    "custid": "71",
                                    "companyname": "Customer LCOUJ"
                                },
                                {
                                    "custid": "71",
                                    "companyname": "Customer LCOUJ"
                                },
                                {
                                    "custid": "71",
                                    "companyname": "Customer LCOUJ"
                                },
                                {
                                    "custid": "71",
                                    "companyname": "Customer LCOUJ"
                                },
                                {
                                    "custid": "71",
                                    "companyname": "Customer LCOUJ"
                                },
                                {
                                    "custid": "71",
                                    "companyname": "Customer LCOUJ"
                                },
                                {
                                    "custid": "71",
                                    "companyname": "Customer LCOUJ"
                                },
                                {
                                    "custid": "71",
                                    "companyname": "Customer LCOUJ"
                                },
                                {
                                    "custid": "71",
                                    "companyname": "Customer LCOUJ"
                                },
                                {
                                    "custid": "71",
                                    "companyname": "Customer LCOUJ"
                                },
                                {
                                    "custid": "71",
                                    "companyname": "Customer LCOUJ"
                                },
                                {
                                    "custid": "71",
                                    "companyname": "Customer LCOUJ"
                                },
                                {
                                    "custid": "71",
                                    "companyname": "Customer LCOUJ"
                                },
                                {
                                    "custid": "71",
                                    "companyname": "Customer LCOUJ"
                                },
                                {
                                    "custid": "71",
                                    "companyname": "Customer LCOUJ"
                                },
                                {
                                    "custid": "71",
                                    "companyname": "Customer LCOUJ"
                                },
                                {
                                    "custid": "71",
                                    "companyname": "Customer LCOUJ"
                                },
                                {
                                    "custid": "71",
                                    "companyname": "Customer LCOUJ"
                                },
                                {
                                    "custid": "72",
                                    "companyname": "Customer AHPOP"
                                },
                                {
                                    "custid": "72",
                                    "companyname": "Customer AHPOP"
                                },
                                {
                                    "custid": "72",
                                    "companyname": "Customer AHPOP"
                                },
                                {
                                    "custid": "72",
                                    "companyname": "Customer AHPOP"
                                },
                                {
                                    "custid": "72",
                                    "companyname": "Customer AHPOP"
                                },
                                {
                                    "custid": "72",
                                    "companyname": "Customer AHPOP"
                                },
                                {
                                    "custid": "72",
                                    "companyname": "Customer AHPOP"
                                },
                                {
                                    "custid": "72",
                                    "companyname": "Customer AHPOP"
                                },
                                {
                                    "custid": "72",
                                    "companyname": "Customer AHPOP"
                                },
                                {
                                    "custid": "73",
                                    "companyname": "Customer JMIKW"
                                },
                                {
                                    "custid": "73",
                                    "companyname": "Customer JMIKW"
                                },
                                {
                                    "custid": "73",
                                    "companyname": "Customer JMIKW"
                                },
                                {
                                    "custid": "73",
                                    "companyname": "Customer JMIKW"
                                },
                                {
                                    "custid": "73",
                                    "companyname": "Customer JMIKW"
                                },
                                {
                                    "custid": "73",
                                    "companyname": "Customer JMIKW"
                                },
                                {
                                    "custid": "73",
                                    "companyname": "Customer JMIKW"
                                },
                                {
                                    "custid": "74",
                                    "companyname": "Customer YSHXL"
                                },
                                {
                                    "custid": "74",
                                    "companyname": "Customer YSHXL"
                                },
                                {
                                    "custid": "74",
                                    "companyname": "Customer YSHXL"
                                },
                                {
                                    "custid": "74",
                                    "companyname": "Customer YSHXL"
                                },
                                {
                                    "custid": "75",
                                    "companyname": "Customer XOJYP"
                                },
                                {
                                    "custid": "75",
                                    "companyname": "Customer XOJYP"
                                },
                                {
                                    "custid": "75",
                                    "companyname": "Customer XOJYP"
                                },
                                {
                                    "custid": "75",
                                    "companyname": "Customer XOJYP"
                                },
                                {
                                    "custid": "75",
                                    "companyname": "Customer XOJYP"
                                },
                                {
                                    "custid": "75",
                                    "companyname": "Customer XOJYP"
                                },
                                {
                                    "custid": "75",
                                    "companyname": "Customer XOJYP"
                                },
                                {
                                    "custid": "75",
                                    "companyname": "Customer XOJYP"
                                },
                                {
                                    "custid": "75",
                                    "companyname": "Customer XOJYP"
                                },
                                {
                                    "custid": "76",
                                    "companyname": "Customer SFOGW"
                                },
                                {
                                    "custid": "76",
                                    "companyname": "Customer SFOGW"
                                },
                                {
                                    "custid": "76",
                                    "companyname": "Customer SFOGW"
                                },
                                {
                                    "custid": "76",
                                    "companyname": "Customer SFOGW"
                                },
                                {
                                    "custid": "76",
                                    "companyname": "Customer SFOGW"
                                },
                                {
                                    "custid": "76",
                                    "companyname": "Customer SFOGW"
                                },
                                {
                                    "custid": "76",
                                    "companyname": "Customer SFOGW"
                                },
                                {
                                    "custid": "76",
                                    "companyname": "Customer SFOGW"
                                },
                                {
                                    "custid": "76",
                                    "companyname": "Customer SFOGW"
                                },
                                {
                                    "custid": "76",
                                    "companyname": "Customer SFOGW"
                                },
                                {
                                    "custid": "76",
                                    "companyname": "Customer SFOGW"
                                },
                                {
                                    "custid": "76",
                                    "companyname": "Customer SFOGW"
                                },
                                {
                                    "custid": "77",
                                    "companyname": "Customer LCYBZ"
                                },
                                {
                                    "custid": "77",
                                    "companyname": "Customer LCYBZ"
                                },
                                {
                                    "custid": "77",
                                    "companyname": "Customer LCYBZ"
                                },
                                {
                                    "custid": "77",
                                    "companyname": "Customer LCYBZ"
                                },
                                {
                                    "custid": "78",
                                    "companyname": "Customer NLTYP"
                                },
                                {
                                    "custid": "78",
                                    "companyname": "Customer NLTYP"
                                },
                                {
                                    "custid": "78",
                                    "companyname": "Customer NLTYP"
                                },
                                {
                                    "custid": "79",
                                    "companyname": "Customer FAPSM"
                                },
                                {
                                    "custid": "79",
                                    "companyname": "Customer FAPSM"
                                },
                                {
                                    "custid": "79",
                                    "companyname": "Customer FAPSM"
                                },
                                {
                                    "custid": "79",
                                    "companyname": "Customer FAPSM"
                                },
                                {
                                    "custid": "79",
                                    "companyname": "Customer FAPSM"
                                },
                                {
                                    "custid": "79",
                                    "companyname": "Customer FAPSM"
                                },
                                {
                                    "custid": "80",
                                    "companyname": "Customer VONTK"
                                },
                                {
                                    "custid": "80",
                                    "companyname": "Customer VONTK"
                                },
                                {
                                    "custid": "80",
                                    "companyname": "Customer VONTK"
                                },
                                {
                                    "custid": "80",
                                    "companyname": "Customer VONTK"
                                },
                                {
                                    "custid": "80",
                                    "companyname": "Customer VONTK"
                                },
                                {
                                    "custid": "80",
                                    "companyname": "Customer VONTK"
                                },
                                {
                                    "custid": "80",
                                    "companyname": "Customer VONTK"
                                },
                                {
                                    "custid": "80",
                                    "companyname": "Customer VONTK"
                                },
                                {
                                    "custid": "80",
                                    "companyname": "Customer VONTK"
                                },
                                {
                                    "custid": "80",
                                    "companyname": "Customer VONTK"
                                },
                                {
                                    "custid": "81",
                                    "companyname": "Customer YQQWW"
                                },
                                {
                                    "custid": "81",
                                    "companyname": "Customer YQQWW"
                                },
                                {
                                    "custid": "81",
                                    "companyname": "Customer YQQWW"
                                },
                                {
                                    "custid": "81",
                                    "companyname": "Customer YQQWW"
                                },
                                {
                                    "custid": "81",
                                    "companyname": "Customer YQQWW"
                                },
                                {
                                    "custid": "81",
                                    "companyname": "Customer YQQWW"
                                },
                                {
                                    "custid": "82",
                                    "companyname": "Customer EYHKM"
                                },
                                {
                                    "custid": "82",
                                    "companyname": "Customer EYHKM"
                                },
                                {
                                    "custid": "82",
                                    "companyname": "Customer EYHKM"
                                },
                                {
                                    "custid": "83",
                                    "companyname": "Customer ZRNDE"
                                },
                                {
                                    "custid": "83",
                                    "companyname": "Customer ZRNDE"
                                },
                                {
                                    "custid": "83",
                                    "companyname": "Customer ZRNDE"
                                },
                                {
                                    "custid": "83",
                                    "companyname": "Customer ZRNDE"
                                },
                                {
                                    "custid": "83",
                                    "companyname": "Customer ZRNDE"
                                },
                                {
                                    "custid": "83",
                                    "companyname": "Customer ZRNDE"
                                },
                                {
                                    "custid": "83",
                                    "companyname": "Customer ZRNDE"
                                },
                                {
                                    "custid": "83",
                                    "companyname": "Customer ZRNDE"
                                },
                                {
                                    "custid": "83",
                                    "companyname": "Customer ZRNDE"
                                },
                                {
                                    "custid": "83",
                                    "companyname": "Customer ZRNDE"
                                },
                                {
                                    "custid": "83",
                                    "companyname": "Customer ZRNDE"
                                },
                                {
                                    "custid": "84",
                                    "companyname": "Customer NRCSK"
                                },
                                {
                                    "custid": "84",
                                    "companyname": "Customer NRCSK"
                                },
                                {
                                    "custid": "84",
                                    "companyname": "Customer NRCSK"
                                },
                                {
                                    "custid": "84",
                                    "companyname": "Customer NRCSK"
                                },
                                {
                                    "custid": "84",
                                    "companyname": "Customer NRCSK"
                                },
                                {
                                    "custid": "84",
                                    "companyname": "Customer NRCSK"
                                },
                                {
                                    "custid": "84",
                                    "companyname": "Customer NRCSK"
                                },
                                {
                                    "custid": "84",
                                    "companyname": "Customer NRCSK"
                                },
                                {
                                    "custid": "84",
                                    "companyname": "Customer NRCSK"
                                },
                                {
                                    "custid": "84",
                                    "companyname": "Customer NRCSK"
                                },
                                {
                                    "custid": "85",
                                    "companyname": "Customer ENQZT"
                                },
                                {
                                    "custid": "85",
                                    "companyname": "Customer ENQZT"
                                },
                                {
                                    "custid": "85",
                                    "companyname": "Customer ENQZT"
                                },
                                {
                                    "custid": "85",
                                    "companyname": "Customer ENQZT"
                                },
                                {
                                    "custid": "85",
                                    "companyname": "Customer ENQZT"
                                },
                                {
                                    "custid": "86",
                                    "companyname": "Customer SNXOJ"
                                },
                                {
                                    "custid": "86",
                                    "companyname": "Customer SNXOJ"
                                },
                                {
                                    "custid": "86",
                                    "companyname": "Customer SNXOJ"
                                },
                                {
                                    "custid": "86",
                                    "companyname": "Customer SNXOJ"
                                },
                                {
                                    "custid": "86",
                                    "companyname": "Customer SNXOJ"
                                },
                                {
                                    "custid": "86",
                                    "companyname": "Customer SNXOJ"
                                },
                                {
                                    "custid": "86",
                                    "companyname": "Customer SNXOJ"
                                },
                                {
                                    "custid": "86",
                                    "companyname": "Customer SNXOJ"
                                },
                                {
                                    "custid": "86",
                                    "companyname": "Customer SNXOJ"
                                },
                                {
                                    "custid": "86",
                                    "companyname": "Customer SNXOJ"
                                },
                                {
                                    "custid": "87",
                                    "companyname": "Customer ZHYOS"
                                },
                                {
                                    "custid": "87",
                                    "companyname": "Customer ZHYOS"
                                },
                                {
                                    "custid": "87",
                                    "companyname": "Customer ZHYOS"
                                },
                                {
                                    "custid": "87",
                                    "companyname": "Customer ZHYOS"
                                },
                                {
                                    "custid": "87",
                                    "companyname": "Customer ZHYOS"
                                },
                                {
                                    "custid": "87",
                                    "companyname": "Customer ZHYOS"
                                },
                                {
                                    "custid": "87",
                                    "companyname": "Customer ZHYOS"
                                },
                                {
                                    "custid": "87",
                                    "companyname": "Customer ZHYOS"
                                },
                                {
                                    "custid": "87",
                                    "companyname": "Customer ZHYOS"
                                },
                                {
                                    "custid": "87",
                                    "companyname": "Customer ZHYOS"
                                },
                                {
                                    "custid": "87",
                                    "companyname": "Customer ZHYOS"
                                },
                                {
                                    "custid": "87",
                                    "companyname": "Customer ZHYOS"
                                },
                                {
                                    "custid": "87",
                                    "companyname": "Customer ZHYOS"
                                },
                                {
                                    "custid": "87",
                                    "companyname": "Customer ZHYOS"
                                },
                                {
                                    "custid": "87",
                                    "companyname": "Customer ZHYOS"
                                },
                                {
                                    "custid": "88",
                                    "companyname": "Customer SRQVM"
                                },
                                {
                                    "custid": "88",
                                    "companyname": "Customer SRQVM"
                                },
                                {
                                    "custid": "88",
                                    "companyname": "Customer SRQVM"
                                },
                                {
                                    "custid": "88",
                                    "companyname": "Customer SRQVM"
                                },
                                {
                                    "custid": "88",
                                    "companyname": "Customer SRQVM"
                                },
                                {
                                    "custid": "88",
                                    "companyname": "Customer SRQVM"
                                },
                                {
                                    "custid": "88",
                                    "companyname": "Customer SRQVM"
                                },
                                {
                                    "custid": "88",
                                    "companyname": "Customer SRQVM"
                                },
                                {
                                    "custid": "88",
                                    "companyname": "Customer SRQVM"
                                },
                                {
                                    "custid": "89",
                                    "companyname": "Customer YBQTI"
                                },
                                {
                                    "custid": "89",
                                    "companyname": "Customer YBQTI"
                                },
                                {
                                    "custid": "89",
                                    "companyname": "Customer YBQTI"
                                },
                                {
                                    "custid": "89",
                                    "companyname": "Customer YBQTI"
                                },
                                {
                                    "custid": "89",
                                    "companyname": "Customer YBQTI"
                                },
                                {
                                    "custid": "89",
                                    "companyname": "Customer YBQTI"
                                },
                                {
                                    "custid": "89",
                                    "companyname": "Customer YBQTI"
                                },
                                {
                                    "custid": "89",
                                    "companyname": "Customer YBQTI"
                                },
                                {
                                    "custid": "89",
                                    "companyname": "Customer YBQTI"
                                },
                                {
                                    "custid": "89",
                                    "companyname": "Customer YBQTI"
                                },
                                {
                                    "custid": "89",
                                    "companyname": "Customer YBQTI"
                                },
                                {
                                    "custid": "89",
                                    "companyname": "Customer YBQTI"
                                },
                                {
                                    "custid": "89",
                                    "companyname": "Customer YBQTI"
                                },
                                {
                                    "custid": "89",
                                    "companyname": "Customer YBQTI"
                                },
                                {
                                    "custid": "90",
                                    "companyname": "Customer XBBVR"
                                },
                                {
                                    "custid": "90",
                                    "companyname": "Customer XBBVR"
                                },
                                {
                                    "custid": "90",
                                    "companyname": "Customer XBBVR"
                                },
                                {
                                    "custid": "90",
                                    "companyname": "Customer XBBVR"
                                },
                                {
                                    "custid": "90",
                                    "companyname": "Customer XBBVR"
                                },
                                {
                                    "custid": "90",
                                    "companyname": "Customer XBBVR"
                                },
                                {
                                    "custid": "90",
                                    "companyname": "Customer XBBVR"
                                },
                                {
                                    "custid": "91",
                                    "companyname": "Customer CCFIZ"
                                },
                                {
                                    "custid": "91",
                                    "companyname": "Customer CCFIZ"
                                },
                                {
                                    "custid": "91",
                                    "companyname": "Customer CCFIZ"
                                },
                                {
                                    "custid": "91",
                                    "companyname": "Customer CCFIZ"
                                },
                                {
                                    "custid": "91",
                                    "companyname": "Customer CCFIZ"
                                },
                                {
                                    "custid": "91",
                                    "companyname": "Customer CCFIZ"
                                },
                                {
                                    "custid": "91",
                                    "companyname": "Customer CCFIZ"
                                }
                            ]
                        },
                        "text/html": [
                            "<table>",
                            "<tr><th>custid</th><th>companyname</th></tr>",
                            "<tr><td>1</td><td>Customer NRZBB</td></tr>",
                            "<tr><td>1</td><td>Customer NRZBB</td></tr>",
                            "<tr><td>1</td><td>Customer NRZBB</td></tr>",
                            "<tr><td>1</td><td>Customer NRZBB</td></tr>",
                            "<tr><td>1</td><td>Customer NRZBB</td></tr>",
                            "<tr><td>1</td><td>Customer NRZBB</td></tr>",
                            "<tr><td>2</td><td>Customer MLTDN</td></tr>",
                            "<tr><td>2</td><td>Customer MLTDN</td></tr>",
                            "<tr><td>2</td><td>Customer MLTDN</td></tr>",
                            "<tr><td>2</td><td>Customer MLTDN</td></tr>",
                            "<tr><td>3</td><td>Customer KBUDE</td></tr>",
                            "<tr><td>3</td><td>Customer KBUDE</td></tr>",
                            "<tr><td>3</td><td>Customer KBUDE</td></tr>",
                            "<tr><td>3</td><td>Customer KBUDE</td></tr>",
                            "<tr><td>3</td><td>Customer KBUDE</td></tr>",
                            "<tr><td>3</td><td>Customer KBUDE</td></tr>",
                            "<tr><td>3</td><td>Customer KBUDE</td></tr>",
                            "<tr><td>4</td><td>Customer HFBZG</td></tr>",
                            "<tr><td>4</td><td>Customer HFBZG</td></tr>",
                            "<tr><td>4</td><td>Customer HFBZG</td></tr>",
                            "<tr><td>4</td><td>Customer HFBZG</td></tr>",
                            "<tr><td>4</td><td>Customer HFBZG</td></tr>",
                            "<tr><td>4</td><td>Customer HFBZG</td></tr>",
                            "<tr><td>4</td><td>Customer HFBZG</td></tr>",
                            "<tr><td>4</td><td>Customer HFBZG</td></tr>",
                            "<tr><td>4</td><td>Customer HFBZG</td></tr>",
                            "<tr><td>4</td><td>Customer HFBZG</td></tr>",
                            "<tr><td>4</td><td>Customer HFBZG</td></tr>",
                            "<tr><td>4</td><td>Customer HFBZG</td></tr>",
                            "<tr><td>4</td><td>Customer HFBZG</td></tr>",
                            "<tr><td>5</td><td>Customer HGVLZ</td></tr>",
                            "<tr><td>5</td><td>Customer HGVLZ</td></tr>",
                            "<tr><td>5</td><td>Customer HGVLZ</td></tr>",
                            "<tr><td>5</td><td>Customer HGVLZ</td></tr>",
                            "<tr><td>5</td><td>Customer HGVLZ</td></tr>",
                            "<tr><td>5</td><td>Customer HGVLZ</td></tr>",
                            "<tr><td>5</td><td>Customer HGVLZ</td></tr>",
                            "<tr><td>5</td><td>Customer HGVLZ</td></tr>",
                            "<tr><td>5</td><td>Customer HGVLZ</td></tr>",
                            "<tr><td>5</td><td>Customer HGVLZ</td></tr>",
                            "<tr><td>5</td><td>Customer HGVLZ</td></tr>",
                            "<tr><td>5</td><td>Customer HGVLZ</td></tr>",
                            "<tr><td>5</td><td>Customer HGVLZ</td></tr>",
                            "<tr><td>5</td><td>Customer HGVLZ</td></tr>",
                            "<tr><td>5</td><td>Customer HGVLZ</td></tr>",
                            "<tr><td>5</td><td>Customer HGVLZ</td></tr>",
                            "<tr><td>5</td><td>Customer HGVLZ</td></tr>",
                            "<tr><td>5</td><td>Customer HGVLZ</td></tr>",
                            "<tr><td>6</td><td>Customer XHXJV</td></tr>",
                            "<tr><td>6</td><td>Customer XHXJV</td></tr>",
                            "<tr><td>6</td><td>Customer XHXJV</td></tr>",
                            "<tr><td>6</td><td>Customer XHXJV</td></tr>",
                            "<tr><td>6</td><td>Customer XHXJV</td></tr>",
                            "<tr><td>6</td><td>Customer XHXJV</td></tr>",
                            "<tr><td>6</td><td>Customer XHXJV</td></tr>",
                            "<tr><td>7</td><td>Customer QXVLA</td></tr>",
                            "<tr><td>7</td><td>Customer QXVLA</td></tr>",
                            "<tr><td>7</td><td>Customer QXVLA</td></tr>",
                            "<tr><td>7</td><td>Customer QXVLA</td></tr>",
                            "<tr><td>7</td><td>Customer QXVLA</td></tr>",
                            "<tr><td>7</td><td>Customer QXVLA</td></tr>",
                            "<tr><td>7</td><td>Customer QXVLA</td></tr>",
                            "<tr><td>7</td><td>Customer QXVLA</td></tr>",
                            "<tr><td>7</td><td>Customer QXVLA</td></tr>",
                            "<tr><td>7</td><td>Customer QXVLA</td></tr>",
                            "<tr><td>7</td><td>Customer QXVLA</td></tr>",
                            "<tr><td>8</td><td>Customer QUHWH</td></tr>",
                            "<tr><td>8</td><td>Customer QUHWH</td></tr>",
                            "<tr><td>8</td><td>Customer QUHWH</td></tr>",
                            "<tr><td>9</td><td>Customer RTXGC</td></tr>",
                            "<tr><td>9</td><td>Customer RTXGC</td></tr>",
                            "<tr><td>9</td><td>Customer RTXGC</td></tr>",
                            "<tr><td>9</td><td>Customer RTXGC</td></tr>",
                            "<tr><td>9</td><td>Customer RTXGC</td></tr>",
                            "<tr><td>9</td><td>Customer RTXGC</td></tr>",
                            "<tr><td>9</td><td>Customer RTXGC</td></tr>",
                            "<tr><td>9</td><td>Customer RTXGC</td></tr>",
                            "<tr><td>9</td><td>Customer RTXGC</td></tr>",
                            "<tr><td>9</td><td>Customer RTXGC</td></tr>",
                            "<tr><td>9</td><td>Customer RTXGC</td></tr>",
                            "<tr><td>9</td><td>Customer RTXGC</td></tr>",
                            "<tr><td>9</td><td>Customer RTXGC</td></tr>",
                            "<tr><td>9</td><td>Customer RTXGC</td></tr>",
                            "<tr><td>9</td><td>Customer RTXGC</td></tr>",
                            "<tr><td>9</td><td>Customer RTXGC</td></tr>",
                            "<tr><td>9</td><td>Customer RTXGC</td></tr>",
                            "<tr><td>10</td><td>Customer EEALV</td></tr>",
                            "<tr><td>10</td><td>Customer EEALV</td></tr>",
                            "<tr><td>10</td><td>Customer EEALV</td></tr>",
                            "<tr><td>10</td><td>Customer EEALV</td></tr>",
                            "<tr><td>10</td><td>Customer EEALV</td></tr>",
                            "<tr><td>10</td><td>Customer EEALV</td></tr>",
                            "<tr><td>10</td><td>Customer EEALV</td></tr>",
                            "<tr><td>10</td><td>Customer EEALV</td></tr>",
                            "<tr><td>10</td><td>Customer EEALV</td></tr>",
                            "<tr><td>10</td><td>Customer EEALV</td></tr>",
                            "<tr><td>10</td><td>Customer EEALV</td></tr>",
                            "<tr><td>10</td><td>Customer EEALV</td></tr>",
                            "<tr><td>10</td><td>Customer EEALV</td></tr>",
                            "<tr><td>10</td><td>Customer EEALV</td></tr>",
                            "<tr><td>11</td><td>Customer UBHAU</td></tr>",
                            "<tr><td>11</td><td>Customer UBHAU</td></tr>",
                            "<tr><td>11</td><td>Customer UBHAU</td></tr>",
                            "<tr><td>11</td><td>Customer UBHAU</td></tr>",
                            "<tr><td>11</td><td>Customer UBHAU</td></tr>",
                            "<tr><td>11</td><td>Customer UBHAU</td></tr>",
                            "<tr><td>11</td><td>Customer UBHAU</td></tr>",
                            "<tr><td>11</td><td>Customer UBHAU</td></tr>",
                            "<tr><td>11</td><td>Customer UBHAU</td></tr>",
                            "<tr><td>11</td><td>Customer UBHAU</td></tr>",
                            "<tr><td>12</td><td>Customer PSNMQ</td></tr>",
                            "<tr><td>12</td><td>Customer PSNMQ</td></tr>",
                            "<tr><td>12</td><td>Customer PSNMQ</td></tr>",
                            "<tr><td>12</td><td>Customer PSNMQ</td></tr>",
                            "<tr><td>12</td><td>Customer PSNMQ</td></tr>",
                            "<tr><td>12</td><td>Customer PSNMQ</td></tr>",
                            "<tr><td>13</td><td>Customer VMLOG</td></tr>",
                            "<tr><td>14</td><td>Customer WNMAF</td></tr>",
                            "<tr><td>14</td><td>Customer WNMAF</td></tr>",
                            "<tr><td>14</td><td>Customer WNMAF</td></tr>",
                            "<tr><td>14</td><td>Customer WNMAF</td></tr>",
                            "<tr><td>14</td><td>Customer WNMAF</td></tr>",
                            "<tr><td>14</td><td>Customer WNMAF</td></tr>",
                            "<tr><td>14</td><td>Customer WNMAF</td></tr>",
                            "<tr><td>14</td><td>Customer WNMAF</td></tr>",
                            "<tr><td>15</td><td>Customer JUWXK</td></tr>",
                            "<tr><td>15</td><td>Customer JUWXK</td></tr>",
                            "<tr><td>15</td><td>Customer JUWXK</td></tr>",
                            "<tr><td>15</td><td>Customer JUWXK</td></tr>",
                            "<tr><td>15</td><td>Customer JUWXK</td></tr>",
                            "<tr><td>16</td><td>Customer GYBBY</td></tr>",
                            "<tr><td>16</td><td>Customer GYBBY</td></tr>",
                            "<tr><td>16</td><td>Customer GYBBY</td></tr>",
                            "<tr><td>17</td><td>Customer FEVNN</td></tr>",
                            "<tr><td>17</td><td>Customer FEVNN</td></tr>",
                            "<tr><td>17</td><td>Customer FEVNN</td></tr>",
                            "<tr><td>17</td><td>Customer FEVNN</td></tr>",
                            "<tr><td>17</td><td>Customer FEVNN</td></tr>",
                            "<tr><td>17</td><td>Customer FEVNN</td></tr>",
                            "<tr><td>18</td><td>Customer BSVAR</td></tr>",
                            "<tr><td>18</td><td>Customer BSVAR</td></tr>",
                            "<tr><td>18</td><td>Customer BSVAR</td></tr>",
                            "<tr><td>18</td><td>Customer BSVAR</td></tr>",
                            "<tr><td>19</td><td>Customer RFNQC</td></tr>",
                            "<tr><td>19</td><td>Customer RFNQC</td></tr>",
                            "<tr><td>19</td><td>Customer RFNQC</td></tr>",
                            "<tr><td>19</td><td>Customer RFNQC</td></tr>",
                            "<tr><td>19</td><td>Customer RFNQC</td></tr>",
                            "<tr><td>19</td><td>Customer RFNQC</td></tr>",
                            "<tr><td>19</td><td>Customer RFNQC</td></tr>",
                            "<tr><td>19</td><td>Customer RFNQC</td></tr>",
                            "<tr><td>20</td><td>Customer THHDP</td></tr>",
                            "<tr><td>20</td><td>Customer THHDP</td></tr>",
                            "<tr><td>20</td><td>Customer THHDP</td></tr>",
                            "<tr><td>20</td><td>Customer THHDP</td></tr>",
                            "<tr><td>20</td><td>Customer THHDP</td></tr>",
                            "<tr><td>20</td><td>Customer THHDP</td></tr>",
                            "<tr><td>20</td><td>Customer THHDP</td></tr>",
                            "<tr><td>20</td><td>Customer THHDP</td></tr>",
                            "<tr><td>20</td><td>Customer THHDP</td></tr>",
                            "<tr><td>20</td><td>Customer THHDP</td></tr>",
                            "<tr><td>20</td><td>Customer THHDP</td></tr>",
                            "<tr><td>20</td><td>Customer THHDP</td></tr>",
                            "<tr><td>20</td><td>Customer THHDP</td></tr>",
                            "<tr><td>20</td><td>Customer THHDP</td></tr>",
                            "<tr><td>20</td><td>Customer THHDP</td></tr>",
                            "<tr><td>20</td><td>Customer THHDP</td></tr>",
                            "<tr><td>20</td><td>Customer THHDP</td></tr>",
                            "<tr><td>20</td><td>Customer THHDP</td></tr>",
                            "<tr><td>20</td><td>Customer THHDP</td></tr>",
                            "<tr><td>20</td><td>Customer THHDP</td></tr>",
                            "<tr><td>20</td><td>Customer THHDP</td></tr>",
                            "<tr><td>20</td><td>Customer THHDP</td></tr>",
                            "<tr><td>20</td><td>Customer THHDP</td></tr>",
                            "<tr><td>20</td><td>Customer THHDP</td></tr>",
                            "<tr><td>20</td><td>Customer THHDP</td></tr>",
                            "<tr><td>20</td><td>Customer THHDP</td></tr>",
                            "<tr><td>20</td><td>Customer THHDP</td></tr>",
                            "<tr><td>20</td><td>Customer THHDP</td></tr>",
                            "<tr><td>20</td><td>Customer THHDP</td></tr>",
                            "<tr><td>20</td><td>Customer THHDP</td></tr>",
                            "<tr><td>21</td><td>Customer KIDPX</td></tr>",
                            "<tr><td>21</td><td>Customer KIDPX</td></tr>",
                            "<tr><td>21</td><td>Customer KIDPX</td></tr>",
                            "<tr><td>21</td><td>Customer KIDPX</td></tr>",
                            "<tr><td>21</td><td>Customer KIDPX</td></tr>",
                            "<tr><td>21</td><td>Customer KIDPX</td></tr>",
                            "<tr><td>21</td><td>Customer KIDPX</td></tr>",
                            "<tr><td>22</td><td>Customer DTDMN</td></tr>",
                            "<tr><td>23</td><td>Customer WVFAF</td></tr>",
                            "<tr><td>23</td><td>Customer WVFAF</td></tr>",
                            "<tr><td>23</td><td>Customer WVFAF</td></tr>",
                            "<tr><td>23</td><td>Customer WVFAF</td></tr>",
                            "<tr><td>23</td><td>Customer WVFAF</td></tr>",
                            "<tr><td>24</td><td>Customer CYZTN</td></tr>",
                            "<tr><td>24</td><td>Customer CYZTN</td></tr>",
                            "<tr><td>24</td><td>Customer CYZTN</td></tr>",
                            "<tr><td>24</td><td>Customer CYZTN</td></tr>",
                            "<tr><td>24</td><td>Customer CYZTN</td></tr>",
                            "<tr><td>24</td><td>Customer CYZTN</td></tr>",
                            "<tr><td>24</td><td>Customer CYZTN</td></tr>",
                            "<tr><td>24</td><td>Customer CYZTN</td></tr>",
                            "<tr><td>24</td><td>Customer CYZTN</td></tr>",
                            "<tr><td>24</td><td>Customer CYZTN</td></tr>",
                            "<tr><td>24</td><td>Customer CYZTN</td></tr>",
                            "<tr><td>24</td><td>Customer CYZTN</td></tr>",
                            "<tr><td>24</td><td>Customer CYZTN</td></tr>",
                            "<tr><td>24</td><td>Customer CYZTN</td></tr>",
                            "<tr><td>24</td><td>Customer CYZTN</td></tr>",
                            "<tr><td>24</td><td>Customer CYZTN</td></tr>",
                            "<tr><td>24</td><td>Customer CYZTN</td></tr>",
                            "<tr><td>24</td><td>Customer CYZTN</td></tr>",
                            "<tr><td>24</td><td>Customer CYZTN</td></tr>",
                            "<tr><td>25</td><td>Customer AZJED</td></tr>",
                            "<tr><td>25</td><td>Customer AZJED</td></tr>",
                            "<tr><td>25</td><td>Customer AZJED</td></tr>",
                            "<tr><td>25</td><td>Customer AZJED</td></tr>",
                            "<tr><td>25</td><td>Customer AZJED</td></tr>",
                            "<tr><td>25</td><td>Customer AZJED</td></tr>",
                            "<tr><td>25</td><td>Customer AZJED</td></tr>",
                            "<tr><td>25</td><td>Customer AZJED</td></tr>",
                            "<tr><td>25</td><td>Customer AZJED</td></tr>",
                            "<tr><td>25</td><td>Customer AZJED</td></tr>",
                            "<tr><td>25</td><td>Customer AZJED</td></tr>",
                            "<tr><td>25</td><td>Customer AZJED</td></tr>",
                            "<tr><td>25</td><td>Customer AZJED</td></tr>",
                            "<tr><td>25</td><td>Customer AZJED</td></tr>",
                            "<tr><td>25</td><td>Customer AZJED</td></tr>",
                            "<tr><td>26</td><td>Customer USDBG</td></tr>",
                            "<tr><td>26</td><td>Customer USDBG</td></tr>",
                            "<tr><td>26</td><td>Customer USDBG</td></tr>",
                            "<tr><td>27</td><td>Customer WMFEA</td></tr>",
                            "<tr><td>27</td><td>Customer WMFEA</td></tr>",
                            "<tr><td>27</td><td>Customer WMFEA</td></tr>",
                            "<tr><td>27</td><td>Customer WMFEA</td></tr>",
                            "<tr><td>27</td><td>Customer WMFEA</td></tr>",
                            "<tr><td>27</td><td>Customer WMFEA</td></tr>",
                            "<tr><td>28</td><td>Customer XYUFB</td></tr>",
                            "<tr><td>28</td><td>Customer XYUFB</td></tr>",
                            "<tr><td>28</td><td>Customer XYUFB</td></tr>",
                            "<tr><td>28</td><td>Customer XYUFB</td></tr>",
                            "<tr><td>28</td><td>Customer XYUFB</td></tr>",
                            "<tr><td>28</td><td>Customer XYUFB</td></tr>",
                            "<tr><td>28</td><td>Customer XYUFB</td></tr>",
                            "<tr><td>28</td><td>Customer XYUFB</td></tr>",
                            "<tr><td>29</td><td>Customer MDLWA</td></tr>",
                            "<tr><td>29</td><td>Customer MDLWA</td></tr>",
                            "<tr><td>29</td><td>Customer MDLWA</td></tr>",
                            "<tr><td>29</td><td>Customer MDLWA</td></tr>",
                            "<tr><td>29</td><td>Customer MDLWA</td></tr>",
                            "<tr><td>30</td><td>Customer KSLQF</td></tr>",
                            "<tr><td>30</td><td>Customer KSLQF</td></tr>",
                            "<tr><td>30</td><td>Customer KSLQF</td></tr>",
                            "<tr><td>30</td><td>Customer KSLQF</td></tr>",
                            "<tr><td>30</td><td>Customer KSLQF</td></tr>",
                            "<tr><td>30</td><td>Customer KSLQF</td></tr>",
                            "<tr><td>30</td><td>Customer KSLQF</td></tr>",
                            "<tr><td>30</td><td>Customer KSLQF</td></tr>",
                            "<tr><td>30</td><td>Customer KSLQF</td></tr>",
                            "<tr><td>30</td><td>Customer KSLQF</td></tr>",
                            "<tr><td>31</td><td>Customer YJCBX</td></tr>",
                            "<tr><td>31</td><td>Customer YJCBX</td></tr>",
                            "<tr><td>31</td><td>Customer YJCBX</td></tr>",
                            "<tr><td>31</td><td>Customer YJCBX</td></tr>",
                            "<tr><td>31</td><td>Customer YJCBX</td></tr>",
                            "<tr><td>31</td><td>Customer YJCBX</td></tr>",
                            "<tr><td>31</td><td>Customer YJCBX</td></tr>",
                            "<tr><td>31</td><td>Customer YJCBX</td></tr>",
                            "<tr><td>31</td><td>Customer YJCBX</td></tr>",
                            "<tr><td>32</td><td>Customer YSIQX</td></tr>",
                            "<tr><td>32</td><td>Customer YSIQX</td></tr>",
                            "<tr><td>32</td><td>Customer YSIQX</td></tr>",
                            "<tr><td>32</td><td>Customer YSIQX</td></tr>",
                            "<tr><td>32</td><td>Customer YSIQX</td></tr>",
                            "<tr><td>32</td><td>Customer YSIQX</td></tr>",
                            "<tr><td>32</td><td>Customer YSIQX</td></tr>",
                            "<tr><td>32</td><td>Customer YSIQX</td></tr>",
                            "<tr><td>32</td><td>Customer YSIQX</td></tr>",
                            "<tr><td>32</td><td>Customer YSIQX</td></tr>",
                            "<tr><td>32</td><td>Customer YSIQX</td></tr>",
                            "<tr><td>33</td><td>Customer FVXPQ</td></tr>",
                            "<tr><td>33</td><td>Customer FVXPQ</td></tr>",
                            "<tr><td>34</td><td>Customer IBVRG</td></tr>",
                            "<tr><td>34</td><td>Customer IBVRG</td></tr>",
                            "<tr><td>34</td><td>Customer IBVRG</td></tr>",
                            "<tr><td>34</td><td>Customer IBVRG</td></tr>",
                            "<tr><td>34</td><td>Customer IBVRG</td></tr>",
                            "<tr><td>34</td><td>Customer IBVRG</td></tr>",
                            "<tr><td>34</td><td>Customer IBVRG</td></tr>",
                            "<tr><td>34</td><td>Customer IBVRG</td></tr>",
                            "<tr><td>34</td><td>Customer IBVRG</td></tr>",
                            "<tr><td>34</td><td>Customer IBVRG</td></tr>",
                            "<tr><td>34</td><td>Customer IBVRG</td></tr>",
                            "<tr><td>34</td><td>Customer IBVRG</td></tr>",
                            "<tr><td>34</td><td>Customer IBVRG</td></tr>",
                            "<tr><td>34</td><td>Customer IBVRG</td></tr>",
                            "<tr><td>35</td><td>Customer UMTLM</td></tr>",
                            "<tr><td>35</td><td>Customer UMTLM</td></tr>",
                            "<tr><td>35</td><td>Customer UMTLM</td></tr>",
                            "<tr><td>35</td><td>Customer UMTLM</td></tr>",
                            "<tr><td>35</td><td>Customer UMTLM</td></tr>",
                            "<tr><td>35</td><td>Customer UMTLM</td></tr>",
                            "<tr><td>35</td><td>Customer UMTLM</td></tr>",
                            "<tr><td>35</td><td>Customer UMTLM</td></tr>",
                            "<tr><td>35</td><td>Customer UMTLM</td></tr>",
                            "<tr><td>35</td><td>Customer UMTLM</td></tr>",
                            "<tr><td>35</td><td>Customer UMTLM</td></tr>",
                            "<tr><td>35</td><td>Customer UMTLM</td></tr>",
                            "<tr><td>35</td><td>Customer UMTLM</td></tr>",
                            "<tr><td>35</td><td>Customer UMTLM</td></tr>",
                            "<tr><td>35</td><td>Customer UMTLM</td></tr>",
                            "<tr><td>35</td><td>Customer UMTLM</td></tr>",
                            "<tr><td>35</td><td>Customer UMTLM</td></tr>",
                            "<tr><td>35</td><td>Customer UMTLM</td></tr>",
                            "<tr><td>36</td><td>Customer LVJSO</td></tr>",
                            "<tr><td>36</td><td>Customer LVJSO</td></tr>",
                            "<tr><td>36</td><td>Customer LVJSO</td></tr>",
                            "<tr><td>36</td><td>Customer LVJSO</td></tr>",
                            "<tr><td>36</td><td>Customer LVJSO</td></tr>",
                            "<tr><td>37</td><td>Customer FRXZL</td></tr>",
                            "<tr><td>37</td><td>Customer FRXZL</td></tr>",
                            "<tr><td>37</td><td>Customer FRXZL</td></tr>",
                            "<tr><td>37</td><td>Customer FRXZL</td></tr>",
                            "<tr><td>37</td><td>Customer FRXZL</td></tr>",
                            "<tr><td>37</td><td>Customer FRXZL</td></tr>",
                            "<tr><td>37</td><td>Customer FRXZL</td></tr>",
                            "<tr><td>37</td><td>Customer FRXZL</td></tr>",
                            "<tr><td>37</td><td>Customer FRXZL</td></tr>",
                            "<tr><td>37</td><td>Customer FRXZL</td></tr>",
                            "<tr><td>37</td><td>Customer FRXZL</td></tr>",
                            "<tr><td>37</td><td>Customer FRXZL</td></tr>",
                            "<tr><td>37</td><td>Customer FRXZL</td></tr>",
                            "<tr><td>37</td><td>Customer FRXZL</td></tr>",
                            "<tr><td>37</td><td>Customer FRXZL</td></tr>",
                            "<tr><td>37</td><td>Customer FRXZL</td></tr>",
                            "<tr><td>37</td><td>Customer FRXZL</td></tr>",
                            "<tr><td>37</td><td>Customer FRXZL</td></tr>",
                            "<tr><td>37</td><td>Customer FRXZL</td></tr>",
                            "<tr><td>38</td><td>Customer LJUCA</td></tr>",
                            "<tr><td>38</td><td>Customer LJUCA</td></tr>",
                            "<tr><td>38</td><td>Customer LJUCA</td></tr>",
                            "<tr><td>38</td><td>Customer LJUCA</td></tr>",
                            "<tr><td>38</td><td>Customer LJUCA</td></tr>",
                            "<tr><td>38</td><td>Customer LJUCA</td></tr>",
                            "<tr><td>38</td><td>Customer LJUCA</td></tr>",
                            "<tr><td>38</td><td>Customer LJUCA</td></tr>",
                            "<tr><td>38</td><td>Customer LJUCA</td></tr>",
                            "<tr><td>38</td><td>Customer LJUCA</td></tr>",
                            "<tr><td>39</td><td>Customer GLLAG</td></tr>",
                            "<tr><td>39</td><td>Customer GLLAG</td></tr>",
                            "<tr><td>39</td><td>Customer GLLAG</td></tr>",
                            "<tr><td>39</td><td>Customer GLLAG</td></tr>",
                            "<tr><td>39</td><td>Customer GLLAG</td></tr>",
                            "<tr><td>39</td><td>Customer GLLAG</td></tr>",
                            "<tr><td>39</td><td>Customer GLLAG</td></tr>",
                            "<tr><td>39</td><td>Customer GLLAG</td></tr>",
                            "<tr><td>39</td><td>Customer GLLAG</td></tr>",
                            "<tr><td>39</td><td>Customer GLLAG</td></tr>",
                            "<tr><td>39</td><td>Customer GLLAG</td></tr>",
                            "<tr><td>39</td><td>Customer GLLAG</td></tr>",
                            "<tr><td>39</td><td>Customer GLLAG</td></tr>",
                            "<tr><td>39</td><td>Customer GLLAG</td></tr>",
                            "<tr><td>40</td><td>Customer EFFTC</td></tr>",
                            "<tr><td>40</td><td>Customer EFFTC</td></tr>",
                            "<tr><td>40</td><td>Customer EFFTC</td></tr>",
                            "<tr><td>40</td><td>Customer EFFTC</td></tr>",
                            "<tr><td>41</td><td>Customer XIIWM</td></tr>",
                            "<tr><td>41</td><td>Customer XIIWM</td></tr>",
                            "<tr><td>41</td><td>Customer XIIWM</td></tr>",
                            "<tr><td>41</td><td>Customer XIIWM</td></tr>",
                            "<tr><td>41</td><td>Customer XIIWM</td></tr>",
                            "<tr><td>41</td><td>Customer XIIWM</td></tr>",
                            "<tr><td>41</td><td>Customer XIIWM</td></tr>",
                            "<tr><td>41</td><td>Customer XIIWM</td></tr>",
                            "<tr><td>41</td><td>Customer XIIWM</td></tr>",
                            "<tr><td>41</td><td>Customer XIIWM</td></tr>",
                            "<tr><td>41</td><td>Customer XIIWM</td></tr>",
                            "<tr><td>41</td><td>Customer XIIWM</td></tr>",
                            "<tr><td>41</td><td>Customer XIIWM</td></tr>",
                            "<tr><td>41</td><td>Customer XIIWM</td></tr>",
                            "<tr><td>42</td><td>Customer IAIJK</td></tr>",
                            "<tr><td>42</td><td>Customer IAIJK</td></tr>",
                            "<tr><td>42</td><td>Customer IAIJK</td></tr>",
                            "<tr><td>43</td><td>Customer UISOJ</td></tr>",
                            "<tr><td>43</td><td>Customer UISOJ</td></tr>",
                            "<tr><td>44</td><td>Customer OXFRU</td></tr>",
                            "<tr><td>44</td><td>Customer OXFRU</td></tr>",
                            "<tr><td>44</td><td>Customer OXFRU</td></tr>",
                            "<tr><td>44</td><td>Customer OXFRU</td></tr>",
                            "<tr><td>44</td><td>Customer OXFRU</td></tr>",
                            "<tr><td>44</td><td>Customer OXFRU</td></tr>",
                            "<tr><td>44</td><td>Customer OXFRU</td></tr>",
                            "<tr><td>44</td><td>Customer OXFRU</td></tr>",
                            "<tr><td>44</td><td>Customer OXFRU</td></tr>",
                            "<tr><td>44</td><td>Customer OXFRU</td></tr>",
                            "<tr><td>44</td><td>Customer OXFRU</td></tr>",
                            "<tr><td>44</td><td>Customer OXFRU</td></tr>",
                            "<tr><td>44</td><td>Customer OXFRU</td></tr>",
                            "<tr><td>44</td><td>Customer OXFRU</td></tr>",
                            "<tr><td>44</td><td>Customer OXFRU</td></tr>",
                            "<tr><td>45</td><td>Customer QXPPT</td></tr>",
                            "<tr><td>45</td><td>Customer QXPPT</td></tr>",
                            "<tr><td>45</td><td>Customer QXPPT</td></tr>",
                            "<tr><td>45</td><td>Customer QXPPT</td></tr>",
                            "<tr><td>46</td><td>Customer XPNIK</td></tr>",
                            "<tr><td>46</td><td>Customer XPNIK</td></tr>",
                            "<tr><td>46</td><td>Customer XPNIK</td></tr>",
                            "<tr><td>46</td><td>Customer XPNIK</td></tr>",
                            "<tr><td>46</td><td>Customer XPNIK</td></tr>",
                            "<tr><td>46</td><td>Customer XPNIK</td></tr>",
                            "<tr><td>46</td><td>Customer XPNIK</td></tr>",
                            "<tr><td>46</td><td>Customer XPNIK</td></tr>",
                            "<tr><td>46</td><td>Customer XPNIK</td></tr>",
                            "<tr><td>46</td><td>Customer XPNIK</td></tr>",
                            "<tr><td>46</td><td>Customer XPNIK</td></tr>",
                            "<tr><td>46</td><td>Customer XPNIK</td></tr>",
                            "<tr><td>46</td><td>Customer XPNIK</td></tr>",
                            "<tr><td>46</td><td>Customer XPNIK</td></tr>",
                            "<tr><td>47</td><td>Customer PSQUZ</td></tr>",
                            "<tr><td>47</td><td>Customer PSQUZ</td></tr>",
                            "<tr><td>47</td><td>Customer PSQUZ</td></tr>",
                            "<tr><td>47</td><td>Customer PSQUZ</td></tr>",
                            "<tr><td>47</td><td>Customer PSQUZ</td></tr>",
                            "<tr><td>47</td><td>Customer PSQUZ</td></tr>",
                            "<tr><td>47</td><td>Customer PSQUZ</td></tr>",
                            "<tr><td>47</td><td>Customer PSQUZ</td></tr>",
                            "<tr><td>47</td><td>Customer PSQUZ</td></tr>",
                            "<tr><td>47</td><td>Customer PSQUZ</td></tr>",
                            "<tr><td>47</td><td>Customer PSQUZ</td></tr>",
                            "<tr><td>47</td><td>Customer PSQUZ</td></tr>",
                            "<tr><td>48</td><td>Customer DVFMB</td></tr>",
                            "<tr><td>48</td><td>Customer DVFMB</td></tr>",
                            "<tr><td>48</td><td>Customer DVFMB</td></tr>",
                            "<tr><td>48</td><td>Customer DVFMB</td></tr>",
                            "<tr><td>48</td><td>Customer DVFMB</td></tr>",
                            "<tr><td>48</td><td>Customer DVFMB</td></tr>",
                            "<tr><td>48</td><td>Customer DVFMB</td></tr>",
                            "<tr><td>48</td><td>Customer DVFMB</td></tr>",
                            "<tr><td>49</td><td>Customer CQRAA</td></tr>",
                            "<tr><td>49</td><td>Customer CQRAA</td></tr>",
                            "<tr><td>49</td><td>Customer CQRAA</td></tr>",
                            "<tr><td>49</td><td>Customer CQRAA</td></tr>",
                            "<tr><td>49</td><td>Customer CQRAA</td></tr>",
                            "<tr><td>49</td><td>Customer CQRAA</td></tr>",
                            "<tr><td>49</td><td>Customer CQRAA</td></tr>",
                            "<tr><td>49</td><td>Customer CQRAA</td></tr>",
                            "<tr><td>49</td><td>Customer CQRAA</td></tr>",
                            "<tr><td>49</td><td>Customer CQRAA</td></tr>",
                            "<tr><td>50</td><td>Customer JYPSC</td></tr>",
                            "<tr><td>50</td><td>Customer JYPSC</td></tr>",
                            "<tr><td>50</td><td>Customer JYPSC</td></tr>",
                            "<tr><td>50</td><td>Customer JYPSC</td></tr>",
                            "<tr><td>50</td><td>Customer JYPSC</td></tr>",
                            "<tr><td>50</td><td>Customer JYPSC</td></tr>",
                            "<tr><td>50</td><td>Customer JYPSC</td></tr>",
                            "<tr><td>51</td><td>Customer PVDZC</td></tr>",
                            "<tr><td>51</td><td>Customer PVDZC</td></tr>",
                            "<tr><td>51</td><td>Customer PVDZC</td></tr>",
                            "<tr><td>51</td><td>Customer PVDZC</td></tr>",
                            "<tr><td>51</td><td>Customer PVDZC</td></tr>",
                            "<tr><td>51</td><td>Customer PVDZC</td></tr>",
                            "<tr><td>51</td><td>Customer PVDZC</td></tr>",
                            "<tr><td>51</td><td>Customer PVDZC</td></tr>",
                            "<tr><td>51</td><td>Customer PVDZC</td></tr>",
                            "<tr><td>51</td><td>Customer PVDZC</td></tr>",
                            "<tr><td>51</td><td>Customer PVDZC</td></tr>",
                            "<tr><td>51</td><td>Customer PVDZC</td></tr>",
                            "<tr><td>51</td><td>Customer PVDZC</td></tr>",
                            "<tr><td>52</td><td>Customer PZNLA</td></tr>",
                            "<tr><td>52</td><td>Customer PZNLA</td></tr>",
                            "<tr><td>52</td><td>Customer PZNLA</td></tr>",
                            "<tr><td>52</td><td>Customer PZNLA</td></tr>",
                            "<tr><td>52</td><td>Customer PZNLA</td></tr>",
                            "<tr><td>53</td><td>Customer GCJSG</td></tr>",
                            "<tr><td>53</td><td>Customer GCJSG</td></tr>",
                            "<tr><td>53</td><td>Customer GCJSG</td></tr>",
                            "<tr><td>54</td><td>Customer TDKEG</td></tr>",
                            "<tr><td>54</td><td>Customer TDKEG</td></tr>",
                            "<tr><td>54</td><td>Customer TDKEG</td></tr>",
                            "<tr><td>54</td><td>Customer TDKEG</td></tr>",
                            "<tr><td>54</td><td>Customer TDKEG</td></tr>",
                            "<tr><td>55</td><td>Customer KZQZT</td></tr>",
                            "<tr><td>55</td><td>Customer KZQZT</td></tr>",
                            "<tr><td>55</td><td>Customer KZQZT</td></tr>",
                            "<tr><td>55</td><td>Customer KZQZT</td></tr>",
                            "<tr><td>55</td><td>Customer KZQZT</td></tr>",
                            "<tr><td>55</td><td>Customer KZQZT</td></tr>",
                            "<tr><td>55</td><td>Customer KZQZT</td></tr>",
                            "<tr><td>55</td><td>Customer KZQZT</td></tr>",
                            "<tr><td>55</td><td>Customer KZQZT</td></tr>",
                            "<tr><td>55</td><td>Customer KZQZT</td></tr>",
                            "<tr><td>56</td><td>Customer QNIVZ</td></tr>",
                            "<tr><td>56</td><td>Customer QNIVZ</td></tr>",
                            "<tr><td>56</td><td>Customer QNIVZ</td></tr>",
                            "<tr><td>56</td><td>Customer QNIVZ</td></tr>",
                            "<tr><td>56</td><td>Customer QNIVZ</td></tr>",
                            "<tr><td>56</td><td>Customer QNIVZ</td></tr>",
                            "<tr><td>56</td><td>Customer QNIVZ</td></tr>",
                            "<tr><td>56</td><td>Customer QNIVZ</td></tr>",
                            "<tr><td>56</td><td>Customer QNIVZ</td></tr>",
                            "<tr><td>56</td><td>Customer QNIVZ</td></tr>",
                            "<tr><td>57</td><td>Customer WVAXS</td></tr>",
                            "<tr><td>58</td><td>Customer AHXHT</td></tr>",
                            "<tr><td>58</td><td>Customer AHXHT</td></tr>",
                            "<tr><td>58</td><td>Customer AHXHT</td></tr>",
                            "<tr><td>58</td><td>Customer AHXHT</td></tr>",
                            "<tr><td>58</td><td>Customer AHXHT</td></tr>",
                            "<tr><td>58</td><td>Customer AHXHT</td></tr>",
                            "<tr><td>59</td><td>Customer LOLJO</td></tr>",
                            "<tr><td>59</td><td>Customer LOLJO</td></tr>",
                            "<tr><td>59</td><td>Customer LOLJO</td></tr>",
                            "<tr><td>59</td><td>Customer LOLJO</td></tr>",
                            "<tr><td>59</td><td>Customer LOLJO</td></tr>",
                            "<tr><td>59</td><td>Customer LOLJO</td></tr>",
                            "<tr><td>59</td><td>Customer LOLJO</td></tr>",
                            "<tr><td>59</td><td>Customer LOLJO</td></tr>",
                            "<tr><td>59</td><td>Customer LOLJO</td></tr>",
                            "<tr><td>59</td><td>Customer LOLJO</td></tr>",
                            "<tr><td>60</td><td>Customer QZURI</td></tr>",
                            "<tr><td>60</td><td>Customer QZURI</td></tr>",
                            "<tr><td>60</td><td>Customer QZURI</td></tr>",
                            "<tr><td>60</td><td>Customer QZURI</td></tr>",
                            "<tr><td>60</td><td>Customer QZURI</td></tr>",
                            "<tr><td>61</td><td>Customer WULWD</td></tr>",
                            "<tr><td>61</td><td>Customer WULWD</td></tr>",
                            "<tr><td>61</td><td>Customer WULWD</td></tr>",
                            "<tr><td>61</td><td>Customer WULWD</td></tr>",
                            "<tr><td>61</td><td>Customer WULWD</td></tr>",
                            "<tr><td>61</td><td>Customer WULWD</td></tr>",
                            "<tr><td>61</td><td>Customer WULWD</td></tr>",
                            "<tr><td>61</td><td>Customer WULWD</td></tr>",
                            "<tr><td>61</td><td>Customer WULWD</td></tr>",
                            "<tr><td>62</td><td>Customer WFIZJ</td></tr>",
                            "<tr><td>62</td><td>Customer WFIZJ</td></tr>",
                            "<tr><td>62</td><td>Customer WFIZJ</td></tr>",
                            "<tr><td>62</td><td>Customer WFIZJ</td></tr>",
                            "<tr><td>62</td><td>Customer WFIZJ</td></tr>",
                            "<tr><td>62</td><td>Customer WFIZJ</td></tr>",
                            "<tr><td>62</td><td>Customer WFIZJ</td></tr>",
                            "<tr><td>62</td><td>Customer WFIZJ</td></tr>",
                            "<tr><td>62</td><td>Customer WFIZJ</td></tr>",
                            "<tr><td>62</td><td>Customer WFIZJ</td></tr>",
                            "<tr><td>62</td><td>Customer WFIZJ</td></tr>",
                            "<tr><td>62</td><td>Customer WFIZJ</td></tr>",
                            "<tr><td>62</td><td>Customer WFIZJ</td></tr>",
                            "<tr><td>63</td><td>Customer IRRVL</td></tr>",
                            "<tr><td>63</td><td>Customer IRRVL</td></tr>",
                            "<tr><td>63</td><td>Customer IRRVL</td></tr>",
                            "<tr><td>63</td><td>Customer IRRVL</td></tr>",
                            "<tr><td>63</td><td>Customer IRRVL</td></tr>",
                            "<tr><td>63</td><td>Customer IRRVL</td></tr>",
                            "<tr><td>63</td><td>Customer IRRVL</td></tr>",
                            "<tr><td>63</td><td>Customer IRRVL</td></tr>",
                            "<tr><td>63</td><td>Customer IRRVL</td></tr>",
                            "<tr><td>63</td><td>Customer IRRVL</td></tr>",
                            "<tr><td>63</td><td>Customer IRRVL</td></tr>",
                            "<tr><td>63</td><td>Customer IRRVL</td></tr>",
                            "<tr><td>63</td><td>Customer IRRVL</td></tr>",
                            "<tr><td>63</td><td>Customer IRRVL</td></tr>",
                            "<tr><td>63</td><td>Customer IRRVL</td></tr>",
                            "<tr><td>63</td><td>Customer IRRVL</td></tr>",
                            "<tr><td>63</td><td>Customer IRRVL</td></tr>",
                            "<tr><td>63</td><td>Customer IRRVL</td></tr>",
                            "<tr><td>63</td><td>Customer IRRVL</td></tr>",
                            "<tr><td>63</td><td>Customer IRRVL</td></tr>",
                            "<tr><td>63</td><td>Customer IRRVL</td></tr>",
                            "<tr><td>63</td><td>Customer IRRVL</td></tr>",
                            "<tr><td>63</td><td>Customer IRRVL</td></tr>",
                            "<tr><td>63</td><td>Customer IRRVL</td></tr>",
                            "<tr><td>63</td><td>Customer IRRVL</td></tr>",
                            "<tr><td>63</td><td>Customer IRRVL</td></tr>",
                            "<tr><td>63</td><td>Customer IRRVL</td></tr>",
                            "<tr><td>63</td><td>Customer IRRVL</td></tr>",
                            "<tr><td>64</td><td>Customer LWGMD</td></tr>",
                            "<tr><td>64</td><td>Customer LWGMD</td></tr>",
                            "<tr><td>64</td><td>Customer LWGMD</td></tr>",
                            "<tr><td>64</td><td>Customer LWGMD</td></tr>",
                            "<tr><td>64</td><td>Customer LWGMD</td></tr>",
                            "<tr><td>65</td><td>Customer NYUHS</td></tr>",
                            "<tr><td>65</td><td>Customer NYUHS</td></tr>",
                            "<tr><td>65</td><td>Customer NYUHS</td></tr>",
                            "<tr><td>65</td><td>Customer NYUHS</td></tr>",
                            "<tr><td>65</td><td>Customer NYUHS</td></tr>",
                            "<tr><td>65</td><td>Customer NYUHS</td></tr>",
                            "<tr><td>65</td><td>Customer NYUHS</td></tr>",
                            "<tr><td>65</td><td>Customer NYUHS</td></tr>",
                            "<tr><td>65</td><td>Customer NYUHS</td></tr>",
                            "<tr><td>65</td><td>Customer NYUHS</td></tr>",
                            "<tr><td>65</td><td>Customer NYUHS</td></tr>",
                            "<tr><td>65</td><td>Customer NYUHS</td></tr>",
                            "<tr><td>65</td><td>Customer NYUHS</td></tr>",
                            "<tr><td>65</td><td>Customer NYUHS</td></tr>",
                            "<tr><td>65</td><td>Customer NYUHS</td></tr>",
                            "<tr><td>65</td><td>Customer NYUHS</td></tr>",
                            "<tr><td>65</td><td>Customer NYUHS</td></tr>",
                            "<tr><td>65</td><td>Customer NYUHS</td></tr>",
                            "<tr><td>66</td><td>Customer LHANT</td></tr>",
                            "<tr><td>66</td><td>Customer LHANT</td></tr>",
                            "<tr><td>66</td><td>Customer LHANT</td></tr>",
                            "<tr><td>66</td><td>Customer LHANT</td></tr>",
                            "<tr><td>66</td><td>Customer LHANT</td></tr>",
                            "<tr><td>66</td><td>Customer LHANT</td></tr>",
                            "<tr><td>66</td><td>Customer LHANT</td></tr>",
                            "<tr><td>66</td><td>Customer LHANT</td></tr>",
                            "<tr><td>66</td><td>Customer LHANT</td></tr>",
                            "<tr><td>66</td><td>Customer LHANT</td></tr>",
                            "<tr><td>66</td><td>Customer LHANT</td></tr>",
                            "<tr><td>66</td><td>Customer LHANT</td></tr>",
                            "<tr><td>67</td><td>Customer QVEPD</td></tr>",
                            "<tr><td>67</td><td>Customer QVEPD</td></tr>",
                            "<tr><td>67</td><td>Customer QVEPD</td></tr>",
                            "<tr><td>67</td><td>Customer QVEPD</td></tr>",
                            "<tr><td>67</td><td>Customer QVEPD</td></tr>",
                            "<tr><td>67</td><td>Customer QVEPD</td></tr>",
                            "<tr><td>67</td><td>Customer QVEPD</td></tr>",
                            "<tr><td>67</td><td>Customer QVEPD</td></tr>",
                            "<tr><td>67</td><td>Customer QVEPD</td></tr>",
                            "<tr><td>67</td><td>Customer QVEPD</td></tr>",
                            "<tr><td>67</td><td>Customer QVEPD</td></tr>",
                            "<tr><td>68</td><td>Customer CCKOT</td></tr>",
                            "<tr><td>68</td><td>Customer CCKOT</td></tr>",
                            "<tr><td>68</td><td>Customer CCKOT</td></tr>",
                            "<tr><td>68</td><td>Customer CCKOT</td></tr>",
                            "<tr><td>68</td><td>Customer CCKOT</td></tr>",
                            "<tr><td>68</td><td>Customer CCKOT</td></tr>",
                            "<tr><td>68</td><td>Customer CCKOT</td></tr>",
                            "<tr><td>68</td><td>Customer CCKOT</td></tr>",
                            "<tr><td>68</td><td>Customer CCKOT</td></tr>",
                            "<tr><td>68</td><td>Customer CCKOT</td></tr>",
                            "<tr><td>69</td><td>Customer SIUIH</td></tr>",
                            "<tr><td>69</td><td>Customer SIUIH</td></tr>",
                            "<tr><td>69</td><td>Customer SIUIH</td></tr>",
                            "<tr><td>69</td><td>Customer SIUIH</td></tr>",
                            "<tr><td>69</td><td>Customer SIUIH</td></tr>",
                            "<tr><td>70</td><td>Customer TMXGN</td></tr>",
                            "<tr><td>70</td><td>Customer TMXGN</td></tr>",
                            "<tr><td>70</td><td>Customer TMXGN</td></tr>",
                            "<tr><td>70</td><td>Customer TMXGN</td></tr>",
                            "<tr><td>70</td><td>Customer TMXGN</td></tr>",
                            "<tr><td>70</td><td>Customer TMXGN</td></tr>",
                            "<tr><td>71</td><td>Customer LCOUJ</td></tr>",
                            "<tr><td>71</td><td>Customer LCOUJ</td></tr>",
                            "<tr><td>71</td><td>Customer LCOUJ</td></tr>",
                            "<tr><td>71</td><td>Customer LCOUJ</td></tr>",
                            "<tr><td>71</td><td>Customer LCOUJ</td></tr>",
                            "<tr><td>71</td><td>Customer LCOUJ</td></tr>",
                            "<tr><td>71</td><td>Customer LCOUJ</td></tr>",
                            "<tr><td>71</td><td>Customer LCOUJ</td></tr>",
                            "<tr><td>71</td><td>Customer LCOUJ</td></tr>",
                            "<tr><td>71</td><td>Customer LCOUJ</td></tr>",
                            "<tr><td>71</td><td>Customer LCOUJ</td></tr>",
                            "<tr><td>71</td><td>Customer LCOUJ</td></tr>",
                            "<tr><td>71</td><td>Customer LCOUJ</td></tr>",
                            "<tr><td>71</td><td>Customer LCOUJ</td></tr>",
                            "<tr><td>71</td><td>Customer LCOUJ</td></tr>",
                            "<tr><td>71</td><td>Customer LCOUJ</td></tr>",
                            "<tr><td>71</td><td>Customer LCOUJ</td></tr>",
                            "<tr><td>71</td><td>Customer LCOUJ</td></tr>",
                            "<tr><td>71</td><td>Customer LCOUJ</td></tr>",
                            "<tr><td>71</td><td>Customer LCOUJ</td></tr>",
                            "<tr><td>71</td><td>Customer LCOUJ</td></tr>",
                            "<tr><td>71</td><td>Customer LCOUJ</td></tr>",
                            "<tr><td>71</td><td>Customer LCOUJ</td></tr>",
                            "<tr><td>71</td><td>Customer LCOUJ</td></tr>",
                            "<tr><td>71</td><td>Customer LCOUJ</td></tr>",
                            "<tr><td>71</td><td>Customer LCOUJ</td></tr>",
                            "<tr><td>71</td><td>Customer LCOUJ</td></tr>",
                            "<tr><td>71</td><td>Customer LCOUJ</td></tr>",
                            "<tr><td>71</td><td>Customer LCOUJ</td></tr>",
                            "<tr><td>71</td><td>Customer LCOUJ</td></tr>",
                            "<tr><td>71</td><td>Customer LCOUJ</td></tr>",
                            "<tr><td>72</td><td>Customer AHPOP</td></tr>",
                            "<tr><td>72</td><td>Customer AHPOP</td></tr>",
                            "<tr><td>72</td><td>Customer AHPOP</td></tr>",
                            "<tr><td>72</td><td>Customer AHPOP</td></tr>",
                            "<tr><td>72</td><td>Customer AHPOP</td></tr>",
                            "<tr><td>72</td><td>Customer AHPOP</td></tr>",
                            "<tr><td>72</td><td>Customer AHPOP</td></tr>",
                            "<tr><td>72</td><td>Customer AHPOP</td></tr>",
                            "<tr><td>72</td><td>Customer AHPOP</td></tr>",
                            "<tr><td>73</td><td>Customer JMIKW</td></tr>",
                            "<tr><td>73</td><td>Customer JMIKW</td></tr>",
                            "<tr><td>73</td><td>Customer JMIKW</td></tr>",
                            "<tr><td>73</td><td>Customer JMIKW</td></tr>",
                            "<tr><td>73</td><td>Customer JMIKW</td></tr>",
                            "<tr><td>73</td><td>Customer JMIKW</td></tr>",
                            "<tr><td>73</td><td>Customer JMIKW</td></tr>",
                            "<tr><td>74</td><td>Customer YSHXL</td></tr>",
                            "<tr><td>74</td><td>Customer YSHXL</td></tr>",
                            "<tr><td>74</td><td>Customer YSHXL</td></tr>",
                            "<tr><td>74</td><td>Customer YSHXL</td></tr>",
                            "<tr><td>75</td><td>Customer XOJYP</td></tr>",
                            "<tr><td>75</td><td>Customer XOJYP</td></tr>",
                            "<tr><td>75</td><td>Customer XOJYP</td></tr>",
                            "<tr><td>75</td><td>Customer XOJYP</td></tr>",
                            "<tr><td>75</td><td>Customer XOJYP</td></tr>",
                            "<tr><td>75</td><td>Customer XOJYP</td></tr>",
                            "<tr><td>75</td><td>Customer XOJYP</td></tr>",
                            "<tr><td>75</td><td>Customer XOJYP</td></tr>",
                            "<tr><td>75</td><td>Customer XOJYP</td></tr>",
                            "<tr><td>76</td><td>Customer SFOGW</td></tr>",
                            "<tr><td>76</td><td>Customer SFOGW</td></tr>",
                            "<tr><td>76</td><td>Customer SFOGW</td></tr>",
                            "<tr><td>76</td><td>Customer SFOGW</td></tr>",
                            "<tr><td>76</td><td>Customer SFOGW</td></tr>",
                            "<tr><td>76</td><td>Customer SFOGW</td></tr>",
                            "<tr><td>76</td><td>Customer SFOGW</td></tr>",
                            "<tr><td>76</td><td>Customer SFOGW</td></tr>",
                            "<tr><td>76</td><td>Customer SFOGW</td></tr>",
                            "<tr><td>76</td><td>Customer SFOGW</td></tr>",
                            "<tr><td>76</td><td>Customer SFOGW</td></tr>",
                            "<tr><td>76</td><td>Customer SFOGW</td></tr>",
                            "<tr><td>77</td><td>Customer LCYBZ</td></tr>",
                            "<tr><td>77</td><td>Customer LCYBZ</td></tr>",
                            "<tr><td>77</td><td>Customer LCYBZ</td></tr>",
                            "<tr><td>77</td><td>Customer LCYBZ</td></tr>",
                            "<tr><td>78</td><td>Customer NLTYP</td></tr>",
                            "<tr><td>78</td><td>Customer NLTYP</td></tr>",
                            "<tr><td>78</td><td>Customer NLTYP</td></tr>",
                            "<tr><td>79</td><td>Customer FAPSM</td></tr>",
                            "<tr><td>79</td><td>Customer FAPSM</td></tr>",
                            "<tr><td>79</td><td>Customer FAPSM</td></tr>",
                            "<tr><td>79</td><td>Customer FAPSM</td></tr>",
                            "<tr><td>79</td><td>Customer FAPSM</td></tr>",
                            "<tr><td>79</td><td>Customer FAPSM</td></tr>",
                            "<tr><td>80</td><td>Customer VONTK</td></tr>",
                            "<tr><td>80</td><td>Customer VONTK</td></tr>",
                            "<tr><td>80</td><td>Customer VONTK</td></tr>",
                            "<tr><td>80</td><td>Customer VONTK</td></tr>",
                            "<tr><td>80</td><td>Customer VONTK</td></tr>",
                            "<tr><td>80</td><td>Customer VONTK</td></tr>",
                            "<tr><td>80</td><td>Customer VONTK</td></tr>",
                            "<tr><td>80</td><td>Customer VONTK</td></tr>",
                            "<tr><td>80</td><td>Customer VONTK</td></tr>",
                            "<tr><td>80</td><td>Customer VONTK</td></tr>",
                            "<tr><td>81</td><td>Customer YQQWW</td></tr>",
                            "<tr><td>81</td><td>Customer YQQWW</td></tr>",
                            "<tr><td>81</td><td>Customer YQQWW</td></tr>",
                            "<tr><td>81</td><td>Customer YQQWW</td></tr>",
                            "<tr><td>81</td><td>Customer YQQWW</td></tr>",
                            "<tr><td>81</td><td>Customer YQQWW</td></tr>",
                            "<tr><td>82</td><td>Customer EYHKM</td></tr>",
                            "<tr><td>82</td><td>Customer EYHKM</td></tr>",
                            "<tr><td>82</td><td>Customer EYHKM</td></tr>",
                            "<tr><td>83</td><td>Customer ZRNDE</td></tr>",
                            "<tr><td>83</td><td>Customer ZRNDE</td></tr>",
                            "<tr><td>83</td><td>Customer ZRNDE</td></tr>",
                            "<tr><td>83</td><td>Customer ZRNDE</td></tr>",
                            "<tr><td>83</td><td>Customer ZRNDE</td></tr>",
                            "<tr><td>83</td><td>Customer ZRNDE</td></tr>",
                            "<tr><td>83</td><td>Customer ZRNDE</td></tr>",
                            "<tr><td>83</td><td>Customer ZRNDE</td></tr>",
                            "<tr><td>83</td><td>Customer ZRNDE</td></tr>",
                            "<tr><td>83</td><td>Customer ZRNDE</td></tr>",
                            "<tr><td>83</td><td>Customer ZRNDE</td></tr>",
                            "<tr><td>84</td><td>Customer NRCSK</td></tr>",
                            "<tr><td>84</td><td>Customer NRCSK</td></tr>",
                            "<tr><td>84</td><td>Customer NRCSK</td></tr>",
                            "<tr><td>84</td><td>Customer NRCSK</td></tr>",
                            "<tr><td>84</td><td>Customer NRCSK</td></tr>",
                            "<tr><td>84</td><td>Customer NRCSK</td></tr>",
                            "<tr><td>84</td><td>Customer NRCSK</td></tr>",
                            "<tr><td>84</td><td>Customer NRCSK</td></tr>",
                            "<tr><td>84</td><td>Customer NRCSK</td></tr>",
                            "<tr><td>84</td><td>Customer NRCSK</td></tr>",
                            "<tr><td>85</td><td>Customer ENQZT</td></tr>",
                            "<tr><td>85</td><td>Customer ENQZT</td></tr>",
                            "<tr><td>85</td><td>Customer ENQZT</td></tr>",
                            "<tr><td>85</td><td>Customer ENQZT</td></tr>",
                            "<tr><td>85</td><td>Customer ENQZT</td></tr>",
                            "<tr><td>86</td><td>Customer SNXOJ</td></tr>",
                            "<tr><td>86</td><td>Customer SNXOJ</td></tr>",
                            "<tr><td>86</td><td>Customer SNXOJ</td></tr>",
                            "<tr><td>86</td><td>Customer SNXOJ</td></tr>",
                            "<tr><td>86</td><td>Customer SNXOJ</td></tr>",
                            "<tr><td>86</td><td>Customer SNXOJ</td></tr>",
                            "<tr><td>86</td><td>Customer SNXOJ</td></tr>",
                            "<tr><td>86</td><td>Customer SNXOJ</td></tr>",
                            "<tr><td>86</td><td>Customer SNXOJ</td></tr>",
                            "<tr><td>86</td><td>Customer SNXOJ</td></tr>",
                            "<tr><td>87</td><td>Customer ZHYOS</td></tr>",
                            "<tr><td>87</td><td>Customer ZHYOS</td></tr>",
                            "<tr><td>87</td><td>Customer ZHYOS</td></tr>",
                            "<tr><td>87</td><td>Customer ZHYOS</td></tr>",
                            "<tr><td>87</td><td>Customer ZHYOS</td></tr>",
                            "<tr><td>87</td><td>Customer ZHYOS</td></tr>",
                            "<tr><td>87</td><td>Customer ZHYOS</td></tr>",
                            "<tr><td>87</td><td>Customer ZHYOS</td></tr>",
                            "<tr><td>87</td><td>Customer ZHYOS</td></tr>",
                            "<tr><td>87</td><td>Customer ZHYOS</td></tr>",
                            "<tr><td>87</td><td>Customer ZHYOS</td></tr>",
                            "<tr><td>87</td><td>Customer ZHYOS</td></tr>",
                            "<tr><td>87</td><td>Customer ZHYOS</td></tr>",
                            "<tr><td>87</td><td>Customer ZHYOS</td></tr>",
                            "<tr><td>87</td><td>Customer ZHYOS</td></tr>",
                            "<tr><td>88</td><td>Customer SRQVM</td></tr>",
                            "<tr><td>88</td><td>Customer SRQVM</td></tr>",
                            "<tr><td>88</td><td>Customer SRQVM</td></tr>",
                            "<tr><td>88</td><td>Customer SRQVM</td></tr>",
                            "<tr><td>88</td><td>Customer SRQVM</td></tr>",
                            "<tr><td>88</td><td>Customer SRQVM</td></tr>",
                            "<tr><td>88</td><td>Customer SRQVM</td></tr>",
                            "<tr><td>88</td><td>Customer SRQVM</td></tr>",
                            "<tr><td>88</td><td>Customer SRQVM</td></tr>",
                            "<tr><td>89</td><td>Customer YBQTI</td></tr>",
                            "<tr><td>89</td><td>Customer YBQTI</td></tr>",
                            "<tr><td>89</td><td>Customer YBQTI</td></tr>",
                            "<tr><td>89</td><td>Customer YBQTI</td></tr>",
                            "<tr><td>89</td><td>Customer YBQTI</td></tr>",
                            "<tr><td>89</td><td>Customer YBQTI</td></tr>",
                            "<tr><td>89</td><td>Customer YBQTI</td></tr>",
                            "<tr><td>89</td><td>Customer YBQTI</td></tr>",
                            "<tr><td>89</td><td>Customer YBQTI</td></tr>",
                            "<tr><td>89</td><td>Customer YBQTI</td></tr>",
                            "<tr><td>89</td><td>Customer YBQTI</td></tr>",
                            "<tr><td>89</td><td>Customer YBQTI</td></tr>",
                            "<tr><td>89</td><td>Customer YBQTI</td></tr>",
                            "<tr><td>89</td><td>Customer YBQTI</td></tr>",
                            "<tr><td>90</td><td>Customer XBBVR</td></tr>",
                            "<tr><td>90</td><td>Customer XBBVR</td></tr>",
                            "<tr><td>90</td><td>Customer XBBVR</td></tr>",
                            "<tr><td>90</td><td>Customer XBBVR</td></tr>",
                            "<tr><td>90</td><td>Customer XBBVR</td></tr>",
                            "<tr><td>90</td><td>Customer XBBVR</td></tr>",
                            "<tr><td>90</td><td>Customer XBBVR</td></tr>",
                            "<tr><td>91</td><td>Customer CCFIZ</td></tr>",
                            "<tr><td>91</td><td>Customer CCFIZ</td></tr>",
                            "<tr><td>91</td><td>Customer CCFIZ</td></tr>",
                            "<tr><td>91</td><td>Customer CCFIZ</td></tr>",
                            "<tr><td>91</td><td>Customer CCFIZ</td></tr>",
                            "<tr><td>91</td><td>Customer CCFIZ</td></tr>",
                            "<tr><td>91</td><td>Customer CCFIZ</td></tr>",
                            "</table>"
                        ]
                    }
                }
            ],
            "execution_count": 9
        },
        {
            "cell_type": "markdown",
            "source": [
                "3.5. Retornar los tres productos más recientemente ordenados por cliente, Utilizando CROSS APPLY"
            ],
            "metadata": {
                "azdata_cell_guid": "ac2aa1c1-8c39-4abd-a40f-91f52d8cc7d3"
            }
        },
        {
            "cell_type": "code",
            "source": [
                "SELECT C.custid, TopOrders.orderid, TopOrders.orderdate\r\n",
                "FROM Sales.Customers AS C\r\n",
                "CROSS APPLY\r\n",
                "(SELECT TOP (3) orderid, orderdate\r\n",
                "\tFROM Sales.Orders AS O\r\n",
                "\tWHERE O.custid = C.custid\r\n",
                "\tORDER BY orderdate DESC, orderid DESC) AS TopOrders;"
            ],
            "metadata": {
                "azdata_cell_guid": "a31e0ddf-3fbf-4a1d-9bb2-a1f54c79e3e9",
                "tags": [],
                "language": "sql"
            },
            "outputs": [
                {
                    "output_type": "display_data",
                    "data": {
                        "text/html": "(263 rows affected)"
                    },
                    "metadata": {}
                },
                {
                    "output_type": "display_data",
                    "data": {
                        "text/html": "Total execution time: 00:00:00.038"
                    },
                    "metadata": {}
                },
                {
                    "output_type": "execute_result",
                    "metadata": {},
                    "execution_count": 10,
                    "data": {
                        "application/vnd.dataresource+json": {
                            "schema": {
                                "fields": [
                                    {
                                        "name": "custid"
                                    },
                                    {
                                        "name": "orderid"
                                    },
                                    {
                                        "name": "orderdate"
                                    }
                                ]
                            },
                            "data": [
                                {
                                    "custid": "1",
                                    "orderid": "11011",
                                    "orderdate": "2008-04-09 00:00:00.000"
                                },
                                {
                                    "custid": "1",
                                    "orderid": "10952",
                                    "orderdate": "2008-03-16 00:00:00.000"
                                },
                                {
                                    "custid": "1",
                                    "orderid": "10835",
                                    "orderdate": "2008-01-15 00:00:00.000"
                                },
                                {
                                    "custid": "2",
                                    "orderid": "10926",
                                    "orderdate": "2008-03-04 00:00:00.000"
                                },
                                {
                                    "custid": "2",
                                    "orderid": "10759",
                                    "orderdate": "2007-11-28 00:00:00.000"
                                },
                                {
                                    "custid": "2",
                                    "orderid": "10625",
                                    "orderdate": "2007-08-08 00:00:00.000"
                                },
                                {
                                    "custid": "3",
                                    "orderid": "10856",
                                    "orderdate": "2008-01-28 00:00:00.000"
                                },
                                {
                                    "custid": "3",
                                    "orderid": "10682",
                                    "orderdate": "2007-09-25 00:00:00.000"
                                },
                                {
                                    "custid": "3",
                                    "orderid": "10677",
                                    "orderdate": "2007-09-22 00:00:00.000"
                                },
                                {
                                    "custid": "4",
                                    "orderid": "11016",
                                    "orderdate": "2008-04-10 00:00:00.000"
                                },
                                {
                                    "custid": "4",
                                    "orderid": "10953",
                                    "orderdate": "2008-03-16 00:00:00.000"
                                },
                                {
                                    "custid": "4",
                                    "orderid": "10920",
                                    "orderdate": "2008-03-03 00:00:00.000"
                                },
                                {
                                    "custid": "5",
                                    "orderid": "10924",
                                    "orderdate": "2008-03-04 00:00:00.000"
                                },
                                {
                                    "custid": "5",
                                    "orderid": "10875",
                                    "orderdate": "2008-02-06 00:00:00.000"
                                },
                                {
                                    "custid": "5",
                                    "orderid": "10866",
                                    "orderdate": "2008-02-03 00:00:00.000"
                                },
                                {
                                    "custid": "6",
                                    "orderid": "11058",
                                    "orderdate": "2008-04-29 00:00:00.000"
                                },
                                {
                                    "custid": "6",
                                    "orderid": "10956",
                                    "orderdate": "2008-03-17 00:00:00.000"
                                },
                                {
                                    "custid": "6",
                                    "orderid": "10853",
                                    "orderdate": "2008-01-27 00:00:00.000"
                                },
                                {
                                    "custid": "7",
                                    "orderid": "10826",
                                    "orderdate": "2008-01-12 00:00:00.000"
                                },
                                {
                                    "custid": "7",
                                    "orderid": "10679",
                                    "orderdate": "2007-09-23 00:00:00.000"
                                },
                                {
                                    "custid": "7",
                                    "orderid": "10628",
                                    "orderdate": "2007-08-12 00:00:00.000"
                                },
                                {
                                    "custid": "8",
                                    "orderid": "10970",
                                    "orderdate": "2008-03-24 00:00:00.000"
                                },
                                {
                                    "custid": "8",
                                    "orderid": "10801",
                                    "orderdate": "2007-12-29 00:00:00.000"
                                },
                                {
                                    "custid": "8",
                                    "orderid": "10326",
                                    "orderdate": "2006-10-10 00:00:00.000"
                                },
                                {
                                    "custid": "9",
                                    "orderid": "11076",
                                    "orderdate": "2008-05-06 00:00:00.000"
                                },
                                {
                                    "custid": "9",
                                    "orderid": "10940",
                                    "orderdate": "2008-03-11 00:00:00.000"
                                },
                                {
                                    "custid": "9",
                                    "orderid": "10932",
                                    "orderdate": "2008-03-06 00:00:00.000"
                                },
                                {
                                    "custid": "11",
                                    "orderid": "11023",
                                    "orderdate": "2008-04-14 00:00:00.000"
                                },
                                {
                                    "custid": "11",
                                    "orderid": "10947",
                                    "orderdate": "2008-03-13 00:00:00.000"
                                },
                                {
                                    "custid": "11",
                                    "orderid": "10943",
                                    "orderdate": "2008-03-11 00:00:00.000"
                                },
                                {
                                    "custid": "12",
                                    "orderid": "11054",
                                    "orderdate": "2008-04-28 00:00:00.000"
                                },
                                {
                                    "custid": "12",
                                    "orderid": "10937",
                                    "orderdate": "2008-03-10 00:00:00.000"
                                },
                                {
                                    "custid": "12",
                                    "orderid": "10881",
                                    "orderdate": "2008-02-11 00:00:00.000"
                                },
                                {
                                    "custid": "13",
                                    "orderid": "10259",
                                    "orderdate": "2006-07-18 00:00:00.000"
                                },
                                {
                                    "custid": "14",
                                    "orderid": "11041",
                                    "orderdate": "2008-04-22 00:00:00.000"
                                },
                                {
                                    "custid": "14",
                                    "orderid": "11029",
                                    "orderdate": "2008-04-16 00:00:00.000"
                                },
                                {
                                    "custid": "14",
                                    "orderid": "10966",
                                    "orderdate": "2008-03-20 00:00:00.000"
                                },
                                {
                                    "custid": "16",
                                    "orderid": "10848",
                                    "orderdate": "2008-01-23 00:00:00.000"
                                },
                                {
                                    "custid": "16",
                                    "orderid": "10462",
                                    "orderdate": "2007-03-03 00:00:00.000"
                                },
                                {
                                    "custid": "16",
                                    "orderid": "10435",
                                    "orderdate": "2007-02-04 00:00:00.000"
                                },
                                {
                                    "custid": "17",
                                    "orderid": "11067",
                                    "orderdate": "2008-05-04 00:00:00.000"
                                },
                                {
                                    "custid": "17",
                                    "orderid": "11036",
                                    "orderdate": "2008-04-20 00:00:00.000"
                                },
                                {
                                    "custid": "17",
                                    "orderid": "10825",
                                    "orderdate": "2008-01-09 00:00:00.000"
                                },
                                {
                                    "custid": "18",
                                    "orderid": "10890",
                                    "orderdate": "2008-02-16 00:00:00.000"
                                },
                                {
                                    "custid": "18",
                                    "orderid": "10683",
                                    "orderdate": "2007-09-26 00:00:00.000"
                                },
                                {
                                    "custid": "18",
                                    "orderid": "10609",
                                    "orderdate": "2007-07-24 00:00:00.000"
                                },
                                {
                                    "custid": "19",
                                    "orderid": "11056",
                                    "orderdate": "2008-04-28 00:00:00.000"
                                },
                                {
                                    "custid": "19",
                                    "orderid": "11047",
                                    "orderdate": "2008-04-24 00:00:00.000"
                                },
                                {
                                    "custid": "19",
                                    "orderid": "11024",
                                    "orderdate": "2008-04-15 00:00:00.000"
                                },
                                {
                                    "custid": "20",
                                    "orderid": "11072",
                                    "orderdate": "2008-05-05 00:00:00.000"
                                },
                                {
                                    "custid": "20",
                                    "orderid": "11017",
                                    "orderdate": "2008-04-13 00:00:00.000"
                                },
                                {
                                    "custid": "20",
                                    "orderid": "11008",
                                    "orderdate": "2008-04-08 00:00:00.000"
                                },
                                {
                                    "custid": "23",
                                    "orderid": "10789",
                                    "orderdate": "2007-12-22 00:00:00.000"
                                },
                                {
                                    "custid": "23",
                                    "orderid": "10763",
                                    "orderdate": "2007-12-03 00:00:00.000"
                                },
                                {
                                    "custid": "23",
                                    "orderid": "10634",
                                    "orderdate": "2007-08-15 00:00:00.000"
                                },
                                {
                                    "custid": "24",
                                    "orderid": "11050",
                                    "orderdate": "2008-04-27 00:00:00.000"
                                },
                                {
                                    "custid": "24",
                                    "orderid": "11001",
                                    "orderdate": "2008-04-06 00:00:00.000"
                                },
                                {
                                    "custid": "24",
                                    "orderid": "10993",
                                    "orderdate": "2008-04-01 00:00:00.000"
                                },
                                {
                                    "custid": "25",
                                    "orderid": "11012",
                                    "orderdate": "2008-04-09 00:00:00.000"
                                },
                                {
                                    "custid": "25",
                                    "orderid": "10929",
                                    "orderdate": "2008-03-05 00:00:00.000"
                                },
                                {
                                    "custid": "25",
                                    "orderid": "10859",
                                    "orderdate": "2008-01-29 00:00:00.000"
                                },
                                {
                                    "custid": "26",
                                    "orderid": "10971",
                                    "orderdate": "2008-03-24 00:00:00.000"
                                },
                                {
                                    "custid": "26",
                                    "orderid": "10860",
                                    "orderdate": "2008-01-29 00:00:00.000"
                                },
                                {
                                    "custid": "26",
                                    "orderid": "10671",
                                    "orderdate": "2007-09-17 00:00:00.000"
                                },
                                {
                                    "custid": "27",
                                    "orderid": "11060",
                                    "orderdate": "2008-04-30 00:00:00.000"
                                },
                                {
                                    "custid": "27",
                                    "orderid": "11026",
                                    "orderdate": "2008-04-15 00:00:00.000"
                                },
                                {
                                    "custid": "27",
                                    "orderid": "10807",
                                    "orderdate": "2007-12-31 00:00:00.000"
                                },
                                {
                                    "custid": "28",
                                    "orderid": "10963",
                                    "orderdate": "2008-03-19 00:00:00.000"
                                },
                                {
                                    "custid": "28",
                                    "orderid": "10664",
                                    "orderdate": "2007-09-10 00:00:00.000"
                                },
                                {
                                    "custid": "28",
                                    "orderid": "10604",
                                    "orderdate": "2007-07-18 00:00:00.000"
                                },
                                {
                                    "custid": "29",
                                    "orderid": "10928",
                                    "orderdate": "2008-03-05 00:00:00.000"
                                },
                                {
                                    "custid": "29",
                                    "orderid": "10887",
                                    "orderdate": "2008-02-13 00:00:00.000"
                                },
                                {
                                    "custid": "29",
                                    "orderid": "10568",
                                    "orderdate": "2007-06-13 00:00:00.000"
                                },
                                {
                                    "custid": "30",
                                    "orderid": "11037",
                                    "orderdate": "2008-04-21 00:00:00.000"
                                },
                                {
                                    "custid": "30",
                                    "orderid": "11009",
                                    "orderdate": "2008-04-08 00:00:00.000"
                                },
                                {
                                    "custid": "30",
                                    "orderid": "10948",
                                    "orderdate": "2008-03-13 00:00:00.000"
                                },
                                {
                                    "custid": "39",
                                    "orderid": "11028",
                                    "orderdate": "2008-04-16 00:00:00.000"
                                },
                                {
                                    "custid": "39",
                                    "orderid": "10893",
                                    "orderdate": "2008-02-18 00:00:00.000"
                                },
                                {
                                    "custid": "39",
                                    "orderid": "10849",
                                    "orderdate": "2008-01-23 00:00:00.000"
                                },
                                {
                                    "custid": "40",
                                    "orderid": "10973",
                                    "orderdate": "2008-03-24 00:00:00.000"
                                },
                                {
                                    "custid": "40",
                                    "orderid": "10972",
                                    "orderdate": "2008-03-24 00:00:00.000"
                                },
                                {
                                    "custid": "40",
                                    "orderid": "10927",
                                    "orderdate": "2008-03-05 00:00:00.000"
                                },
                                {
                                    "custid": "41",
                                    "orderid": "11051",
                                    "orderdate": "2008-04-27 00:00:00.000"
                                },
                                {
                                    "custid": "41",
                                    "orderid": "10923",
                                    "orderdate": "2008-03-03 00:00:00.000"
                                },
                                {
                                    "custid": "41",
                                    "orderid": "10832",
                                    "orderdate": "2008-01-14 00:00:00.000"
                                },
                                {
                                    "custid": "44",
                                    "orderid": "11070",
                                    "orderdate": "2008-05-05 00:00:00.000"
                                },
                                {
                                    "custid": "44",
                                    "orderid": "10934",
                                    "orderdate": "2008-03-09 00:00:00.000"
                                },
                                {
                                    "custid": "44",
                                    "orderid": "10891",
                                    "orderdate": "2008-02-17 00:00:00.000"
                                },
                                {
                                    "custid": "49",
                                    "orderid": "10950",
                                    "orderdate": "2008-03-16 00:00:00.000"
                                },
                                {
                                    "custid": "49",
                                    "orderid": "10939",
                                    "orderdate": "2008-03-10 00:00:00.000"
                                },
                                {
                                    "custid": "49",
                                    "orderid": "10818",
                                    "orderdate": "2008-01-07 00:00:00.000"
                                },
                                {
                                    "custid": "50",
                                    "orderid": "11004",
                                    "orderdate": "2008-04-07 00:00:00.000"
                                },
                                {
                                    "custid": "50",
                                    "orderid": "10978",
                                    "orderdate": "2008-03-26 00:00:00.000"
                                },
                                {
                                    "custid": "50",
                                    "orderid": "10896",
                                    "orderdate": "2008-02-19 00:00:00.000"
                                },
                                {
                                    "custid": "52",
                                    "orderid": "10945",
                                    "orderdate": "2008-03-12 00:00:00.000"
                                },
                                {
                                    "custid": "52",
                                    "orderid": "10779",
                                    "orderdate": "2007-12-16 00:00:00.000"
                                },
                                {
                                    "custid": "52",
                                    "orderid": "10699",
                                    "orderdate": "2007-10-09 00:00:00.000"
                                },
                                {
                                    "custid": "53",
                                    "orderid": "11057",
                                    "orderdate": "2008-04-29 00:00:00.000"
                                },
                                {
                                    "custid": "53",
                                    "orderid": "10752",
                                    "orderdate": "2007-11-24 00:00:00.000"
                                },
                                {
                                    "custid": "53",
                                    "orderid": "10517",
                                    "orderdate": "2007-04-24 00:00:00.000"
                                },
                                {
                                    "custid": "54",
                                    "orderid": "10986",
                                    "orderdate": "2008-03-30 00:00:00.000"
                                },
                                {
                                    "custid": "54",
                                    "orderid": "10958",
                                    "orderdate": "2008-03-18 00:00:00.000"
                                },
                                {
                                    "custid": "54",
                                    "orderid": "10898",
                                    "orderdate": "2008-02-20 00:00:00.000"
                                },
                                {
                                    "custid": "56",
                                    "orderid": "11020",
                                    "orderdate": "2008-04-14 00:00:00.000"
                                },
                                {
                                    "custid": "56",
                                    "orderid": "10999",
                                    "orderdate": "2008-04-03 00:00:00.000"
                                },
                                {
                                    "custid": "56",
                                    "orderid": "10833",
                                    "orderdate": "2008-01-15 00:00:00.000"
                                },
                                {
                                    "custid": "58",
                                    "orderid": "11073",
                                    "orderdate": "2008-05-05 00:00:00.000"
                                },
                                {
                                    "custid": "58",
                                    "orderid": "10995",
                                    "orderdate": "2008-04-02 00:00:00.000"
                                },
                                {
                                    "custid": "58",
                                    "orderid": "10502",
                                    "orderdate": "2007-04-10 00:00:00.000"
                                },
                                {
                                    "custid": "59",
                                    "orderid": "11053",
                                    "orderdate": "2008-04-27 00:00:00.000"
                                },
                                {
                                    "custid": "59",
                                    "orderid": "10844",
                                    "orderdate": "2008-01-21 00:00:00.000"
                                },
                                {
                                    "custid": "59",
                                    "orderid": "10747",
                                    "orderdate": "2007-11-19 00:00:00.000"
                                },
                                {
                                    "custid": "60",
                                    "orderid": "11007",
                                    "orderdate": "2008-04-08 00:00:00.000"
                                },
                                {
                                    "custid": "60",
                                    "orderid": "10477",
                                    "orderdate": "2007-03-17 00:00:00.000"
                                },
                                {
                                    "custid": "60",
                                    "orderid": "10433",
                                    "orderdate": "2007-02-03 00:00:00.000"
                                },
                                {
                                    "custid": "63",
                                    "orderid": "11021",
                                    "orderdate": "2008-04-14 00:00:00.000"
                                },
                                {
                                    "custid": "63",
                                    "orderid": "10996",
                                    "orderdate": "2008-04-02 00:00:00.000"
                                },
                                {
                                    "custid": "63",
                                    "orderid": "10991",
                                    "orderdate": "2008-04-01 00:00:00.000"
                                },
                                {
                                    "custid": "64",
                                    "orderid": "11019",
                                    "orderdate": "2008-04-13 00:00:00.000"
                                },
                                {
                                    "custid": "64",
                                    "orderid": "10916",
                                    "orderdate": "2008-02-27 00:00:00.000"
                                },
                                {
                                    "custid": "64",
                                    "orderid": "10828",
                                    "orderdate": "2008-01-13 00:00:00.000"
                                },
                                {
                                    "custid": "66",
                                    "orderid": "11062",
                                    "orderdate": "2008-04-30 00:00:00.000"
                                },
                                {
                                    "custid": "66",
                                    "orderid": "11010",
                                    "orderdate": "2008-04-09 00:00:00.000"
                                },
                                {
                                    "custid": "66",
                                    "orderid": "10942",
                                    "orderdate": "2008-03-11 00:00:00.000"
                                },
                                {
                                    "custid": "68",
                                    "orderid": "11075",
                                    "orderdate": "2008-05-06 00:00:00.000"
                                },
                                {
                                    "custid": "68",
                                    "orderid": "11033",
                                    "orderdate": "2008-04-17 00:00:00.000"
                                },
                                {
                                    "custid": "68",
                                    "orderid": "10951",
                                    "orderdate": "2008-03-16 00:00:00.000"
                                },
                                {
                                    "custid": "69",
                                    "orderid": "11013",
                                    "orderdate": "2008-04-09 00:00:00.000"
                                },
                                {
                                    "custid": "69",
                                    "orderid": "10917",
                                    "orderdate": "2008-03-02 00:00:00.000"
                                },
                                {
                                    "custid": "69",
                                    "orderid": "10306",
                                    "orderdate": "2006-09-16 00:00:00.000"
                                },
                                {
                                    "custid": "70",
                                    "orderid": "11015",
                                    "orderdate": "2008-04-10 00:00:00.000"
                                },
                                {
                                    "custid": "70",
                                    "orderid": "10909",
                                    "orderdate": "2008-02-26 00:00:00.000"
                                },
                                {
                                    "custid": "70",
                                    "orderid": "10831",
                                    "orderdate": "2008-01-14 00:00:00.000"
                                },
                                {
                                    "custid": "72",
                                    "orderid": "10869",
                                    "orderdate": "2008-02-04 00:00:00.000"
                                },
                                {
                                    "custid": "72",
                                    "orderid": "10804",
                                    "orderdate": "2007-12-30 00:00:00.000"
                                },
                                {
                                    "custid": "72",
                                    "orderid": "10800",
                                    "orderdate": "2007-12-26 00:00:00.000"
                                },
                                {
                                    "custid": "73",
                                    "orderid": "11074",
                                    "orderdate": "2008-05-06 00:00:00.000"
                                },
                                {
                                    "custid": "73",
                                    "orderid": "10802",
                                    "orderdate": "2007-12-29 00:00:00.000"
                                },
                                {
                                    "custid": "73",
                                    "orderid": "10669",
                                    "orderdate": "2007-09-15 00:00:00.000"
                                },
                                {
                                    "custid": "74",
                                    "orderid": "11043",
                                    "orderdate": "2008-04-22 00:00:00.000"
                                },
                                {
                                    "custid": "74",
                                    "orderid": "10964",
                                    "orderdate": "2008-03-20 00:00:00.000"
                                },
                                {
                                    "custid": "74",
                                    "orderid": "10907",
                                    "orderdate": "2008-02-25 00:00:00.000"
                                },
                                {
                                    "custid": "76",
                                    "orderid": "11038",
                                    "orderdate": "2008-04-21 00:00:00.000"
                                },
                                {
                                    "custid": "76",
                                    "orderid": "11035",
                                    "orderdate": "2008-04-20 00:00:00.000"
                                },
                                {
                                    "custid": "76",
                                    "orderid": "10930",
                                    "orderdate": "2008-03-06 00:00:00.000"
                                },
                                {
                                    "custid": "79",
                                    "orderid": "10967",
                                    "orderdate": "2008-03-23 00:00:00.000"
                                },
                                {
                                    "custid": "79",
                                    "orderid": "10608",
                                    "orderdate": "2007-07-23 00:00:00.000"
                                },
                                {
                                    "custid": "79",
                                    "orderid": "10548",
                                    "orderdate": "2007-05-26 00:00:00.000"
                                },
                                {
                                    "custid": "80",
                                    "orderid": "11069",
                                    "orderdate": "2008-05-04 00:00:00.000"
                                },
                                {
                                    "custid": "80",
                                    "orderid": "10915",
                                    "orderdate": "2008-02-27 00:00:00.000"
                                },
                                {
                                    "custid": "80",
                                    "orderid": "10842",
                                    "orderdate": "2008-01-20 00:00:00.000"
                                },
                                {
                                    "custid": "83",
                                    "orderid": "10994",
                                    "orderdate": "2008-04-02 00:00:00.000"
                                },
                                {
                                    "custid": "83",
                                    "orderid": "10946",
                                    "orderdate": "2008-03-12 00:00:00.000"
                                },
                                {
                                    "custid": "83",
                                    "orderid": "10921",
                                    "orderdate": "2008-03-03 00:00:00.000"
                                },
                                {
                                    "custid": "84",
                                    "orderid": "10850",
                                    "orderdate": "2008-01-23 00:00:00.000"
                                },
                                {
                                    "custid": "84",
                                    "orderid": "10843",
                                    "orderdate": "2008-01-21 00:00:00.000"
                                },
                                {
                                    "custid": "84",
                                    "orderid": "10814",
                                    "orderdate": "2008-01-05 00:00:00.000"
                                },
                                {
                                    "custid": "85",
                                    "orderid": "10739",
                                    "orderdate": "2007-11-12 00:00:00.000"
                                },
                                {
                                    "custid": "85",
                                    "orderid": "10737",
                                    "orderdate": "2007-11-11 00:00:00.000"
                                },
                                {
                                    "custid": "85",
                                    "orderid": "10295",
                                    "orderdate": "2006-09-02 00:00:00.000"
                                },
                                {
                                    "custid": "86",
                                    "orderid": "11046",
                                    "orderdate": "2008-04-23 00:00:00.000"
                                },
                                {
                                    "custid": "86",
                                    "orderid": "10668",
                                    "orderdate": "2007-09-15 00:00:00.000"
                                },
                                {
                                    "custid": "86",
                                    "orderid": "10651",
                                    "orderdate": "2007-09-01 00:00:00.000"
                                },
                                {
                                    "custid": "87",
                                    "orderid": "11025",
                                    "orderdate": "2008-04-15 00:00:00.000"
                                },
                                {
                                    "custid": "87",
                                    "orderid": "10781",
                                    "orderdate": "2007-12-17 00:00:00.000"
                                },
                                {
                                    "custid": "87",
                                    "orderid": "10750",
                                    "orderdate": "2007-11-21 00:00:00.000"
                                },
                                {
                                    "custid": "90",
                                    "orderid": "11005",
                                    "orderdate": "2008-04-07 00:00:00.000"
                                },
                                {
                                    "custid": "90",
                                    "orderid": "10910",
                                    "orderdate": "2008-02-26 00:00:00.000"
                                },
                                {
                                    "custid": "90",
                                    "orderid": "10879",
                                    "orderdate": "2008-02-10 00:00:00.000"
                                },
                                {
                                    "custid": "91",
                                    "orderid": "11044",
                                    "orderdate": "2008-04-23 00:00:00.000"
                                },
                                {
                                    "custid": "91",
                                    "orderid": "10998",
                                    "orderdate": "2008-04-03 00:00:00.000"
                                },
                                {
                                    "custid": "91",
                                    "orderid": "10906",
                                    "orderdate": "2008-02-25 00:00:00.000"
                                },
                                {
                                    "custid": "55",
                                    "orderid": "11034",
                                    "orderdate": "2008-04-20 00:00:00.000"
                                },
                                {
                                    "custid": "55",
                                    "orderid": "10965",
                                    "orderdate": "2008-03-20 00:00:00.000"
                                },
                                {
                                    "custid": "55",
                                    "orderid": "10855",
                                    "orderdate": "2008-01-27 00:00:00.000"
                                },
                                {
                                    "custid": "10",
                                    "orderid": "11048",
                                    "orderdate": "2008-04-24 00:00:00.000"
                                },
                                {
                                    "custid": "10",
                                    "orderid": "11045",
                                    "orderdate": "2008-04-23 00:00:00.000"
                                },
                                {
                                    "custid": "10",
                                    "orderid": "11027",
                                    "orderdate": "2008-04-16 00:00:00.000"
                                },
                                {
                                    "custid": "42",
                                    "orderid": "10810",
                                    "orderdate": "2008-01-01 00:00:00.000"
                                },
                                {
                                    "custid": "42",
                                    "orderid": "10620",
                                    "orderdate": "2007-08-05 00:00:00.000"
                                },
                                {
                                    "custid": "42",
                                    "orderid": "10495",
                                    "orderdate": "2007-04-03 00:00:00.000"
                                },
                                {
                                    "custid": "45",
                                    "orderid": "10884",
                                    "orderdate": "2008-02-12 00:00:00.000"
                                },
                                {
                                    "custid": "45",
                                    "orderid": "10735",
                                    "orderdate": "2007-11-10 00:00:00.000"
                                },
                                {
                                    "custid": "45",
                                    "orderid": "10719",
                                    "orderdate": "2007-10-27 00:00:00.000"
                                },
                                {
                                    "custid": "37",
                                    "orderid": "11063",
                                    "orderdate": "2008-04-30 00:00:00.000"
                                },
                                {
                                    "custid": "37",
                                    "orderid": "10985",
                                    "orderdate": "2008-03-30 00:00:00.000"
                                },
                                {
                                    "custid": "37",
                                    "orderid": "10912",
                                    "orderdate": "2008-02-26 00:00:00.000"
                                },
                                {
                                    "custid": "33",
                                    "orderid": "10785",
                                    "orderdate": "2007-12-18 00:00:00.000"
                                },
                                {
                                    "custid": "33",
                                    "orderid": "10268",
                                    "orderdate": "2006-07-30 00:00:00.000"
                                },
                                {
                                    "custid": "71",
                                    "orderid": "11064",
                                    "orderdate": "2008-05-01 00:00:00.000"
                                },
                                {
                                    "custid": "71",
                                    "orderid": "11031",
                                    "orderdate": "2008-04-17 00:00:00.000"
                                },
                                {
                                    "custid": "71",
                                    "orderid": "11030",
                                    "orderdate": "2008-04-17 00:00:00.000"
                                },
                                {
                                    "custid": "38",
                                    "orderid": "10933",
                                    "orderdate": "2008-03-06 00:00:00.000"
                                },
                                {
                                    "custid": "38",
                                    "orderid": "10829",
                                    "orderdate": "2008-01-13 00:00:00.000"
                                },
                                {
                                    "custid": "38",
                                    "orderid": "10798",
                                    "orderdate": "2007-12-26 00:00:00.000"
                                },
                                {
                                    "custid": "46",
                                    "orderid": "11071",
                                    "orderdate": "2008-05-05 00:00:00.000"
                                },
                                {
                                    "custid": "46",
                                    "orderid": "11065",
                                    "orderdate": "2008-05-01 00:00:00.000"
                                },
                                {
                                    "custid": "46",
                                    "orderid": "10997",
                                    "orderdate": "2008-04-03 00:00:00.000"
                                },
                                {
                                    "custid": "78",
                                    "orderid": "11003",
                                    "orderdate": "2008-04-06 00:00:00.000"
                                },
                                {
                                    "custid": "78",
                                    "orderid": "10775",
                                    "orderdate": "2007-12-12 00:00:00.000"
                                },
                                {
                                    "custid": "78",
                                    "orderid": "10624",
                                    "orderdate": "2007-08-07 00:00:00.000"
                                },
                                {
                                    "custid": "65",
                                    "orderid": "11077",
                                    "orderdate": "2008-05-06 00:00:00.000"
                                },
                                {
                                    "custid": "65",
                                    "orderid": "11000",
                                    "orderdate": "2008-04-06 00:00:00.000"
                                },
                                {
                                    "custid": "65",
                                    "orderid": "10988",
                                    "orderdate": "2008-03-31 00:00:00.000"
                                },
                                {
                                    "custid": "47",
                                    "orderid": "11039",
                                    "orderdate": "2008-04-21 00:00:00.000"
                                },
                                {
                                    "custid": "47",
                                    "orderid": "11014",
                                    "orderdate": "2008-04-10 00:00:00.000"
                                },
                                {
                                    "custid": "47",
                                    "orderid": "10954",
                                    "orderdate": "2008-03-17 00:00:00.000"
                                },
                                {
                                    "custid": "32",
                                    "orderid": "11061",
                                    "orderdate": "2008-04-30 00:00:00.000"
                                },
                                {
                                    "custid": "32",
                                    "orderid": "11040",
                                    "orderdate": "2008-04-22 00:00:00.000"
                                },
                                {
                                    "custid": "32",
                                    "orderid": "11006",
                                    "orderdate": "2008-04-07 00:00:00.000"
                                },
                                {
                                    "custid": "36",
                                    "orderid": "10660",
                                    "orderdate": "2007-09-08 00:00:00.000"
                                },
                                {
                                    "custid": "36",
                                    "orderid": "10600",
                                    "orderdate": "2007-07-16 00:00:00.000"
                                },
                                {
                                    "custid": "36",
                                    "orderid": "10415",
                                    "orderdate": "2007-01-15 00:00:00.000"
                                },
                                {
                                    "custid": "48",
                                    "orderid": "11018",
                                    "orderdate": "2008-04-13 00:00:00.000"
                                },
                                {
                                    "custid": "48",
                                    "orderid": "10883",
                                    "orderdate": "2008-02-12 00:00:00.000"
                                },
                                {
                                    "custid": "48",
                                    "orderid": "10867",
                                    "orderdate": "2008-02-03 00:00:00.000"
                                },
                                {
                                    "custid": "77",
                                    "orderid": "10992",
                                    "orderdate": "2008-04-01 00:00:00.000"
                                },
                                {
                                    "custid": "77",
                                    "orderid": "10805",
                                    "orderdate": "2007-12-30 00:00:00.000"
                                },
                                {
                                    "custid": "77",
                                    "orderid": "10708",
                                    "orderdate": "2007-10-17 00:00:00.000"
                                },
                                {
                                    "custid": "51",
                                    "orderid": "10724",
                                    "orderdate": "2007-10-30 00:00:00.000"
                                },
                                {
                                    "custid": "51",
                                    "orderid": "10619",
                                    "orderdate": "2007-08-04 00:00:00.000"
                                },
                                {
                                    "custid": "51",
                                    "orderid": "10618",
                                    "orderdate": "2007-08-01 00:00:00.000"
                                },
                                {
                                    "custid": "34",
                                    "orderid": "11052",
                                    "orderdate": "2008-04-27 00:00:00.000"
                                },
                                {
                                    "custid": "34",
                                    "orderid": "11022",
                                    "orderdate": "2008-04-14 00:00:00.000"
                                },
                                {
                                    "custid": "34",
                                    "orderid": "10981",
                                    "orderdate": "2008-03-27 00:00:00.000"
                                },
                                {
                                    "custid": "61",
                                    "orderid": "10989",
                                    "orderdate": "2008-03-31 00:00:00.000"
                                },
                                {
                                    "custid": "61",
                                    "orderid": "10794",
                                    "orderdate": "2007-12-24 00:00:00.000"
                                },
                                {
                                    "custid": "61",
                                    "orderid": "10720",
                                    "orderdate": "2007-10-28 00:00:00.000"
                                },
                                {
                                    "custid": "67",
                                    "orderid": "11059",
                                    "orderdate": "2008-04-29 00:00:00.000"
                                },
                                {
                                    "custid": "67",
                                    "orderid": "10877",
                                    "orderdate": "2008-02-09 00:00:00.000"
                                },
                                {
                                    "custid": "67",
                                    "orderid": "10851",
                                    "orderdate": "2008-01-26 00:00:00.000"
                                },
                                {
                                    "custid": "15",
                                    "orderid": "11042",
                                    "orderdate": "2008-04-22 00:00:00.000"
                                },
                                {
                                    "custid": "15",
                                    "orderid": "10969",
                                    "orderdate": "2008-03-23 00:00:00.000"
                                },
                                {
                                    "custid": "15",
                                    "orderid": "10494",
                                    "orderdate": "2007-04-02 00:00:00.000"
                                },
                                {
                                    "custid": "21",
                                    "orderid": "10725",
                                    "orderdate": "2007-10-31 00:00:00.000"
                                },
                                {
                                    "custid": "21",
                                    "orderid": "10650",
                                    "orderdate": "2007-08-29 00:00:00.000"
                                },
                                {
                                    "custid": "21",
                                    "orderid": "10581",
                                    "orderdate": "2007-06-26 00:00:00.000"
                                },
                                {
                                    "custid": "31",
                                    "orderid": "11049",
                                    "orderdate": "2008-04-24 00:00:00.000"
                                },
                                {
                                    "custid": "31",
                                    "orderid": "10959",
                                    "orderdate": "2008-03-18 00:00:00.000"
                                },
                                {
                                    "custid": "31",
                                    "orderid": "10790",
                                    "orderdate": "2007-12-22 00:00:00.000"
                                },
                                {
                                    "custid": "62",
                                    "orderid": "11068",
                                    "orderdate": "2008-05-04 00:00:00.000"
                                },
                                {
                                    "custid": "62",
                                    "orderid": "10961",
                                    "orderdate": "2008-03-19 00:00:00.000"
                                },
                                {
                                    "custid": "62",
                                    "orderid": "10914",
                                    "orderdate": "2008-02-27 00:00:00.000"
                                },
                                {
                                    "custid": "81",
                                    "orderid": "10839",
                                    "orderdate": "2008-01-19 00:00:00.000"
                                },
                                {
                                    "custid": "81",
                                    "orderid": "10834",
                                    "orderdate": "2008-01-15 00:00:00.000"
                                },
                                {
                                    "custid": "81",
                                    "orderid": "10830",
                                    "orderdate": "2008-01-13 00:00:00.000"
                                },
                                {
                                    "custid": "88",
                                    "orderid": "10935",
                                    "orderdate": "2008-03-09 00:00:00.000"
                                },
                                {
                                    "custid": "88",
                                    "orderid": "10905",
                                    "orderdate": "2008-02-24 00:00:00.000"
                                },
                                {
                                    "custid": "88",
                                    "orderid": "10900",
                                    "orderdate": "2008-02-20 00:00:00.000"
                                },
                                {
                                    "custid": "35",
                                    "orderid": "11055",
                                    "orderdate": "2008-04-28 00:00:00.000"
                                },
                                {
                                    "custid": "35",
                                    "orderid": "10976",
                                    "orderdate": "2008-03-25 00:00:00.000"
                                },
                                {
                                    "custid": "35",
                                    "orderid": "10960",
                                    "orderdate": "2008-03-19 00:00:00.000"
                                },
                                {
                                    "custid": "43",
                                    "orderid": "10545",
                                    "orderdate": "2007-05-22 00:00:00.000"
                                },
                                {
                                    "custid": "43",
                                    "orderid": "10482",
                                    "orderdate": "2007-03-21 00:00:00.000"
                                },
                                {
                                    "custid": "82",
                                    "orderid": "10822",
                                    "orderdate": "2008-01-08 00:00:00.000"
                                },
                                {
                                    "custid": "82",
                                    "orderid": "10577",
                                    "orderdate": "2007-06-23 00:00:00.000"
                                },
                                {
                                    "custid": "82",
                                    "orderid": "10574",
                                    "orderdate": "2007-06-19 00:00:00.000"
                                },
                                {
                                    "custid": "89",
                                    "orderid": "11066",
                                    "orderdate": "2008-05-01 00:00:00.000"
                                },
                                {
                                    "custid": "89",
                                    "orderid": "11032",
                                    "orderdate": "2008-04-17 00:00:00.000"
                                },
                                {
                                    "custid": "89",
                                    "orderid": "10904",
                                    "orderdate": "2008-02-24 00:00:00.000"
                                },
                                {
                                    "custid": "75",
                                    "orderid": "10974",
                                    "orderdate": "2008-03-25 00:00:00.000"
                                },
                                {
                                    "custid": "75",
                                    "orderid": "10821",
                                    "orderdate": "2008-01-08 00:00:00.000"
                                },
                                {
                                    "custid": "75",
                                    "orderid": "10756",
                                    "orderdate": "2007-11-27 00:00:00.000"
                                }
                            ]
                        },
                        "text/html": [
                            "<table>",
                            "<tr><th>custid</th><th>orderid</th><th>orderdate</th></tr>",
                            "<tr><td>1</td><td>11011</td><td>2008-04-09 00:00:00.000</td></tr>",
                            "<tr><td>1</td><td>10952</td><td>2008-03-16 00:00:00.000</td></tr>",
                            "<tr><td>1</td><td>10835</td><td>2008-01-15 00:00:00.000</td></tr>",
                            "<tr><td>2</td><td>10926</td><td>2008-03-04 00:00:00.000</td></tr>",
                            "<tr><td>2</td><td>10759</td><td>2007-11-28 00:00:00.000</td></tr>",
                            "<tr><td>2</td><td>10625</td><td>2007-08-08 00:00:00.000</td></tr>",
                            "<tr><td>3</td><td>10856</td><td>2008-01-28 00:00:00.000</td></tr>",
                            "<tr><td>3</td><td>10682</td><td>2007-09-25 00:00:00.000</td></tr>",
                            "<tr><td>3</td><td>10677</td><td>2007-09-22 00:00:00.000</td></tr>",
                            "<tr><td>4</td><td>11016</td><td>2008-04-10 00:00:00.000</td></tr>",
                            "<tr><td>4</td><td>10953</td><td>2008-03-16 00:00:00.000</td></tr>",
                            "<tr><td>4</td><td>10920</td><td>2008-03-03 00:00:00.000</td></tr>",
                            "<tr><td>5</td><td>10924</td><td>2008-03-04 00:00:00.000</td></tr>",
                            "<tr><td>5</td><td>10875</td><td>2008-02-06 00:00:00.000</td></tr>",
                            "<tr><td>5</td><td>10866</td><td>2008-02-03 00:00:00.000</td></tr>",
                            "<tr><td>6</td><td>11058</td><td>2008-04-29 00:00:00.000</td></tr>",
                            "<tr><td>6</td><td>10956</td><td>2008-03-17 00:00:00.000</td></tr>",
                            "<tr><td>6</td><td>10853</td><td>2008-01-27 00:00:00.000</td></tr>",
                            "<tr><td>7</td><td>10826</td><td>2008-01-12 00:00:00.000</td></tr>",
                            "<tr><td>7</td><td>10679</td><td>2007-09-23 00:00:00.000</td></tr>",
                            "<tr><td>7</td><td>10628</td><td>2007-08-12 00:00:00.000</td></tr>",
                            "<tr><td>8</td><td>10970</td><td>2008-03-24 00:00:00.000</td></tr>",
                            "<tr><td>8</td><td>10801</td><td>2007-12-29 00:00:00.000</td></tr>",
                            "<tr><td>8</td><td>10326</td><td>2006-10-10 00:00:00.000</td></tr>",
                            "<tr><td>9</td><td>11076</td><td>2008-05-06 00:00:00.000</td></tr>",
                            "<tr><td>9</td><td>10940</td><td>2008-03-11 00:00:00.000</td></tr>",
                            "<tr><td>9</td><td>10932</td><td>2008-03-06 00:00:00.000</td></tr>",
                            "<tr><td>11</td><td>11023</td><td>2008-04-14 00:00:00.000</td></tr>",
                            "<tr><td>11</td><td>10947</td><td>2008-03-13 00:00:00.000</td></tr>",
                            "<tr><td>11</td><td>10943</td><td>2008-03-11 00:00:00.000</td></tr>",
                            "<tr><td>12</td><td>11054</td><td>2008-04-28 00:00:00.000</td></tr>",
                            "<tr><td>12</td><td>10937</td><td>2008-03-10 00:00:00.000</td></tr>",
                            "<tr><td>12</td><td>10881</td><td>2008-02-11 00:00:00.000</td></tr>",
                            "<tr><td>13</td><td>10259</td><td>2006-07-18 00:00:00.000</td></tr>",
                            "<tr><td>14</td><td>11041</td><td>2008-04-22 00:00:00.000</td></tr>",
                            "<tr><td>14</td><td>11029</td><td>2008-04-16 00:00:00.000</td></tr>",
                            "<tr><td>14</td><td>10966</td><td>2008-03-20 00:00:00.000</td></tr>",
                            "<tr><td>16</td><td>10848</td><td>2008-01-23 00:00:00.000</td></tr>",
                            "<tr><td>16</td><td>10462</td><td>2007-03-03 00:00:00.000</td></tr>",
                            "<tr><td>16</td><td>10435</td><td>2007-02-04 00:00:00.000</td></tr>",
                            "<tr><td>17</td><td>11067</td><td>2008-05-04 00:00:00.000</td></tr>",
                            "<tr><td>17</td><td>11036</td><td>2008-04-20 00:00:00.000</td></tr>",
                            "<tr><td>17</td><td>10825</td><td>2008-01-09 00:00:00.000</td></tr>",
                            "<tr><td>18</td><td>10890</td><td>2008-02-16 00:00:00.000</td></tr>",
                            "<tr><td>18</td><td>10683</td><td>2007-09-26 00:00:00.000</td></tr>",
                            "<tr><td>18</td><td>10609</td><td>2007-07-24 00:00:00.000</td></tr>",
                            "<tr><td>19</td><td>11056</td><td>2008-04-28 00:00:00.000</td></tr>",
                            "<tr><td>19</td><td>11047</td><td>2008-04-24 00:00:00.000</td></tr>",
                            "<tr><td>19</td><td>11024</td><td>2008-04-15 00:00:00.000</td></tr>",
                            "<tr><td>20</td><td>11072</td><td>2008-05-05 00:00:00.000</td></tr>",
                            "<tr><td>20</td><td>11017</td><td>2008-04-13 00:00:00.000</td></tr>",
                            "<tr><td>20</td><td>11008</td><td>2008-04-08 00:00:00.000</td></tr>",
                            "<tr><td>23</td><td>10789</td><td>2007-12-22 00:00:00.000</td></tr>",
                            "<tr><td>23</td><td>10763</td><td>2007-12-03 00:00:00.000</td></tr>",
                            "<tr><td>23</td><td>10634</td><td>2007-08-15 00:00:00.000</td></tr>",
                            "<tr><td>24</td><td>11050</td><td>2008-04-27 00:00:00.000</td></tr>",
                            "<tr><td>24</td><td>11001</td><td>2008-04-06 00:00:00.000</td></tr>",
                            "<tr><td>24</td><td>10993</td><td>2008-04-01 00:00:00.000</td></tr>",
                            "<tr><td>25</td><td>11012</td><td>2008-04-09 00:00:00.000</td></tr>",
                            "<tr><td>25</td><td>10929</td><td>2008-03-05 00:00:00.000</td></tr>",
                            "<tr><td>25</td><td>10859</td><td>2008-01-29 00:00:00.000</td></tr>",
                            "<tr><td>26</td><td>10971</td><td>2008-03-24 00:00:00.000</td></tr>",
                            "<tr><td>26</td><td>10860</td><td>2008-01-29 00:00:00.000</td></tr>",
                            "<tr><td>26</td><td>10671</td><td>2007-09-17 00:00:00.000</td></tr>",
                            "<tr><td>27</td><td>11060</td><td>2008-04-30 00:00:00.000</td></tr>",
                            "<tr><td>27</td><td>11026</td><td>2008-04-15 00:00:00.000</td></tr>",
                            "<tr><td>27</td><td>10807</td><td>2007-12-31 00:00:00.000</td></tr>",
                            "<tr><td>28</td><td>10963</td><td>2008-03-19 00:00:00.000</td></tr>",
                            "<tr><td>28</td><td>10664</td><td>2007-09-10 00:00:00.000</td></tr>",
                            "<tr><td>28</td><td>10604</td><td>2007-07-18 00:00:00.000</td></tr>",
                            "<tr><td>29</td><td>10928</td><td>2008-03-05 00:00:00.000</td></tr>",
                            "<tr><td>29</td><td>10887</td><td>2008-02-13 00:00:00.000</td></tr>",
                            "<tr><td>29</td><td>10568</td><td>2007-06-13 00:00:00.000</td></tr>",
                            "<tr><td>30</td><td>11037</td><td>2008-04-21 00:00:00.000</td></tr>",
                            "<tr><td>30</td><td>11009</td><td>2008-04-08 00:00:00.000</td></tr>",
                            "<tr><td>30</td><td>10948</td><td>2008-03-13 00:00:00.000</td></tr>",
                            "<tr><td>39</td><td>11028</td><td>2008-04-16 00:00:00.000</td></tr>",
                            "<tr><td>39</td><td>10893</td><td>2008-02-18 00:00:00.000</td></tr>",
                            "<tr><td>39</td><td>10849</td><td>2008-01-23 00:00:00.000</td></tr>",
                            "<tr><td>40</td><td>10973</td><td>2008-03-24 00:00:00.000</td></tr>",
                            "<tr><td>40</td><td>10972</td><td>2008-03-24 00:00:00.000</td></tr>",
                            "<tr><td>40</td><td>10927</td><td>2008-03-05 00:00:00.000</td></tr>",
                            "<tr><td>41</td><td>11051</td><td>2008-04-27 00:00:00.000</td></tr>",
                            "<tr><td>41</td><td>10923</td><td>2008-03-03 00:00:00.000</td></tr>",
                            "<tr><td>41</td><td>10832</td><td>2008-01-14 00:00:00.000</td></tr>",
                            "<tr><td>44</td><td>11070</td><td>2008-05-05 00:00:00.000</td></tr>",
                            "<tr><td>44</td><td>10934</td><td>2008-03-09 00:00:00.000</td></tr>",
                            "<tr><td>44</td><td>10891</td><td>2008-02-17 00:00:00.000</td></tr>",
                            "<tr><td>49</td><td>10950</td><td>2008-03-16 00:00:00.000</td></tr>",
                            "<tr><td>49</td><td>10939</td><td>2008-03-10 00:00:00.000</td></tr>",
                            "<tr><td>49</td><td>10818</td><td>2008-01-07 00:00:00.000</td></tr>",
                            "<tr><td>50</td><td>11004</td><td>2008-04-07 00:00:00.000</td></tr>",
                            "<tr><td>50</td><td>10978</td><td>2008-03-26 00:00:00.000</td></tr>",
                            "<tr><td>50</td><td>10896</td><td>2008-02-19 00:00:00.000</td></tr>",
                            "<tr><td>52</td><td>10945</td><td>2008-03-12 00:00:00.000</td></tr>",
                            "<tr><td>52</td><td>10779</td><td>2007-12-16 00:00:00.000</td></tr>",
                            "<tr><td>52</td><td>10699</td><td>2007-10-09 00:00:00.000</td></tr>",
                            "<tr><td>53</td><td>11057</td><td>2008-04-29 00:00:00.000</td></tr>",
                            "<tr><td>53</td><td>10752</td><td>2007-11-24 00:00:00.000</td></tr>",
                            "<tr><td>53</td><td>10517</td><td>2007-04-24 00:00:00.000</td></tr>",
                            "<tr><td>54</td><td>10986</td><td>2008-03-30 00:00:00.000</td></tr>",
                            "<tr><td>54</td><td>10958</td><td>2008-03-18 00:00:00.000</td></tr>",
                            "<tr><td>54</td><td>10898</td><td>2008-02-20 00:00:00.000</td></tr>",
                            "<tr><td>56</td><td>11020</td><td>2008-04-14 00:00:00.000</td></tr>",
                            "<tr><td>56</td><td>10999</td><td>2008-04-03 00:00:00.000</td></tr>",
                            "<tr><td>56</td><td>10833</td><td>2008-01-15 00:00:00.000</td></tr>",
                            "<tr><td>58</td><td>11073</td><td>2008-05-05 00:00:00.000</td></tr>",
                            "<tr><td>58</td><td>10995</td><td>2008-04-02 00:00:00.000</td></tr>",
                            "<tr><td>58</td><td>10502</td><td>2007-04-10 00:00:00.000</td></tr>",
                            "<tr><td>59</td><td>11053</td><td>2008-04-27 00:00:00.000</td></tr>",
                            "<tr><td>59</td><td>10844</td><td>2008-01-21 00:00:00.000</td></tr>",
                            "<tr><td>59</td><td>10747</td><td>2007-11-19 00:00:00.000</td></tr>",
                            "<tr><td>60</td><td>11007</td><td>2008-04-08 00:00:00.000</td></tr>",
                            "<tr><td>60</td><td>10477</td><td>2007-03-17 00:00:00.000</td></tr>",
                            "<tr><td>60</td><td>10433</td><td>2007-02-03 00:00:00.000</td></tr>",
                            "<tr><td>63</td><td>11021</td><td>2008-04-14 00:00:00.000</td></tr>",
                            "<tr><td>63</td><td>10996</td><td>2008-04-02 00:00:00.000</td></tr>",
                            "<tr><td>63</td><td>10991</td><td>2008-04-01 00:00:00.000</td></tr>",
                            "<tr><td>64</td><td>11019</td><td>2008-04-13 00:00:00.000</td></tr>",
                            "<tr><td>64</td><td>10916</td><td>2008-02-27 00:00:00.000</td></tr>",
                            "<tr><td>64</td><td>10828</td><td>2008-01-13 00:00:00.000</td></tr>",
                            "<tr><td>66</td><td>11062</td><td>2008-04-30 00:00:00.000</td></tr>",
                            "<tr><td>66</td><td>11010</td><td>2008-04-09 00:00:00.000</td></tr>",
                            "<tr><td>66</td><td>10942</td><td>2008-03-11 00:00:00.000</td></tr>",
                            "<tr><td>68</td><td>11075</td><td>2008-05-06 00:00:00.000</td></tr>",
                            "<tr><td>68</td><td>11033</td><td>2008-04-17 00:00:00.000</td></tr>",
                            "<tr><td>68</td><td>10951</td><td>2008-03-16 00:00:00.000</td></tr>",
                            "<tr><td>69</td><td>11013</td><td>2008-04-09 00:00:00.000</td></tr>",
                            "<tr><td>69</td><td>10917</td><td>2008-03-02 00:00:00.000</td></tr>",
                            "<tr><td>69</td><td>10306</td><td>2006-09-16 00:00:00.000</td></tr>",
                            "<tr><td>70</td><td>11015</td><td>2008-04-10 00:00:00.000</td></tr>",
                            "<tr><td>70</td><td>10909</td><td>2008-02-26 00:00:00.000</td></tr>",
                            "<tr><td>70</td><td>10831</td><td>2008-01-14 00:00:00.000</td></tr>",
                            "<tr><td>72</td><td>10869</td><td>2008-02-04 00:00:00.000</td></tr>",
                            "<tr><td>72</td><td>10804</td><td>2007-12-30 00:00:00.000</td></tr>",
                            "<tr><td>72</td><td>10800</td><td>2007-12-26 00:00:00.000</td></tr>",
                            "<tr><td>73</td><td>11074</td><td>2008-05-06 00:00:00.000</td></tr>",
                            "<tr><td>73</td><td>10802</td><td>2007-12-29 00:00:00.000</td></tr>",
                            "<tr><td>73</td><td>10669</td><td>2007-09-15 00:00:00.000</td></tr>",
                            "<tr><td>74</td><td>11043</td><td>2008-04-22 00:00:00.000</td></tr>",
                            "<tr><td>74</td><td>10964</td><td>2008-03-20 00:00:00.000</td></tr>",
                            "<tr><td>74</td><td>10907</td><td>2008-02-25 00:00:00.000</td></tr>",
                            "<tr><td>76</td><td>11038</td><td>2008-04-21 00:00:00.000</td></tr>",
                            "<tr><td>76</td><td>11035</td><td>2008-04-20 00:00:00.000</td></tr>",
                            "<tr><td>76</td><td>10930</td><td>2008-03-06 00:00:00.000</td></tr>",
                            "<tr><td>79</td><td>10967</td><td>2008-03-23 00:00:00.000</td></tr>",
                            "<tr><td>79</td><td>10608</td><td>2007-07-23 00:00:00.000</td></tr>",
                            "<tr><td>79</td><td>10548</td><td>2007-05-26 00:00:00.000</td></tr>",
                            "<tr><td>80</td><td>11069</td><td>2008-05-04 00:00:00.000</td></tr>",
                            "<tr><td>80</td><td>10915</td><td>2008-02-27 00:00:00.000</td></tr>",
                            "<tr><td>80</td><td>10842</td><td>2008-01-20 00:00:00.000</td></tr>",
                            "<tr><td>83</td><td>10994</td><td>2008-04-02 00:00:00.000</td></tr>",
                            "<tr><td>83</td><td>10946</td><td>2008-03-12 00:00:00.000</td></tr>",
                            "<tr><td>83</td><td>10921</td><td>2008-03-03 00:00:00.000</td></tr>",
                            "<tr><td>84</td><td>10850</td><td>2008-01-23 00:00:00.000</td></tr>",
                            "<tr><td>84</td><td>10843</td><td>2008-01-21 00:00:00.000</td></tr>",
                            "<tr><td>84</td><td>10814</td><td>2008-01-05 00:00:00.000</td></tr>",
                            "<tr><td>85</td><td>10739</td><td>2007-11-12 00:00:00.000</td></tr>",
                            "<tr><td>85</td><td>10737</td><td>2007-11-11 00:00:00.000</td></tr>",
                            "<tr><td>85</td><td>10295</td><td>2006-09-02 00:00:00.000</td></tr>",
                            "<tr><td>86</td><td>11046</td><td>2008-04-23 00:00:00.000</td></tr>",
                            "<tr><td>86</td><td>10668</td><td>2007-09-15 00:00:00.000</td></tr>",
                            "<tr><td>86</td><td>10651</td><td>2007-09-01 00:00:00.000</td></tr>",
                            "<tr><td>87</td><td>11025</td><td>2008-04-15 00:00:00.000</td></tr>",
                            "<tr><td>87</td><td>10781</td><td>2007-12-17 00:00:00.000</td></tr>",
                            "<tr><td>87</td><td>10750</td><td>2007-11-21 00:00:00.000</td></tr>",
                            "<tr><td>90</td><td>11005</td><td>2008-04-07 00:00:00.000</td></tr>",
                            "<tr><td>90</td><td>10910</td><td>2008-02-26 00:00:00.000</td></tr>",
                            "<tr><td>90</td><td>10879</td><td>2008-02-10 00:00:00.000</td></tr>",
                            "<tr><td>91</td><td>11044</td><td>2008-04-23 00:00:00.000</td></tr>",
                            "<tr><td>91</td><td>10998</td><td>2008-04-03 00:00:00.000</td></tr>",
                            "<tr><td>91</td><td>10906</td><td>2008-02-25 00:00:00.000</td></tr>",
                            "<tr><td>55</td><td>11034</td><td>2008-04-20 00:00:00.000</td></tr>",
                            "<tr><td>55</td><td>10965</td><td>2008-03-20 00:00:00.000</td></tr>",
                            "<tr><td>55</td><td>10855</td><td>2008-01-27 00:00:00.000</td></tr>",
                            "<tr><td>10</td><td>11048</td><td>2008-04-24 00:00:00.000</td></tr>",
                            "<tr><td>10</td><td>11045</td><td>2008-04-23 00:00:00.000</td></tr>",
                            "<tr><td>10</td><td>11027</td><td>2008-04-16 00:00:00.000</td></tr>",
                            "<tr><td>42</td><td>10810</td><td>2008-01-01 00:00:00.000</td></tr>",
                            "<tr><td>42</td><td>10620</td><td>2007-08-05 00:00:00.000</td></tr>",
                            "<tr><td>42</td><td>10495</td><td>2007-04-03 00:00:00.000</td></tr>",
                            "<tr><td>45</td><td>10884</td><td>2008-02-12 00:00:00.000</td></tr>",
                            "<tr><td>45</td><td>10735</td><td>2007-11-10 00:00:00.000</td></tr>",
                            "<tr><td>45</td><td>10719</td><td>2007-10-27 00:00:00.000</td></tr>",
                            "<tr><td>37</td><td>11063</td><td>2008-04-30 00:00:00.000</td></tr>",
                            "<tr><td>37</td><td>10985</td><td>2008-03-30 00:00:00.000</td></tr>",
                            "<tr><td>37</td><td>10912</td><td>2008-02-26 00:00:00.000</td></tr>",
                            "<tr><td>33</td><td>10785</td><td>2007-12-18 00:00:00.000</td></tr>",
                            "<tr><td>33</td><td>10268</td><td>2006-07-30 00:00:00.000</td></tr>",
                            "<tr><td>71</td><td>11064</td><td>2008-05-01 00:00:00.000</td></tr>",
                            "<tr><td>71</td><td>11031</td><td>2008-04-17 00:00:00.000</td></tr>",
                            "<tr><td>71</td><td>11030</td><td>2008-04-17 00:00:00.000</td></tr>",
                            "<tr><td>38</td><td>10933</td><td>2008-03-06 00:00:00.000</td></tr>",
                            "<tr><td>38</td><td>10829</td><td>2008-01-13 00:00:00.000</td></tr>",
                            "<tr><td>38</td><td>10798</td><td>2007-12-26 00:00:00.000</td></tr>",
                            "<tr><td>46</td><td>11071</td><td>2008-05-05 00:00:00.000</td></tr>",
                            "<tr><td>46</td><td>11065</td><td>2008-05-01 00:00:00.000</td></tr>",
                            "<tr><td>46</td><td>10997</td><td>2008-04-03 00:00:00.000</td></tr>",
                            "<tr><td>78</td><td>11003</td><td>2008-04-06 00:00:00.000</td></tr>",
                            "<tr><td>78</td><td>10775</td><td>2007-12-12 00:00:00.000</td></tr>",
                            "<tr><td>78</td><td>10624</td><td>2007-08-07 00:00:00.000</td></tr>",
                            "<tr><td>65</td><td>11077</td><td>2008-05-06 00:00:00.000</td></tr>",
                            "<tr><td>65</td><td>11000</td><td>2008-04-06 00:00:00.000</td></tr>",
                            "<tr><td>65</td><td>10988</td><td>2008-03-31 00:00:00.000</td></tr>",
                            "<tr><td>47</td><td>11039</td><td>2008-04-21 00:00:00.000</td></tr>",
                            "<tr><td>47</td><td>11014</td><td>2008-04-10 00:00:00.000</td></tr>",
                            "<tr><td>47</td><td>10954</td><td>2008-03-17 00:00:00.000</td></tr>",
                            "<tr><td>32</td><td>11061</td><td>2008-04-30 00:00:00.000</td></tr>",
                            "<tr><td>32</td><td>11040</td><td>2008-04-22 00:00:00.000</td></tr>",
                            "<tr><td>32</td><td>11006</td><td>2008-04-07 00:00:00.000</td></tr>",
                            "<tr><td>36</td><td>10660</td><td>2007-09-08 00:00:00.000</td></tr>",
                            "<tr><td>36</td><td>10600</td><td>2007-07-16 00:00:00.000</td></tr>",
                            "<tr><td>36</td><td>10415</td><td>2007-01-15 00:00:00.000</td></tr>",
                            "<tr><td>48</td><td>11018</td><td>2008-04-13 00:00:00.000</td></tr>",
                            "<tr><td>48</td><td>10883</td><td>2008-02-12 00:00:00.000</td></tr>",
                            "<tr><td>48</td><td>10867</td><td>2008-02-03 00:00:00.000</td></tr>",
                            "<tr><td>77</td><td>10992</td><td>2008-04-01 00:00:00.000</td></tr>",
                            "<tr><td>77</td><td>10805</td><td>2007-12-30 00:00:00.000</td></tr>",
                            "<tr><td>77</td><td>10708</td><td>2007-10-17 00:00:00.000</td></tr>",
                            "<tr><td>51</td><td>10724</td><td>2007-10-30 00:00:00.000</td></tr>",
                            "<tr><td>51</td><td>10619</td><td>2007-08-04 00:00:00.000</td></tr>",
                            "<tr><td>51</td><td>10618</td><td>2007-08-01 00:00:00.000</td></tr>",
                            "<tr><td>34</td><td>11052</td><td>2008-04-27 00:00:00.000</td></tr>",
                            "<tr><td>34</td><td>11022</td><td>2008-04-14 00:00:00.000</td></tr>",
                            "<tr><td>34</td><td>10981</td><td>2008-03-27 00:00:00.000</td></tr>",
                            "<tr><td>61</td><td>10989</td><td>2008-03-31 00:00:00.000</td></tr>",
                            "<tr><td>61</td><td>10794</td><td>2007-12-24 00:00:00.000</td></tr>",
                            "<tr><td>61</td><td>10720</td><td>2007-10-28 00:00:00.000</td></tr>",
                            "<tr><td>67</td><td>11059</td><td>2008-04-29 00:00:00.000</td></tr>",
                            "<tr><td>67</td><td>10877</td><td>2008-02-09 00:00:00.000</td></tr>",
                            "<tr><td>67</td><td>10851</td><td>2008-01-26 00:00:00.000</td></tr>",
                            "<tr><td>15</td><td>11042</td><td>2008-04-22 00:00:00.000</td></tr>",
                            "<tr><td>15</td><td>10969</td><td>2008-03-23 00:00:00.000</td></tr>",
                            "<tr><td>15</td><td>10494</td><td>2007-04-02 00:00:00.000</td></tr>",
                            "<tr><td>21</td><td>10725</td><td>2007-10-31 00:00:00.000</td></tr>",
                            "<tr><td>21</td><td>10650</td><td>2007-08-29 00:00:00.000</td></tr>",
                            "<tr><td>21</td><td>10581</td><td>2007-06-26 00:00:00.000</td></tr>",
                            "<tr><td>31</td><td>11049</td><td>2008-04-24 00:00:00.000</td></tr>",
                            "<tr><td>31</td><td>10959</td><td>2008-03-18 00:00:00.000</td></tr>",
                            "<tr><td>31</td><td>10790</td><td>2007-12-22 00:00:00.000</td></tr>",
                            "<tr><td>62</td><td>11068</td><td>2008-05-04 00:00:00.000</td></tr>",
                            "<tr><td>62</td><td>10961</td><td>2008-03-19 00:00:00.000</td></tr>",
                            "<tr><td>62</td><td>10914</td><td>2008-02-27 00:00:00.000</td></tr>",
                            "<tr><td>81</td><td>10839</td><td>2008-01-19 00:00:00.000</td></tr>",
                            "<tr><td>81</td><td>10834</td><td>2008-01-15 00:00:00.000</td></tr>",
                            "<tr><td>81</td><td>10830</td><td>2008-01-13 00:00:00.000</td></tr>",
                            "<tr><td>88</td><td>10935</td><td>2008-03-09 00:00:00.000</td></tr>",
                            "<tr><td>88</td><td>10905</td><td>2008-02-24 00:00:00.000</td></tr>",
                            "<tr><td>88</td><td>10900</td><td>2008-02-20 00:00:00.000</td></tr>",
                            "<tr><td>35</td><td>11055</td><td>2008-04-28 00:00:00.000</td></tr>",
                            "<tr><td>35</td><td>10976</td><td>2008-03-25 00:00:00.000</td></tr>",
                            "<tr><td>35</td><td>10960</td><td>2008-03-19 00:00:00.000</td></tr>",
                            "<tr><td>43</td><td>10545</td><td>2007-05-22 00:00:00.000</td></tr>",
                            "<tr><td>43</td><td>10482</td><td>2007-03-21 00:00:00.000</td></tr>",
                            "<tr><td>82</td><td>10822</td><td>2008-01-08 00:00:00.000</td></tr>",
                            "<tr><td>82</td><td>10577</td><td>2007-06-23 00:00:00.000</td></tr>",
                            "<tr><td>82</td><td>10574</td><td>2007-06-19 00:00:00.000</td></tr>",
                            "<tr><td>89</td><td>11066</td><td>2008-05-01 00:00:00.000</td></tr>",
                            "<tr><td>89</td><td>11032</td><td>2008-04-17 00:00:00.000</td></tr>",
                            "<tr><td>89</td><td>10904</td><td>2008-02-24 00:00:00.000</td></tr>",
                            "<tr><td>75</td><td>10974</td><td>2008-03-25 00:00:00.000</td></tr>",
                            "<tr><td>75</td><td>10821</td><td>2008-01-08 00:00:00.000</td></tr>",
                            "<tr><td>75</td><td>10756</td><td>2007-11-27 00:00:00.000</td></tr>",
                            "</table>"
                        ]
                    }
                }
            ],
            "execution_count": 10
        },
        {
            "cell_type": "markdown",
            "source": [
                "3.6. Utilizar OUTER APPLY para incluir a los clientes sin ordenes"
            ],
            "metadata": {
                "azdata_cell_guid": "5e67b701-b563-4cab-99da-fbf0fc3cb030"
            }
        },
        {
            "cell_type": "code",
            "source": [
                "SELECT C.custid, TopOrders.orderid, TopOrders.orderdate\r\n",
                "FROM Sales.Customers AS C\r\n",
                "OUTER APPLY\r\n",
                "(SELECT TOP (3) orderid, orderdate\r\n",
                "\tFROM Sales.Orders AS O\r\n",
                "\tWHERE O.custid = C.custid\r\n",
                "\tORDER BY orderdate DESC, orderid DESC) AS TopOrders; "
            ],
            "metadata": {
                "azdata_cell_guid": "78cded86-42b7-4969-94c6-f80602c5ce4e",
                "language": "sql"
            },
            "outputs": [
                {
                    "output_type": "display_data",
                    "data": {
                        "text/html": "(265 rows affected)"
                    },
                    "metadata": {}
                },
                {
                    "output_type": "display_data",
                    "data": {
                        "text/html": "Total execution time: 00:00:00.020"
                    },
                    "metadata": {}
                },
                {
                    "output_type": "execute_result",
                    "metadata": {},
                    "execution_count": 11,
                    "data": {
                        "application/vnd.dataresource+json": {
                            "schema": {
                                "fields": [
                                    {
                                        "name": "custid"
                                    },
                                    {
                                        "name": "orderid"
                                    },
                                    {
                                        "name": "orderdate"
                                    }
                                ]
                            },
                            "data": [
                                {
                                    "custid": "1",
                                    "orderid": "11011",
                                    "orderdate": "2008-04-09 00:00:00.000"
                                },
                                {
                                    "custid": "1",
                                    "orderid": "10952",
                                    "orderdate": "2008-03-16 00:00:00.000"
                                },
                                {
                                    "custid": "1",
                                    "orderid": "10835",
                                    "orderdate": "2008-01-15 00:00:00.000"
                                },
                                {
                                    "custid": "2",
                                    "orderid": "10926",
                                    "orderdate": "2008-03-04 00:00:00.000"
                                },
                                {
                                    "custid": "2",
                                    "orderid": "10759",
                                    "orderdate": "2007-11-28 00:00:00.000"
                                },
                                {
                                    "custid": "2",
                                    "orderid": "10625",
                                    "orderdate": "2007-08-08 00:00:00.000"
                                },
                                {
                                    "custid": "3",
                                    "orderid": "10856",
                                    "orderdate": "2008-01-28 00:00:00.000"
                                },
                                {
                                    "custid": "3",
                                    "orderid": "10682",
                                    "orderdate": "2007-09-25 00:00:00.000"
                                },
                                {
                                    "custid": "3",
                                    "orderid": "10677",
                                    "orderdate": "2007-09-22 00:00:00.000"
                                },
                                {
                                    "custid": "4",
                                    "orderid": "11016",
                                    "orderdate": "2008-04-10 00:00:00.000"
                                },
                                {
                                    "custid": "4",
                                    "orderid": "10953",
                                    "orderdate": "2008-03-16 00:00:00.000"
                                },
                                {
                                    "custid": "4",
                                    "orderid": "10920",
                                    "orderdate": "2008-03-03 00:00:00.000"
                                },
                                {
                                    "custid": "5",
                                    "orderid": "10924",
                                    "orderdate": "2008-03-04 00:00:00.000"
                                },
                                {
                                    "custid": "5",
                                    "orderid": "10875",
                                    "orderdate": "2008-02-06 00:00:00.000"
                                },
                                {
                                    "custid": "5",
                                    "orderid": "10866",
                                    "orderdate": "2008-02-03 00:00:00.000"
                                },
                                {
                                    "custid": "6",
                                    "orderid": "11058",
                                    "orderdate": "2008-04-29 00:00:00.000"
                                },
                                {
                                    "custid": "6",
                                    "orderid": "10956",
                                    "orderdate": "2008-03-17 00:00:00.000"
                                },
                                {
                                    "custid": "6",
                                    "orderid": "10853",
                                    "orderdate": "2008-01-27 00:00:00.000"
                                },
                                {
                                    "custid": "7",
                                    "orderid": "10826",
                                    "orderdate": "2008-01-12 00:00:00.000"
                                },
                                {
                                    "custid": "7",
                                    "orderid": "10679",
                                    "orderdate": "2007-09-23 00:00:00.000"
                                },
                                {
                                    "custid": "7",
                                    "orderid": "10628",
                                    "orderdate": "2007-08-12 00:00:00.000"
                                },
                                {
                                    "custid": "8",
                                    "orderid": "10970",
                                    "orderdate": "2008-03-24 00:00:00.000"
                                },
                                {
                                    "custid": "8",
                                    "orderid": "10801",
                                    "orderdate": "2007-12-29 00:00:00.000"
                                },
                                {
                                    "custid": "8",
                                    "orderid": "10326",
                                    "orderdate": "2006-10-10 00:00:00.000"
                                },
                                {
                                    "custid": "9",
                                    "orderid": "11076",
                                    "orderdate": "2008-05-06 00:00:00.000"
                                },
                                {
                                    "custid": "9",
                                    "orderid": "10940",
                                    "orderdate": "2008-03-11 00:00:00.000"
                                },
                                {
                                    "custid": "9",
                                    "orderid": "10932",
                                    "orderdate": "2008-03-06 00:00:00.000"
                                },
                                {
                                    "custid": "11",
                                    "orderid": "11023",
                                    "orderdate": "2008-04-14 00:00:00.000"
                                },
                                {
                                    "custid": "11",
                                    "orderid": "10947",
                                    "orderdate": "2008-03-13 00:00:00.000"
                                },
                                {
                                    "custid": "11",
                                    "orderid": "10943",
                                    "orderdate": "2008-03-11 00:00:00.000"
                                },
                                {
                                    "custid": "12",
                                    "orderid": "11054",
                                    "orderdate": "2008-04-28 00:00:00.000"
                                },
                                {
                                    "custid": "12",
                                    "orderid": "10937",
                                    "orderdate": "2008-03-10 00:00:00.000"
                                },
                                {
                                    "custid": "12",
                                    "orderid": "10881",
                                    "orderdate": "2008-02-11 00:00:00.000"
                                },
                                {
                                    "custid": "13",
                                    "orderid": "10259",
                                    "orderdate": "2006-07-18 00:00:00.000"
                                },
                                {
                                    "custid": "14",
                                    "orderid": "11041",
                                    "orderdate": "2008-04-22 00:00:00.000"
                                },
                                {
                                    "custid": "14",
                                    "orderid": "11029",
                                    "orderdate": "2008-04-16 00:00:00.000"
                                },
                                {
                                    "custid": "14",
                                    "orderid": "10966",
                                    "orderdate": "2008-03-20 00:00:00.000"
                                },
                                {
                                    "custid": "16",
                                    "orderid": "10848",
                                    "orderdate": "2008-01-23 00:00:00.000"
                                },
                                {
                                    "custid": "16",
                                    "orderid": "10462",
                                    "orderdate": "2007-03-03 00:00:00.000"
                                },
                                {
                                    "custid": "16",
                                    "orderid": "10435",
                                    "orderdate": "2007-02-04 00:00:00.000"
                                },
                                {
                                    "custid": "17",
                                    "orderid": "11067",
                                    "orderdate": "2008-05-04 00:00:00.000"
                                },
                                {
                                    "custid": "17",
                                    "orderid": "11036",
                                    "orderdate": "2008-04-20 00:00:00.000"
                                },
                                {
                                    "custid": "17",
                                    "orderid": "10825",
                                    "orderdate": "2008-01-09 00:00:00.000"
                                },
                                {
                                    "custid": "18",
                                    "orderid": "10890",
                                    "orderdate": "2008-02-16 00:00:00.000"
                                },
                                {
                                    "custid": "18",
                                    "orderid": "10683",
                                    "orderdate": "2007-09-26 00:00:00.000"
                                },
                                {
                                    "custid": "18",
                                    "orderid": "10609",
                                    "orderdate": "2007-07-24 00:00:00.000"
                                },
                                {
                                    "custid": "19",
                                    "orderid": "11056",
                                    "orderdate": "2008-04-28 00:00:00.000"
                                },
                                {
                                    "custid": "19",
                                    "orderid": "11047",
                                    "orderdate": "2008-04-24 00:00:00.000"
                                },
                                {
                                    "custid": "19",
                                    "orderid": "11024",
                                    "orderdate": "2008-04-15 00:00:00.000"
                                },
                                {
                                    "custid": "20",
                                    "orderid": "11072",
                                    "orderdate": "2008-05-05 00:00:00.000"
                                },
                                {
                                    "custid": "20",
                                    "orderid": "11017",
                                    "orderdate": "2008-04-13 00:00:00.000"
                                },
                                {
                                    "custid": "20",
                                    "orderid": "11008",
                                    "orderdate": "2008-04-08 00:00:00.000"
                                },
                                {
                                    "custid": "22",
                                    "orderid": "NULL",
                                    "orderdate": "NULL"
                                },
                                {
                                    "custid": "23",
                                    "orderid": "10789",
                                    "orderdate": "2007-12-22 00:00:00.000"
                                },
                                {
                                    "custid": "23",
                                    "orderid": "10763",
                                    "orderdate": "2007-12-03 00:00:00.000"
                                },
                                {
                                    "custid": "23",
                                    "orderid": "10634",
                                    "orderdate": "2007-08-15 00:00:00.000"
                                },
                                {
                                    "custid": "24",
                                    "orderid": "11050",
                                    "orderdate": "2008-04-27 00:00:00.000"
                                },
                                {
                                    "custid": "24",
                                    "orderid": "11001",
                                    "orderdate": "2008-04-06 00:00:00.000"
                                },
                                {
                                    "custid": "24",
                                    "orderid": "10993",
                                    "orderdate": "2008-04-01 00:00:00.000"
                                },
                                {
                                    "custid": "25",
                                    "orderid": "11012",
                                    "orderdate": "2008-04-09 00:00:00.000"
                                },
                                {
                                    "custid": "25",
                                    "orderid": "10929",
                                    "orderdate": "2008-03-05 00:00:00.000"
                                },
                                {
                                    "custid": "25",
                                    "orderid": "10859",
                                    "orderdate": "2008-01-29 00:00:00.000"
                                },
                                {
                                    "custid": "26",
                                    "orderid": "10971",
                                    "orderdate": "2008-03-24 00:00:00.000"
                                },
                                {
                                    "custid": "26",
                                    "orderid": "10860",
                                    "orderdate": "2008-01-29 00:00:00.000"
                                },
                                {
                                    "custid": "26",
                                    "orderid": "10671",
                                    "orderdate": "2007-09-17 00:00:00.000"
                                },
                                {
                                    "custid": "27",
                                    "orderid": "11060",
                                    "orderdate": "2008-04-30 00:00:00.000"
                                },
                                {
                                    "custid": "27",
                                    "orderid": "11026",
                                    "orderdate": "2008-04-15 00:00:00.000"
                                },
                                {
                                    "custid": "27",
                                    "orderid": "10807",
                                    "orderdate": "2007-12-31 00:00:00.000"
                                },
                                {
                                    "custid": "28",
                                    "orderid": "10963",
                                    "orderdate": "2008-03-19 00:00:00.000"
                                },
                                {
                                    "custid": "28",
                                    "orderid": "10664",
                                    "orderdate": "2007-09-10 00:00:00.000"
                                },
                                {
                                    "custid": "28",
                                    "orderid": "10604",
                                    "orderdate": "2007-07-18 00:00:00.000"
                                },
                                {
                                    "custid": "29",
                                    "orderid": "10928",
                                    "orderdate": "2008-03-05 00:00:00.000"
                                },
                                {
                                    "custid": "29",
                                    "orderid": "10887",
                                    "orderdate": "2008-02-13 00:00:00.000"
                                },
                                {
                                    "custid": "29",
                                    "orderid": "10568",
                                    "orderdate": "2007-06-13 00:00:00.000"
                                },
                                {
                                    "custid": "30",
                                    "orderid": "11037",
                                    "orderdate": "2008-04-21 00:00:00.000"
                                },
                                {
                                    "custid": "30",
                                    "orderid": "11009",
                                    "orderdate": "2008-04-08 00:00:00.000"
                                },
                                {
                                    "custid": "30",
                                    "orderid": "10948",
                                    "orderdate": "2008-03-13 00:00:00.000"
                                },
                                {
                                    "custid": "39",
                                    "orderid": "11028",
                                    "orderdate": "2008-04-16 00:00:00.000"
                                },
                                {
                                    "custid": "39",
                                    "orderid": "10893",
                                    "orderdate": "2008-02-18 00:00:00.000"
                                },
                                {
                                    "custid": "39",
                                    "orderid": "10849",
                                    "orderdate": "2008-01-23 00:00:00.000"
                                },
                                {
                                    "custid": "40",
                                    "orderid": "10973",
                                    "orderdate": "2008-03-24 00:00:00.000"
                                },
                                {
                                    "custid": "40",
                                    "orderid": "10972",
                                    "orderdate": "2008-03-24 00:00:00.000"
                                },
                                {
                                    "custid": "40",
                                    "orderid": "10927",
                                    "orderdate": "2008-03-05 00:00:00.000"
                                },
                                {
                                    "custid": "41",
                                    "orderid": "11051",
                                    "orderdate": "2008-04-27 00:00:00.000"
                                },
                                {
                                    "custid": "41",
                                    "orderid": "10923",
                                    "orderdate": "2008-03-03 00:00:00.000"
                                },
                                {
                                    "custid": "41",
                                    "orderid": "10832",
                                    "orderdate": "2008-01-14 00:00:00.000"
                                },
                                {
                                    "custid": "44",
                                    "orderid": "11070",
                                    "orderdate": "2008-05-05 00:00:00.000"
                                },
                                {
                                    "custid": "44",
                                    "orderid": "10934",
                                    "orderdate": "2008-03-09 00:00:00.000"
                                },
                                {
                                    "custid": "44",
                                    "orderid": "10891",
                                    "orderdate": "2008-02-17 00:00:00.000"
                                },
                                {
                                    "custid": "49",
                                    "orderid": "10950",
                                    "orderdate": "2008-03-16 00:00:00.000"
                                },
                                {
                                    "custid": "49",
                                    "orderid": "10939",
                                    "orderdate": "2008-03-10 00:00:00.000"
                                },
                                {
                                    "custid": "49",
                                    "orderid": "10818",
                                    "orderdate": "2008-01-07 00:00:00.000"
                                },
                                {
                                    "custid": "50",
                                    "orderid": "11004",
                                    "orderdate": "2008-04-07 00:00:00.000"
                                },
                                {
                                    "custid": "50",
                                    "orderid": "10978",
                                    "orderdate": "2008-03-26 00:00:00.000"
                                },
                                {
                                    "custid": "50",
                                    "orderid": "10896",
                                    "orderdate": "2008-02-19 00:00:00.000"
                                },
                                {
                                    "custid": "52",
                                    "orderid": "10945",
                                    "orderdate": "2008-03-12 00:00:00.000"
                                },
                                {
                                    "custid": "52",
                                    "orderid": "10779",
                                    "orderdate": "2007-12-16 00:00:00.000"
                                },
                                {
                                    "custid": "52",
                                    "orderid": "10699",
                                    "orderdate": "2007-10-09 00:00:00.000"
                                },
                                {
                                    "custid": "53",
                                    "orderid": "11057",
                                    "orderdate": "2008-04-29 00:00:00.000"
                                },
                                {
                                    "custid": "53",
                                    "orderid": "10752",
                                    "orderdate": "2007-11-24 00:00:00.000"
                                },
                                {
                                    "custid": "53",
                                    "orderid": "10517",
                                    "orderdate": "2007-04-24 00:00:00.000"
                                },
                                {
                                    "custid": "54",
                                    "orderid": "10986",
                                    "orderdate": "2008-03-30 00:00:00.000"
                                },
                                {
                                    "custid": "54",
                                    "orderid": "10958",
                                    "orderdate": "2008-03-18 00:00:00.000"
                                },
                                {
                                    "custid": "54",
                                    "orderid": "10898",
                                    "orderdate": "2008-02-20 00:00:00.000"
                                },
                                {
                                    "custid": "56",
                                    "orderid": "11020",
                                    "orderdate": "2008-04-14 00:00:00.000"
                                },
                                {
                                    "custid": "56",
                                    "orderid": "10999",
                                    "orderdate": "2008-04-03 00:00:00.000"
                                },
                                {
                                    "custid": "56",
                                    "orderid": "10833",
                                    "orderdate": "2008-01-15 00:00:00.000"
                                },
                                {
                                    "custid": "57",
                                    "orderid": "NULL",
                                    "orderdate": "NULL"
                                },
                                {
                                    "custid": "58",
                                    "orderid": "11073",
                                    "orderdate": "2008-05-05 00:00:00.000"
                                },
                                {
                                    "custid": "58",
                                    "orderid": "10995",
                                    "orderdate": "2008-04-02 00:00:00.000"
                                },
                                {
                                    "custid": "58",
                                    "orderid": "10502",
                                    "orderdate": "2007-04-10 00:00:00.000"
                                },
                                {
                                    "custid": "59",
                                    "orderid": "11053",
                                    "orderdate": "2008-04-27 00:00:00.000"
                                },
                                {
                                    "custid": "59",
                                    "orderid": "10844",
                                    "orderdate": "2008-01-21 00:00:00.000"
                                },
                                {
                                    "custid": "59",
                                    "orderid": "10747",
                                    "orderdate": "2007-11-19 00:00:00.000"
                                },
                                {
                                    "custid": "60",
                                    "orderid": "11007",
                                    "orderdate": "2008-04-08 00:00:00.000"
                                },
                                {
                                    "custid": "60",
                                    "orderid": "10477",
                                    "orderdate": "2007-03-17 00:00:00.000"
                                },
                                {
                                    "custid": "60",
                                    "orderid": "10433",
                                    "orderdate": "2007-02-03 00:00:00.000"
                                },
                                {
                                    "custid": "63",
                                    "orderid": "11021",
                                    "orderdate": "2008-04-14 00:00:00.000"
                                },
                                {
                                    "custid": "63",
                                    "orderid": "10996",
                                    "orderdate": "2008-04-02 00:00:00.000"
                                },
                                {
                                    "custid": "63",
                                    "orderid": "10991",
                                    "orderdate": "2008-04-01 00:00:00.000"
                                },
                                {
                                    "custid": "64",
                                    "orderid": "11019",
                                    "orderdate": "2008-04-13 00:00:00.000"
                                },
                                {
                                    "custid": "64",
                                    "orderid": "10916",
                                    "orderdate": "2008-02-27 00:00:00.000"
                                },
                                {
                                    "custid": "64",
                                    "orderid": "10828",
                                    "orderdate": "2008-01-13 00:00:00.000"
                                },
                                {
                                    "custid": "66",
                                    "orderid": "11062",
                                    "orderdate": "2008-04-30 00:00:00.000"
                                },
                                {
                                    "custid": "66",
                                    "orderid": "11010",
                                    "orderdate": "2008-04-09 00:00:00.000"
                                },
                                {
                                    "custid": "66",
                                    "orderid": "10942",
                                    "orderdate": "2008-03-11 00:00:00.000"
                                },
                                {
                                    "custid": "68",
                                    "orderid": "11075",
                                    "orderdate": "2008-05-06 00:00:00.000"
                                },
                                {
                                    "custid": "68",
                                    "orderid": "11033",
                                    "orderdate": "2008-04-17 00:00:00.000"
                                },
                                {
                                    "custid": "68",
                                    "orderid": "10951",
                                    "orderdate": "2008-03-16 00:00:00.000"
                                },
                                {
                                    "custid": "69",
                                    "orderid": "11013",
                                    "orderdate": "2008-04-09 00:00:00.000"
                                },
                                {
                                    "custid": "69",
                                    "orderid": "10917",
                                    "orderdate": "2008-03-02 00:00:00.000"
                                },
                                {
                                    "custid": "69",
                                    "orderid": "10306",
                                    "orderdate": "2006-09-16 00:00:00.000"
                                },
                                {
                                    "custid": "70",
                                    "orderid": "11015",
                                    "orderdate": "2008-04-10 00:00:00.000"
                                },
                                {
                                    "custid": "70",
                                    "orderid": "10909",
                                    "orderdate": "2008-02-26 00:00:00.000"
                                },
                                {
                                    "custid": "70",
                                    "orderid": "10831",
                                    "orderdate": "2008-01-14 00:00:00.000"
                                },
                                {
                                    "custid": "72",
                                    "orderid": "10869",
                                    "orderdate": "2008-02-04 00:00:00.000"
                                },
                                {
                                    "custid": "72",
                                    "orderid": "10804",
                                    "orderdate": "2007-12-30 00:00:00.000"
                                },
                                {
                                    "custid": "72",
                                    "orderid": "10800",
                                    "orderdate": "2007-12-26 00:00:00.000"
                                },
                                {
                                    "custid": "73",
                                    "orderid": "11074",
                                    "orderdate": "2008-05-06 00:00:00.000"
                                },
                                {
                                    "custid": "73",
                                    "orderid": "10802",
                                    "orderdate": "2007-12-29 00:00:00.000"
                                },
                                {
                                    "custid": "73",
                                    "orderid": "10669",
                                    "orderdate": "2007-09-15 00:00:00.000"
                                },
                                {
                                    "custid": "74",
                                    "orderid": "11043",
                                    "orderdate": "2008-04-22 00:00:00.000"
                                },
                                {
                                    "custid": "74",
                                    "orderid": "10964",
                                    "orderdate": "2008-03-20 00:00:00.000"
                                },
                                {
                                    "custid": "74",
                                    "orderid": "10907",
                                    "orderdate": "2008-02-25 00:00:00.000"
                                },
                                {
                                    "custid": "76",
                                    "orderid": "11038",
                                    "orderdate": "2008-04-21 00:00:00.000"
                                },
                                {
                                    "custid": "76",
                                    "orderid": "11035",
                                    "orderdate": "2008-04-20 00:00:00.000"
                                },
                                {
                                    "custid": "76",
                                    "orderid": "10930",
                                    "orderdate": "2008-03-06 00:00:00.000"
                                },
                                {
                                    "custid": "79",
                                    "orderid": "10967",
                                    "orderdate": "2008-03-23 00:00:00.000"
                                },
                                {
                                    "custid": "79",
                                    "orderid": "10608",
                                    "orderdate": "2007-07-23 00:00:00.000"
                                },
                                {
                                    "custid": "79",
                                    "orderid": "10548",
                                    "orderdate": "2007-05-26 00:00:00.000"
                                },
                                {
                                    "custid": "80",
                                    "orderid": "11069",
                                    "orderdate": "2008-05-04 00:00:00.000"
                                },
                                {
                                    "custid": "80",
                                    "orderid": "10915",
                                    "orderdate": "2008-02-27 00:00:00.000"
                                },
                                {
                                    "custid": "80",
                                    "orderid": "10842",
                                    "orderdate": "2008-01-20 00:00:00.000"
                                },
                                {
                                    "custid": "83",
                                    "orderid": "10994",
                                    "orderdate": "2008-04-02 00:00:00.000"
                                },
                                {
                                    "custid": "83",
                                    "orderid": "10946",
                                    "orderdate": "2008-03-12 00:00:00.000"
                                },
                                {
                                    "custid": "83",
                                    "orderid": "10921",
                                    "orderdate": "2008-03-03 00:00:00.000"
                                },
                                {
                                    "custid": "84",
                                    "orderid": "10850",
                                    "orderdate": "2008-01-23 00:00:00.000"
                                },
                                {
                                    "custid": "84",
                                    "orderid": "10843",
                                    "orderdate": "2008-01-21 00:00:00.000"
                                },
                                {
                                    "custid": "84",
                                    "orderid": "10814",
                                    "orderdate": "2008-01-05 00:00:00.000"
                                },
                                {
                                    "custid": "85",
                                    "orderid": "10739",
                                    "orderdate": "2007-11-12 00:00:00.000"
                                },
                                {
                                    "custid": "85",
                                    "orderid": "10737",
                                    "orderdate": "2007-11-11 00:00:00.000"
                                },
                                {
                                    "custid": "85",
                                    "orderid": "10295",
                                    "orderdate": "2006-09-02 00:00:00.000"
                                },
                                {
                                    "custid": "86",
                                    "orderid": "11046",
                                    "orderdate": "2008-04-23 00:00:00.000"
                                },
                                {
                                    "custid": "86",
                                    "orderid": "10668",
                                    "orderdate": "2007-09-15 00:00:00.000"
                                },
                                {
                                    "custid": "86",
                                    "orderid": "10651",
                                    "orderdate": "2007-09-01 00:00:00.000"
                                },
                                {
                                    "custid": "87",
                                    "orderid": "11025",
                                    "orderdate": "2008-04-15 00:00:00.000"
                                },
                                {
                                    "custid": "87",
                                    "orderid": "10781",
                                    "orderdate": "2007-12-17 00:00:00.000"
                                },
                                {
                                    "custid": "87",
                                    "orderid": "10750",
                                    "orderdate": "2007-11-21 00:00:00.000"
                                },
                                {
                                    "custid": "90",
                                    "orderid": "11005",
                                    "orderdate": "2008-04-07 00:00:00.000"
                                },
                                {
                                    "custid": "90",
                                    "orderid": "10910",
                                    "orderdate": "2008-02-26 00:00:00.000"
                                },
                                {
                                    "custid": "90",
                                    "orderid": "10879",
                                    "orderdate": "2008-02-10 00:00:00.000"
                                },
                                {
                                    "custid": "91",
                                    "orderid": "11044",
                                    "orderdate": "2008-04-23 00:00:00.000"
                                },
                                {
                                    "custid": "91",
                                    "orderid": "10998",
                                    "orderdate": "2008-04-03 00:00:00.000"
                                },
                                {
                                    "custid": "91",
                                    "orderid": "10906",
                                    "orderdate": "2008-02-25 00:00:00.000"
                                },
                                {
                                    "custid": "55",
                                    "orderid": "11034",
                                    "orderdate": "2008-04-20 00:00:00.000"
                                },
                                {
                                    "custid": "55",
                                    "orderid": "10965",
                                    "orderdate": "2008-03-20 00:00:00.000"
                                },
                                {
                                    "custid": "55",
                                    "orderid": "10855",
                                    "orderdate": "2008-01-27 00:00:00.000"
                                },
                                {
                                    "custid": "10",
                                    "orderid": "11048",
                                    "orderdate": "2008-04-24 00:00:00.000"
                                },
                                {
                                    "custid": "10",
                                    "orderid": "11045",
                                    "orderdate": "2008-04-23 00:00:00.000"
                                },
                                {
                                    "custid": "10",
                                    "orderid": "11027",
                                    "orderdate": "2008-04-16 00:00:00.000"
                                },
                                {
                                    "custid": "42",
                                    "orderid": "10810",
                                    "orderdate": "2008-01-01 00:00:00.000"
                                },
                                {
                                    "custid": "42",
                                    "orderid": "10620",
                                    "orderdate": "2007-08-05 00:00:00.000"
                                },
                                {
                                    "custid": "42",
                                    "orderid": "10495",
                                    "orderdate": "2007-04-03 00:00:00.000"
                                },
                                {
                                    "custid": "45",
                                    "orderid": "10884",
                                    "orderdate": "2008-02-12 00:00:00.000"
                                },
                                {
                                    "custid": "45",
                                    "orderid": "10735",
                                    "orderdate": "2007-11-10 00:00:00.000"
                                },
                                {
                                    "custid": "45",
                                    "orderid": "10719",
                                    "orderdate": "2007-10-27 00:00:00.000"
                                },
                                {
                                    "custid": "37",
                                    "orderid": "11063",
                                    "orderdate": "2008-04-30 00:00:00.000"
                                },
                                {
                                    "custid": "37",
                                    "orderid": "10985",
                                    "orderdate": "2008-03-30 00:00:00.000"
                                },
                                {
                                    "custid": "37",
                                    "orderid": "10912",
                                    "orderdate": "2008-02-26 00:00:00.000"
                                },
                                {
                                    "custid": "33",
                                    "orderid": "10785",
                                    "orderdate": "2007-12-18 00:00:00.000"
                                },
                                {
                                    "custid": "33",
                                    "orderid": "10268",
                                    "orderdate": "2006-07-30 00:00:00.000"
                                },
                                {
                                    "custid": "71",
                                    "orderid": "11064",
                                    "orderdate": "2008-05-01 00:00:00.000"
                                },
                                {
                                    "custid": "71",
                                    "orderid": "11031",
                                    "orderdate": "2008-04-17 00:00:00.000"
                                },
                                {
                                    "custid": "71",
                                    "orderid": "11030",
                                    "orderdate": "2008-04-17 00:00:00.000"
                                },
                                {
                                    "custid": "38",
                                    "orderid": "10933",
                                    "orderdate": "2008-03-06 00:00:00.000"
                                },
                                {
                                    "custid": "38",
                                    "orderid": "10829",
                                    "orderdate": "2008-01-13 00:00:00.000"
                                },
                                {
                                    "custid": "38",
                                    "orderid": "10798",
                                    "orderdate": "2007-12-26 00:00:00.000"
                                },
                                {
                                    "custid": "46",
                                    "orderid": "11071",
                                    "orderdate": "2008-05-05 00:00:00.000"
                                },
                                {
                                    "custid": "46",
                                    "orderid": "11065",
                                    "orderdate": "2008-05-01 00:00:00.000"
                                },
                                {
                                    "custid": "46",
                                    "orderid": "10997",
                                    "orderdate": "2008-04-03 00:00:00.000"
                                },
                                {
                                    "custid": "78",
                                    "orderid": "11003",
                                    "orderdate": "2008-04-06 00:00:00.000"
                                },
                                {
                                    "custid": "78",
                                    "orderid": "10775",
                                    "orderdate": "2007-12-12 00:00:00.000"
                                },
                                {
                                    "custid": "78",
                                    "orderid": "10624",
                                    "orderdate": "2007-08-07 00:00:00.000"
                                },
                                {
                                    "custid": "65",
                                    "orderid": "11077",
                                    "orderdate": "2008-05-06 00:00:00.000"
                                },
                                {
                                    "custid": "65",
                                    "orderid": "11000",
                                    "orderdate": "2008-04-06 00:00:00.000"
                                },
                                {
                                    "custid": "65",
                                    "orderid": "10988",
                                    "orderdate": "2008-03-31 00:00:00.000"
                                },
                                {
                                    "custid": "47",
                                    "orderid": "11039",
                                    "orderdate": "2008-04-21 00:00:00.000"
                                },
                                {
                                    "custid": "47",
                                    "orderid": "11014",
                                    "orderdate": "2008-04-10 00:00:00.000"
                                },
                                {
                                    "custid": "47",
                                    "orderid": "10954",
                                    "orderdate": "2008-03-17 00:00:00.000"
                                },
                                {
                                    "custid": "32",
                                    "orderid": "11061",
                                    "orderdate": "2008-04-30 00:00:00.000"
                                },
                                {
                                    "custid": "32",
                                    "orderid": "11040",
                                    "orderdate": "2008-04-22 00:00:00.000"
                                },
                                {
                                    "custid": "32",
                                    "orderid": "11006",
                                    "orderdate": "2008-04-07 00:00:00.000"
                                },
                                {
                                    "custid": "36",
                                    "orderid": "10660",
                                    "orderdate": "2007-09-08 00:00:00.000"
                                },
                                {
                                    "custid": "36",
                                    "orderid": "10600",
                                    "orderdate": "2007-07-16 00:00:00.000"
                                },
                                {
                                    "custid": "36",
                                    "orderid": "10415",
                                    "orderdate": "2007-01-15 00:00:00.000"
                                },
                                {
                                    "custid": "48",
                                    "orderid": "11018",
                                    "orderdate": "2008-04-13 00:00:00.000"
                                },
                                {
                                    "custid": "48",
                                    "orderid": "10883",
                                    "orderdate": "2008-02-12 00:00:00.000"
                                },
                                {
                                    "custid": "48",
                                    "orderid": "10867",
                                    "orderdate": "2008-02-03 00:00:00.000"
                                },
                                {
                                    "custid": "77",
                                    "orderid": "10992",
                                    "orderdate": "2008-04-01 00:00:00.000"
                                },
                                {
                                    "custid": "77",
                                    "orderid": "10805",
                                    "orderdate": "2007-12-30 00:00:00.000"
                                },
                                {
                                    "custid": "77",
                                    "orderid": "10708",
                                    "orderdate": "2007-10-17 00:00:00.000"
                                },
                                {
                                    "custid": "51",
                                    "orderid": "10724",
                                    "orderdate": "2007-10-30 00:00:00.000"
                                },
                                {
                                    "custid": "51",
                                    "orderid": "10619",
                                    "orderdate": "2007-08-04 00:00:00.000"
                                },
                                {
                                    "custid": "51",
                                    "orderid": "10618",
                                    "orderdate": "2007-08-01 00:00:00.000"
                                },
                                {
                                    "custid": "34",
                                    "orderid": "11052",
                                    "orderdate": "2008-04-27 00:00:00.000"
                                },
                                {
                                    "custid": "34",
                                    "orderid": "11022",
                                    "orderdate": "2008-04-14 00:00:00.000"
                                },
                                {
                                    "custid": "34",
                                    "orderid": "10981",
                                    "orderdate": "2008-03-27 00:00:00.000"
                                },
                                {
                                    "custid": "61",
                                    "orderid": "10989",
                                    "orderdate": "2008-03-31 00:00:00.000"
                                },
                                {
                                    "custid": "61",
                                    "orderid": "10794",
                                    "orderdate": "2007-12-24 00:00:00.000"
                                },
                                {
                                    "custid": "61",
                                    "orderid": "10720",
                                    "orderdate": "2007-10-28 00:00:00.000"
                                },
                                {
                                    "custid": "67",
                                    "orderid": "11059",
                                    "orderdate": "2008-04-29 00:00:00.000"
                                },
                                {
                                    "custid": "67",
                                    "orderid": "10877",
                                    "orderdate": "2008-02-09 00:00:00.000"
                                },
                                {
                                    "custid": "67",
                                    "orderid": "10851",
                                    "orderdate": "2008-01-26 00:00:00.000"
                                },
                                {
                                    "custid": "15",
                                    "orderid": "11042",
                                    "orderdate": "2008-04-22 00:00:00.000"
                                },
                                {
                                    "custid": "15",
                                    "orderid": "10969",
                                    "orderdate": "2008-03-23 00:00:00.000"
                                },
                                {
                                    "custid": "15",
                                    "orderid": "10494",
                                    "orderdate": "2007-04-02 00:00:00.000"
                                },
                                {
                                    "custid": "21",
                                    "orderid": "10725",
                                    "orderdate": "2007-10-31 00:00:00.000"
                                },
                                {
                                    "custid": "21",
                                    "orderid": "10650",
                                    "orderdate": "2007-08-29 00:00:00.000"
                                },
                                {
                                    "custid": "21",
                                    "orderid": "10581",
                                    "orderdate": "2007-06-26 00:00:00.000"
                                },
                                {
                                    "custid": "31",
                                    "orderid": "11049",
                                    "orderdate": "2008-04-24 00:00:00.000"
                                },
                                {
                                    "custid": "31",
                                    "orderid": "10959",
                                    "orderdate": "2008-03-18 00:00:00.000"
                                },
                                {
                                    "custid": "31",
                                    "orderid": "10790",
                                    "orderdate": "2007-12-22 00:00:00.000"
                                },
                                {
                                    "custid": "62",
                                    "orderid": "11068",
                                    "orderdate": "2008-05-04 00:00:00.000"
                                },
                                {
                                    "custid": "62",
                                    "orderid": "10961",
                                    "orderdate": "2008-03-19 00:00:00.000"
                                },
                                {
                                    "custid": "62",
                                    "orderid": "10914",
                                    "orderdate": "2008-02-27 00:00:00.000"
                                },
                                {
                                    "custid": "81",
                                    "orderid": "10839",
                                    "orderdate": "2008-01-19 00:00:00.000"
                                },
                                {
                                    "custid": "81",
                                    "orderid": "10834",
                                    "orderdate": "2008-01-15 00:00:00.000"
                                },
                                {
                                    "custid": "81",
                                    "orderid": "10830",
                                    "orderdate": "2008-01-13 00:00:00.000"
                                },
                                {
                                    "custid": "88",
                                    "orderid": "10935",
                                    "orderdate": "2008-03-09 00:00:00.000"
                                },
                                {
                                    "custid": "88",
                                    "orderid": "10905",
                                    "orderdate": "2008-02-24 00:00:00.000"
                                },
                                {
                                    "custid": "88",
                                    "orderid": "10900",
                                    "orderdate": "2008-02-20 00:00:00.000"
                                },
                                {
                                    "custid": "35",
                                    "orderid": "11055",
                                    "orderdate": "2008-04-28 00:00:00.000"
                                },
                                {
                                    "custid": "35",
                                    "orderid": "10976",
                                    "orderdate": "2008-03-25 00:00:00.000"
                                },
                                {
                                    "custid": "35",
                                    "orderid": "10960",
                                    "orderdate": "2008-03-19 00:00:00.000"
                                },
                                {
                                    "custid": "43",
                                    "orderid": "10545",
                                    "orderdate": "2007-05-22 00:00:00.000"
                                },
                                {
                                    "custid": "43",
                                    "orderid": "10482",
                                    "orderdate": "2007-03-21 00:00:00.000"
                                },
                                {
                                    "custid": "82",
                                    "orderid": "10822",
                                    "orderdate": "2008-01-08 00:00:00.000"
                                },
                                {
                                    "custid": "82",
                                    "orderid": "10577",
                                    "orderdate": "2007-06-23 00:00:00.000"
                                },
                                {
                                    "custid": "82",
                                    "orderid": "10574",
                                    "orderdate": "2007-06-19 00:00:00.000"
                                },
                                {
                                    "custid": "89",
                                    "orderid": "11066",
                                    "orderdate": "2008-05-01 00:00:00.000"
                                },
                                {
                                    "custid": "89",
                                    "orderid": "11032",
                                    "orderdate": "2008-04-17 00:00:00.000"
                                },
                                {
                                    "custid": "89",
                                    "orderid": "10904",
                                    "orderdate": "2008-02-24 00:00:00.000"
                                },
                                {
                                    "custid": "75",
                                    "orderid": "10974",
                                    "orderdate": "2008-03-25 00:00:00.000"
                                },
                                {
                                    "custid": "75",
                                    "orderid": "10821",
                                    "orderdate": "2008-01-08 00:00:00.000"
                                },
                                {
                                    "custid": "75",
                                    "orderid": "10756",
                                    "orderdate": "2007-11-27 00:00:00.000"
                                }
                            ]
                        },
                        "text/html": [
                            "<table>",
                            "<tr><th>custid</th><th>orderid</th><th>orderdate</th></tr>",
                            "<tr><td>1</td><td>11011</td><td>2008-04-09 00:00:00.000</td></tr>",
                            "<tr><td>1</td><td>10952</td><td>2008-03-16 00:00:00.000</td></tr>",
                            "<tr><td>1</td><td>10835</td><td>2008-01-15 00:00:00.000</td></tr>",
                            "<tr><td>2</td><td>10926</td><td>2008-03-04 00:00:00.000</td></tr>",
                            "<tr><td>2</td><td>10759</td><td>2007-11-28 00:00:00.000</td></tr>",
                            "<tr><td>2</td><td>10625</td><td>2007-08-08 00:00:00.000</td></tr>",
                            "<tr><td>3</td><td>10856</td><td>2008-01-28 00:00:00.000</td></tr>",
                            "<tr><td>3</td><td>10682</td><td>2007-09-25 00:00:00.000</td></tr>",
                            "<tr><td>3</td><td>10677</td><td>2007-09-22 00:00:00.000</td></tr>",
                            "<tr><td>4</td><td>11016</td><td>2008-04-10 00:00:00.000</td></tr>",
                            "<tr><td>4</td><td>10953</td><td>2008-03-16 00:00:00.000</td></tr>",
                            "<tr><td>4</td><td>10920</td><td>2008-03-03 00:00:00.000</td></tr>",
                            "<tr><td>5</td><td>10924</td><td>2008-03-04 00:00:00.000</td></tr>",
                            "<tr><td>5</td><td>10875</td><td>2008-02-06 00:00:00.000</td></tr>",
                            "<tr><td>5</td><td>10866</td><td>2008-02-03 00:00:00.000</td></tr>",
                            "<tr><td>6</td><td>11058</td><td>2008-04-29 00:00:00.000</td></tr>",
                            "<tr><td>6</td><td>10956</td><td>2008-03-17 00:00:00.000</td></tr>",
                            "<tr><td>6</td><td>10853</td><td>2008-01-27 00:00:00.000</td></tr>",
                            "<tr><td>7</td><td>10826</td><td>2008-01-12 00:00:00.000</td></tr>",
                            "<tr><td>7</td><td>10679</td><td>2007-09-23 00:00:00.000</td></tr>",
                            "<tr><td>7</td><td>10628</td><td>2007-08-12 00:00:00.000</td></tr>",
                            "<tr><td>8</td><td>10970</td><td>2008-03-24 00:00:00.000</td></tr>",
                            "<tr><td>8</td><td>10801</td><td>2007-12-29 00:00:00.000</td></tr>",
                            "<tr><td>8</td><td>10326</td><td>2006-10-10 00:00:00.000</td></tr>",
                            "<tr><td>9</td><td>11076</td><td>2008-05-06 00:00:00.000</td></tr>",
                            "<tr><td>9</td><td>10940</td><td>2008-03-11 00:00:00.000</td></tr>",
                            "<tr><td>9</td><td>10932</td><td>2008-03-06 00:00:00.000</td></tr>",
                            "<tr><td>11</td><td>11023</td><td>2008-04-14 00:00:00.000</td></tr>",
                            "<tr><td>11</td><td>10947</td><td>2008-03-13 00:00:00.000</td></tr>",
                            "<tr><td>11</td><td>10943</td><td>2008-03-11 00:00:00.000</td></tr>",
                            "<tr><td>12</td><td>11054</td><td>2008-04-28 00:00:00.000</td></tr>",
                            "<tr><td>12</td><td>10937</td><td>2008-03-10 00:00:00.000</td></tr>",
                            "<tr><td>12</td><td>10881</td><td>2008-02-11 00:00:00.000</td></tr>",
                            "<tr><td>13</td><td>10259</td><td>2006-07-18 00:00:00.000</td></tr>",
                            "<tr><td>14</td><td>11041</td><td>2008-04-22 00:00:00.000</td></tr>",
                            "<tr><td>14</td><td>11029</td><td>2008-04-16 00:00:00.000</td></tr>",
                            "<tr><td>14</td><td>10966</td><td>2008-03-20 00:00:00.000</td></tr>",
                            "<tr><td>16</td><td>10848</td><td>2008-01-23 00:00:00.000</td></tr>",
                            "<tr><td>16</td><td>10462</td><td>2007-03-03 00:00:00.000</td></tr>",
                            "<tr><td>16</td><td>10435</td><td>2007-02-04 00:00:00.000</td></tr>",
                            "<tr><td>17</td><td>11067</td><td>2008-05-04 00:00:00.000</td></tr>",
                            "<tr><td>17</td><td>11036</td><td>2008-04-20 00:00:00.000</td></tr>",
                            "<tr><td>17</td><td>10825</td><td>2008-01-09 00:00:00.000</td></tr>",
                            "<tr><td>18</td><td>10890</td><td>2008-02-16 00:00:00.000</td></tr>",
                            "<tr><td>18</td><td>10683</td><td>2007-09-26 00:00:00.000</td></tr>",
                            "<tr><td>18</td><td>10609</td><td>2007-07-24 00:00:00.000</td></tr>",
                            "<tr><td>19</td><td>11056</td><td>2008-04-28 00:00:00.000</td></tr>",
                            "<tr><td>19</td><td>11047</td><td>2008-04-24 00:00:00.000</td></tr>",
                            "<tr><td>19</td><td>11024</td><td>2008-04-15 00:00:00.000</td></tr>",
                            "<tr><td>20</td><td>11072</td><td>2008-05-05 00:00:00.000</td></tr>",
                            "<tr><td>20</td><td>11017</td><td>2008-04-13 00:00:00.000</td></tr>",
                            "<tr><td>20</td><td>11008</td><td>2008-04-08 00:00:00.000</td></tr>",
                            "<tr><td>22</td><td>NULL</td><td>NULL</td></tr>",
                            "<tr><td>23</td><td>10789</td><td>2007-12-22 00:00:00.000</td></tr>",
                            "<tr><td>23</td><td>10763</td><td>2007-12-03 00:00:00.000</td></tr>",
                            "<tr><td>23</td><td>10634</td><td>2007-08-15 00:00:00.000</td></tr>",
                            "<tr><td>24</td><td>11050</td><td>2008-04-27 00:00:00.000</td></tr>",
                            "<tr><td>24</td><td>11001</td><td>2008-04-06 00:00:00.000</td></tr>",
                            "<tr><td>24</td><td>10993</td><td>2008-04-01 00:00:00.000</td></tr>",
                            "<tr><td>25</td><td>11012</td><td>2008-04-09 00:00:00.000</td></tr>",
                            "<tr><td>25</td><td>10929</td><td>2008-03-05 00:00:00.000</td></tr>",
                            "<tr><td>25</td><td>10859</td><td>2008-01-29 00:00:00.000</td></tr>",
                            "<tr><td>26</td><td>10971</td><td>2008-03-24 00:00:00.000</td></tr>",
                            "<tr><td>26</td><td>10860</td><td>2008-01-29 00:00:00.000</td></tr>",
                            "<tr><td>26</td><td>10671</td><td>2007-09-17 00:00:00.000</td></tr>",
                            "<tr><td>27</td><td>11060</td><td>2008-04-30 00:00:00.000</td></tr>",
                            "<tr><td>27</td><td>11026</td><td>2008-04-15 00:00:00.000</td></tr>",
                            "<tr><td>27</td><td>10807</td><td>2007-12-31 00:00:00.000</td></tr>",
                            "<tr><td>28</td><td>10963</td><td>2008-03-19 00:00:00.000</td></tr>",
                            "<tr><td>28</td><td>10664</td><td>2007-09-10 00:00:00.000</td></tr>",
                            "<tr><td>28</td><td>10604</td><td>2007-07-18 00:00:00.000</td></tr>",
                            "<tr><td>29</td><td>10928</td><td>2008-03-05 00:00:00.000</td></tr>",
                            "<tr><td>29</td><td>10887</td><td>2008-02-13 00:00:00.000</td></tr>",
                            "<tr><td>29</td><td>10568</td><td>2007-06-13 00:00:00.000</td></tr>",
                            "<tr><td>30</td><td>11037</td><td>2008-04-21 00:00:00.000</td></tr>",
                            "<tr><td>30</td><td>11009</td><td>2008-04-08 00:00:00.000</td></tr>",
                            "<tr><td>30</td><td>10948</td><td>2008-03-13 00:00:00.000</td></tr>",
                            "<tr><td>39</td><td>11028</td><td>2008-04-16 00:00:00.000</td></tr>",
                            "<tr><td>39</td><td>10893</td><td>2008-02-18 00:00:00.000</td></tr>",
                            "<tr><td>39</td><td>10849</td><td>2008-01-23 00:00:00.000</td></tr>",
                            "<tr><td>40</td><td>10973</td><td>2008-03-24 00:00:00.000</td></tr>",
                            "<tr><td>40</td><td>10972</td><td>2008-03-24 00:00:00.000</td></tr>",
                            "<tr><td>40</td><td>10927</td><td>2008-03-05 00:00:00.000</td></tr>",
                            "<tr><td>41</td><td>11051</td><td>2008-04-27 00:00:00.000</td></tr>",
                            "<tr><td>41</td><td>10923</td><td>2008-03-03 00:00:00.000</td></tr>",
                            "<tr><td>41</td><td>10832</td><td>2008-01-14 00:00:00.000</td></tr>",
                            "<tr><td>44</td><td>11070</td><td>2008-05-05 00:00:00.000</td></tr>",
                            "<tr><td>44</td><td>10934</td><td>2008-03-09 00:00:00.000</td></tr>",
                            "<tr><td>44</td><td>10891</td><td>2008-02-17 00:00:00.000</td></tr>",
                            "<tr><td>49</td><td>10950</td><td>2008-03-16 00:00:00.000</td></tr>",
                            "<tr><td>49</td><td>10939</td><td>2008-03-10 00:00:00.000</td></tr>",
                            "<tr><td>49</td><td>10818</td><td>2008-01-07 00:00:00.000</td></tr>",
                            "<tr><td>50</td><td>11004</td><td>2008-04-07 00:00:00.000</td></tr>",
                            "<tr><td>50</td><td>10978</td><td>2008-03-26 00:00:00.000</td></tr>",
                            "<tr><td>50</td><td>10896</td><td>2008-02-19 00:00:00.000</td></tr>",
                            "<tr><td>52</td><td>10945</td><td>2008-03-12 00:00:00.000</td></tr>",
                            "<tr><td>52</td><td>10779</td><td>2007-12-16 00:00:00.000</td></tr>",
                            "<tr><td>52</td><td>10699</td><td>2007-10-09 00:00:00.000</td></tr>",
                            "<tr><td>53</td><td>11057</td><td>2008-04-29 00:00:00.000</td></tr>",
                            "<tr><td>53</td><td>10752</td><td>2007-11-24 00:00:00.000</td></tr>",
                            "<tr><td>53</td><td>10517</td><td>2007-04-24 00:00:00.000</td></tr>",
                            "<tr><td>54</td><td>10986</td><td>2008-03-30 00:00:00.000</td></tr>",
                            "<tr><td>54</td><td>10958</td><td>2008-03-18 00:00:00.000</td></tr>",
                            "<tr><td>54</td><td>10898</td><td>2008-02-20 00:00:00.000</td></tr>",
                            "<tr><td>56</td><td>11020</td><td>2008-04-14 00:00:00.000</td></tr>",
                            "<tr><td>56</td><td>10999</td><td>2008-04-03 00:00:00.000</td></tr>",
                            "<tr><td>56</td><td>10833</td><td>2008-01-15 00:00:00.000</td></tr>",
                            "<tr><td>57</td><td>NULL</td><td>NULL</td></tr>",
                            "<tr><td>58</td><td>11073</td><td>2008-05-05 00:00:00.000</td></tr>",
                            "<tr><td>58</td><td>10995</td><td>2008-04-02 00:00:00.000</td></tr>",
                            "<tr><td>58</td><td>10502</td><td>2007-04-10 00:00:00.000</td></tr>",
                            "<tr><td>59</td><td>11053</td><td>2008-04-27 00:00:00.000</td></tr>",
                            "<tr><td>59</td><td>10844</td><td>2008-01-21 00:00:00.000</td></tr>",
                            "<tr><td>59</td><td>10747</td><td>2007-11-19 00:00:00.000</td></tr>",
                            "<tr><td>60</td><td>11007</td><td>2008-04-08 00:00:00.000</td></tr>",
                            "<tr><td>60</td><td>10477</td><td>2007-03-17 00:00:00.000</td></tr>",
                            "<tr><td>60</td><td>10433</td><td>2007-02-03 00:00:00.000</td></tr>",
                            "<tr><td>63</td><td>11021</td><td>2008-04-14 00:00:00.000</td></tr>",
                            "<tr><td>63</td><td>10996</td><td>2008-04-02 00:00:00.000</td></tr>",
                            "<tr><td>63</td><td>10991</td><td>2008-04-01 00:00:00.000</td></tr>",
                            "<tr><td>64</td><td>11019</td><td>2008-04-13 00:00:00.000</td></tr>",
                            "<tr><td>64</td><td>10916</td><td>2008-02-27 00:00:00.000</td></tr>",
                            "<tr><td>64</td><td>10828</td><td>2008-01-13 00:00:00.000</td></tr>",
                            "<tr><td>66</td><td>11062</td><td>2008-04-30 00:00:00.000</td></tr>",
                            "<tr><td>66</td><td>11010</td><td>2008-04-09 00:00:00.000</td></tr>",
                            "<tr><td>66</td><td>10942</td><td>2008-03-11 00:00:00.000</td></tr>",
                            "<tr><td>68</td><td>11075</td><td>2008-05-06 00:00:00.000</td></tr>",
                            "<tr><td>68</td><td>11033</td><td>2008-04-17 00:00:00.000</td></tr>",
                            "<tr><td>68</td><td>10951</td><td>2008-03-16 00:00:00.000</td></tr>",
                            "<tr><td>69</td><td>11013</td><td>2008-04-09 00:00:00.000</td></tr>",
                            "<tr><td>69</td><td>10917</td><td>2008-03-02 00:00:00.000</td></tr>",
                            "<tr><td>69</td><td>10306</td><td>2006-09-16 00:00:00.000</td></tr>",
                            "<tr><td>70</td><td>11015</td><td>2008-04-10 00:00:00.000</td></tr>",
                            "<tr><td>70</td><td>10909</td><td>2008-02-26 00:00:00.000</td></tr>",
                            "<tr><td>70</td><td>10831</td><td>2008-01-14 00:00:00.000</td></tr>",
                            "<tr><td>72</td><td>10869</td><td>2008-02-04 00:00:00.000</td></tr>",
                            "<tr><td>72</td><td>10804</td><td>2007-12-30 00:00:00.000</td></tr>",
                            "<tr><td>72</td><td>10800</td><td>2007-12-26 00:00:00.000</td></tr>",
                            "<tr><td>73</td><td>11074</td><td>2008-05-06 00:00:00.000</td></tr>",
                            "<tr><td>73</td><td>10802</td><td>2007-12-29 00:00:00.000</td></tr>",
                            "<tr><td>73</td><td>10669</td><td>2007-09-15 00:00:00.000</td></tr>",
                            "<tr><td>74</td><td>11043</td><td>2008-04-22 00:00:00.000</td></tr>",
                            "<tr><td>74</td><td>10964</td><td>2008-03-20 00:00:00.000</td></tr>",
                            "<tr><td>74</td><td>10907</td><td>2008-02-25 00:00:00.000</td></tr>",
                            "<tr><td>76</td><td>11038</td><td>2008-04-21 00:00:00.000</td></tr>",
                            "<tr><td>76</td><td>11035</td><td>2008-04-20 00:00:00.000</td></tr>",
                            "<tr><td>76</td><td>10930</td><td>2008-03-06 00:00:00.000</td></tr>",
                            "<tr><td>79</td><td>10967</td><td>2008-03-23 00:00:00.000</td></tr>",
                            "<tr><td>79</td><td>10608</td><td>2007-07-23 00:00:00.000</td></tr>",
                            "<tr><td>79</td><td>10548</td><td>2007-05-26 00:00:00.000</td></tr>",
                            "<tr><td>80</td><td>11069</td><td>2008-05-04 00:00:00.000</td></tr>",
                            "<tr><td>80</td><td>10915</td><td>2008-02-27 00:00:00.000</td></tr>",
                            "<tr><td>80</td><td>10842</td><td>2008-01-20 00:00:00.000</td></tr>",
                            "<tr><td>83</td><td>10994</td><td>2008-04-02 00:00:00.000</td></tr>",
                            "<tr><td>83</td><td>10946</td><td>2008-03-12 00:00:00.000</td></tr>",
                            "<tr><td>83</td><td>10921</td><td>2008-03-03 00:00:00.000</td></tr>",
                            "<tr><td>84</td><td>10850</td><td>2008-01-23 00:00:00.000</td></tr>",
                            "<tr><td>84</td><td>10843</td><td>2008-01-21 00:00:00.000</td></tr>",
                            "<tr><td>84</td><td>10814</td><td>2008-01-05 00:00:00.000</td></tr>",
                            "<tr><td>85</td><td>10739</td><td>2007-11-12 00:00:00.000</td></tr>",
                            "<tr><td>85</td><td>10737</td><td>2007-11-11 00:00:00.000</td></tr>",
                            "<tr><td>85</td><td>10295</td><td>2006-09-02 00:00:00.000</td></tr>",
                            "<tr><td>86</td><td>11046</td><td>2008-04-23 00:00:00.000</td></tr>",
                            "<tr><td>86</td><td>10668</td><td>2007-09-15 00:00:00.000</td></tr>",
                            "<tr><td>86</td><td>10651</td><td>2007-09-01 00:00:00.000</td></tr>",
                            "<tr><td>87</td><td>11025</td><td>2008-04-15 00:00:00.000</td></tr>",
                            "<tr><td>87</td><td>10781</td><td>2007-12-17 00:00:00.000</td></tr>",
                            "<tr><td>87</td><td>10750</td><td>2007-11-21 00:00:00.000</td></tr>",
                            "<tr><td>90</td><td>11005</td><td>2008-04-07 00:00:00.000</td></tr>",
                            "<tr><td>90</td><td>10910</td><td>2008-02-26 00:00:00.000</td></tr>",
                            "<tr><td>90</td><td>10879</td><td>2008-02-10 00:00:00.000</td></tr>",
                            "<tr><td>91</td><td>11044</td><td>2008-04-23 00:00:00.000</td></tr>",
                            "<tr><td>91</td><td>10998</td><td>2008-04-03 00:00:00.000</td></tr>",
                            "<tr><td>91</td><td>10906</td><td>2008-02-25 00:00:00.000</td></tr>",
                            "<tr><td>55</td><td>11034</td><td>2008-04-20 00:00:00.000</td></tr>",
                            "<tr><td>55</td><td>10965</td><td>2008-03-20 00:00:00.000</td></tr>",
                            "<tr><td>55</td><td>10855</td><td>2008-01-27 00:00:00.000</td></tr>",
                            "<tr><td>10</td><td>11048</td><td>2008-04-24 00:00:00.000</td></tr>",
                            "<tr><td>10</td><td>11045</td><td>2008-04-23 00:00:00.000</td></tr>",
                            "<tr><td>10</td><td>11027</td><td>2008-04-16 00:00:00.000</td></tr>",
                            "<tr><td>42</td><td>10810</td><td>2008-01-01 00:00:00.000</td></tr>",
                            "<tr><td>42</td><td>10620</td><td>2007-08-05 00:00:00.000</td></tr>",
                            "<tr><td>42</td><td>10495</td><td>2007-04-03 00:00:00.000</td></tr>",
                            "<tr><td>45</td><td>10884</td><td>2008-02-12 00:00:00.000</td></tr>",
                            "<tr><td>45</td><td>10735</td><td>2007-11-10 00:00:00.000</td></tr>",
                            "<tr><td>45</td><td>10719</td><td>2007-10-27 00:00:00.000</td></tr>",
                            "<tr><td>37</td><td>11063</td><td>2008-04-30 00:00:00.000</td></tr>",
                            "<tr><td>37</td><td>10985</td><td>2008-03-30 00:00:00.000</td></tr>",
                            "<tr><td>37</td><td>10912</td><td>2008-02-26 00:00:00.000</td></tr>",
                            "<tr><td>33</td><td>10785</td><td>2007-12-18 00:00:00.000</td></tr>",
                            "<tr><td>33</td><td>10268</td><td>2006-07-30 00:00:00.000</td></tr>",
                            "<tr><td>71</td><td>11064</td><td>2008-05-01 00:00:00.000</td></tr>",
                            "<tr><td>71</td><td>11031</td><td>2008-04-17 00:00:00.000</td></tr>",
                            "<tr><td>71</td><td>11030</td><td>2008-04-17 00:00:00.000</td></tr>",
                            "<tr><td>38</td><td>10933</td><td>2008-03-06 00:00:00.000</td></tr>",
                            "<tr><td>38</td><td>10829</td><td>2008-01-13 00:00:00.000</td></tr>",
                            "<tr><td>38</td><td>10798</td><td>2007-12-26 00:00:00.000</td></tr>",
                            "<tr><td>46</td><td>11071</td><td>2008-05-05 00:00:00.000</td></tr>",
                            "<tr><td>46</td><td>11065</td><td>2008-05-01 00:00:00.000</td></tr>",
                            "<tr><td>46</td><td>10997</td><td>2008-04-03 00:00:00.000</td></tr>",
                            "<tr><td>78</td><td>11003</td><td>2008-04-06 00:00:00.000</td></tr>",
                            "<tr><td>78</td><td>10775</td><td>2007-12-12 00:00:00.000</td></tr>",
                            "<tr><td>78</td><td>10624</td><td>2007-08-07 00:00:00.000</td></tr>",
                            "<tr><td>65</td><td>11077</td><td>2008-05-06 00:00:00.000</td></tr>",
                            "<tr><td>65</td><td>11000</td><td>2008-04-06 00:00:00.000</td></tr>",
                            "<tr><td>65</td><td>10988</td><td>2008-03-31 00:00:00.000</td></tr>",
                            "<tr><td>47</td><td>11039</td><td>2008-04-21 00:00:00.000</td></tr>",
                            "<tr><td>47</td><td>11014</td><td>2008-04-10 00:00:00.000</td></tr>",
                            "<tr><td>47</td><td>10954</td><td>2008-03-17 00:00:00.000</td></tr>",
                            "<tr><td>32</td><td>11061</td><td>2008-04-30 00:00:00.000</td></tr>",
                            "<tr><td>32</td><td>11040</td><td>2008-04-22 00:00:00.000</td></tr>",
                            "<tr><td>32</td><td>11006</td><td>2008-04-07 00:00:00.000</td></tr>",
                            "<tr><td>36</td><td>10660</td><td>2007-09-08 00:00:00.000</td></tr>",
                            "<tr><td>36</td><td>10600</td><td>2007-07-16 00:00:00.000</td></tr>",
                            "<tr><td>36</td><td>10415</td><td>2007-01-15 00:00:00.000</td></tr>",
                            "<tr><td>48</td><td>11018</td><td>2008-04-13 00:00:00.000</td></tr>",
                            "<tr><td>48</td><td>10883</td><td>2008-02-12 00:00:00.000</td></tr>",
                            "<tr><td>48</td><td>10867</td><td>2008-02-03 00:00:00.000</td></tr>",
                            "<tr><td>77</td><td>10992</td><td>2008-04-01 00:00:00.000</td></tr>",
                            "<tr><td>77</td><td>10805</td><td>2007-12-30 00:00:00.000</td></tr>",
                            "<tr><td>77</td><td>10708</td><td>2007-10-17 00:00:00.000</td></tr>",
                            "<tr><td>51</td><td>10724</td><td>2007-10-30 00:00:00.000</td></tr>",
                            "<tr><td>51</td><td>10619</td><td>2007-08-04 00:00:00.000</td></tr>",
                            "<tr><td>51</td><td>10618</td><td>2007-08-01 00:00:00.000</td></tr>",
                            "<tr><td>34</td><td>11052</td><td>2008-04-27 00:00:00.000</td></tr>",
                            "<tr><td>34</td><td>11022</td><td>2008-04-14 00:00:00.000</td></tr>",
                            "<tr><td>34</td><td>10981</td><td>2008-03-27 00:00:00.000</td></tr>",
                            "<tr><td>61</td><td>10989</td><td>2008-03-31 00:00:00.000</td></tr>",
                            "<tr><td>61</td><td>10794</td><td>2007-12-24 00:00:00.000</td></tr>",
                            "<tr><td>61</td><td>10720</td><td>2007-10-28 00:00:00.000</td></tr>",
                            "<tr><td>67</td><td>11059</td><td>2008-04-29 00:00:00.000</td></tr>",
                            "<tr><td>67</td><td>10877</td><td>2008-02-09 00:00:00.000</td></tr>",
                            "<tr><td>67</td><td>10851</td><td>2008-01-26 00:00:00.000</td></tr>",
                            "<tr><td>15</td><td>11042</td><td>2008-04-22 00:00:00.000</td></tr>",
                            "<tr><td>15</td><td>10969</td><td>2008-03-23 00:00:00.000</td></tr>",
                            "<tr><td>15</td><td>10494</td><td>2007-04-02 00:00:00.000</td></tr>",
                            "<tr><td>21</td><td>10725</td><td>2007-10-31 00:00:00.000</td></tr>",
                            "<tr><td>21</td><td>10650</td><td>2007-08-29 00:00:00.000</td></tr>",
                            "<tr><td>21</td><td>10581</td><td>2007-06-26 00:00:00.000</td></tr>",
                            "<tr><td>31</td><td>11049</td><td>2008-04-24 00:00:00.000</td></tr>",
                            "<tr><td>31</td><td>10959</td><td>2008-03-18 00:00:00.000</td></tr>",
                            "<tr><td>31</td><td>10790</td><td>2007-12-22 00:00:00.000</td></tr>",
                            "<tr><td>62</td><td>11068</td><td>2008-05-04 00:00:00.000</td></tr>",
                            "<tr><td>62</td><td>10961</td><td>2008-03-19 00:00:00.000</td></tr>",
                            "<tr><td>62</td><td>10914</td><td>2008-02-27 00:00:00.000</td></tr>",
                            "<tr><td>81</td><td>10839</td><td>2008-01-19 00:00:00.000</td></tr>",
                            "<tr><td>81</td><td>10834</td><td>2008-01-15 00:00:00.000</td></tr>",
                            "<tr><td>81</td><td>10830</td><td>2008-01-13 00:00:00.000</td></tr>",
                            "<tr><td>88</td><td>10935</td><td>2008-03-09 00:00:00.000</td></tr>",
                            "<tr><td>88</td><td>10905</td><td>2008-02-24 00:00:00.000</td></tr>",
                            "<tr><td>88</td><td>10900</td><td>2008-02-20 00:00:00.000</td></tr>",
                            "<tr><td>35</td><td>11055</td><td>2008-04-28 00:00:00.000</td></tr>",
                            "<tr><td>35</td><td>10976</td><td>2008-03-25 00:00:00.000</td></tr>",
                            "<tr><td>35</td><td>10960</td><td>2008-03-19 00:00:00.000</td></tr>",
                            "<tr><td>43</td><td>10545</td><td>2007-05-22 00:00:00.000</td></tr>",
                            "<tr><td>43</td><td>10482</td><td>2007-03-21 00:00:00.000</td></tr>",
                            "<tr><td>82</td><td>10822</td><td>2008-01-08 00:00:00.000</td></tr>",
                            "<tr><td>82</td><td>10577</td><td>2007-06-23 00:00:00.000</td></tr>",
                            "<tr><td>82</td><td>10574</td><td>2007-06-19 00:00:00.000</td></tr>",
                            "<tr><td>89</td><td>11066</td><td>2008-05-01 00:00:00.000</td></tr>",
                            "<tr><td>89</td><td>11032</td><td>2008-04-17 00:00:00.000</td></tr>",
                            "<tr><td>89</td><td>10904</td><td>2008-02-24 00:00:00.000</td></tr>",
                            "<tr><td>75</td><td>10974</td><td>2008-03-25 00:00:00.000</td></tr>",
                            "<tr><td>75</td><td>10821</td><td>2008-01-08 00:00:00.000</td></tr>",
                            "<tr><td>75</td><td>10756</td><td>2007-11-27 00:00:00.000</td></tr>",
                            "</table>"
                        ]
                    }
                }
            ],
            "execution_count": 11
        }
    ]
}